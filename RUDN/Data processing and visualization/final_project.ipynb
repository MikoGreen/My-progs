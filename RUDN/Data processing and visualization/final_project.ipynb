{
 "cells": [
  {
   "cell_type": "markdown",
   "id": "b98d1f5f",
   "metadata": {},
   "source": [
    "# <center> Проект</center>\n",
    "Перед началом выполнения проекта, необходимо изменить имя вашего ноутбука/ПК на вашу фамилию на английском языке (например: **Ivanov**). Затем <font color='red'> **обязательно выполнить код в ячейках ниже (их 4)**</font> (*в случае не выполнения, будут вычиляться 5 баллов из проекта*). В случае если модуль `datetime` не установлен нужно установить."
   ]
  },
  {
   "cell_type": "code",
   "execution_count": 177,
   "id": "be6ba034",
   "metadata": {},
   "outputs": [
    {
     "data": {
      "text/plain": [
       "'Home'"
      ]
     },
     "execution_count": 177,
     "metadata": {},
     "output_type": "execute_result"
    }
   ],
   "source": [
    "import os\n",
    "os.getlogin()"
   ]
  },
  {
   "cell_type": "code",
   "execution_count": 178,
   "id": "8918c98a",
   "metadata": {},
   "outputs": [
    {
     "data": {
      "text/plain": [
       "'192.168.1.68'"
      ]
     },
     "execution_count": 178,
     "metadata": {},
     "output_type": "execute_result"
    }
   ],
   "source": [
    "import socket\n",
    "socket.gethostbyname(socket.gethostname())"
   ]
  },
  {
   "cell_type": "code",
   "execution_count": 179,
   "id": "f8704410",
   "metadata": {
    "scrolled": true
   },
   "outputs": [
    {
     "name": "stdout",
     "output_type": "stream",
     "text": [
      "rogozhina\\home\n"
     ]
    }
   ],
   "source": [
    "!whoami"
   ]
  },
  {
   "cell_type": "code",
   "execution_count": 180,
   "id": "7be587bf",
   "metadata": {},
   "outputs": [
    {
     "name": "stdout",
     "output_type": "stream",
     "text": [
      "2023-01-05 23:54:46.160507\n",
      "Rogozhina N.A.\n"
     ]
    }
   ],
   "source": [
    "from datetime import datetime\n",
    "\n",
    "current_time = datetime.now()\n",
    "print(current_time)\n",
    "print(\"Rogozhina N.A.\") # написать здесь свою фамилию и инициалы"
   ]
  },
  {
   "cell_type": "markdown",
   "id": "26aec904",
   "metadata": {},
   "source": [
    "Скачайте таблицы в формате .csv из pgadmin и далее считайте данные таблицы.\n",
    "\n",
    "**Предобработка данных и их изучения.**\n",
    "\n",
    "1.\tВыведите по 5 строк с каждой таблицы.\n",
    "2.\tВведите информацию о каждой таблицы и изучите их (возможно есть какие-то странности. *Опишите полученные данные.*\n",
    "3.\tПроверьте данные на пропуски и дубликаты.\n",
    "4.\tВычислите сводную (описательную) статистику о данных датафреймов (таблиц) и выведите ее. *Опишите полученный результат.*\n",
    "5.\tЕсли в некоторых столбцах нужно изменить данные, измените их и аргументируйте зачем их стоит изменить (например, дата должна иметь тип данных datetime64, а не object).\n",
    "\n",
    "**Задания:**\n",
    "\n",
    "1.\tНайдите все параметры ПК, имеющие 8x или 40x CD и цену более 600. Отсортируйте по скорости и цене. \n",
    "2.\tДля каждого производителя, выпускающего лаптоты c объёмом жесткого диска не менее 10 Гбайт и ОЗУ не менее 64 мб, найти скорости таких лаптопов. Выведите производителей и скорость. Нарисуйте график зависимости скоростей от полученных моделей ноутбуков. *Опишите полученный график.*\n",
    "3.\tНайдите номера моделей, тип и цены всех ноутбуков производителя А. Отсортируйте по убыванию цены. Постройте гистограмму изменения цены. *Опишите полученный результат и гистограмму.*\n",
    "4.\tНайдите производителя, номер модели и цену среди ноутбуков с наибольшей стоимостью до 1000; Нарисуйте график зависимости цен от всех производителей ноутбуков. *Опишите полученный график.*\n",
    "5.\tНайдите для каждой модели ПК их количество и максимальное и минимальное ram, сгруппируйте по моделям; переименуйте колонки макс. и мин. в “max/min_ram”;\n",
    "6.\tПроверти гипотезу: «Самые дорогие ноутбуки у производителя А». *Опишите полученный результат.*\n",
    "7.\tПостройте матрицы корреляции для всех таблиц. *Опишите полученный результат.* Необязательно, но, если будет желание, нарисовать график тепловой карты матриц корреляции используя функцию heatmap из библиотеки seaborn.  *Опишите полученный графики.*\n",
    "8.\tНарисуйте график (не графики, на одном графики должно отображаться всё) зависимости цены ноутбук/ПК от объёма жесткого диска. *Опишите ваши наблюдения, существует ли какая-то зависимость и т.п.*\n",
    "9.\tНайдите: \n",
    "\n",
    "    a.\tколичество товаров каждого типа у каждого производителя; постройте график pie, на должно отображаться доля каждого производителя. *Опишите полученные графики.*\n",
    "    \n",
    "    b.\tсамый дорогой товар каждого типа, вывести тип и цену;\n",
    "\n",
    "    c.\tпроизводителей, делающих ноутбуки и пк ценой более 600$, но которые не производят принтеры, вывести производителя.\n",
    "10.\tВыведите новую цену каждого ноутбука и ПК получив её как модель+цена+ram. Дайте колонке название ‘strange_sum’;\n",
    "11.\tНайти производителей, делающих ноутбуки и ПК, но не принтеры;\n",
    "12.\tНайдите производителя ПК и модель, чья цена ниже средней цены ноутбука, а ram и скорость больше в 1.5 и 1.2 раза соответственно;\n",
    "13.\tНаписать общий вывод о полученных результатах (какие важные закономерности были вами обнаружены или получены и т.п.)."
   ]
  },
  {
   "cell_type": "code",
   "execution_count": 1,
   "id": "2535faf6",
   "metadata": {},
   "outputs": [],
   "source": [
    "import pandas\n",
    "import seaborn"
   ]
  },
  {
   "cell_type": "markdown",
   "id": "d567844c",
   "metadata": {},
   "source": [
    "1. Прочитаем данные из скачанных нами таблиц - для этого используем **pandas.read_csv('*путь к файлу*')**"
   ]
  },
  {
   "cell_type": "code",
   "execution_count": 2,
   "id": "6a8784b8",
   "metadata": {},
   "outputs": [],
   "source": [
    "\n",
    "pc = pandas.read_csv('C:/Users/Home/Documents/pc.csv')\n",
    "printer = pandas.read_csv('C:/Users/Home/Documents/printer.csv')\n",
    "laptop = pandas.read_csv('C:/Users/Home/Documents/laptop.csv')\n",
    "product = pandas.read_csv('C:/Users/Home/Documents/product.csv')\n"
   ]
  },
  {
   "cell_type": "markdown",
   "id": "e5971d9b",
   "metadata": {},
   "source": [
    "# Предобработка данных и их изучение"
   ]
  },
  {
   "cell_type": "markdown",
   "id": "5409c716",
   "metadata": {},
   "source": [
    "Первым шагом выведем по 5 строк с каждой таблицы:"
   ]
  },
  {
   "cell_type": "code",
   "execution_count": 105,
   "id": "b40500f0",
   "metadata": {
    "scrolled": true
   },
   "outputs": [
    {
     "data": {
      "text/html": [
       "<div>\n",
       "<style scoped>\n",
       "    .dataframe tbody tr th:only-of-type {\n",
       "        vertical-align: middle;\n",
       "    }\n",
       "\n",
       "    .dataframe tbody tr th {\n",
       "        vertical-align: top;\n",
       "    }\n",
       "\n",
       "    .dataframe thead th {\n",
       "        text-align: right;\n",
       "    }\n",
       "</style>\n",
       "<table border=\"1\" class=\"dataframe\">\n",
       "  <thead>\n",
       "    <tr style=\"text-align: right;\">\n",
       "      <th></th>\n",
       "      <th>code</th>\n",
       "      <th>model</th>\n",
       "      <th>speed</th>\n",
       "      <th>ram</th>\n",
       "      <th>hd</th>\n",
       "      <th>cd</th>\n",
       "      <th>price</th>\n",
       "    </tr>\n",
       "  </thead>\n",
       "  <tbody>\n",
       "    <tr>\n",
       "      <th>0</th>\n",
       "      <td>1</td>\n",
       "      <td>1232</td>\n",
       "      <td>500</td>\n",
       "      <td>64</td>\n",
       "      <td>5</td>\n",
       "      <td>12x</td>\n",
       "      <td>600.0</td>\n",
       "    </tr>\n",
       "    <tr>\n",
       "      <th>1</th>\n",
       "      <td>10</td>\n",
       "      <td>1260</td>\n",
       "      <td>500</td>\n",
       "      <td>32</td>\n",
       "      <td>10</td>\n",
       "      <td>12x</td>\n",
       "      <td>350.0</td>\n",
       "    </tr>\n",
       "    <tr>\n",
       "      <th>2</th>\n",
       "      <td>11</td>\n",
       "      <td>1233</td>\n",
       "      <td>900</td>\n",
       "      <td>128</td>\n",
       "      <td>40</td>\n",
       "      <td>40x</td>\n",
       "      <td>980.0</td>\n",
       "    </tr>\n",
       "    <tr>\n",
       "      <th>3</th>\n",
       "      <td>12</td>\n",
       "      <td>1233</td>\n",
       "      <td>800</td>\n",
       "      <td>128</td>\n",
       "      <td>20</td>\n",
       "      <td>50x</td>\n",
       "      <td>970.0</td>\n",
       "    </tr>\n",
       "    <tr>\n",
       "      <th>4</th>\n",
       "      <td>2</td>\n",
       "      <td>1121</td>\n",
       "      <td>750</td>\n",
       "      <td>128</td>\n",
       "      <td>14</td>\n",
       "      <td>40x</td>\n",
       "      <td>850.0</td>\n",
       "    </tr>\n",
       "  </tbody>\n",
       "</table>\n",
       "</div>"
      ],
      "text/plain": [
       "   code  model  speed  ram  hd   cd  price\n",
       "0     1   1232    500   64   5  12x  600.0\n",
       "1    10   1260    500   32  10  12x  350.0\n",
       "2    11   1233    900  128  40  40x  980.0\n",
       "3    12   1233    800  128  20  50x  970.0\n",
       "4     2   1121    750  128  14  40x  850.0"
      ]
     },
     "execution_count": 105,
     "metadata": {},
     "output_type": "execute_result"
    }
   ],
   "source": [
    "pc.head(5)"
   ]
  },
  {
   "cell_type": "code",
   "execution_count": 39,
   "id": "bd4fa5c2",
   "metadata": {},
   "outputs": [
    {
     "data": {
      "text/html": [
       "<div>\n",
       "<style scoped>\n",
       "    .dataframe tbody tr th:only-of-type {\n",
       "        vertical-align: middle;\n",
       "    }\n",
       "\n",
       "    .dataframe tbody tr th {\n",
       "        vertical-align: top;\n",
       "    }\n",
       "\n",
       "    .dataframe thead th {\n",
       "        text-align: right;\n",
       "    }\n",
       "</style>\n",
       "<table border=\"1\" class=\"dataframe\">\n",
       "  <thead>\n",
       "    <tr style=\"text-align: right;\">\n",
       "      <th></th>\n",
       "      <th>code</th>\n",
       "      <th>model</th>\n",
       "      <th>color</th>\n",
       "      <th>type</th>\n",
       "      <th>price</th>\n",
       "    </tr>\n",
       "  </thead>\n",
       "  <tbody>\n",
       "    <tr>\n",
       "      <th>0</th>\n",
       "      <td>1</td>\n",
       "      <td>1276</td>\n",
       "      <td>n</td>\n",
       "      <td>Laser</td>\n",
       "      <td>400.0</td>\n",
       "    </tr>\n",
       "    <tr>\n",
       "      <th>1</th>\n",
       "      <td>2</td>\n",
       "      <td>1433</td>\n",
       "      <td>y</td>\n",
       "      <td>Jet</td>\n",
       "      <td>270.0</td>\n",
       "    </tr>\n",
       "    <tr>\n",
       "      <th>2</th>\n",
       "      <td>3</td>\n",
       "      <td>1434</td>\n",
       "      <td>y</td>\n",
       "      <td>Jet</td>\n",
       "      <td>290.0</td>\n",
       "    </tr>\n",
       "    <tr>\n",
       "      <th>3</th>\n",
       "      <td>4</td>\n",
       "      <td>1401</td>\n",
       "      <td>n</td>\n",
       "      <td>Matrix</td>\n",
       "      <td>150.0</td>\n",
       "    </tr>\n",
       "    <tr>\n",
       "      <th>4</th>\n",
       "      <td>5</td>\n",
       "      <td>1408</td>\n",
       "      <td>n</td>\n",
       "      <td>Matrix</td>\n",
       "      <td>270.0</td>\n",
       "    </tr>\n",
       "  </tbody>\n",
       "</table>\n",
       "</div>"
      ],
      "text/plain": [
       "   code  model color    type  price\n",
       "0     1   1276     n   Laser  400.0\n",
       "1     2   1433     y     Jet  270.0\n",
       "2     3   1434     y     Jet  290.0\n",
       "3     4   1401     n  Matrix  150.0\n",
       "4     5   1408     n  Matrix  270.0"
      ]
     },
     "execution_count": 39,
     "metadata": {},
     "output_type": "execute_result"
    }
   ],
   "source": [
    "printer.head(5)"
   ]
  },
  {
   "cell_type": "code",
   "execution_count": 40,
   "id": "5ccb40b3",
   "metadata": {},
   "outputs": [
    {
     "data": {
      "text/html": [
       "<div>\n",
       "<style scoped>\n",
       "    .dataframe tbody tr th:only-of-type {\n",
       "        vertical-align: middle;\n",
       "    }\n",
       "\n",
       "    .dataframe tbody tr th {\n",
       "        vertical-align: top;\n",
       "    }\n",
       "\n",
       "    .dataframe thead th {\n",
       "        text-align: right;\n",
       "    }\n",
       "</style>\n",
       "<table border=\"1\" class=\"dataframe\">\n",
       "  <thead>\n",
       "    <tr style=\"text-align: right;\">\n",
       "      <th></th>\n",
       "      <th>code</th>\n",
       "      <th>model</th>\n",
       "      <th>speed</th>\n",
       "      <th>ram</th>\n",
       "      <th>hd</th>\n",
       "      <th>price</th>\n",
       "      <th>screen</th>\n",
       "    </tr>\n",
       "  </thead>\n",
       "  <tbody>\n",
       "    <tr>\n",
       "      <th>0</th>\n",
       "      <td>1</td>\n",
       "      <td>1298</td>\n",
       "      <td>350</td>\n",
       "      <td>32</td>\n",
       "      <td>4</td>\n",
       "      <td>700.0</td>\n",
       "      <td>11</td>\n",
       "    </tr>\n",
       "    <tr>\n",
       "      <th>1</th>\n",
       "      <td>2</td>\n",
       "      <td>1321</td>\n",
       "      <td>500</td>\n",
       "      <td>64</td>\n",
       "      <td>8</td>\n",
       "      <td>970.0</td>\n",
       "      <td>12</td>\n",
       "    </tr>\n",
       "    <tr>\n",
       "      <th>2</th>\n",
       "      <td>3</td>\n",
       "      <td>1750</td>\n",
       "      <td>750</td>\n",
       "      <td>128</td>\n",
       "      <td>12</td>\n",
       "      <td>1200.0</td>\n",
       "      <td>14</td>\n",
       "    </tr>\n",
       "    <tr>\n",
       "      <th>3</th>\n",
       "      <td>4</td>\n",
       "      <td>1298</td>\n",
       "      <td>600</td>\n",
       "      <td>64</td>\n",
       "      <td>10</td>\n",
       "      <td>1050.0</td>\n",
       "      <td>15</td>\n",
       "    </tr>\n",
       "    <tr>\n",
       "      <th>4</th>\n",
       "      <td>5</td>\n",
       "      <td>1752</td>\n",
       "      <td>750</td>\n",
       "      <td>128</td>\n",
       "      <td>10</td>\n",
       "      <td>1150.0</td>\n",
       "      <td>14</td>\n",
       "    </tr>\n",
       "  </tbody>\n",
       "</table>\n",
       "</div>"
      ],
      "text/plain": [
       "   code  model  speed  ram  hd   price  screen\n",
       "0     1   1298    350   32   4   700.0      11\n",
       "1     2   1321    500   64   8   970.0      12\n",
       "2     3   1750    750  128  12  1200.0      14\n",
       "3     4   1298    600   64  10  1050.0      15\n",
       "4     5   1752    750  128  10  1150.0      14"
      ]
     },
     "execution_count": 40,
     "metadata": {},
     "output_type": "execute_result"
    }
   ],
   "source": [
    "laptop.head(5)"
   ]
  },
  {
   "cell_type": "code",
   "execution_count": 41,
   "id": "6a3c4412",
   "metadata": {
    "scrolled": true
   },
   "outputs": [
    {
     "data": {
      "text/html": [
       "<div>\n",
       "<style scoped>\n",
       "    .dataframe tbody tr th:only-of-type {\n",
       "        vertical-align: middle;\n",
       "    }\n",
       "\n",
       "    .dataframe tbody tr th {\n",
       "        vertical-align: top;\n",
       "    }\n",
       "\n",
       "    .dataframe thead th {\n",
       "        text-align: right;\n",
       "    }\n",
       "</style>\n",
       "<table border=\"1\" class=\"dataframe\">\n",
       "  <thead>\n",
       "    <tr style=\"text-align: right;\">\n",
       "      <th></th>\n",
       "      <th>maker</th>\n",
       "      <th>model</th>\n",
       "      <th>type</th>\n",
       "    </tr>\n",
       "  </thead>\n",
       "  <tbody>\n",
       "    <tr>\n",
       "      <th>0</th>\n",
       "      <td>A</td>\n",
       "      <td>1232</td>\n",
       "      <td>PC</td>\n",
       "    </tr>\n",
       "    <tr>\n",
       "      <th>1</th>\n",
       "      <td>A</td>\n",
       "      <td>1233</td>\n",
       "      <td>PC</td>\n",
       "    </tr>\n",
       "    <tr>\n",
       "      <th>2</th>\n",
       "      <td>A</td>\n",
       "      <td>1276</td>\n",
       "      <td>Printer</td>\n",
       "    </tr>\n",
       "    <tr>\n",
       "      <th>3</th>\n",
       "      <td>A</td>\n",
       "      <td>1298</td>\n",
       "      <td>Laptop</td>\n",
       "    </tr>\n",
       "    <tr>\n",
       "      <th>4</th>\n",
       "      <td>A</td>\n",
       "      <td>1401</td>\n",
       "      <td>Printer</td>\n",
       "    </tr>\n",
       "  </tbody>\n",
       "</table>\n",
       "</div>"
      ],
      "text/plain": [
       "  maker  model     type\n",
       "0     A   1232       PC\n",
       "1     A   1233       PC\n",
       "2     A   1276  Printer\n",
       "3     A   1298   Laptop\n",
       "4     A   1401  Printer"
      ]
     },
     "execution_count": 41,
     "metadata": {},
     "output_type": "execute_result"
    }
   ],
   "source": [
    "product.head(5)"
   ]
  },
  {
   "cell_type": "markdown",
   "id": "86c957e7",
   "metadata": {},
   "source": [
    "Выведем информацию о каждой таблице:"
   ]
  },
  {
   "cell_type": "code",
   "execution_count": 42,
   "id": "c0a73d67",
   "metadata": {
    "scrolled": true
   },
   "outputs": [
    {
     "name": "stdout",
     "output_type": "stream",
     "text": [
      "<class 'pandas.core.frame.DataFrame'>\n",
      "RangeIndex: 12 entries, 0 to 11\n",
      "Data columns (total 7 columns):\n",
      " #   Column  Non-Null Count  Dtype  \n",
      "---  ------  --------------  -----  \n",
      " 0   code    12 non-null     int64  \n",
      " 1   model   12 non-null     int64  \n",
      " 2   speed   12 non-null     int64  \n",
      " 3   ram     12 non-null     int64  \n",
      " 4   hd      12 non-null     int64  \n",
      " 5   cd      12 non-null     object \n",
      " 6   price   12 non-null     float64\n",
      "dtypes: float64(1), int64(5), object(1)\n",
      "memory usage: 800.0+ bytes\n"
     ]
    }
   ],
   "source": [
    "pc.info()"
   ]
  },
  {
   "cell_type": "code",
   "execution_count": 43,
   "id": "b12d3742",
   "metadata": {},
   "outputs": [
    {
     "name": "stdout",
     "output_type": "stream",
     "text": [
      "<class 'pandas.core.frame.DataFrame'>\n",
      "RangeIndex: 6 entries, 0 to 5\n",
      "Data columns (total 7 columns):\n",
      " #   Column  Non-Null Count  Dtype  \n",
      "---  ------  --------------  -----  \n",
      " 0   code    6 non-null      int64  \n",
      " 1   model   6 non-null      int64  \n",
      " 2   speed   6 non-null      int64  \n",
      " 3   ram     6 non-null      int64  \n",
      " 4   hd      6 non-null      int64  \n",
      " 5   price   6 non-null      float64\n",
      " 6   screen  6 non-null      int64  \n",
      "dtypes: float64(1), int64(6)\n",
      "memory usage: 464.0 bytes\n"
     ]
    }
   ],
   "source": [
    "laptop.info()"
   ]
  },
  {
   "cell_type": "code",
   "execution_count": 44,
   "id": "39e10505",
   "metadata": {},
   "outputs": [
    {
     "name": "stdout",
     "output_type": "stream",
     "text": [
      "<class 'pandas.core.frame.DataFrame'>\n",
      "RangeIndex: 6 entries, 0 to 5\n",
      "Data columns (total 5 columns):\n",
      " #   Column  Non-Null Count  Dtype  \n",
      "---  ------  --------------  -----  \n",
      " 0   code    6 non-null      int64  \n",
      " 1   model   6 non-null      int64  \n",
      " 2   color   6 non-null      object \n",
      " 3   type    6 non-null      object \n",
      " 4   price   6 non-null      float64\n",
      "dtypes: float64(1), int64(2), object(2)\n",
      "memory usage: 368.0+ bytes\n"
     ]
    }
   ],
   "source": [
    "printer.info()"
   ]
  },
  {
   "cell_type": "code",
   "execution_count": 45,
   "id": "6a867b99",
   "metadata": {},
   "outputs": [
    {
     "name": "stdout",
     "output_type": "stream",
     "text": [
      "<class 'pandas.core.frame.DataFrame'>\n",
      "RangeIndex: 16 entries, 0 to 15\n",
      "Data columns (total 3 columns):\n",
      " #   Column  Non-Null Count  Dtype \n",
      "---  ------  --------------  ----- \n",
      " 0   maker   16 non-null     object\n",
      " 1   model   16 non-null     int64 \n",
      " 2   type    16 non-null     object\n",
      "dtypes: int64(1), object(2)\n",
      "memory usage: 512.0+ bytes\n"
     ]
    }
   ],
   "source": [
    "product.info()"
   ]
  },
  {
   "cell_type": "markdown",
   "id": "bf0cc90d",
   "metadata": {},
   "source": [
    "В таблице **pc** колонка *cd* имеет тип ***object***."
   ]
  },
  {
   "cell_type": "markdown",
   "id": "8915c862",
   "metadata": {},
   "source": [
    "Проверим данные на пропуски с помощью метод [`isna()`](https://pandas.pydata.org/pandas-docs/stable/reference/api/pandas.DataFrame.isna.html)"
   ]
  },
  {
   "cell_type": "code",
   "execution_count": 7,
   "id": "455ffa7c",
   "metadata": {
    "scrolled": false
   },
   "outputs": [
    {
     "name": "stdout",
     "output_type": "stream",
     "text": [
      "Пропусков нет\n"
     ]
    }
   ],
   "source": [
    "pc_none = pc[pc.isna().any(axis=1)]\n",
    "if len(pc_none) == 0:\n",
    "    print('Пропусков нет')\n",
    "else:\n",
    "    print(pc_none)"
   ]
  },
  {
   "cell_type": "code",
   "execution_count": 8,
   "id": "197de30a",
   "metadata": {},
   "outputs": [
    {
     "name": "stdout",
     "output_type": "stream",
     "text": [
      "Пропусков нет\n"
     ]
    }
   ],
   "source": [
    "laptop_none = laptop[laptop.isna().any(axis=1)]\n",
    "if len(laptop_none) == 0:\n",
    "    print('Пропусков нет')\n",
    "else:\n",
    "    print(laptop_none)"
   ]
  },
  {
   "cell_type": "code",
   "execution_count": 9,
   "id": "ef197777",
   "metadata": {},
   "outputs": [
    {
     "name": "stdout",
     "output_type": "stream",
     "text": [
      "Пропусков нет\n"
     ]
    }
   ],
   "source": [
    "printer_none = printer[printer.isna().any(axis=1)]\n",
    "if len(printer_none) == 0:\n",
    "    print('Пропусков нет')\n",
    "else:\n",
    "    print(printer_none)"
   ]
  },
  {
   "cell_type": "code",
   "execution_count": 10,
   "id": "4cfd7c3a",
   "metadata": {},
   "outputs": [
    {
     "name": "stdout",
     "output_type": "stream",
     "text": [
      "Пропусков нет\n"
     ]
    }
   ],
   "source": [
    "product_none = product[product.isna().any(axis=1)]\n",
    "if len(product_none) == 0:\n",
    "    print('Пропусков нет')\n",
    "else:\n",
    "    print(product_none)"
   ]
  },
  {
   "cell_type": "markdown",
   "id": "436c88f8",
   "metadata": {},
   "source": [
    "Проверим дубликаты с помощью [`duplicated()`](https://pandas.pydata.org/pandas-docs/stable/reference/api/pandas.DataFrame.duplicated.html):"
   ]
  },
  {
   "cell_type": "code",
   "execution_count": 11,
   "id": "223c7514",
   "metadata": {},
   "outputs": [
    {
     "name": "stdout",
     "output_type": "stream",
     "text": [
      "Дубликатов нет\n"
     ]
    }
   ],
   "source": [
    "pc_duplicated = pc[pc.duplicated()]\n",
    "if len(pc_duplicated) == 0:\n",
    "    print('Дубликатов нет')\n",
    "else:\n",
    "    print(pc_duplicated)"
   ]
  },
  {
   "cell_type": "code",
   "execution_count": 12,
   "id": "1df8283f",
   "metadata": {},
   "outputs": [
    {
     "name": "stdout",
     "output_type": "stream",
     "text": [
      "Дубликатов нет\n"
     ]
    }
   ],
   "source": [
    "laptop_duplicated = laptop[laptop.duplicated()]\n",
    "if len(laptop_duplicated) == 0:\n",
    "    print('Дубликатов нет')\n",
    "else:\n",
    "    print(laptop_duplicated)"
   ]
  },
  {
   "cell_type": "code",
   "execution_count": 13,
   "id": "995e424a",
   "metadata": {},
   "outputs": [
    {
     "name": "stdout",
     "output_type": "stream",
     "text": [
      "Дубликатов нет\n"
     ]
    }
   ],
   "source": [
    "printer_duplicated = printer[printer.duplicated()]\n",
    "if len(printer_duplicated) == 0:\n",
    "    print('Дубликатов нет')\n",
    "else:\n",
    "    print(printer_duplicated)"
   ]
  },
  {
   "cell_type": "code",
   "execution_count": 14,
   "id": "08f860d3",
   "metadata": {},
   "outputs": [
    {
     "name": "stdout",
     "output_type": "stream",
     "text": [
      "Дубликатов нет\n"
     ]
    }
   ],
   "source": [
    "product_duplicated = product[product.duplicated()]\n",
    "if len(product_duplicated) == 0:\n",
    "    print('Дубликатов нет')\n",
    "else:\n",
    "    print(product_duplicated)"
   ]
  },
  {
   "cell_type": "markdown",
   "id": "50045fed",
   "metadata": {},
   "source": [
    "Опишите сводный полученный результат:"
   ]
  },
  {
   "cell_type": "code",
   "execution_count": 125,
   "id": "07e4cd2f",
   "metadata": {},
   "outputs": [
    {
     "data": {
      "text/html": [
       "<div>\n",
       "<style scoped>\n",
       "    .dataframe tbody tr th:only-of-type {\n",
       "        vertical-align: middle;\n",
       "    }\n",
       "\n",
       "    .dataframe tbody tr th {\n",
       "        vertical-align: top;\n",
       "    }\n",
       "\n",
       "    .dataframe thead th {\n",
       "        text-align: right;\n",
       "    }\n",
       "</style>\n",
       "<table border=\"1\" class=\"dataframe\">\n",
       "  <thead>\n",
       "    <tr style=\"text-align: right;\">\n",
       "      <th></th>\n",
       "      <th>code</th>\n",
       "      <th>model</th>\n",
       "      <th>speed</th>\n",
       "      <th>ram</th>\n",
       "      <th>hd</th>\n",
       "      <th>price</th>\n",
       "    </tr>\n",
       "  </thead>\n",
       "  <tbody>\n",
       "    <tr>\n",
       "      <th>count</th>\n",
       "      <td>12.000000</td>\n",
       "      <td>12.000000</td>\n",
       "      <td>12.000000</td>\n",
       "      <td>12.000000</td>\n",
       "      <td>12.000000</td>\n",
       "      <td>12.000000</td>\n",
       "    </tr>\n",
       "    <tr>\n",
       "      <th>mean</th>\n",
       "      <td>6.500000</td>\n",
       "      <td>1206.916667</td>\n",
       "      <td>608.333333</td>\n",
       "      <td>88.000000</td>\n",
       "      <td>13.666667</td>\n",
       "      <td>675.000000</td>\n",
       "    </tr>\n",
       "    <tr>\n",
       "      <th>std</th>\n",
       "      <td>3.605551</td>\n",
       "      <td>52.397880</td>\n",
       "      <td>153.494645</td>\n",
       "      <td>43.417634</td>\n",
       "      <td>9.670323</td>\n",
       "      <td>261.342687</td>\n",
       "    </tr>\n",
       "    <tr>\n",
       "      <th>min</th>\n",
       "      <td>1.000000</td>\n",
       "      <td>1121.000000</td>\n",
       "      <td>450.000000</td>\n",
       "      <td>32.000000</td>\n",
       "      <td>5.000000</td>\n",
       "      <td>350.000000</td>\n",
       "    </tr>\n",
       "    <tr>\n",
       "      <th>25%</th>\n",
       "      <td>3.750000</td>\n",
       "      <td>1204.250000</td>\n",
       "      <td>500.000000</td>\n",
       "      <td>56.000000</td>\n",
       "      <td>8.000000</td>\n",
       "      <td>387.500000</td>\n",
       "    </tr>\n",
       "    <tr>\n",
       "      <th>50%</th>\n",
       "      <td>6.500000</td>\n",
       "      <td>1232.000000</td>\n",
       "      <td>550.000000</td>\n",
       "      <td>96.000000</td>\n",
       "      <td>10.000000</td>\n",
       "      <td>725.000000</td>\n",
       "    </tr>\n",
       "    <tr>\n",
       "      <th>75%</th>\n",
       "      <td>9.250000</td>\n",
       "      <td>1233.000000</td>\n",
       "      <td>750.000000</td>\n",
       "      <td>128.000000</td>\n",
       "      <td>15.500000</td>\n",
       "      <td>875.000000</td>\n",
       "    </tr>\n",
       "    <tr>\n",
       "      <th>max</th>\n",
       "      <td>12.000000</td>\n",
       "      <td>1260.000000</td>\n",
       "      <td>900.000000</td>\n",
       "      <td>128.000000</td>\n",
       "      <td>40.000000</td>\n",
       "      <td>980.000000</td>\n",
       "    </tr>\n",
       "  </tbody>\n",
       "</table>\n",
       "</div>"
      ],
      "text/plain": [
       "            code        model       speed         ram         hd       price\n",
       "count  12.000000    12.000000   12.000000   12.000000  12.000000   12.000000\n",
       "mean    6.500000  1206.916667  608.333333   88.000000  13.666667  675.000000\n",
       "std     3.605551    52.397880  153.494645   43.417634   9.670323  261.342687\n",
       "min     1.000000  1121.000000  450.000000   32.000000   5.000000  350.000000\n",
       "25%     3.750000  1204.250000  500.000000   56.000000   8.000000  387.500000\n",
       "50%     6.500000  1232.000000  550.000000   96.000000  10.000000  725.000000\n",
       "75%     9.250000  1233.000000  750.000000  128.000000  15.500000  875.000000\n",
       "max    12.000000  1260.000000  900.000000  128.000000  40.000000  980.000000"
      ]
     },
     "execution_count": 125,
     "metadata": {},
     "output_type": "execute_result"
    }
   ],
   "source": [
    "pc.describe()"
   ]
  },
  {
   "cell_type": "markdown",
   "id": "15312734",
   "metadata": {},
   "source": [
    "В данной таблице колонка *cd* имеет тип object, а метод [`describe()`](https://pandas.pydata.org/pandas-docs/stable/reference/api/pandas.DataFrame.describe.html) выводит статистику только на целочисленные показатели и показатели с плавающей точкой. Следовательно, статистики по полю *cd* не будет.\n",
    "\n",
    "- count: количество объектов\n",
    "- mean: среднее значение\n",
    "- std: стандартное отклонение\n",
    "- min: миниммальное значение\n",
    "- N%: значение, за которым \"лежит\" N% меньших значений выборки\n",
    "- max: максимальное значение"
   ]
  },
  {
   "cell_type": "code",
   "execution_count": 128,
   "id": "0bd1db1b",
   "metadata": {},
   "outputs": [
    {
     "data": {
      "text/html": [
       "<div>\n",
       "<style scoped>\n",
       "    .dataframe tbody tr th:only-of-type {\n",
       "        vertical-align: middle;\n",
       "    }\n",
       "\n",
       "    .dataframe tbody tr th {\n",
       "        vertical-align: top;\n",
       "    }\n",
       "\n",
       "    .dataframe thead th {\n",
       "        text-align: right;\n",
       "    }\n",
       "</style>\n",
       "<table border=\"1\" class=\"dataframe\">\n",
       "  <thead>\n",
       "    <tr style=\"text-align: right;\">\n",
       "      <th></th>\n",
       "      <th>code</th>\n",
       "      <th>model</th>\n",
       "      <th>speed</th>\n",
       "      <th>ram</th>\n",
       "      <th>hd</th>\n",
       "      <th>price</th>\n",
       "      <th>screen</th>\n",
       "    </tr>\n",
       "  </thead>\n",
       "  <tbody>\n",
       "    <tr>\n",
       "      <th>count</th>\n",
       "      <td>6.000000</td>\n",
       "      <td>6.000000</td>\n",
       "      <td>6.000000</td>\n",
       "      <td>6.000000</td>\n",
       "      <td>6.00000</td>\n",
       "      <td>6.000000</td>\n",
       "      <td>6.000000</td>\n",
       "    </tr>\n",
       "    <tr>\n",
       "      <th>mean</th>\n",
       "      <td>3.500000</td>\n",
       "      <td>1452.833333</td>\n",
       "      <td>566.666667</td>\n",
       "      <td>80.000000</td>\n",
       "      <td>9.00000</td>\n",
       "      <td>1003.333333</td>\n",
       "      <td>13.000000</td>\n",
       "    </tr>\n",
       "    <tr>\n",
       "      <th>std</th>\n",
       "      <td>1.870829</td>\n",
       "      <td>231.131492</td>\n",
       "      <td>163.299316</td>\n",
       "      <td>39.191836</td>\n",
       "      <td>2.75681</td>\n",
       "      <td>177.951304</td>\n",
       "      <td>1.549193</td>\n",
       "    </tr>\n",
       "    <tr>\n",
       "      <th>min</th>\n",
       "      <td>1.000000</td>\n",
       "      <td>1298.000000</td>\n",
       "      <td>350.000000</td>\n",
       "      <td>32.000000</td>\n",
       "      <td>4.00000</td>\n",
       "      <td>700.000000</td>\n",
       "      <td>11.000000</td>\n",
       "    </tr>\n",
       "    <tr>\n",
       "      <th>25%</th>\n",
       "      <td>2.250000</td>\n",
       "      <td>1298.000000</td>\n",
       "      <td>462.500000</td>\n",
       "      <td>64.000000</td>\n",
       "      <td>8.50000</td>\n",
       "      <td>955.000000</td>\n",
       "      <td>12.000000</td>\n",
       "    </tr>\n",
       "    <tr>\n",
       "      <th>50%</th>\n",
       "      <td>3.500000</td>\n",
       "      <td>1309.500000</td>\n",
       "      <td>550.000000</td>\n",
       "      <td>64.000000</td>\n",
       "      <td>10.00000</td>\n",
       "      <td>1010.000000</td>\n",
       "      <td>13.000000</td>\n",
       "    </tr>\n",
       "    <tr>\n",
       "      <th>75%</th>\n",
       "      <td>4.750000</td>\n",
       "      <td>1642.750000</td>\n",
       "      <td>712.500000</td>\n",
       "      <td>112.000000</td>\n",
       "      <td>10.00000</td>\n",
       "      <td>1125.000000</td>\n",
       "      <td>14.000000</td>\n",
       "    </tr>\n",
       "    <tr>\n",
       "      <th>max</th>\n",
       "      <td>6.000000</td>\n",
       "      <td>1752.000000</td>\n",
       "      <td>750.000000</td>\n",
       "      <td>128.000000</td>\n",
       "      <td>12.00000</td>\n",
       "      <td>1200.000000</td>\n",
       "      <td>15.000000</td>\n",
       "    </tr>\n",
       "  </tbody>\n",
       "</table>\n",
       "</div>"
      ],
      "text/plain": [
       "           code        model       speed         ram        hd        price  \\\n",
       "count  6.000000     6.000000    6.000000    6.000000   6.00000     6.000000   \n",
       "mean   3.500000  1452.833333  566.666667   80.000000   9.00000  1003.333333   \n",
       "std    1.870829   231.131492  163.299316   39.191836   2.75681   177.951304   \n",
       "min    1.000000  1298.000000  350.000000   32.000000   4.00000   700.000000   \n",
       "25%    2.250000  1298.000000  462.500000   64.000000   8.50000   955.000000   \n",
       "50%    3.500000  1309.500000  550.000000   64.000000  10.00000  1010.000000   \n",
       "75%    4.750000  1642.750000  712.500000  112.000000  10.00000  1125.000000   \n",
       "max    6.000000  1752.000000  750.000000  128.000000  12.00000  1200.000000   \n",
       "\n",
       "          screen  \n",
       "count   6.000000  \n",
       "mean   13.000000  \n",
       "std     1.549193  \n",
       "min    11.000000  \n",
       "25%    12.000000  \n",
       "50%    13.000000  \n",
       "75%    14.000000  \n",
       "max    15.000000  "
      ]
     },
     "execution_count": 128,
     "metadata": {},
     "output_type": "execute_result"
    }
   ],
   "source": [
    "laptop.describe()"
   ]
  },
  {
   "cell_type": "markdown",
   "id": "75833a92",
   "metadata": {},
   "source": [
    "В таблице **laptop** все значения имеют типы *int* либо *float*, поэтому все значения просчитаны."
   ]
  },
  {
   "cell_type": "code",
   "execution_count": 129,
   "id": "927facdd",
   "metadata": {},
   "outputs": [
    {
     "data": {
      "text/html": [
       "<div>\n",
       "<style scoped>\n",
       "    .dataframe tbody tr th:only-of-type {\n",
       "        vertical-align: middle;\n",
       "    }\n",
       "\n",
       "    .dataframe tbody tr th {\n",
       "        vertical-align: top;\n",
       "    }\n",
       "\n",
       "    .dataframe thead th {\n",
       "        text-align: right;\n",
       "    }\n",
       "</style>\n",
       "<table border=\"1\" class=\"dataframe\">\n",
       "  <thead>\n",
       "    <tr style=\"text-align: right;\">\n",
       "      <th></th>\n",
       "      <th>code</th>\n",
       "      <th>model</th>\n",
       "      <th>price</th>\n",
       "    </tr>\n",
       "  </thead>\n",
       "  <tbody>\n",
       "    <tr>\n",
       "      <th>count</th>\n",
       "      <td>6.000000</td>\n",
       "      <td>6.000000</td>\n",
       "      <td>6.000000</td>\n",
       "    </tr>\n",
       "    <tr>\n",
       "      <th>mean</th>\n",
       "      <td>3.500000</td>\n",
       "      <td>1373.333333</td>\n",
       "      <td>296.666667</td>\n",
       "    </tr>\n",
       "    <tr>\n",
       "      <th>std</th>\n",
       "      <td>1.870829</td>\n",
       "      <td>72.060160</td>\n",
       "      <td>94.162979</td>\n",
       "    </tr>\n",
       "    <tr>\n",
       "      <th>min</th>\n",
       "      <td>1.000000</td>\n",
       "      <td>1276.000000</td>\n",
       "      <td>150.000000</td>\n",
       "    </tr>\n",
       "    <tr>\n",
       "      <th>25%</th>\n",
       "      <td>2.250000</td>\n",
       "      <td>1316.250000</td>\n",
       "      <td>270.000000</td>\n",
       "    </tr>\n",
       "    <tr>\n",
       "      <th>50%</th>\n",
       "      <td>3.500000</td>\n",
       "      <td>1404.500000</td>\n",
       "      <td>280.000000</td>\n",
       "    </tr>\n",
       "    <tr>\n",
       "      <th>75%</th>\n",
       "      <td>4.750000</td>\n",
       "      <td>1426.750000</td>\n",
       "      <td>372.500000</td>\n",
       "    </tr>\n",
       "    <tr>\n",
       "      <th>max</th>\n",
       "      <td>6.000000</td>\n",
       "      <td>1434.000000</td>\n",
       "      <td>400.000000</td>\n",
       "    </tr>\n",
       "  </tbody>\n",
       "</table>\n",
       "</div>"
      ],
      "text/plain": [
       "           code        model       price\n",
       "count  6.000000     6.000000    6.000000\n",
       "mean   3.500000  1373.333333  296.666667\n",
       "std    1.870829    72.060160   94.162979\n",
       "min    1.000000  1276.000000  150.000000\n",
       "25%    2.250000  1316.250000  270.000000\n",
       "50%    3.500000  1404.500000  280.000000\n",
       "75%    4.750000  1426.750000  372.500000\n",
       "max    6.000000  1434.000000  400.000000"
      ]
     },
     "execution_count": 129,
     "metadata": {},
     "output_type": "execute_result"
    }
   ],
   "source": [
    "printer.describe()"
   ]
  },
  {
   "cell_type": "markdown",
   "id": "5e56df33",
   "metadata": {},
   "source": [
    "В таблице **printer** колонки *color* и *type* имеют тип **object**, следовательно описания по этим колонкам не будет."
   ]
  },
  {
   "cell_type": "code",
   "execution_count": 131,
   "id": "a321a4c3",
   "metadata": {},
   "outputs": [
    {
     "data": {
      "text/html": [
       "<div>\n",
       "<style scoped>\n",
       "    .dataframe tbody tr th:only-of-type {\n",
       "        vertical-align: middle;\n",
       "    }\n",
       "\n",
       "    .dataframe tbody tr th {\n",
       "        vertical-align: top;\n",
       "    }\n",
       "\n",
       "    .dataframe thead th {\n",
       "        text-align: right;\n",
       "    }\n",
       "</style>\n",
       "<table border=\"1\" class=\"dataframe\">\n",
       "  <thead>\n",
       "    <tr style=\"text-align: right;\">\n",
       "      <th></th>\n",
       "      <th>model</th>\n",
       "    </tr>\n",
       "  </thead>\n",
       "  <tbody>\n",
       "    <tr>\n",
       "      <th>count</th>\n",
       "      <td>16.000000</td>\n",
       "    </tr>\n",
       "    <tr>\n",
       "      <th>mean</th>\n",
       "      <td>1464.500000</td>\n",
       "    </tr>\n",
       "    <tr>\n",
       "      <th>std</th>\n",
       "      <td>305.022622</td>\n",
       "    </tr>\n",
       "    <tr>\n",
       "      <th>min</th>\n",
       "      <td>1121.000000</td>\n",
       "    </tr>\n",
       "    <tr>\n",
       "      <th>25%</th>\n",
       "      <td>1272.000000</td>\n",
       "    </tr>\n",
       "    <tr>\n",
       "      <th>50%</th>\n",
       "      <td>1361.000000</td>\n",
       "    </tr>\n",
       "    <tr>\n",
       "      <th>75%</th>\n",
       "      <td>1513.000000</td>\n",
       "    </tr>\n",
       "    <tr>\n",
       "      <th>max</th>\n",
       "      <td>2113.000000</td>\n",
       "    </tr>\n",
       "  </tbody>\n",
       "</table>\n",
       "</div>"
      ],
      "text/plain": [
       "             model\n",
       "count    16.000000\n",
       "mean   1464.500000\n",
       "std     305.022622\n",
       "min    1121.000000\n",
       "25%    1272.000000\n",
       "50%    1361.000000\n",
       "75%    1513.000000\n",
       "max    2113.000000"
      ]
     },
     "execution_count": 131,
     "metadata": {},
     "output_type": "execute_result"
    }
   ],
   "source": [
    "product.describe()"
   ]
  },
  {
   "cell_type": "markdown",
   "id": "4f9153a5",
   "metadata": {},
   "source": [
    "Так как у таблицы **product** колонки *maker* и *type* имеют тип object, по ним не будет описания."
   ]
  },
  {
   "cell_type": "markdown",
   "id": "1fe656ac",
   "metadata": {},
   "source": [
    "В данном случае, я бы привела колонки **model и code** к типу *object*, так как эти колонки являются скорее описательными характеристиками, чем численными, и высчитывать статистику по этим данным некорректно в рамках текущей задачи."
   ]
  },
  {
   "cell_type": "code",
   "execution_count": 3,
   "id": "487c3700",
   "metadata": {},
   "outputs": [],
   "source": [
    "pc['model'] = pc['model'].astype(object)\n",
    "pc['code'] = pc['code'].astype(object)"
   ]
  },
  {
   "cell_type": "code",
   "execution_count": 4,
   "id": "a22dcac7",
   "metadata": {},
   "outputs": [
    {
     "name": "stdout",
     "output_type": "stream",
     "text": [
      "<class 'pandas.core.frame.DataFrame'>\n",
      "RangeIndex: 12 entries, 0 to 11\n",
      "Data columns (total 7 columns):\n",
      " #   Column  Non-Null Count  Dtype  \n",
      "---  ------  --------------  -----  \n",
      " 0   code    12 non-null     object \n",
      " 1   model   12 non-null     object \n",
      " 2   speed   12 non-null     int64  \n",
      " 3   ram     12 non-null     int64  \n",
      " 4   hd      12 non-null     int64  \n",
      " 5   cd      12 non-null     object \n",
      " 6   price   12 non-null     float64\n",
      "dtypes: float64(1), int64(3), object(3)\n",
      "memory usage: 800.0+ bytes\n"
     ]
    }
   ],
   "source": [
    "pc.info()"
   ]
  },
  {
   "cell_type": "code",
   "execution_count": 5,
   "id": "c2e39324",
   "metadata": {},
   "outputs": [],
   "source": [
    "laptop['model'] = laptop['model'].astype(object)\n",
    "laptop['code'] = laptop['code'].astype(object)"
   ]
  },
  {
   "cell_type": "code",
   "execution_count": 6,
   "id": "1197b418",
   "metadata": {},
   "outputs": [
    {
     "name": "stdout",
     "output_type": "stream",
     "text": [
      "<class 'pandas.core.frame.DataFrame'>\n",
      "RangeIndex: 6 entries, 0 to 5\n",
      "Data columns (total 7 columns):\n",
      " #   Column  Non-Null Count  Dtype  \n",
      "---  ------  --------------  -----  \n",
      " 0   code    6 non-null      object \n",
      " 1   model   6 non-null      object \n",
      " 2   speed   6 non-null      int64  \n",
      " 3   ram     6 non-null      int64  \n",
      " 4   hd      6 non-null      int64  \n",
      " 5   price   6 non-null      float64\n",
      " 6   screen  6 non-null      int64  \n",
      "dtypes: float64(1), int64(4), object(2)\n",
      "memory usage: 464.0+ bytes\n"
     ]
    }
   ],
   "source": [
    "laptop.info()"
   ]
  },
  {
   "cell_type": "code",
   "execution_count": 7,
   "id": "ea51c7a1",
   "metadata": {},
   "outputs": [],
   "source": [
    "printer['model'] = printer['model'].astype(object)\n",
    "printer['code'] = printer['code'].astype(object)"
   ]
  },
  {
   "cell_type": "code",
   "execution_count": 8,
   "id": "e3f43c5e",
   "metadata": {},
   "outputs": [
    {
     "name": "stdout",
     "output_type": "stream",
     "text": [
      "<class 'pandas.core.frame.DataFrame'>\n",
      "RangeIndex: 6 entries, 0 to 5\n",
      "Data columns (total 5 columns):\n",
      " #   Column  Non-Null Count  Dtype  \n",
      "---  ------  --------------  -----  \n",
      " 0   code    6 non-null      object \n",
      " 1   model   6 non-null      object \n",
      " 2   color   6 non-null      object \n",
      " 3   type    6 non-null      object \n",
      " 4   price   6 non-null      float64\n",
      "dtypes: float64(1), object(4)\n",
      "memory usage: 368.0+ bytes\n"
     ]
    }
   ],
   "source": [
    "printer.info()"
   ]
  },
  {
   "cell_type": "code",
   "execution_count": 9,
   "id": "0a104724",
   "metadata": {},
   "outputs": [],
   "source": [
    "product['model'] = product['model'].astype(object)"
   ]
  },
  {
   "cell_type": "code",
   "execution_count": 10,
   "id": "b4afaf78",
   "metadata": {},
   "outputs": [
    {
     "name": "stdout",
     "output_type": "stream",
     "text": [
      "<class 'pandas.core.frame.DataFrame'>\n",
      "RangeIndex: 16 entries, 0 to 15\n",
      "Data columns (total 3 columns):\n",
      " #   Column  Non-Null Count  Dtype \n",
      "---  ------  --------------  ----- \n",
      " 0   maker   16 non-null     object\n",
      " 1   model   16 non-null     object\n",
      " 2   type    16 non-null     object\n",
      "dtypes: object(3)\n",
      "memory usage: 512.0+ bytes\n"
     ]
    }
   ],
   "source": [
    "product.info()"
   ]
  },
  {
   "cell_type": "markdown",
   "id": "1beb879f",
   "metadata": {},
   "source": [
    "# Задания"
   ]
  },
  {
   "cell_type": "markdown",
   "id": "b6b44c73",
   "metadata": {},
   "source": [
    "### Задание №1\n",
    "\n",
    "Найдите все параметры ПК, имеющие 8x или 40x CD и цену более 600. Отсортируйте по скорости и цене."
   ]
  },
  {
   "cell_type": "code",
   "execution_count": 15,
   "id": "420a7040",
   "metadata": {
    "scrolled": true
   },
   "outputs": [
    {
     "data": {
      "text/html": [
       "<div>\n",
       "<style scoped>\n",
       "    .dataframe tbody tr th:only-of-type {\n",
       "        vertical-align: middle;\n",
       "    }\n",
       "\n",
       "    .dataframe tbody tr th {\n",
       "        vertical-align: top;\n",
       "    }\n",
       "\n",
       "    .dataframe thead th {\n",
       "        text-align: right;\n",
       "    }\n",
       "</style>\n",
       "<table border=\"1\" class=\"dataframe\">\n",
       "  <thead>\n",
       "    <tr style=\"text-align: right;\">\n",
       "      <th></th>\n",
       "      <th>code</th>\n",
       "      <th>model</th>\n",
       "      <th>speed</th>\n",
       "      <th>ram</th>\n",
       "      <th>hd</th>\n",
       "      <th>cd</th>\n",
       "      <th>price</th>\n",
       "    </tr>\n",
       "  </thead>\n",
       "  <tbody>\n",
       "    <tr>\n",
       "      <th>0</th>\n",
       "      <td>1</td>\n",
       "      <td>1232</td>\n",
       "      <td>500</td>\n",
       "      <td>64</td>\n",
       "      <td>5</td>\n",
       "      <td>12x</td>\n",
       "      <td>600.0</td>\n",
       "    </tr>\n",
       "    <tr>\n",
       "      <th>1</th>\n",
       "      <td>10</td>\n",
       "      <td>1260</td>\n",
       "      <td>500</td>\n",
       "      <td>32</td>\n",
       "      <td>10</td>\n",
       "      <td>12x</td>\n",
       "      <td>350.0</td>\n",
       "    </tr>\n",
       "    <tr>\n",
       "      <th>2</th>\n",
       "      <td>11</td>\n",
       "      <td>1233</td>\n",
       "      <td>900</td>\n",
       "      <td>128</td>\n",
       "      <td>40</td>\n",
       "      <td>40x</td>\n",
       "      <td>980.0</td>\n",
       "    </tr>\n",
       "    <tr>\n",
       "      <th>3</th>\n",
       "      <td>12</td>\n",
       "      <td>1233</td>\n",
       "      <td>800</td>\n",
       "      <td>128</td>\n",
       "      <td>20</td>\n",
       "      <td>50x</td>\n",
       "      <td>970.0</td>\n",
       "    </tr>\n",
       "    <tr>\n",
       "      <th>4</th>\n",
       "      <td>2</td>\n",
       "      <td>1121</td>\n",
       "      <td>750</td>\n",
       "      <td>128</td>\n",
       "      <td>14</td>\n",
       "      <td>40x</td>\n",
       "      <td>850.0</td>\n",
       "    </tr>\n",
       "    <tr>\n",
       "      <th>5</th>\n",
       "      <td>3</td>\n",
       "      <td>1233</td>\n",
       "      <td>500</td>\n",
       "      <td>64</td>\n",
       "      <td>5</td>\n",
       "      <td>12x</td>\n",
       "      <td>600.0</td>\n",
       "    </tr>\n",
       "    <tr>\n",
       "      <th>6</th>\n",
       "      <td>4</td>\n",
       "      <td>1121</td>\n",
       "      <td>600</td>\n",
       "      <td>128</td>\n",
       "      <td>14</td>\n",
       "      <td>40x</td>\n",
       "      <td>850.0</td>\n",
       "    </tr>\n",
       "    <tr>\n",
       "      <th>7</th>\n",
       "      <td>5</td>\n",
       "      <td>1121</td>\n",
       "      <td>600</td>\n",
       "      <td>128</td>\n",
       "      <td>8</td>\n",
       "      <td>40x</td>\n",
       "      <td>850.0</td>\n",
       "    </tr>\n",
       "    <tr>\n",
       "      <th>8</th>\n",
       "      <td>6</td>\n",
       "      <td>1233</td>\n",
       "      <td>750</td>\n",
       "      <td>128</td>\n",
       "      <td>20</td>\n",
       "      <td>50x</td>\n",
       "      <td>950.0</td>\n",
       "    </tr>\n",
       "    <tr>\n",
       "      <th>9</th>\n",
       "      <td>7</td>\n",
       "      <td>1232</td>\n",
       "      <td>500</td>\n",
       "      <td>32</td>\n",
       "      <td>10</td>\n",
       "      <td>12x</td>\n",
       "      <td>400.0</td>\n",
       "    </tr>\n",
       "    <tr>\n",
       "      <th>10</th>\n",
       "      <td>8</td>\n",
       "      <td>1232</td>\n",
       "      <td>450</td>\n",
       "      <td>64</td>\n",
       "      <td>8</td>\n",
       "      <td>24x</td>\n",
       "      <td>350.0</td>\n",
       "    </tr>\n",
       "    <tr>\n",
       "      <th>11</th>\n",
       "      <td>9</td>\n",
       "      <td>1232</td>\n",
       "      <td>450</td>\n",
       "      <td>32</td>\n",
       "      <td>10</td>\n",
       "      <td>24x</td>\n",
       "      <td>350.0</td>\n",
       "    </tr>\n",
       "  </tbody>\n",
       "</table>\n",
       "</div>"
      ],
      "text/plain": [
       "   code model  speed  ram  hd   cd  price\n",
       "0     1  1232    500   64   5  12x  600.0\n",
       "1    10  1260    500   32  10  12x  350.0\n",
       "2    11  1233    900  128  40  40x  980.0\n",
       "3    12  1233    800  128  20  50x  970.0\n",
       "4     2  1121    750  128  14  40x  850.0\n",
       "5     3  1233    500   64   5  12x  600.0\n",
       "6     4  1121    600  128  14  40x  850.0\n",
       "7     5  1121    600  128   8  40x  850.0\n",
       "8     6  1233    750  128  20  50x  950.0\n",
       "9     7  1232    500   32  10  12x  400.0\n",
       "10    8  1232    450   64   8  24x  350.0\n",
       "11    9  1232    450   32  10  24x  350.0"
      ]
     },
     "execution_count": 15,
     "metadata": {},
     "output_type": "execute_result"
    }
   ],
   "source": [
    "pc"
   ]
  },
  {
   "cell_type": "code",
   "execution_count": 16,
   "id": "135d2b55",
   "metadata": {},
   "outputs": [
    {
     "data": {
      "text/plain": [
       "12x    4\n",
       "40x    4\n",
       "50x    2\n",
       "24x    2\n",
       "Name: cd, dtype: int64"
      ]
     },
     "execution_count": 16,
     "metadata": {},
     "output_type": "execute_result"
    }
   ],
   "source": [
    "# В качестве проверки посмотрим, какие значения принимает колонка 'cd'\n",
    "pc.cd.value_counts()"
   ]
  },
  {
   "cell_type": "markdown",
   "id": "e0d16212",
   "metadata": {},
   "source": [
    "Как мы видим, у нас нет ни одного пк с ***cd == '8x'***"
   ]
  },
  {
   "cell_type": "code",
   "execution_count": 23,
   "id": "05b8ecee",
   "metadata": {},
   "outputs": [
    {
     "data": {
      "text/html": [
       "<div>\n",
       "<style scoped>\n",
       "    .dataframe tbody tr th:only-of-type {\n",
       "        vertical-align: middle;\n",
       "    }\n",
       "\n",
       "    .dataframe tbody tr th {\n",
       "        vertical-align: top;\n",
       "    }\n",
       "\n",
       "    .dataframe thead th {\n",
       "        text-align: right;\n",
       "    }\n",
       "</style>\n",
       "<table border=\"1\" class=\"dataframe\">\n",
       "  <thead>\n",
       "    <tr style=\"text-align: right;\">\n",
       "      <th></th>\n",
       "      <th></th>\n",
       "      <th>code</th>\n",
       "      <th>model</th>\n",
       "      <th>speed</th>\n",
       "      <th>ram</th>\n",
       "      <th>hd</th>\n",
       "      <th>cd</th>\n",
       "      <th>price</th>\n",
       "    </tr>\n",
       "  </thead>\n",
       "  <tbody>\n",
       "    <tr>\n",
       "      <th rowspan=\"4\" valign=\"top\">40x</th>\n",
       "      <th>6</th>\n",
       "      <td>4</td>\n",
       "      <td>1121</td>\n",
       "      <td>600</td>\n",
       "      <td>128</td>\n",
       "      <td>14</td>\n",
       "      <td>40x</td>\n",
       "      <td>850.0</td>\n",
       "    </tr>\n",
       "    <tr>\n",
       "      <th>7</th>\n",
       "      <td>5</td>\n",
       "      <td>1121</td>\n",
       "      <td>600</td>\n",
       "      <td>128</td>\n",
       "      <td>8</td>\n",
       "      <td>40x</td>\n",
       "      <td>850.0</td>\n",
       "    </tr>\n",
       "    <tr>\n",
       "      <th>4</th>\n",
       "      <td>2</td>\n",
       "      <td>1121</td>\n",
       "      <td>750</td>\n",
       "      <td>128</td>\n",
       "      <td>14</td>\n",
       "      <td>40x</td>\n",
       "      <td>850.0</td>\n",
       "    </tr>\n",
       "    <tr>\n",
       "      <th>2</th>\n",
       "      <td>11</td>\n",
       "      <td>1233</td>\n",
       "      <td>900</td>\n",
       "      <td>128</td>\n",
       "      <td>40</td>\n",
       "      <td>40x</td>\n",
       "      <td>980.0</td>\n",
       "    </tr>\n",
       "  </tbody>\n",
       "</table>\n",
       "</div>"
      ],
      "text/plain": [
       "      code model  speed  ram  hd   cd  price\n",
       "40x 6    4  1121    600  128  14  40x  850.0\n",
       "    7    5  1121    600  128   8  40x  850.0\n",
       "    4    2  1121    750  128  14  40x  850.0\n",
       "    2   11  1233    900  128  40  40x  980.0"
      ]
     },
     "execution_count": 23,
     "metadata": {},
     "output_type": "execute_result"
    }
   ],
   "source": [
    "pc_first_selection = pc[pc['cd'] == '40x']\n",
    "pc_second_selection = pc[pc['cd'] == '8x']\n",
    "(pandas.concat([pc_first_selection,pc_second_selection],keys=['40x', '8x'])).sort_values(['speed','price'])"
   ]
  },
  {
   "cell_type": "markdown",
   "id": "1ec02d74",
   "metadata": {},
   "source": [
    "Таким образом, у нас была выведена таблица со всеми параметрами компьютеров, имеющих **cd == 40x** или **cd == 8x**, отсортированную по скорости и цене."
   ]
  },
  {
   "cell_type": "markdown",
   "id": "a7b0bce4",
   "metadata": {},
   "source": [
    "### Задание 2\n",
    "\n",
    "Для каждого производителя, выпускающего лаптоты c объёмом жесткого диска не менее 10 Гбайт и ОЗУ не менее 64 мб, найти скорости таких лаптопов. Выведите производителей и скорость. Нарисуйте график зависимости скоростей от полученных моделей ноутбуков. Опишите полученный график"
   ]
  },
  {
   "cell_type": "code",
   "execution_count": 44,
   "id": "7b343802",
   "metadata": {
    "scrolled": false
   },
   "outputs": [
    {
     "data": {
      "text/html": [
       "<div>\n",
       "<style scoped>\n",
       "    .dataframe tbody tr th:only-of-type {\n",
       "        vertical-align: middle;\n",
       "    }\n",
       "\n",
       "    .dataframe tbody tr th {\n",
       "        vertical-align: top;\n",
       "    }\n",
       "\n",
       "    .dataframe thead th {\n",
       "        text-align: right;\n",
       "    }\n",
       "</style>\n",
       "<table border=\"1\" class=\"dataframe\">\n",
       "  <thead>\n",
       "    <tr style=\"text-align: right;\">\n",
       "      <th></th>\n",
       "      <th>code</th>\n",
       "      <th>model</th>\n",
       "      <th>speed</th>\n",
       "      <th>ram</th>\n",
       "      <th>hd</th>\n",
       "      <th>price</th>\n",
       "      <th>screen</th>\n",
       "      <th>maker</th>\n",
       "      <th>type</th>\n",
       "    </tr>\n",
       "  </thead>\n",
       "  <tbody>\n",
       "    <tr>\n",
       "      <th>0</th>\n",
       "      <td>3</td>\n",
       "      <td>1750</td>\n",
       "      <td>750</td>\n",
       "      <td>128</td>\n",
       "      <td>12</td>\n",
       "      <td>1200.0</td>\n",
       "      <td>14</td>\n",
       "      <td>B</td>\n",
       "      <td>Laptop</td>\n",
       "    </tr>\n",
       "    <tr>\n",
       "      <th>1</th>\n",
       "      <td>4</td>\n",
       "      <td>1298</td>\n",
       "      <td>600</td>\n",
       "      <td>64</td>\n",
       "      <td>10</td>\n",
       "      <td>1050.0</td>\n",
       "      <td>15</td>\n",
       "      <td>A</td>\n",
       "      <td>Laptop</td>\n",
       "    </tr>\n",
       "    <tr>\n",
       "      <th>2</th>\n",
       "      <td>6</td>\n",
       "      <td>1298</td>\n",
       "      <td>450</td>\n",
       "      <td>64</td>\n",
       "      <td>10</td>\n",
       "      <td>950.0</td>\n",
       "      <td>12</td>\n",
       "      <td>A</td>\n",
       "      <td>Laptop</td>\n",
       "    </tr>\n",
       "    <tr>\n",
       "      <th>3</th>\n",
       "      <td>5</td>\n",
       "      <td>1752</td>\n",
       "      <td>750</td>\n",
       "      <td>128</td>\n",
       "      <td>10</td>\n",
       "      <td>1150.0</td>\n",
       "      <td>14</td>\n",
       "      <td>A</td>\n",
       "      <td>Laptop</td>\n",
       "    </tr>\n",
       "  </tbody>\n",
       "</table>\n",
       "</div>"
      ],
      "text/plain": [
       "  code model  speed  ram  hd   price  screen maker    type\n",
       "0    3  1750    750  128  12  1200.0      14     B  Laptop\n",
       "1    4  1298    600   64  10  1050.0      15     A  Laptop\n",
       "2    6  1298    450   64  10   950.0      12     A  Laptop\n",
       "3    5  1752    750  128  10  1150.0      14     A  Laptop"
      ]
     },
     "execution_count": 44,
     "metadata": {},
     "output_type": "execute_result"
    }
   ],
   "source": [
    "# Прежде всего выведем модели, подходящие под критерии отбора:\n",
    "\n",
    "lp_1 = laptop[(laptop['hd'] >= 10) & (laptop['ram'] >= 64)] \n",
    "\n",
    "# Для выполнения задания нам нужно соединить две таблицы по колонке 'model'\n",
    "\n",
    "res1 = pandas.merge(lp1, product, on='model')\n",
    "\n",
    "res1"
   ]
  },
  {
   "cell_type": "code",
   "execution_count": 45,
   "id": "de9d5044",
   "metadata": {},
   "outputs": [
    {
     "data": {
      "text/html": [
       "<div>\n",
       "<style scoped>\n",
       "    .dataframe tbody tr th:only-of-type {\n",
       "        vertical-align: middle;\n",
       "    }\n",
       "\n",
       "    .dataframe tbody tr th {\n",
       "        vertical-align: top;\n",
       "    }\n",
       "\n",
       "    .dataframe thead th {\n",
       "        text-align: right;\n",
       "    }\n",
       "</style>\n",
       "<table border=\"1\" class=\"dataframe\">\n",
       "  <thead>\n",
       "    <tr style=\"text-align: right;\">\n",
       "      <th></th>\n",
       "      <th>maker</th>\n",
       "      <th>speed</th>\n",
       "    </tr>\n",
       "  </thead>\n",
       "  <tbody>\n",
       "    <tr>\n",
       "      <th>0</th>\n",
       "      <td>B</td>\n",
       "      <td>750</td>\n",
       "    </tr>\n",
       "    <tr>\n",
       "      <th>1</th>\n",
       "      <td>A</td>\n",
       "      <td>600</td>\n",
       "    </tr>\n",
       "    <tr>\n",
       "      <th>2</th>\n",
       "      <td>A</td>\n",
       "      <td>450</td>\n",
       "    </tr>\n",
       "    <tr>\n",
       "      <th>3</th>\n",
       "      <td>A</td>\n",
       "      <td>750</td>\n",
       "    </tr>\n",
       "  </tbody>\n",
       "</table>\n",
       "</div>"
      ],
      "text/plain": [
       "  maker  speed\n",
       "0     B    750\n",
       "1     A    600\n",
       "2     A    450\n",
       "3     A    750"
      ]
     },
     "execution_count": 45,
     "metadata": {},
     "output_type": "execute_result"
    }
   ],
   "source": [
    "# Выведем производителей и скорость этих ноутбуков:\n",
    "res1[['maker','speed']]"
   ]
  },
  {
   "cell_type": "markdown",
   "id": "11b7593a",
   "metadata": {},
   "source": [
    "Теперь построим график зависимости скоростей от полученных моделей ноутбуков по получившейся таблице:"
   ]
  },
  {
   "cell_type": "code",
   "execution_count": 27,
   "id": "4690730a",
   "metadata": {},
   "outputs": [],
   "source": [
    "import matplotlib.pyplot as plt\n",
    "import seaborn"
   ]
  },
  {
   "cell_type": "markdown",
   "id": "f4868d1d",
   "metadata": {},
   "source": [
    "В рамках данной задачи, более корректным способом визуализации данных является гистограмма:"
   ]
  },
  {
   "cell_type": "code",
   "execution_count": 46,
   "id": "36f23889",
   "metadata": {
    "scrolled": false
   },
   "outputs": [
    {
     "data": {
      "image/png": "[encoded data removed]",
      "text/plain": [
       "<Figure size 640x480 with 1 Axes>"
      ]
     },
     "metadata": {},
     "output_type": "display_data"
    }
   ],
   "source": [
    "index = list(res1.index)\n",
    "values = list(res1['speed'])\n",
    "ticks = list(res1['model'])\n",
    "\n",
    "plt.bar(index, values, alpha = 0.3, color = 'b', tick_label = ticks, edgecolor = 'b', label = 'speed')\n",
    "plt.tick_params(axis = 'both', which = 'major', direction = 'in', bottom = False)\n",
    "plt.ylim(0,800)\n",
    "plt.title('Зависимость скоростей от моделей ноутбуков')\n",
    "plt.ylabel('Скорость ноутбуков')\n",
    "plt.xlabel('Модель')\n",
    "plt.legend()\n",
    "plt.show()"
   ]
  },
  {
   "cell_type": "markdown",
   "id": "2299ede7",
   "metadata": {},
   "source": [
    "На данном графике мы видим: самые высокие (и равные друг другу) показатели у моделей № 1750 и №1752."
   ]
  },
  {
   "cell_type": "markdown",
   "id": "99e547c9",
   "metadata": {},
   "source": [
    "### Задание 3\n",
    "\n",
    "Найдите номера моделей, тип и цены всех ноутбуков производителя А. Отсортируйте по убыванию цены. Постройте гистограмму изменения цены. Опишите полученную гистограмму."
   ]
  },
  {
   "cell_type": "code",
   "execution_count": 47,
   "id": "d57f2045",
   "metadata": {},
   "outputs": [
    {
     "data": {
      "text/html": [
       "<div>\n",
       "<style scoped>\n",
       "    .dataframe tbody tr th:only-of-type {\n",
       "        vertical-align: middle;\n",
       "    }\n",
       "\n",
       "    .dataframe tbody tr th {\n",
       "        vertical-align: top;\n",
       "    }\n",
       "\n",
       "    .dataframe thead th {\n",
       "        text-align: right;\n",
       "    }\n",
       "</style>\n",
       "<table border=\"1\" class=\"dataframe\">\n",
       "  <thead>\n",
       "    <tr style=\"text-align: right;\">\n",
       "      <th></th>\n",
       "      <th>code</th>\n",
       "      <th>model</th>\n",
       "      <th>speed</th>\n",
       "      <th>ram</th>\n",
       "      <th>hd</th>\n",
       "      <th>price</th>\n",
       "      <th>screen</th>\n",
       "      <th>maker</th>\n",
       "      <th>type</th>\n",
       "    </tr>\n",
       "  </thead>\n",
       "  <tbody>\n",
       "    <tr>\n",
       "      <th>0</th>\n",
       "      <td>1</td>\n",
       "      <td>1298</td>\n",
       "      <td>350</td>\n",
       "      <td>32</td>\n",
       "      <td>4</td>\n",
       "      <td>700.0</td>\n",
       "      <td>11</td>\n",
       "      <td>A</td>\n",
       "      <td>Laptop</td>\n",
       "    </tr>\n",
       "    <tr>\n",
       "      <th>1</th>\n",
       "      <td>4</td>\n",
       "      <td>1298</td>\n",
       "      <td>600</td>\n",
       "      <td>64</td>\n",
       "      <td>10</td>\n",
       "      <td>1050.0</td>\n",
       "      <td>15</td>\n",
       "      <td>A</td>\n",
       "      <td>Laptop</td>\n",
       "    </tr>\n",
       "    <tr>\n",
       "      <th>2</th>\n",
       "      <td>6</td>\n",
       "      <td>1298</td>\n",
       "      <td>450</td>\n",
       "      <td>64</td>\n",
       "      <td>10</td>\n",
       "      <td>950.0</td>\n",
       "      <td>12</td>\n",
       "      <td>A</td>\n",
       "      <td>Laptop</td>\n",
       "    </tr>\n",
       "    <tr>\n",
       "      <th>5</th>\n",
       "      <td>5</td>\n",
       "      <td>1752</td>\n",
       "      <td>750</td>\n",
       "      <td>128</td>\n",
       "      <td>10</td>\n",
       "      <td>1150.0</td>\n",
       "      <td>14</td>\n",
       "      <td>A</td>\n",
       "      <td>Laptop</td>\n",
       "    </tr>\n",
       "    <tr>\n",
       "      <th>4</th>\n",
       "      <td>3</td>\n",
       "      <td>1750</td>\n",
       "      <td>750</td>\n",
       "      <td>128</td>\n",
       "      <td>12</td>\n",
       "      <td>1200.0</td>\n",
       "      <td>14</td>\n",
       "      <td>B</td>\n",
       "      <td>Laptop</td>\n",
       "    </tr>\n",
       "    <tr>\n",
       "      <th>3</th>\n",
       "      <td>2</td>\n",
       "      <td>1321</td>\n",
       "      <td>500</td>\n",
       "      <td>64</td>\n",
       "      <td>8</td>\n",
       "      <td>970.0</td>\n",
       "      <td>12</td>\n",
       "      <td>C</td>\n",
       "      <td>Laptop</td>\n",
       "    </tr>\n",
       "  </tbody>\n",
       "</table>\n",
       "</div>"
      ],
      "text/plain": [
       "  code model  speed  ram  hd   price  screen maker    type\n",
       "0    1  1298    350   32   4   700.0      11     A  Laptop\n",
       "1    4  1298    600   64  10  1050.0      15     A  Laptop\n",
       "2    6  1298    450   64  10   950.0      12     A  Laptop\n",
       "5    5  1752    750  128  10  1150.0      14     A  Laptop\n",
       "4    3  1750    750  128  12  1200.0      14     B  Laptop\n",
       "3    2  1321    500   64   8   970.0      12     C  Laptop"
      ]
     },
     "execution_count": 47,
     "metadata": {},
     "output_type": "execute_result"
    }
   ],
   "source": [
    "# Для начала объединим таблицы laptop и product по модели:\n",
    "\n",
    "res = pandas.merge(laptop, product, on='model').sort_values('maker')\n",
    "res"
   ]
  },
  {
   "cell_type": "code",
   "execution_count": 48,
   "id": "d736f54d",
   "metadata": {},
   "outputs": [
    {
     "data": {
      "text/html": [
       "<div>\n",
       "<style scoped>\n",
       "    .dataframe tbody tr th:only-of-type {\n",
       "        vertical-align: middle;\n",
       "    }\n",
       "\n",
       "    .dataframe tbody tr th {\n",
       "        vertical-align: top;\n",
       "    }\n",
       "\n",
       "    .dataframe thead th {\n",
       "        text-align: right;\n",
       "    }\n",
       "</style>\n",
       "<table border=\"1\" class=\"dataframe\">\n",
       "  <thead>\n",
       "    <tr style=\"text-align: right;\">\n",
       "      <th></th>\n",
       "      <th>model</th>\n",
       "      <th>type</th>\n",
       "      <th>price</th>\n",
       "    </tr>\n",
       "  </thead>\n",
       "  <tbody>\n",
       "    <tr>\n",
       "      <th>5</th>\n",
       "      <td>1752</td>\n",
       "      <td>Laptop</td>\n",
       "      <td>1150.0</td>\n",
       "    </tr>\n",
       "    <tr>\n",
       "      <th>1</th>\n",
       "      <td>1298</td>\n",
       "      <td>Laptop</td>\n",
       "      <td>1050.0</td>\n",
       "    </tr>\n",
       "    <tr>\n",
       "      <th>2</th>\n",
       "      <td>1298</td>\n",
       "      <td>Laptop</td>\n",
       "      <td>950.0</td>\n",
       "    </tr>\n",
       "    <tr>\n",
       "      <th>0</th>\n",
       "      <td>1298</td>\n",
       "      <td>Laptop</td>\n",
       "      <td>700.0</td>\n",
       "    </tr>\n",
       "  </tbody>\n",
       "</table>\n",
       "</div>"
      ],
      "text/plain": [
       "  model    type   price\n",
       "5  1752  Laptop  1150.0\n",
       "1  1298  Laptop  1050.0\n",
       "2  1298  Laptop   950.0\n",
       "0  1298  Laptop   700.0"
      ]
     },
     "execution_count": 48,
     "metadata": {},
     "output_type": "execute_result"
    }
   ],
   "source": [
    "# Выведем модели, тип и цены всех ноутбуков производителя А, с сортировкой по убыванию цены:\n",
    "\n",
    "result_lap = res[res['maker'] == 'A'].sort_values('price', ascending = False)\n",
    "result = result_lap[['model','type', 'price']]\n",
    "result"
   ]
  },
  {
   "cell_type": "code",
   "execution_count": 49,
   "id": "5c485226",
   "metadata": {},
   "outputs": [
    {
     "data": {
      "image/png": "[encoded data removed]",
      "text/plain": [
       "<Figure size 640x480 with 1 Axes>"
      ]
     },
     "metadata": {},
     "output_type": "display_data"
    }
   ],
   "source": [
    "# Построим график по получившимся данным:\n",
    "\n",
    "index = list(range(len(result_lap.index)))\n",
    "values = list(result_lap['price'])\n",
    "ticks = list(result_lap['model'])\n",
    "\n",
    "plt.bar(index, values, alpha = 0.3, color = 'g', tick_label = ticks, edgecolor = 'g', label = 'Стоимость')\n",
    "plt.tick_params(axis = 'both', which = 'major', direction = 'in', bottom = False)\n",
    "plt.ylim(0,1200)\n",
    "plt.title('Зависимость цен от моделей ноутбуков')\n",
    "plt.ylabel('Стоимость')\n",
    "plt.xlabel('Модель')\n",
    "plt.legend()\n",
    "plt.show()"
   ]
  },
  {
   "cell_type": "markdown",
   "id": "a6dc9fe3",
   "metadata": {},
   "source": [
    "На данной гистаграмме мы видим, что самый высокий показатель стоимости также у модели №1752. Все три ноутбука модели №1298 занимают оставшиеся позиции."
   ]
  },
  {
   "cell_type": "markdown",
   "id": "d16bbab8",
   "metadata": {},
   "source": [
    "### Задание 4\n",
    "\n",
    "Найдите производителя, номер модели и цену среди ноутбуков с наибольшей стоимостью до 1000; Нарисуйте график зависимости цен от всех производителей ноутбуков. Опишите полученный график."
   ]
  },
  {
   "cell_type": "code",
   "execution_count": 55,
   "id": "df7427ea",
   "metadata": {},
   "outputs": [
    {
     "data": {
      "text/html": [
       "<div>\n",
       "<style scoped>\n",
       "    .dataframe tbody tr th:only-of-type {\n",
       "        vertical-align: middle;\n",
       "    }\n",
       "\n",
       "    .dataframe tbody tr th {\n",
       "        vertical-align: top;\n",
       "    }\n",
       "\n",
       "    .dataframe thead th {\n",
       "        text-align: right;\n",
       "    }\n",
       "</style>\n",
       "<table border=\"1\" class=\"dataframe\">\n",
       "  <thead>\n",
       "    <tr style=\"text-align: right;\">\n",
       "      <th></th>\n",
       "      <th>maker</th>\n",
       "      <th>model</th>\n",
       "      <th>price</th>\n",
       "    </tr>\n",
       "  </thead>\n",
       "  <tbody>\n",
       "    <tr>\n",
       "      <th>0</th>\n",
       "      <td>C</td>\n",
       "      <td>1321</td>\n",
       "      <td>970.0</td>\n",
       "    </tr>\n",
       "    <tr>\n",
       "      <th>1</th>\n",
       "      <td>A</td>\n",
       "      <td>1298</td>\n",
       "      <td>950.0</td>\n",
       "    </tr>\n",
       "    <tr>\n",
       "      <th>2</th>\n",
       "      <td>A</td>\n",
       "      <td>1298</td>\n",
       "      <td>700.0</td>\n",
       "    </tr>\n",
       "  </tbody>\n",
       "</table>\n",
       "</div>"
      ],
      "text/plain": [
       "  maker model  price\n",
       "0     C  1321  970.0\n",
       "1     A  1298  950.0\n",
       "2     A  1298  700.0"
      ]
     },
     "execution_count": 55,
     "metadata": {},
     "output_type": "execute_result"
    }
   ],
   "source": [
    "# Делаем выборку ноутбуков со стоимостью до 1000:\n",
    "lap4 = laptop[laptop['price'] < 1000].sort_values('price', ascending=False)\n",
    "\n",
    "# Соединяем две таблицы:\n",
    "res4 = pandas.merge(lap4, product, on='model')\n",
    "\n",
    "# В данной таблице искомые нами данные по заданным характеристикам для ноутбуков:\n",
    "res4[['maker','model','price']]"
   ]
  },
  {
   "cell_type": "code",
   "execution_count": 56,
   "id": "70949959",
   "metadata": {},
   "outputs": [
    {
     "data": {
      "text/html": [
       "<div>\n",
       "<style scoped>\n",
       "    .dataframe tbody tr th:only-of-type {\n",
       "        vertical-align: middle;\n",
       "    }\n",
       "\n",
       "    .dataframe tbody tr th {\n",
       "        vertical-align: top;\n",
       "    }\n",
       "\n",
       "    .dataframe thead th {\n",
       "        text-align: right;\n",
       "    }\n",
       "</style>\n",
       "<table border=\"1\" class=\"dataframe\">\n",
       "  <thead>\n",
       "    <tr style=\"text-align: right;\">\n",
       "      <th></th>\n",
       "      <th>maker</th>\n",
       "      <th>model</th>\n",
       "      <th>price</th>\n",
       "    </tr>\n",
       "  </thead>\n",
       "  <tbody>\n",
       "    <tr>\n",
       "      <th>0</th>\n",
       "      <td>C</td>\n",
       "      <td>1321</td>\n",
       "      <td>970.0</td>\n",
       "    </tr>\n",
       "  </tbody>\n",
       "</table>\n",
       "</div>"
      ],
      "text/plain": [
       "  maker model  price\n",
       "0     C  1321  970.0"
      ]
     },
     "execution_count": 56,
     "metadata": {},
     "output_type": "execute_result"
    }
   ],
   "source": [
    "# Нам нужен только один ноутбук с наибольшей стоимостью до 1000:\n",
    "\n",
    "res4[['maker','model','price']].head(1)"
   ]
  },
  {
   "cell_type": "code",
   "execution_count": 57,
   "id": "c126f6a5",
   "metadata": {
    "scrolled": true
   },
   "outputs": [
    {
     "data": {
      "text/html": [
       "<div>\n",
       "<style scoped>\n",
       "    .dataframe tbody tr th:only-of-type {\n",
       "        vertical-align: middle;\n",
       "    }\n",
       "\n",
       "    .dataframe tbody tr th {\n",
       "        vertical-align: top;\n",
       "    }\n",
       "\n",
       "    .dataframe thead th {\n",
       "        text-align: right;\n",
       "    }\n",
       "</style>\n",
       "<table border=\"1\" class=\"dataframe\">\n",
       "  <thead>\n",
       "    <tr style=\"text-align: right;\">\n",
       "      <th></th>\n",
       "      <th>code</th>\n",
       "      <th>model</th>\n",
       "      <th>speed</th>\n",
       "      <th>ram</th>\n",
       "      <th>hd</th>\n",
       "      <th>price</th>\n",
       "      <th>screen</th>\n",
       "      <th>maker</th>\n",
       "      <th>type</th>\n",
       "    </tr>\n",
       "  </thead>\n",
       "  <tbody>\n",
       "    <tr>\n",
       "      <th>0</th>\n",
       "      <td>1</td>\n",
       "      <td>1298</td>\n",
       "      <td>350</td>\n",
       "      <td>32</td>\n",
       "      <td>4</td>\n",
       "      <td>700.0</td>\n",
       "      <td>11</td>\n",
       "      <td>A</td>\n",
       "      <td>Laptop</td>\n",
       "    </tr>\n",
       "    <tr>\n",
       "      <th>2</th>\n",
       "      <td>6</td>\n",
       "      <td>1298</td>\n",
       "      <td>450</td>\n",
       "      <td>64</td>\n",
       "      <td>10</td>\n",
       "      <td>950.0</td>\n",
       "      <td>12</td>\n",
       "      <td>A</td>\n",
       "      <td>Laptop</td>\n",
       "    </tr>\n",
       "    <tr>\n",
       "      <th>1</th>\n",
       "      <td>4</td>\n",
       "      <td>1298</td>\n",
       "      <td>600</td>\n",
       "      <td>64</td>\n",
       "      <td>10</td>\n",
       "      <td>1050.0</td>\n",
       "      <td>15</td>\n",
       "      <td>A</td>\n",
       "      <td>Laptop</td>\n",
       "    </tr>\n",
       "    <tr>\n",
       "      <th>5</th>\n",
       "      <td>5</td>\n",
       "      <td>1752</td>\n",
       "      <td>750</td>\n",
       "      <td>128</td>\n",
       "      <td>10</td>\n",
       "      <td>1150.0</td>\n",
       "      <td>14</td>\n",
       "      <td>A</td>\n",
       "      <td>Laptop</td>\n",
       "    </tr>\n",
       "    <tr>\n",
       "      <th>4</th>\n",
       "      <td>3</td>\n",
       "      <td>1750</td>\n",
       "      <td>750</td>\n",
       "      <td>128</td>\n",
       "      <td>12</td>\n",
       "      <td>1200.0</td>\n",
       "      <td>14</td>\n",
       "      <td>B</td>\n",
       "      <td>Laptop</td>\n",
       "    </tr>\n",
       "    <tr>\n",
       "      <th>3</th>\n",
       "      <td>2</td>\n",
       "      <td>1321</td>\n",
       "      <td>500</td>\n",
       "      <td>64</td>\n",
       "      <td>8</td>\n",
       "      <td>970.0</td>\n",
       "      <td>12</td>\n",
       "      <td>C</td>\n",
       "      <td>Laptop</td>\n",
       "    </tr>\n",
       "  </tbody>\n",
       "</table>\n",
       "</div>"
      ],
      "text/plain": [
       "  code model  speed  ram  hd   price  screen maker    type\n",
       "0    1  1298    350   32   4   700.0      11     A  Laptop\n",
       "2    6  1298    450   64  10   950.0      12     A  Laptop\n",
       "1    4  1298    600   64  10  1050.0      15     A  Laptop\n",
       "5    5  1752    750  128  10  1150.0      14     A  Laptop\n",
       "4    3  1750    750  128  12  1200.0      14     B  Laptop\n",
       "3    2  1321    500   64   8   970.0      12     C  Laptop"
      ]
     },
     "execution_count": 57,
     "metadata": {},
     "output_type": "execute_result"
    }
   ],
   "source": [
    "# Нарисуем график зависимости цен от всех производителей ноутбуков\n",
    "\n",
    "# Для начала объединим таблицы laptop и product по модели с сортировкой по производителю и цене:\n",
    "\n",
    "res4_1 = pandas.merge(laptop, product, on='model').sort_values(['maker','price'])\n",
    "res4_1"
   ]
  },
  {
   "cell_type": "code",
   "execution_count": 58,
   "id": "fcce429c",
   "metadata": {},
   "outputs": [
    {
     "data": {
      "image/png": "[encoded data removed]",
      "text/plain": [
       "<Figure size 640x480 with 1 Axes>"
      ]
     },
     "metadata": {},
     "output_type": "display_data"
    }
   ],
   "source": [
    "# А затем по полученным данным построим график:\n",
    "\n",
    "index = list(range(len((res4_1.index))))\n",
    "values = list(res4_1['price'])\n",
    "ticks = list(res4_1['maker'])\n",
    "\n",
    "plt.bar(index, values, alpha = 0.3, color = 'r', tick_label = ticks, edgecolor = 'r', label = 'Стоимость')\n",
    "plt.tick_params(axis = 'both', which = 'major', direction = 'out')\n",
    "plt.ylim(0,1400)\n",
    "plt.title('График зависимости цен от производителей ноутбуков')\n",
    "plt.ylabel('Стоимость')\n",
    "plt.xlabel('Производитель')\n",
    "plt.legend()\n",
    "plt.show()"
   ]
  },
  {
   "cell_type": "markdown",
   "id": "f6857623",
   "metadata": {},
   "source": [
    "На данном графике мы видим, что минимальное значение стоимости у производителя **А**, максимальное - у производителя **В**. У производителя **С** средние показания стоимости продукции."
   ]
  },
  {
   "cell_type": "markdown",
   "id": "f78964f8",
   "metadata": {},
   "source": [
    "### Задание 5\n",
    "\n",
    "Найдите для каждой модели ПК их количество и максимальное и минимальное ram, сгруппируйте по моделям; переименуйте колонки макс. и мин. в “max/min_ram”;"
   ]
  },
  {
   "cell_type": "code",
   "execution_count": 12,
   "id": "cc7d2ed6",
   "metadata": {},
   "outputs": [
    {
     "data": {
      "text/html": [
       "<div>\n",
       "<style scoped>\n",
       "    .dataframe tbody tr th:only-of-type {\n",
       "        vertical-align: middle;\n",
       "    }\n",
       "\n",
       "    .dataframe tbody tr th {\n",
       "        vertical-align: top;\n",
       "    }\n",
       "\n",
       "    .dataframe thead th {\n",
       "        text-align: right;\n",
       "    }\n",
       "</style>\n",
       "<table border=\"1\" class=\"dataframe\">\n",
       "  <thead>\n",
       "    <tr style=\"text-align: right;\">\n",
       "      <th></th>\n",
       "      <th>amount</th>\n",
       "      <th>max_ram</th>\n",
       "      <th>min_ram</th>\n",
       "    </tr>\n",
       "    <tr>\n",
       "      <th>model</th>\n",
       "      <th></th>\n",
       "      <th></th>\n",
       "      <th></th>\n",
       "    </tr>\n",
       "  </thead>\n",
       "  <tbody>\n",
       "    <tr>\n",
       "      <th>1121</th>\n",
       "      <td>3</td>\n",
       "      <td>128</td>\n",
       "      <td>128</td>\n",
       "    </tr>\n",
       "    <tr>\n",
       "      <th>1232</th>\n",
       "      <td>4</td>\n",
       "      <td>64</td>\n",
       "      <td>32</td>\n",
       "    </tr>\n",
       "    <tr>\n",
       "      <th>1233</th>\n",
       "      <td>4</td>\n",
       "      <td>128</td>\n",
       "      <td>64</td>\n",
       "    </tr>\n",
       "    <tr>\n",
       "      <th>1260</th>\n",
       "      <td>1</td>\n",
       "      <td>32</td>\n",
       "      <td>32</td>\n",
       "    </tr>\n",
       "  </tbody>\n",
       "</table>\n",
       "</div>"
      ],
      "text/plain": [
       "       amount  max_ram  min_ram\n",
       "model                          \n",
       "1121        3      128      128\n",
       "1232        4       64       32\n",
       "1233        4      128       64\n",
       "1260        1       32       32"
      ]
     },
     "execution_count": 12,
     "metadata": {},
     "output_type": "execute_result"
    }
   ],
   "source": [
    "# Объединим таблицы pc и product по модели:\n",
    "\n",
    "res_5 = pandas.merge(pc,product, on='model') \n",
    "\n",
    "# Найдем количество для каждой модели ПК:\n",
    "\n",
    "data_5 = pandas.pivot_table(res_5, index='model', values = 'type', aggfunc = len)\n",
    "\n",
    "# Для удобства значения взяла из столбца 'type'\n",
    "\n",
    "# Найдем для каждой модели:\n",
    "\n",
    "import numpy as np\n",
    "\n",
    "data5 = pandas.pivot_table(res_5, index='model', values='ram', aggfunc=np.max) # максимальное значение\n",
    "\n",
    "data5_1 = pandas.pivot_table(res_5, index='model', values='ram', aggfunc=np.min) # минимальное значение\n",
    "\n",
    "data_5_fin = data5.join(data5_1, on ='model', lsuffix = \"_max\", rsuffix = '_min') # объединим полученные данные через join\n",
    "# с подписями где какая колонка\n",
    "\n",
    "data_res_5 = pandas.merge(data_5, data_5_fin, on='model') # объединим с первой таблицей\n",
    "\n",
    "data_res_5.rename(columns={'ram_max': 'max_ram', 'ram_min': 'min_ram','type':'amount'}, inplace=True) # переименуем колонки\n",
    "data_res_5"
   ]
  },
  {
   "cell_type": "markdown",
   "id": "f97c1345",
   "metadata": {},
   "source": [
    "### Задание 6\n",
    "\n",
    "Проверте гипотезу: «Самые дорогие ноутбуки у производителя А». Опишите полученный результат."
   ]
  },
  {
   "cell_type": "code",
   "execution_count": 73,
   "id": "99358aba",
   "metadata": {},
   "outputs": [
    {
     "data": {
      "text/html": [
       "<div>\n",
       "<style scoped>\n",
       "    .dataframe tbody tr th:only-of-type {\n",
       "        vertical-align: middle;\n",
       "    }\n",
       "\n",
       "    .dataframe tbody tr th {\n",
       "        vertical-align: top;\n",
       "    }\n",
       "\n",
       "    .dataframe thead th {\n",
       "        text-align: right;\n",
       "    }\n",
       "</style>\n",
       "<table border=\"1\" class=\"dataframe\">\n",
       "  <thead>\n",
       "    <tr style=\"text-align: right;\">\n",
       "      <th></th>\n",
       "      <th>code</th>\n",
       "      <th>model</th>\n",
       "      <th>speed</th>\n",
       "      <th>ram</th>\n",
       "      <th>hd</th>\n",
       "      <th>price</th>\n",
       "      <th>screen</th>\n",
       "      <th>maker</th>\n",
       "      <th>type</th>\n",
       "    </tr>\n",
       "  </thead>\n",
       "  <tbody>\n",
       "    <tr>\n",
       "      <th>0</th>\n",
       "      <td>1</td>\n",
       "      <td>1298</td>\n",
       "      <td>350</td>\n",
       "      <td>32</td>\n",
       "      <td>4</td>\n",
       "      <td>700.0</td>\n",
       "      <td>11</td>\n",
       "      <td>A</td>\n",
       "      <td>Laptop</td>\n",
       "    </tr>\n",
       "    <tr>\n",
       "      <th>2</th>\n",
       "      <td>6</td>\n",
       "      <td>1298</td>\n",
       "      <td>450</td>\n",
       "      <td>64</td>\n",
       "      <td>10</td>\n",
       "      <td>950.0</td>\n",
       "      <td>12</td>\n",
       "      <td>A</td>\n",
       "      <td>Laptop</td>\n",
       "    </tr>\n",
       "    <tr>\n",
       "      <th>1</th>\n",
       "      <td>4</td>\n",
       "      <td>1298</td>\n",
       "      <td>600</td>\n",
       "      <td>64</td>\n",
       "      <td>10</td>\n",
       "      <td>1050.0</td>\n",
       "      <td>15</td>\n",
       "      <td>A</td>\n",
       "      <td>Laptop</td>\n",
       "    </tr>\n",
       "    <tr>\n",
       "      <th>5</th>\n",
       "      <td>5</td>\n",
       "      <td>1752</td>\n",
       "      <td>750</td>\n",
       "      <td>128</td>\n",
       "      <td>10</td>\n",
       "      <td>1150.0</td>\n",
       "      <td>14</td>\n",
       "      <td>A</td>\n",
       "      <td>Laptop</td>\n",
       "    </tr>\n",
       "    <tr>\n",
       "      <th>4</th>\n",
       "      <td>3</td>\n",
       "      <td>1750</td>\n",
       "      <td>750</td>\n",
       "      <td>128</td>\n",
       "      <td>12</td>\n",
       "      <td>1200.0</td>\n",
       "      <td>14</td>\n",
       "      <td>B</td>\n",
       "      <td>Laptop</td>\n",
       "    </tr>\n",
       "    <tr>\n",
       "      <th>3</th>\n",
       "      <td>2</td>\n",
       "      <td>1321</td>\n",
       "      <td>500</td>\n",
       "      <td>64</td>\n",
       "      <td>8</td>\n",
       "      <td>970.0</td>\n",
       "      <td>12</td>\n",
       "      <td>C</td>\n",
       "      <td>Laptop</td>\n",
       "    </tr>\n",
       "  </tbody>\n",
       "</table>\n",
       "</div>"
      ],
      "text/plain": [
       "  code model  speed  ram  hd   price  screen maker    type\n",
       "0    1  1298    350   32   4   700.0      11     A  Laptop\n",
       "2    6  1298    450   64  10   950.0      12     A  Laptop\n",
       "1    4  1298    600   64  10  1050.0      15     A  Laptop\n",
       "5    5  1752    750  128  10  1150.0      14     A  Laptop\n",
       "4    3  1750    750  128  12  1200.0      14     B  Laptop\n",
       "3    2  1321    500   64   8   970.0      12     C  Laptop"
      ]
     },
     "execution_count": 73,
     "metadata": {},
     "output_type": "execute_result"
    }
   ],
   "source": [
    "# Объединим таблицы по модели и отсортируем по производителю и цене для удобства:\n",
    "\n",
    "res6 = pandas.merge(laptop, product, on='model').sort_values(['maker','price'])\n",
    "res6"
   ]
  },
  {
   "cell_type": "code",
   "execution_count": 74,
   "id": "4aaf13f7",
   "metadata": {},
   "outputs": [
    {
     "data": {
      "text/html": [
       "<div>\n",
       "<style scoped>\n",
       "    .dataframe tbody tr th:only-of-type {\n",
       "        vertical-align: middle;\n",
       "    }\n",
       "\n",
       "    .dataframe tbody tr th {\n",
       "        vertical-align: top;\n",
       "    }\n",
       "\n",
       "    .dataframe thead th {\n",
       "        text-align: right;\n",
       "    }\n",
       "</style>\n",
       "<table border=\"1\" class=\"dataframe\">\n",
       "  <thead>\n",
       "    <tr style=\"text-align: right;\">\n",
       "      <th></th>\n",
       "      <th>speed</th>\n",
       "      <th>ram</th>\n",
       "      <th>hd</th>\n",
       "      <th>price</th>\n",
       "      <th>screen</th>\n",
       "    </tr>\n",
       "  </thead>\n",
       "  <tbody>\n",
       "    <tr>\n",
       "      <th>count</th>\n",
       "      <td>6.000000</td>\n",
       "      <td>6.000000</td>\n",
       "      <td>6.00000</td>\n",
       "      <td>6.000000</td>\n",
       "      <td>6.000000</td>\n",
       "    </tr>\n",
       "    <tr>\n",
       "      <th>mean</th>\n",
       "      <td>566.666667</td>\n",
       "      <td>80.000000</td>\n",
       "      <td>9.00000</td>\n",
       "      <td>1003.333333</td>\n",
       "      <td>13.000000</td>\n",
       "    </tr>\n",
       "    <tr>\n",
       "      <th>std</th>\n",
       "      <td>163.299316</td>\n",
       "      <td>39.191836</td>\n",
       "      <td>2.75681</td>\n",
       "      <td>177.951304</td>\n",
       "      <td>1.549193</td>\n",
       "    </tr>\n",
       "    <tr>\n",
       "      <th>min</th>\n",
       "      <td>350.000000</td>\n",
       "      <td>32.000000</td>\n",
       "      <td>4.00000</td>\n",
       "      <td>700.000000</td>\n",
       "      <td>11.000000</td>\n",
       "    </tr>\n",
       "    <tr>\n",
       "      <th>25%</th>\n",
       "      <td>462.500000</td>\n",
       "      <td>64.000000</td>\n",
       "      <td>8.50000</td>\n",
       "      <td>955.000000</td>\n",
       "      <td>12.000000</td>\n",
       "    </tr>\n",
       "    <tr>\n",
       "      <th>50%</th>\n",
       "      <td>550.000000</td>\n",
       "      <td>64.000000</td>\n",
       "      <td>10.00000</td>\n",
       "      <td>1010.000000</td>\n",
       "      <td>13.000000</td>\n",
       "    </tr>\n",
       "    <tr>\n",
       "      <th>75%</th>\n",
       "      <td>712.500000</td>\n",
       "      <td>112.000000</td>\n",
       "      <td>10.00000</td>\n",
       "      <td>1125.000000</td>\n",
       "      <td>14.000000</td>\n",
       "    </tr>\n",
       "    <tr>\n",
       "      <th>max</th>\n",
       "      <td>750.000000</td>\n",
       "      <td>128.000000</td>\n",
       "      <td>12.00000</td>\n",
       "      <td>1200.000000</td>\n",
       "      <td>15.000000</td>\n",
       "    </tr>\n",
       "  </tbody>\n",
       "</table>\n",
       "</div>"
      ],
      "text/plain": [
       "            speed         ram        hd        price     screen\n",
       "count    6.000000    6.000000   6.00000     6.000000   6.000000\n",
       "mean   566.666667   80.000000   9.00000  1003.333333  13.000000\n",
       "std    163.299316   39.191836   2.75681   177.951304   1.549193\n",
       "min    350.000000   32.000000   4.00000   700.000000  11.000000\n",
       "25%    462.500000   64.000000   8.50000   955.000000  12.000000\n",
       "50%    550.000000   64.000000  10.00000  1010.000000  13.000000\n",
       "75%    712.500000  112.000000  10.00000  1125.000000  14.000000\n",
       "max    750.000000  128.000000  12.00000  1200.000000  15.000000"
      ]
     },
     "execution_count": 74,
     "metadata": {},
     "output_type": "execute_result"
    }
   ],
   "source": [
    "# вывела себе для проверки\n",
    "res6.describe()"
   ]
  },
  {
   "cell_type": "code",
   "execution_count": 75,
   "id": "96c12264",
   "metadata": {},
   "outputs": [],
   "source": [
    "result_6 = pandas.pivot_table(res6, index = 'maker', values = 'price', aggfunc = np.mean, margins = True)\n",
    "result_6.reset_index(inplace=True)"
   ]
  },
  {
   "cell_type": "code",
   "execution_count": 76,
   "id": "d9ddc6c9",
   "metadata": {},
   "outputs": [
    {
     "data": {
      "text/html": [
       "<div>\n",
       "<style scoped>\n",
       "    .dataframe tbody tr th:only-of-type {\n",
       "        vertical-align: middle;\n",
       "    }\n",
       "\n",
       "    .dataframe tbody tr th {\n",
       "        vertical-align: top;\n",
       "    }\n",
       "\n",
       "    .dataframe thead th {\n",
       "        text-align: right;\n",
       "    }\n",
       "</style>\n",
       "<table border=\"1\" class=\"dataframe\">\n",
       "  <thead>\n",
       "    <tr style=\"text-align: right;\">\n",
       "      <th></th>\n",
       "      <th>maker</th>\n",
       "      <th>price</th>\n",
       "    </tr>\n",
       "  </thead>\n",
       "  <tbody>\n",
       "    <tr>\n",
       "      <th>0</th>\n",
       "      <td>A</td>\n",
       "      <td>962.500000</td>\n",
       "    </tr>\n",
       "    <tr>\n",
       "      <th>1</th>\n",
       "      <td>B</td>\n",
       "      <td>1200.000000</td>\n",
       "    </tr>\n",
       "    <tr>\n",
       "      <th>2</th>\n",
       "      <td>C</td>\n",
       "      <td>970.000000</td>\n",
       "    </tr>\n",
       "    <tr>\n",
       "      <th>3</th>\n",
       "      <td>All</td>\n",
       "      <td>1003.333333</td>\n",
       "    </tr>\n",
       "  </tbody>\n",
       "</table>\n",
       "</div>"
      ],
      "text/plain": [
       "  maker        price\n",
       "0     A   962.500000\n",
       "1     B  1200.000000\n",
       "2     C   970.000000\n",
       "3   All  1003.333333"
      ]
     },
     "execution_count": 76,
     "metadata": {},
     "output_type": "execute_result"
    }
   ],
   "source": [
    "result_6"
   ]
  },
  {
   "cell_type": "markdown",
   "id": "1db24905",
   "metadata": {},
   "source": [
    "В таблице **result_6** видно, что средняя стоимость ноутбуков производителей А меньше средней стоимости среди ноутбуков всех производителей. Сделаем проверку (если у нас будет не 3 производителя, а допустим 45, это облегчит дело):"
   ]
  },
  {
   "cell_type": "code",
   "execution_count": 77,
   "id": "1f08d49d",
   "metadata": {},
   "outputs": [
    {
     "name": "stdout",
     "output_type": "stream",
     "text": [
      "Самые дорогие ноутбуки не у производителя А\n"
     ]
    }
   ],
   "source": [
    "if (result_6.at[0,'price'] == result_6.at[len(result_6.index)-1,'price']):\n",
    "    print('Самые дорогие ноутбуки у производителя А')\n",
    "else:\n",
    "    print('Самые дорогие ноутбуки не у производителя А')"
   ]
  },
  {
   "cell_type": "markdown",
   "id": "539a7ae6",
   "metadata": {},
   "source": [
    "### Задание 7\n",
    "\n",
    "Постройте матрицы корреляции для всех таблиц. Опишите полученный результат. "
   ]
  },
  {
   "cell_type": "markdown",
   "id": "2b2b76ac",
   "metadata": {},
   "source": [
    "Для всех матриц делается выборка **только числовых значений**.\n",
    "Для построения матриц корреляции воспользуемся функцией [`corr()`](https://pandas.pydata.org/pandas-docs/stable/reference/api/pandas.DataFrame.corr.html)"
   ]
  },
  {
   "cell_type": "code",
   "execution_count": 78,
   "id": "9dea03bf",
   "metadata": {},
   "outputs": [
    {
     "data": {
      "text/html": [
       "<div>\n",
       "<style scoped>\n",
       "    .dataframe tbody tr th:only-of-type {\n",
       "        vertical-align: middle;\n",
       "    }\n",
       "\n",
       "    .dataframe tbody tr th {\n",
       "        vertical-align: top;\n",
       "    }\n",
       "\n",
       "    .dataframe thead th {\n",
       "        text-align: right;\n",
       "    }\n",
       "</style>\n",
       "<table border=\"1\" class=\"dataframe\">\n",
       "  <thead>\n",
       "    <tr style=\"text-align: right;\">\n",
       "      <th></th>\n",
       "      <th>speed</th>\n",
       "      <th>ram</th>\n",
       "      <th>hd</th>\n",
       "      <th>price</th>\n",
       "    </tr>\n",
       "  </thead>\n",
       "  <tbody>\n",
       "    <tr>\n",
       "      <th>speed</th>\n",
       "      <td>1.000000</td>\n",
       "      <td>0.818463</td>\n",
       "      <td>0.859476</td>\n",
       "      <td>0.884962</td>\n",
       "    </tr>\n",
       "    <tr>\n",
       "      <th>ram</th>\n",
       "      <td>0.818463</td>\n",
       "      <td>1.000000</td>\n",
       "      <td>0.547365</td>\n",
       "      <td>0.955008</td>\n",
       "    </tr>\n",
       "    <tr>\n",
       "      <th>hd</th>\n",
       "      <td>0.859476</td>\n",
       "      <td>0.547365</td>\n",
       "      <td>1.000000</td>\n",
       "      <td>0.622303</td>\n",
       "    </tr>\n",
       "    <tr>\n",
       "      <th>price</th>\n",
       "      <td>0.884962</td>\n",
       "      <td>0.955008</td>\n",
       "      <td>0.622303</td>\n",
       "      <td>1.000000</td>\n",
       "    </tr>\n",
       "  </tbody>\n",
       "</table>\n",
       "</div>"
      ],
      "text/plain": [
       "          speed       ram        hd     price\n",
       "speed  1.000000  0.818463  0.859476  0.884962\n",
       "ram    0.818463  1.000000  0.547365  0.955008\n",
       "hd     0.859476  0.547365  1.000000  0.622303\n",
       "price  0.884962  0.955008  0.622303  1.000000"
      ]
     },
     "execution_count": 78,
     "metadata": {},
     "output_type": "execute_result"
    }
   ],
   "source": [
    "pc_corr = pc.corr(method = 'pearson', numeric_only = True)\n",
    "pc_corr"
   ]
  },
  {
   "cell_type": "markdown",
   "id": "11aa412a",
   "metadata": {},
   "source": [
    "По результатам анализа видно, что стоимость ПК преимущественно зависит от размера оперативной памяти и гораздо менее от объёма жесткого диска.  Скорость преимущественно зависит от стоимости, в связи с чем можно сделать вывод, что чем больше размер оперативной памяти, тем выше стоимость, и тем больше скорость."
   ]
  },
  {
   "cell_type": "code",
   "execution_count": 79,
   "id": "a8f67259",
   "metadata": {},
   "outputs": [
    {
     "data": {
      "text/html": [
       "<div>\n",
       "<style scoped>\n",
       "    .dataframe tbody tr th:only-of-type {\n",
       "        vertical-align: middle;\n",
       "    }\n",
       "\n",
       "    .dataframe tbody tr th {\n",
       "        vertical-align: top;\n",
       "    }\n",
       "\n",
       "    .dataframe thead th {\n",
       "        text-align: right;\n",
       "    }\n",
       "</style>\n",
       "<table border=\"1\" class=\"dataframe\">\n",
       "  <thead>\n",
       "    <tr style=\"text-align: right;\">\n",
       "      <th></th>\n",
       "      <th>speed</th>\n",
       "      <th>ram</th>\n",
       "      <th>hd</th>\n",
       "      <th>price</th>\n",
       "      <th>screen</th>\n",
       "    </tr>\n",
       "  </thead>\n",
       "  <tbody>\n",
       "    <tr>\n",
       "      <th>speed</th>\n",
       "      <td>1.000000</td>\n",
       "      <td>0.950000</td>\n",
       "      <td>0.799671</td>\n",
       "      <td>0.954369</td>\n",
       "      <td>0.830098</td>\n",
       "    </tr>\n",
       "    <tr>\n",
       "      <th>ram</th>\n",
       "      <td>0.950000</td>\n",
       "      <td>1.000000</td>\n",
       "      <td>0.770054</td>\n",
       "      <td>0.908486</td>\n",
       "      <td>0.632456</td>\n",
       "    </tr>\n",
       "    <tr>\n",
       "      <th>hd</th>\n",
       "      <td>0.799671</td>\n",
       "      <td>0.770054</td>\n",
       "      <td>1.000000</td>\n",
       "      <td>0.929516</td>\n",
       "      <td>0.749269</td>\n",
       "    </tr>\n",
       "    <tr>\n",
       "      <th>price</th>\n",
       "      <td>0.954369</td>\n",
       "      <td>0.908486</td>\n",
       "      <td>0.929516</td>\n",
       "      <td>1.000000</td>\n",
       "      <td>0.819788</td>\n",
       "    </tr>\n",
       "    <tr>\n",
       "      <th>screen</th>\n",
       "      <td>0.830098</td>\n",
       "      <td>0.632456</td>\n",
       "      <td>0.749269</td>\n",
       "      <td>0.819788</td>\n",
       "      <td>1.000000</td>\n",
       "    </tr>\n",
       "  </tbody>\n",
       "</table>\n",
       "</div>"
      ],
      "text/plain": [
       "           speed       ram        hd     price    screen\n",
       "speed   1.000000  0.950000  0.799671  0.954369  0.830098\n",
       "ram     0.950000  1.000000  0.770054  0.908486  0.632456\n",
       "hd      0.799671  0.770054  1.000000  0.929516  0.749269\n",
       "price   0.954369  0.908486  0.929516  1.000000  0.819788\n",
       "screen  0.830098  0.632456  0.749269  0.819788  1.000000"
      ]
     },
     "execution_count": 79,
     "metadata": {},
     "output_type": "execute_result"
    }
   ],
   "source": [
    "laptop_corr = laptop.corr(method = 'pearson', numeric_only = True)\n",
    "laptop_corr"
   ]
  },
  {
   "cell_type": "markdown",
   "id": "7e74ba75",
   "metadata": {},
   "source": [
    "По результатам анализа видно, что стоимость ноутбуков преимущественно зависит от скорости и объёма жесткого диска, где скорость также тесно связана с размером оперативной памяти."
   ]
  },
  {
   "cell_type": "code",
   "execution_count": 80,
   "id": "f9a3d469",
   "metadata": {},
   "outputs": [
    {
     "data": {
      "text/html": [
       "<div>\n",
       "<style scoped>\n",
       "    .dataframe tbody tr th:only-of-type {\n",
       "        vertical-align: middle;\n",
       "    }\n",
       "\n",
       "    .dataframe tbody tr th {\n",
       "        vertical-align: top;\n",
       "    }\n",
       "\n",
       "    .dataframe thead th {\n",
       "        text-align: right;\n",
       "    }\n",
       "</style>\n",
       "<table border=\"1\" class=\"dataframe\">\n",
       "  <thead>\n",
       "    <tr style=\"text-align: right;\">\n",
       "      <th></th>\n",
       "      <th>price</th>\n",
       "    </tr>\n",
       "  </thead>\n",
       "  <tbody>\n",
       "    <tr>\n",
       "      <th>price</th>\n",
       "      <td>1.0</td>\n",
       "    </tr>\n",
       "  </tbody>\n",
       "</table>\n",
       "</div>"
      ],
      "text/plain": [
       "       price\n",
       "price    1.0"
      ]
     },
     "execution_count": 80,
     "metadata": {},
     "output_type": "execute_result"
    }
   ],
   "source": [
    "printer_corr = printer.corr(method = 'pearson', numeric_only = True)\n",
    "printer_corr"
   ]
  },
  {
   "cell_type": "markdown",
   "id": "f39576d3",
   "metadata": {},
   "source": [
    "В таблице *printer* числовые значения принимает только колонка *price*"
   ]
  },
  {
   "cell_type": "code",
   "execution_count": 61,
   "id": "1f9a9d62",
   "metadata": {},
   "outputs": [
    {
     "data": {
      "text/html": [
       "<div>\n",
       "<style scoped>\n",
       "    .dataframe tbody tr th:only-of-type {\n",
       "        vertical-align: middle;\n",
       "    }\n",
       "\n",
       "    .dataframe tbody tr th {\n",
       "        vertical-align: top;\n",
       "    }\n",
       "\n",
       "    .dataframe thead th {\n",
       "        text-align: right;\n",
       "    }\n",
       "</style>\n",
       "<table border=\"1\" class=\"dataframe\">\n",
       "  <thead>\n",
       "    <tr style=\"text-align: right;\">\n",
       "      <th></th>\n",
       "    </tr>\n",
       "  </thead>\n",
       "  <tbody>\n",
       "  </tbody>\n",
       "</table>\n",
       "</div>"
      ],
      "text/plain": [
       "Empty DataFrame\n",
       "Columns: []\n",
       "Index: []"
      ]
     },
     "execution_count": 61,
     "metadata": {},
     "output_type": "execute_result"
    }
   ],
   "source": [
    "product_corr = product.corr(method = 'pearson', numeric_only = True)\n",
    "product_corr"
   ]
  },
  {
   "cell_type": "markdown",
   "id": "c83756c2",
   "metadata": {},
   "source": [
    "Так как у таблицы *product* нет числовых данных, после применения функции у нас получился пустой датафрейм."
   ]
  },
  {
   "cell_type": "code",
   "execution_count": 81,
   "id": "e172dc6f",
   "metadata": {},
   "outputs": [
    {
     "data": {
      "image/png": "[encoded data removed]",
      "text/plain": [
       "<Figure size 640x480 with 2 Axes>"
      ]
     },
     "metadata": {},
     "output_type": "display_data"
    }
   ],
   "source": [
    "pc_heat = seaborn.heatmap(pc_corr, annot=True)\n",
    "pc_heat.set(title = 'PC Heatmap')\n",
    "plt.show()"
   ]
  },
  {
   "cell_type": "markdown",
   "id": "6f220097",
   "metadata": {},
   "source": [
    "На тепловой карте наглядна видна зависимость, чем светлее цвет, тем она больше. В данном случае - самый высокий показатель (не считая диагоналей) - между стоимостью и размером оперативной памяти."
   ]
  },
  {
   "cell_type": "code",
   "execution_count": 82,
   "id": "7f33bcf6",
   "metadata": {
    "scrolled": false
   },
   "outputs": [
    {
     "data": {
      "image/png": "[encoded data removed]",
      "text/plain": [
       "<Figure size 640x480 with 2 Axes>"
      ]
     },
     "metadata": {},
     "output_type": "display_data"
    }
   ],
   "source": [
    "lp_heat = seaborn.heatmap(laptop_corr, annot=True)\n",
    "lp_heat.set(title='Laptop Heatmap')\n",
    "plt.show()"
   ]
  },
  {
   "cell_type": "markdown",
   "id": "1033e43d",
   "metadata": {},
   "source": [
    "Так же, как и в предыдущем хитмэпе - чем светлее цвет, тем больше зависимость. Здесь мы можем наглядно видеть, что между скоростью и стоимостью, и скоростью и размером оперативной памяти прямая зависимость.\n",
    "\n",
    "Тепловая карта для матрицы корреляции по принтерам будет состоять из одной ячейки со значением *1*."
   ]
  },
  {
   "cell_type": "markdown",
   "id": "1fb6c608",
   "metadata": {},
   "source": [
    "### Задание 8\n",
    "\n",
    "Нарисуйте график (не графики, на одном графики должно отображаться всё) зависимости цены ноутбука/ПК от объёма жесткого диска. Опишите ваши наблюдения, существует ли какая-то зависимость и т.п."
   ]
  },
  {
   "cell_type": "code",
   "execution_count": 85,
   "id": "e5125b4c",
   "metadata": {
    "scrolled": false
   },
   "outputs": [
    {
     "data": {
      "image/png": "[encoded data removed]",
      "text/plain": [
       "<Figure size 640x480 with 1 Axes>"
      ]
     },
     "metadata": {},
     "output_type": "display_data"
    }
   ],
   "source": [
    "plt.plot(laptop['hd'], laptop['price'], marker = 'o', color='b', label = 'Laptop', linestyle=':')\n",
    "plt.plot(pc['hd'], pc['price'], marker = 'o', color='r', label = 'PC', linestyle=':')\n",
    "plt.xlabel('Объём жесткого диска')\n",
    "plt.ylabel('Стоимость')\n",
    "plt.title('График зависимости стоимости ноутбуков от объёма жесткого диска')\n",
    "plt.legend()\n",
    "plt.show()"
   ]
  },
  {
   "cell_type": "markdown",
   "id": "05c43035",
   "metadata": {},
   "source": [
    "В рамках этого задания, более корректным способом визуализации будет гистограмма:"
   ]
  },
  {
   "cell_type": "code",
   "execution_count": 257,
   "id": "e942e9cb",
   "metadata": {
    "scrolled": false
   },
   "outputs": [
    {
     "data": {
      "image/png": "[encoded data removed]",
      "text/plain": [
       "<Figure size 640x480 with 1 Axes>"
      ]
     },
     "metadata": {},
     "output_type": "display_data"
    }
   ],
   "source": [
    "# Объединим таблицы laptop и pc с таблицей product по модели:\n",
    "prod_lp_8 = product[product['type']=='Laptop']\n",
    "prod_pc_8 = product[product['type']=='PC']\n",
    "\n",
    "lp_8 = pandas.merge(laptop, prod_lp_8, on='model').sort_values('hd')\n",
    "pc_8 = pandas.merge(pc, prod_pc_8, on='model').sort_values('hd')\n",
    "\n",
    "# Строим гистограмму:\n",
    "plt.bar(lp_8['hd'], lp_8['price'], alpha = 0.2, color = 'r', edgecolor = 'r', label = 'Laptop')\n",
    "plt.bar(pc_8['hd'], pc_8['price'], alpha = 0.2, color = 'b', edgecolor = 'b', label = 'PC')\n",
    "plt.tick_params(axis = 'both', which = 'major', direction = 'out')\n",
    "plt.ylim(0,1400)\n",
    "plt.title('График зависимости стоимости от объема жесткого диска')\n",
    "plt.ylabel('Стоимость')\n",
    "plt.xlabel('Объем жесткого диска')\n",
    "plt.legend()\n",
    "plt.show()"
   ]
  },
  {
   "cell_type": "markdown",
   "id": "c7600eac",
   "metadata": {},
   "source": [
    "Судя по графику, можно отметить, что среди выбранных нами типов - у пк могут быть существенно бОльшие по объему жесткие диски (максимальный показатель - 40, тогда как у ноутбуков - до 15).\n",
    "\n",
    "Среди ноутбуков - чем больше объем жесткого диска, тем выше стоимость. \n",
    "Среди ПК можно сказать точно также, однако некоторые модели, несмотря на относительно небольшой объем жесткого диска, имеют достаточно высокую стоимость."
   ]
  },
  {
   "cell_type": "markdown",
   "id": "cf725e46",
   "metadata": {},
   "source": [
    "### Задание 9\n",
    "\n",
    "Найдите:\n",
    "\n",
    "- количество товаров каждого типа у каждого производителя; постройте график pie, на должно отображаться доля каждого производителя. Опишите полученный график\n",
    "- самый дорогой товар каждого типа, вывести тип и цену;\n",
    "- производителей, делающих ноутбуки и пк ценой более 600$, но которые не производят принтеры, вывести производителя.\n"
   ]
  },
  {
   "cell_type": "code",
   "execution_count": 97,
   "id": "8699c0e4",
   "metadata": {},
   "outputs": [
    {
     "data": {
      "text/html": [
       "<div>\n",
       "<style scoped>\n",
       "    .dataframe tbody tr th:only-of-type {\n",
       "        vertical-align: middle;\n",
       "    }\n",
       "\n",
       "    .dataframe tbody tr th {\n",
       "        vertical-align: top;\n",
       "    }\n",
       "\n",
       "    .dataframe thead th {\n",
       "        text-align: right;\n",
       "    }\n",
       "</style>\n",
       "<table border=\"1\" class=\"dataframe\">\n",
       "  <thead>\n",
       "    <tr style=\"text-align: right;\">\n",
       "      <th></th>\n",
       "      <th></th>\n",
       "      <th>model</th>\n",
       "    </tr>\n",
       "    <tr>\n",
       "      <th>maker</th>\n",
       "      <th>type</th>\n",
       "      <th></th>\n",
       "    </tr>\n",
       "  </thead>\n",
       "  <tbody>\n",
       "    <tr>\n",
       "      <th rowspan=\"3\" valign=\"top\">A</th>\n",
       "      <th>Laptop</th>\n",
       "      <td>2</td>\n",
       "    </tr>\n",
       "    <tr>\n",
       "      <th>PC</th>\n",
       "      <td>2</td>\n",
       "    </tr>\n",
       "    <tr>\n",
       "      <th>Printer</th>\n",
       "      <td>3</td>\n",
       "    </tr>\n",
       "    <tr>\n",
       "      <th rowspan=\"2\" valign=\"top\">B</th>\n",
       "      <th>Laptop</th>\n",
       "      <td>1</td>\n",
       "    </tr>\n",
       "    <tr>\n",
       "      <th>PC</th>\n",
       "      <td>1</td>\n",
       "    </tr>\n",
       "    <tr>\n",
       "      <th>C</th>\n",
       "      <th>Laptop</th>\n",
       "      <td>1</td>\n",
       "    </tr>\n",
       "    <tr>\n",
       "      <th>D</th>\n",
       "      <th>Printer</th>\n",
       "      <td>2</td>\n",
       "    </tr>\n",
       "    <tr>\n",
       "      <th rowspan=\"2\" valign=\"top\">E</th>\n",
       "      <th>PC</th>\n",
       "      <td>3</td>\n",
       "    </tr>\n",
       "    <tr>\n",
       "      <th>Printer</th>\n",
       "      <td>1</td>\n",
       "    </tr>\n",
       "  </tbody>\n",
       "</table>\n",
       "</div>"
      ],
      "text/plain": [
       "               model\n",
       "maker type          \n",
       "A     Laptop       2\n",
       "      PC           2\n",
       "      Printer      3\n",
       "B     Laptop       1\n",
       "      PC           1\n",
       "C     Laptop       1\n",
       "D     Printer      2\n",
       "E     PC           3\n",
       "      Printer      1"
      ]
     },
     "execution_count": 97,
     "metadata": {},
     "output_type": "execute_result"
    }
   ],
   "source": [
    "# количество товаров каждого типа у каждого производителя\n",
    "df9 = pandas.pivot_table(product, index=['maker','type'], aggfunc = len)\n",
    "df9"
   ]
  },
  {
   "cell_type": "code",
   "execution_count": 111,
   "id": "f29ceed1",
   "metadata": {
    "scrolled": false
   },
   "outputs": [
    {
     "data": {
      "text/plain": [
       "<Figure size 2000x2000 with 0 Axes>"
      ]
     },
     "metadata": {},
     "output_type": "display_data"
    },
    {
     "data": {
      "image/png": "[encoded data removed]",
      "text/plain": [
       "<Figure size 640x480 with 1 Axes>"
      ]
     },
     "metadata": {},
     "output_type": "display_data"
    }
   ],
   "source": [
    "# постройте график pie, на котором должна отображаться доля каждого производителя. Опишите полученный график\n",
    "plt.figure(figsize=(20,20))\n",
    "df9.plot(kind='pie', subplots=True, cmap=\"YlOrRd\", \n",
    "         ylabel = '', title = 'Количество продукции каждого производителя', autopct='%1.1f%%')\n",
    "plt.legend(loc='center left', bbox_to_anchor=(1.2, 0.5))\n",
    "plt.show()"
   ]
  },
  {
   "cell_type": "markdown",
   "id": "0143a089",
   "metadata": {},
   "source": [
    "На данной диаграмме мы видим, что преимущественно больше всего товаров у производителя *А*, меньше всего - у *С*.\n",
    "Принтеры производителя А и ПК производителя Е делят \"первое место\" в объеме продукции по отношению ко всей продукции рынка."
   ]
  },
  {
   "cell_type": "code",
   "execution_count": 76,
   "id": "7acce0cb",
   "metadata": {},
   "outputs": [
    {
     "data": {
      "text/html": [
       "<div>\n",
       "<style scoped>\n",
       "    .dataframe tbody tr th:only-of-type {\n",
       "        vertical-align: middle;\n",
       "    }\n",
       "\n",
       "    .dataframe tbody tr th {\n",
       "        vertical-align: top;\n",
       "    }\n",
       "\n",
       "    .dataframe thead th {\n",
       "        text-align: right;\n",
       "    }\n",
       "</style>\n",
       "<table border=\"1\" class=\"dataframe\">\n",
       "  <thead>\n",
       "    <tr style=\"text-align: right;\">\n",
       "      <th></th>\n",
       "      <th></th>\n",
       "      <th>price</th>\n",
       "    </tr>\n",
       "  </thead>\n",
       "  <tbody>\n",
       "    <tr>\n",
       "      <th>Laptop</th>\n",
       "      <th>2</th>\n",
       "      <td>1200.0</td>\n",
       "    </tr>\n",
       "    <tr>\n",
       "      <th>PC</th>\n",
       "      <th>2</th>\n",
       "      <td>980.0</td>\n",
       "    </tr>\n",
       "    <tr>\n",
       "      <th rowspan=\"2\" valign=\"top\">Printer</th>\n",
       "      <th>0</th>\n",
       "      <td>400.0</td>\n",
       "    </tr>\n",
       "    <tr>\n",
       "      <th>5</th>\n",
       "      <td>400.0</td>\n",
       "    </tr>\n",
       "  </tbody>\n",
       "</table>\n",
       "</div>"
      ],
      "text/plain": [
       "            price\n",
       "Laptop  2  1200.0\n",
       "PC      2   980.0\n",
       "Printer 0   400.0\n",
       "        5   400.0"
      ]
     },
     "execution_count": 76,
     "metadata": {},
     "output_type": "execute_result"
    }
   ],
   "source": [
    "# самый дорогой товар каждого типа, вывести тип и цену;\n",
    "\n",
    "# Для начала соединим таблицы laptop,pc и printer с таблицей product:\n",
    "lp_pr = pandas.merge(laptop, product, how='left', on='model').sort_values('price', ascending = False)\n",
    "pc_pr = pandas.merge(pc, product, how='left', on='model').sort_values('price', ascending = False)\n",
    "printer_pr = pandas.merge(printer, product, how='left', on='model').sort_values('price', ascending = False)\n",
    "\n",
    "# Найдем максимальные значения:\n",
    "lp_exp = lp_pr[lp_pr['price'] == lp_pr['price'].max()]\n",
    "pc_exp = pc_pr[pc_pr['price'] == pc_pr['price'].max()]\n",
    "printer_exp = printer_pr[printer_pr['price'] == printer_pr['price'].max()]\n",
    "\n",
    "# Соединим полученные таблицы в одну\n",
    "result = pandas.concat([lp_exp,pc_exp,printer_exp], keys=['Laptop','PC','Printer'])\n",
    "result[['price']]"
   ]
  },
  {
   "cell_type": "markdown",
   "id": "a1805865",
   "metadata": {},
   "source": [
    "Как мы видим, у принтеров 2 самых дорогих товара."
   ]
  },
  {
   "cell_type": "code",
   "execution_count": 172,
   "id": "755a7c55",
   "metadata": {},
   "outputs": [
    {
     "data": {
      "text/plain": [
       "array(['B'], dtype=object)"
      ]
     },
     "execution_count": 172,
     "metadata": {},
     "output_type": "execute_result"
    }
   ],
   "source": [
    "# производителей, делающих ноутбуки и пк ценой более 600$, но которые не производят принтеры, вывести производителя\n",
    "\n",
    "# Определим списки производителей ноутбуков, ПК и принтеров с нужными нам характеристиками:\n",
    "\n",
    "lp9 = laptop[laptop['price']>600]\n",
    "lp_9 = pandas.merge(lp9, product,on='model')[['maker']] # производители ноутбков\n",
    "\n",
    "pc9 = pc[pc['price']>600]\n",
    "pc_9 = pandas.merge(pc9, product,on='model')[['maker']] # производители ПК\n",
    "\n",
    "printer_9 = pandas.merge(printer, product,on='model')[['maker']] # производители принтеров\n",
    "\n",
    "# Найдем производителей И ПК, И ноутбуков\n",
    "lp_pc = pandas.merge(lp_9, pc_9, how='inner', on='maker') # производители ПК и ноутбуков\n",
    "\n",
    "# Объединим таблицы\n",
    "res = pandas.merge(lp_pc, printer_9, how = 'left', indicator=True).query(\"_merge == 'left_only'\")[['maker']]\n",
    "# indicator=True покажет, как были объединены таблицы\n",
    "# методом query определим, какие производители есть ТОЛЬКО в lp_pc, а какие есть и в lp_pc, и в printer_9\n",
    "# метод unique поможет определить уникальные значения:\n",
    "res['maker'].unique()"
   ]
  },
  {
   "cell_type": "markdown",
   "id": "7731574c",
   "metadata": {},
   "source": [
    "В итоге, у нас один производитель - B."
   ]
  },
  {
   "cell_type": "code",
   "execution_count": 405,
   "id": "20b88a80",
   "metadata": {},
   "outputs": [
    {
     "data": {
      "text/html": [
       "<div>\n",
       "<style scoped>\n",
       "    .dataframe tbody tr th:only-of-type {\n",
       "        vertical-align: middle;\n",
       "    }\n",
       "\n",
       "    .dataframe tbody tr th {\n",
       "        vertical-align: top;\n",
       "    }\n",
       "\n",
       "    .dataframe thead th {\n",
       "        text-align: right;\n",
       "    }\n",
       "</style>\n",
       "<table border=\"1\" class=\"dataframe\">\n",
       "  <thead>\n",
       "    <tr style=\"text-align: right;\">\n",
       "      <th></th>\n",
       "      <th></th>\n",
       "      <th>model</th>\n",
       "    </tr>\n",
       "    <tr>\n",
       "      <th>maker</th>\n",
       "      <th>type</th>\n",
       "      <th></th>\n",
       "    </tr>\n",
       "  </thead>\n",
       "  <tbody>\n",
       "    <tr>\n",
       "      <th rowspan=\"3\" valign=\"top\">A</th>\n",
       "      <th>Laptop</th>\n",
       "      <td>1525.000000</td>\n",
       "    </tr>\n",
       "    <tr>\n",
       "      <th>PC</th>\n",
       "      <td>1232.500000</td>\n",
       "    </tr>\n",
       "    <tr>\n",
       "      <th>Printer</th>\n",
       "      <td>1361.666667</td>\n",
       "    </tr>\n",
       "    <tr>\n",
       "      <th rowspan=\"2\" valign=\"top\">B</th>\n",
       "      <th>Laptop</th>\n",
       "      <td>1750.000000</td>\n",
       "    </tr>\n",
       "    <tr>\n",
       "      <th>PC</th>\n",
       "      <td>1121.000000</td>\n",
       "    </tr>\n",
       "    <tr>\n",
       "      <th>C</th>\n",
       "      <th>Laptop</th>\n",
       "      <td>1321.000000</td>\n",
       "    </tr>\n",
       "    <tr>\n",
       "      <th>D</th>\n",
       "      <th>Printer</th>\n",
       "      <td>1360.500000</td>\n",
       "    </tr>\n",
       "    <tr>\n",
       "      <th rowspan=\"2\" valign=\"top\">E</th>\n",
       "      <th>PC</th>\n",
       "      <td>1828.333333</td>\n",
       "    </tr>\n",
       "    <tr>\n",
       "      <th>Printer</th>\n",
       "      <td>1434.000000</td>\n",
       "    </tr>\n",
       "  </tbody>\n",
       "</table>\n",
       "</div>"
      ],
      "text/plain": [
       "                     model\n",
       "maker type                \n",
       "A     Laptop   1525.000000\n",
       "      PC       1232.500000\n",
       "      Printer  1361.666667\n",
       "B     Laptop   1750.000000\n",
       "      PC       1121.000000\n",
       "C     Laptop   1321.000000\n",
       "D     Printer  1360.500000\n",
       "E     PC       1828.333333\n",
       "      Printer  1434.000000"
      ]
     },
     "execution_count": 405,
     "metadata": {},
     "output_type": "execute_result"
    }
   ],
   "source": [
    "# В качестве проверки простроим pivot_table с объединением по производителю и типу:\n",
    "pandas.pivot_table(product, index = ['maker','type'])"
   ]
  },
  {
   "cell_type": "markdown",
   "id": "ab83796c",
   "metadata": {},
   "source": [
    "Как мы видим, только производитель В выпускает И ноутбуки, И пк, но НЕ принтеры."
   ]
  },
  {
   "cell_type": "markdown",
   "id": "04f55abf",
   "metadata": {},
   "source": [
    "### Задание 10\n",
    "\n",
    "Выведите новую цену каждого ноутбука и ПК получив её как модель+цена+ram. Дайте колонке название ‘strange_sum’"
   ]
  },
  {
   "cell_type": "code",
   "execution_count": 335,
   "id": "6f90735c",
   "metadata": {},
   "outputs": [],
   "source": [
    "# Сохраним таблицу laptop для изменения в другую переменную и добавим колонку 'strange_sum':\n",
    "lp_10 = laptop\n",
    "lp_10.insert(len(laptop.columns), 'strange_sum', 0)"
   ]
  },
  {
   "cell_type": "markdown",
   "id": "9fdd7cbf",
   "metadata": {},
   "source": [
    "Для того, чтобы просуммировать построчно применим функцию [`sum()`](https://pandas.pydata.org/pandas-docs/stable/reference/api/pandas.DataFrame.sum.html)"
   ]
  },
  {
   "cell_type": "code",
   "execution_count": 354,
   "id": "05a90652",
   "metadata": {},
   "outputs": [],
   "source": [
    "# Сделаем выборку нужных нам колонок\n",
    "l_10 = lp_10[['model','price','ram']]\n",
    "# Добавим суммированные колонки в основную рабочую таблицу:\n",
    "lp_10['strange_sum'] = l_10.sum(axis=1)"
   ]
  },
  {
   "cell_type": "code",
   "execution_count": 360,
   "id": "e70e61f9",
   "metadata": {},
   "outputs": [
    {
     "data": {
      "text/html": [
       "<div>\n",
       "<style scoped>\n",
       "    .dataframe tbody tr th:only-of-type {\n",
       "        vertical-align: middle;\n",
       "    }\n",
       "\n",
       "    .dataframe tbody tr th {\n",
       "        vertical-align: top;\n",
       "    }\n",
       "\n",
       "    .dataframe thead th {\n",
       "        text-align: right;\n",
       "    }\n",
       "</style>\n",
       "<table border=\"1\" class=\"dataframe\">\n",
       "  <thead>\n",
       "    <tr style=\"text-align: right;\">\n",
       "      <th></th>\n",
       "      <th>strange_sum</th>\n",
       "    </tr>\n",
       "  </thead>\n",
       "  <tbody>\n",
       "    <tr>\n",
       "      <th>0</th>\n",
       "      <td>2030.0</td>\n",
       "    </tr>\n",
       "    <tr>\n",
       "      <th>1</th>\n",
       "      <td>2355.0</td>\n",
       "    </tr>\n",
       "    <tr>\n",
       "      <th>2</th>\n",
       "      <td>3078.0</td>\n",
       "    </tr>\n",
       "    <tr>\n",
       "      <th>3</th>\n",
       "      <td>2412.0</td>\n",
       "    </tr>\n",
       "    <tr>\n",
       "      <th>4</th>\n",
       "      <td>3030.0</td>\n",
       "    </tr>\n",
       "    <tr>\n",
       "      <th>5</th>\n",
       "      <td>2312.0</td>\n",
       "    </tr>\n",
       "  </tbody>\n",
       "</table>\n",
       "</div>"
      ],
      "text/plain": [
       "   strange_sum\n",
       "0       2030.0\n",
       "1       2355.0\n",
       "2       3078.0\n",
       "3       2412.0\n",
       "4       3030.0\n",
       "5       2312.0"
      ]
     },
     "execution_count": 360,
     "metadata": {},
     "output_type": "execute_result"
    }
   ],
   "source": [
    "lp_10[['strange_sum']]"
   ]
  },
  {
   "cell_type": "markdown",
   "id": "b1f6ceb8",
   "metadata": {},
   "source": [
    "То же самое сделаем и для ПК:"
   ]
  },
  {
   "cell_type": "code",
   "execution_count": 361,
   "id": "8aeb533a",
   "metadata": {},
   "outputs": [],
   "source": [
    "pc_10 = pc\n",
    "pc_10.insert(len(pc.columns), 'strange_sum', 0)"
   ]
  },
  {
   "cell_type": "code",
   "execution_count": 362,
   "id": "3b7f0de9",
   "metadata": {},
   "outputs": [
    {
     "data": {
      "text/html": [
       "<div>\n",
       "<style scoped>\n",
       "    .dataframe tbody tr th:only-of-type {\n",
       "        vertical-align: middle;\n",
       "    }\n",
       "\n",
       "    .dataframe tbody tr th {\n",
       "        vertical-align: top;\n",
       "    }\n",
       "\n",
       "    .dataframe thead th {\n",
       "        text-align: right;\n",
       "    }\n",
       "</style>\n",
       "<table border=\"1\" class=\"dataframe\">\n",
       "  <thead>\n",
       "    <tr style=\"text-align: right;\">\n",
       "      <th></th>\n",
       "      <th>strange_sum</th>\n",
       "    </tr>\n",
       "  </thead>\n",
       "  <tbody>\n",
       "    <tr>\n",
       "      <th>0</th>\n",
       "      <td>1896.0</td>\n",
       "    </tr>\n",
       "    <tr>\n",
       "      <th>1</th>\n",
       "      <td>1642.0</td>\n",
       "    </tr>\n",
       "    <tr>\n",
       "      <th>2</th>\n",
       "      <td>2341.0</td>\n",
       "    </tr>\n",
       "    <tr>\n",
       "      <th>3</th>\n",
       "      <td>2331.0</td>\n",
       "    </tr>\n",
       "    <tr>\n",
       "      <th>4</th>\n",
       "      <td>2099.0</td>\n",
       "    </tr>\n",
       "    <tr>\n",
       "      <th>5</th>\n",
       "      <td>1897.0</td>\n",
       "    </tr>\n",
       "    <tr>\n",
       "      <th>6</th>\n",
       "      <td>2099.0</td>\n",
       "    </tr>\n",
       "    <tr>\n",
       "      <th>7</th>\n",
       "      <td>2099.0</td>\n",
       "    </tr>\n",
       "    <tr>\n",
       "      <th>8</th>\n",
       "      <td>2311.0</td>\n",
       "    </tr>\n",
       "    <tr>\n",
       "      <th>9</th>\n",
       "      <td>1664.0</td>\n",
       "    </tr>\n",
       "    <tr>\n",
       "      <th>10</th>\n",
       "      <td>1646.0</td>\n",
       "    </tr>\n",
       "    <tr>\n",
       "      <th>11</th>\n",
       "      <td>1614.0</td>\n",
       "    </tr>\n",
       "  </tbody>\n",
       "</table>\n",
       "</div>"
      ],
      "text/plain": [
       "    strange_sum\n",
       "0        1896.0\n",
       "1        1642.0\n",
       "2        2341.0\n",
       "3        2331.0\n",
       "4        2099.0\n",
       "5        1897.0\n",
       "6        2099.0\n",
       "7        2099.0\n",
       "8        2311.0\n",
       "9        1664.0\n",
       "10       1646.0\n",
       "11       1614.0"
      ]
     },
     "execution_count": 362,
     "metadata": {},
     "output_type": "execute_result"
    }
   ],
   "source": [
    "p_10 = pc_10[['model','price','ram']]\n",
    "\n",
    "pc_10['strange_sum'] = p_10.sum(axis=1)\n",
    "pc_10[['strange_sum']]"
   ]
  },
  {
   "cell_type": "markdown",
   "id": "b8fa682c",
   "metadata": {},
   "source": [
    "### Задание 11\n",
    "\n",
    "Найти производителей, делающих ноутбуки и ПК, но не принтеры;"
   ]
  },
  {
   "cell_type": "code",
   "execution_count": 176,
   "id": "e498926a",
   "metadata": {},
   "outputs": [
    {
     "data": {
      "text/plain": [
       "array(['B'], dtype=object)"
      ]
     },
     "execution_count": 176,
     "metadata": {},
     "output_type": "execute_result"
    }
   ],
   "source": [
    "# Определим списки производителей ноутбуков, ПК и принтеров:\n",
    "\n",
    "lp_12 = pandas.merge(laptop, product,on='model')[['maker']] # производители ноутбков\n",
    "\n",
    "pc_12 = pandas.merge(pc, product,on='model')[['maker']] # производители ПК\n",
    "\n",
    "printer_12 = pandas.merge(printer, product,on='model')[['maker']] # производители принтеров\n",
    "\n",
    "# Найдем производителей И ПК, И ноутбуков\n",
    "lp_pc = pandas.merge(lp_12, pc_12, how='inner', on='maker') # производители ПК и ноутбуков\n",
    "\n",
    "# Объединим таблицы\n",
    "res = pandas.merge(lp_pc, printer_12, how = 'left', indicator=True).query(\"_merge == 'left_only'\")[['maker']]\n",
    "# методом query определим, какие производители есть ТОЛЬКО в lp_pc, а какие есть и в lp_pc, и в printer_12\n",
    "# метод unique поможет определить уникальные значения:\n",
    "res['maker'].unique()"
   ]
  },
  {
   "cell_type": "markdown",
   "id": "97407c2f",
   "metadata": {},
   "source": [
    "### Задание 12\n",
    "\n",
    "Найдите производителя ПК и модель, чья цена ниже средней цены ноутбука, а ram и скорость больше в 1.5 и 1.2 раза соответственно;"
   ]
  },
  {
   "cell_type": "code",
   "execution_count": 13,
   "id": "ec04d6a6",
   "metadata": {},
   "outputs": [
    {
     "data": {
      "text/html": [
       "<div>\n",
       "<style scoped>\n",
       "    .dataframe tbody tr th:only-of-type {\n",
       "        vertical-align: middle;\n",
       "    }\n",
       "\n",
       "    .dataframe tbody tr th {\n",
       "        vertical-align: top;\n",
       "    }\n",
       "\n",
       "    .dataframe thead th {\n",
       "        text-align: right;\n",
       "    }\n",
       "</style>\n",
       "<table border=\"1\" class=\"dataframe\">\n",
       "  <thead>\n",
       "    <tr style=\"text-align: right;\">\n",
       "      <th></th>\n",
       "      <th>maker</th>\n",
       "      <th>model</th>\n",
       "    </tr>\n",
       "  </thead>\n",
       "  <tbody>\n",
       "    <tr>\n",
       "      <th>5</th>\n",
       "      <td>A</td>\n",
       "      <td>1233</td>\n",
       "    </tr>\n",
       "    <tr>\n",
       "      <th>9</th>\n",
       "      <td>B</td>\n",
       "      <td>1121</td>\n",
       "    </tr>\n",
       "  </tbody>\n",
       "</table>\n",
       "</div>"
      ],
      "text/plain": [
       "  maker model\n",
       "5     A  1233\n",
       "9     B  1121"
      ]
     },
     "execution_count": 13,
     "metadata": {},
     "output_type": "execute_result"
    }
   ],
   "source": [
    "# Подготовим таблицу пк, по которой будем делать выборку:\n",
    "\n",
    "pc_12 = pandas.merge(pc, product, on='model')\n",
    "pc_12\n",
    "\n",
    "# Найдем нужные значения для выборки:\n",
    "\n",
    "avg_price = np.mean(laptop['price'])\n",
    "avg_ram = np.mean(laptop['ram'])\n",
    "avg_speed = np.mean(laptop['speed'])\n",
    "\n",
    "# Выведем производителя и  модель:\n",
    "pc_12[(pc_12['price'] < avg_price)&(pc_12['ram'] > avg_ram*1.5)&(pc_12['speed']>avg_speed*1.2)][['maker','model']].drop_duplicates()"
   ]
  },
  {
   "cell_type": "markdown",
   "id": "a72bb1b7",
   "metadata": {},
   "source": [
    "### Задание 13\n",
    "\n",
    "Написать общий вывод о полученных результатах (какие важные закономерности были вами обнаружены или получены и т.п.)"
   ]
  },
  {
   "cell_type": "markdown",
   "id": "cdae0dbb",
   "metadata": {},
   "source": [
    "1. Производитель А самый крупный из всех представленных. Единственный из всех производит все виды товаров.\n",
    "2. Построив диаграммы (см. ниже) по каждому производителю по производимой продукции мы видим, что производитель С производит только ноутбуки, а производитель D - только принтеры. В условиях рынка - такая узная специализация не совсем уместна."
   ]
  },
  {
   "cell_type": "code",
   "execution_count": 113,
   "id": "1e4625cb",
   "metadata": {
    "scrolled": false
   },
   "outputs": [
    {
     "data": {
      "text/plain": [
       "<Figure size 640x480 with 0 Axes>"
      ]
     },
     "metadata": {},
     "output_type": "display_data"
    },
    {
     "data": {
      "image/png": "[encoded data removed]",
      "text/plain": [
       "<Figure size 640x480 with 1 Axes>"
      ]
     },
     "metadata": {},
     "output_type": "display_data"
    },
    {
     "data": {
      "image/png": "[encoded data removed]",
      "text/plain": [
       "<Figure size 640x480 with 1 Axes>"
      ]
     },
     "metadata": {},
     "output_type": "display_data"
    },
    {
     "data": {
      "image/png": "[encoded data removed]",
      "text/plain": [
       "<Figure size 640x480 with 1 Axes>"
      ]
     },
     "metadata": {},
     "output_type": "display_data"
    },
    {
     "data": {
      "image/png": "[encoded data removed]",
      "text/plain": [
       "<Figure size 640x480 with 1 Axes>"
      ]
     },
     "metadata": {},
     "output_type": "display_data"
    },
    {
     "data": {
      "image/png": "[encoded data removed]",
      "text/plain": [
       "<Figure size 640x480 with 1 Axes>"
      ]
     },
     "metadata": {},
     "output_type": "display_data"
    }
   ],
   "source": [
    "plt.figure()\n",
    "df9.loc['A'].plot(kind='pie', subplots=True, cmap=\"YlOrRd\", \n",
    "         ylabel = '',title='Производимая продукция A', autopct='%1.1f%%')\n",
    "df9.loc['B'].plot(kind='pie', subplots=True, cmap=\"YlOrRd\", \n",
    "         ylabel = '', title='Производимая продукция B', autopct='%1.1f%%')\n",
    "df9.loc['C'].plot(kind='pie', subplots=True, cmap=\"YlOrRd\", \n",
    "         ylabel = '', title='Производимая продукция C', autopct='%1.1f%%')\n",
    "df9.loc['D'].plot(kind='pie', subplots=True, cmap=\"YlOrRd\", \n",
    "         ylabel = '', title='Производимая продукция D', autopct='%1.1f%%')\n",
    "df9.loc['E'].plot(kind='pie', subplots=True, cmap=\"YlOrRd\", \n",
    "         ylabel = '', title='Производимая продукция E', autopct='%1.1f%%')\n",
    "plt.show()"
   ]
  }
 ],
 "metadata": {
  "kernelspec": {
   "display_name": "Python 3 (ipykernel)",
   "language": "python",
   "name": "python3"
  },
  "language_info": {
   "codemirror_mode": {
    "name": "ipython",
    "version": 3
   },
   "file_extension": ".py",
   "mimetype": "text/x-python",
   "name": "python",
   "nbconvert_exporter": "python",
   "pygments_lexer": "ipython3",
   "version": "3.10.7"
  },
  "toc": {
   "base_numbering": 1,
   "nav_menu": {},
   "number_sections": false,
   "sideBar": true,
   "skip_h1_title": false,
   "title_cell": "Table of Contents",
   "title_sidebar": "Contents",
   "toc_cell": false,
   "toc_position": {},
   "toc_section_display": true,
   "toc_window_display": false
  }
 },
 "nbformat": 4,
 "nbformat_minor": 5
}
