{
 "cells": [
  {
   "cell_type": "markdown",
   "id": "b98d1f5f",
   "metadata": {},
   "source": [
    "# <center> Лабораторная работа № 3</center>\n",
    "Перед началом выполнения каждой лабораторной работы, необходимо выполнить код в двух ячейках ниже. В случае если модуль `datetime` не установлен нужно установить. В последнем принте, вывести свою фамилию и инициалы."
   ]
  },
  {
   "cell_type": "code",
   "execution_count": 1,
   "id": "f8704410",
   "metadata": {},
   "outputs": [
    {
     "name": "stdout",
     "output_type": "stream",
     "text": [
      "rogozhina\\home\n"
     ]
    }
   ],
   "source": [
    "!whoami"
   ]
  },
  {
   "cell_type": "code",
   "execution_count": 3,
   "id": "7be587bf",
   "metadata": {
    "scrolled": true
   },
   "outputs": [
    {
     "name": "stdout",
     "output_type": "stream",
     "text": [
      "2022-12-13 20:10:19.071539\n",
      "Rogozhina N.A.\n"
     ]
    }
   ],
   "source": [
    "from datetime import datetime\n",
    "\n",
    "current_time = datetime.now()\n",
    "print(current_time)\n",
    "print(\"Rogozhina N.A.\") # написать здесь свою фамилию и инициалы"
   ]
  },
  {
   "cell_type": "markdown",
   "id": "8de792ce",
   "metadata": {},
   "source": [
    "# Задания"
   ]
  },
  {
   "cell_type": "markdown",
   "id": "29181d2d",
   "metadata": {},
   "source": [
    "**Задание 1.** Создайте файл с расширением .txt, содержащий несколько чисел, записанных через пробел. Напишите программу или функцию, которая подсчитывает и выводит на экран общую сумму чисел, хранящихся в этом файле."
   ]
  },
  {
   "cell_type": "code",
   "execution_count": 2,
   "id": "aafaf8f1",
   "metadata": {
    "scrolled": true
   },
   "outputs": [
    {
     "name": "stdout",
     "output_type": "stream",
     "text": [
      "['35', '45', '1049']\n",
      "1129\n"
     ]
    }
   ],
   "source": [
    "with open('summa.txt', 'w', encoding = \"utf-8\") as f:\n",
    "    f.write('35 45 1049')\n",
    "\n",
    "with open('summa.txt', 'r') as f:\n",
    "    a = f.read()\n",
    "    a_split = a.split()\n",
    "    A = 0\n",
    "    print(a_split)\n",
    "    for i in a_split:\n",
    "        A += int(i)\n",
    "print(A)"
   ]
  },
  {
   "cell_type": "markdown",
   "id": "5ae9f722",
   "metadata": {},
   "source": [
    "**Задание 2.** Напишите функцию `read_file`, которая принимает имя файла, и печатает его содержимое. Учитывайте, что содержимое файла может быть как на русском языке, так и на английском (т.е. не забываем про кодировку)."
   ]
  },
  {
   "cell_type": "code",
   "execution_count": 4,
   "id": "5b2c4312",
   "metadata": {},
   "outputs": [
    {
     "name": "stdout",
     "output_type": "stream",
     "text": [
      "test Hello, World!\n"
     ]
    }
   ],
   "source": [
    "def read_file(file):\n",
    "    with open(file, 'r', encoding = \"utf-8\") as f:\n",
    "        for line in f.readlines():\n",
    "            print(line)\n",
    "read_file('test.txt')"
   ]
  },
  {
   "cell_type": "markdown",
   "id": "b21b69ff",
   "metadata": {},
   "source": [
    "**Задание 3.** \n",
    "\n",
    "3.1.  Напишите цикл, который выводит только запросы, содержащие набор букв «эпл».\n",
    "Внимательно просмотрите полученный список и найдите лишние слова.\n",
    "\n",
    ">queries = [\"эпл айфоны\",\n",
    "\"купить эпл телефон\",\n",
    "\"лучшие смартфоны\",\n",
    "\"барон фон\",\n",
    "\"смартфон эпл айфон\",\n",
    "\"смартфоны 2019\",\n",
    "\"эплан\",\n",
    "\"фоновая музыка\",\n",
    "\"эпл айфоны икс\",\n",
    "\"эпл айфон 64гб\",\n",
    "\"фон для фото\",\n",
    "\"купить эпл\",\n",
    "\"эпл айфон купить\",\n",
    "\"эплеренон купить\",\n",
    "\"смартфон где купить\",\n",
    "\"эплан показания\",\n",
    "\"смартфон huawei\",\n",
    "\"эпл\"]\n",
    "\n",
    "3.2. Проведите стемминг в списке words. Результат выведите на экран в следующем виде:\n",
    ">Исходное слово - ..., после стемминга - ...\n",
    "\n",
    "3.3 Сформируйте список запросов с «эпл»."
   ]
  },
  {
   "cell_type": "code",
   "execution_count": 33,
   "id": "85f8c383",
   "metadata": {
    "scrolled": true
   },
   "outputs": [
    {
     "name": "stdout",
     "output_type": "stream",
     "text": [
      "эпл айфоны\n",
      "купить эпл телефон\n",
      "смартфон эпл айфон\n",
      "эплан\n",
      "эпл айфоны икс\n",
      "эпл айфон 64гб\n",
      "купить эпл\n",
      "эпл айфон купить\n",
      "эплеренон купить\n",
      "эплан показания\n",
      "эпл\n"
     ]
    }
   ],
   "source": [
    "# 3.1\n",
    "queries = [\"эпл айфоны\", \"купить эпл телефон\", \"лучшие смартфоны\", \"барон фон\", \"смартфон эпл айфон\", \"смартфоны 2019\", \"эплан\", \"фоновая музыка\", \"эпл айфоны икс\", \"эпл айфон 64гб\", \"фон для фото\", \"купить эпл\", \"эпл айфон купить\", \"эплеренон купить\", \"смартфон где купить\", \"эплан показания\", \"смартфон huawei\", \"эпл\"]\n",
    "for query in queries:\n",
    "    if 'эпл' in query:\n",
    "        print(query)"
   ]
  },
  {
   "cell_type": "code",
   "execution_count": 3,
   "id": "7b68f9cd",
   "metadata": {},
   "outputs": [
    {
     "name": "stdout",
     "output_type": "stream",
     "text": [
      "Исходное слово - эпл. После стемминга - эпл\n",
      "Исходное слово - эплан. После стемминга - эпла\n",
      "Исходное слово - эплеренон. После стемминга - эплеренон\n"
     ]
    }
   ],
   "source": [
    "# 3.2\n",
    "from nltk.stem import SnowballStemmer\n",
    "russian_stemmer = SnowballStemmer('russian')\n",
    "words = [\"эпл\", \"эплан\", \"эплеренон\"]\n",
    "for word in words:\n",
    "    print(f\"Исходное слово - {word}. После стемминга - {russian_stemmer.stem(word)}\")"
   ]
  },
  {
   "cell_type": "code",
   "execution_count": 42,
   "id": "9aa53943",
   "metadata": {
    "scrolled": false
   },
   "outputs": [
    {
     "name": "stdout",
     "output_type": "stream",
     "text": [
      "['эпл айфоны', 'купить эпл телефон', 'смартфон эпл айфон', 'эпл айфоны икс', 'эпл айфон 64гб', 'купить эпл', 'эпл айфон купить', 'эпл', 'эпл']\n"
     ]
    }
   ],
   "source": [
    "# 3.3\n",
    "queries = [\"эпл айфоны\", \"купить эпл телефон\", \"лучшие смартфоны\", \"барон фон\", \"смартфон эпл айфон\", \"смартфоны 2019\", \"эплан\", \"фоновая музыка\", \"эпл айфоны икс\", \"эпл айфон 64гб\", \"фон для фото\", \"купить эпл\", \"эпл айфон купить\", \"эплеренон купить\", \"смартфон где купить\", \"эплан показания\", \"смартфон huawei\", \"эпл\"]\n",
    "words = [\"эпл\", \"эплан\", \"эплеренон\"]\n",
    "apple = []\n",
    "all_q = queries + words\n",
    "for query in all_q:\n",
    "    q = russian_stemmer.stem(query)\n",
    "    for word in q.split(' '):\n",
    "        if word == 'эпл':\n",
    "            apple.append(query)\n",
    "print(apple)\n"
   ]
  },
  {
   "cell_type": "code",
   "execution_count": null,
   "id": "5525167f",
   "metadata": {},
   "outputs": [],
   "source": []
  }
 ],
 "metadata": {
  "kernelspec": {
   "display_name": "Python 3 (ipykernel)",
   "language": "python",
   "name": "python3"
  },
  "language_info": {
   "codemirror_mode": {
    "name": "ipython",
    "version": 3
   },
   "file_extension": ".py",
   "mimetype": "text/x-python",
   "name": "python",
   "nbconvert_exporter": "python",
   "pygments_lexer": "ipython3",
   "version": "3.10.7"
  },
  "toc": {
   "base_numbering": 1,
   "nav_menu": {},
   "number_sections": false,
   "sideBar": true,
   "skip_h1_title": false,
   "title_cell": "Table of Contents",
   "title_sidebar": "Contents",
   "toc_cell": false,
   "toc_position": {},
   "toc_section_display": true,
   "toc_window_display": false
  }
 },
 "nbformat": 4,
 "nbformat_minor": 5
}
