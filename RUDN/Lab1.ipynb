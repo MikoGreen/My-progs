{
 "cells": [
  {
   "cell_type": "markdown",
   "id": "b98d1f5f",
   "metadata": {},
   "source": [
    "# <center> Лабораторная работа № 1</center>\n",
    "Перед началом выполнения каждой лабораторной работы, необходимо выполнить код в двух ячейках ниже. В случае если модуль `datetime` не установлен нужно установить. В последнем принте, вывести свою фамилию и инициалы."
   ]
  },
  {
   "cell_type": "code",
   "execution_count": 8,
   "id": "f8704410",
   "metadata": {},
   "outputs": [
    {
     "name": "stdout",
     "output_type": "stream",
     "text": [
      "laptop-sl701val\\home\n"
     ]
    }
   ],
   "source": [
    "!whoami"
   ]
  },
  {
   "cell_type": "code",
   "execution_count": 9,
   "id": "7be587bf",
   "metadata": {},
   "outputs": [
    {
     "name": "stdout",
     "output_type": "stream",
     "text": [
      "2022-11-29 11:25:52.758206\n",
      "Рогожина Н.А.\n"
     ]
    }
   ],
   "source": [
    "from datetime import datetime\n",
    "\n",
    "current_time = datetime.now()\n",
    "print(current_time)\n",
    "print(\"Рогожина Н.А.\") # написать здесь свою фамилию и инициалы"
   ]
  },
  {
   "cell_type": "markdown",
   "id": "8de792ce",
   "metadata": {},
   "source": [
    "# Задания"
   ]
  },
  {
   "cell_type": "markdown",
   "id": "b3298390",
   "metadata": {},
   "source": [
    "**Задание 1.** Программа должна заращивать у пользователя ввести любое положительное число и вывести первую и последню цифру этого числа, кол-во цифр в числе, сумму цифр в числе."
   ]
  },
  {
   "cell_type": "code",
   "execution_count": 15,
   "id": "d830ba01",
   "metadata": {},
   "outputs": [
    {
     "name": "stdout",
     "output_type": "stream",
     "text": [
      "Введите положительное число: 135\n",
      "Первая цифра числа:  1\n",
      "Последняя цифра числа: 5\n",
      "Количество цифр в числе:  3\n",
      "Сумма цифр в числе:  9\n"
     ]
    }
   ],
   "source": [
    "a = int(input('Введите положительное число: '))\n",
    "if a < 0:\n",
    "    print('Введите *положительное* число')\n",
    "else:\n",
    "    arr = [int(i) for i in list(str(a))]\n",
    "    print('Первая цифра числа: ', arr[0])\n",
    "    print('Последняя цифра числа:', arr[-1])\n",
    "    print('Количество цифр в числе: ', len(arr))\n",
    "    print('Сумма цифр в числе: ', sum(arr))"
   ]
  },
  {
   "cell_type": "markdown",
   "id": "29181d2d",
   "metadata": {},
   "source": [
    "**Задание 2.** Программа должна заращивать у пользователя ввести любое  положительное пятизначное число и вывести третью цифру этого числа."
   ]
  },
  {
   "cell_type": "code",
   "execution_count": 16,
   "id": "b5cea3bb",
   "metadata": {},
   "outputs": [
    {
     "name": "stdout",
     "output_type": "stream",
     "text": [
      "Введите положительное пятизначное число: 90835\n",
      "Третья цифра числа = 8\n"
     ]
    }
   ],
   "source": [
    "a = int(input('Введите положительное пятизначное число: '))\n",
    "if a < 0 or len(str(a)) != 5:\n",
    "    print('Положительное и пятизначное!')\n",
    "else:\n",
    "    print('Третья цифра числа =', str(a)[2])"
   ]
  },
  {
   "cell_type": "markdown",
   "id": "b21b69ff",
   "metadata": {},
   "source": [
    "**Задание 3.** Определить. \n",
    "Программа должна заращивать у пользователя ввести любое два `a` и `b` положительных числа.\n",
    "Затем необходимо вычислить выражения `a//-b` и `a%-b`, а после объяснить (в ячейке *markdown*) как происходит вычисления в подобных выражениях."
   ]
  },
  {
   "cell_type": "code",
   "execution_count": 1,
   "id": "97d8dcb9",
   "metadata": {},
   "outputs": [
    {
     "name": "stdout",
     "output_type": "stream",
     "text": [
      "Введите первое число 3\n",
      "Enter second number 5\n",
      "a//-b =  -1\n",
      "a%-b =  -2\n",
      "В данном случае сначала происходит взятие противоположного элемента от b,\n",
      "а затем подсчет либо a) целочисленного деления, либо b) остатка от деления\n"
     ]
    }
   ],
   "source": [
    "a = int(input('Введите первое число '))\n",
    "b = int(input('Enter second number '))\n",
    "if (a < 0) or (b < 0):\n",
    "    print('Введите положительные числа!')\n",
    "else:\n",
    "    print('a//-b = ', a//(-b))\n",
    "    print('a%-b = ', a%(-b))\n",
    "    print('В данном случае сначала происходит взятие противоположного элемента от b,\\nа затем подсчет либо a) целочисленного деления, либо b) остатка от деления')"
   ]
  },
  {
   "cell_type": "markdown",
   "id": "6313c279",
   "metadata": {},
   "source": [
    "**Задание 4.** Напишите, программу, чтобы текст выводился в таком виде, как представлен ниже. Программа должна запращивать два значения размер партии и кол-во бракованных единиц `batch_size, number_of_defective`, и посчитать долю брака в процентах `percentage_of_defective`. Если процент брака больше 15, тогда напечатать слово **ужасны**, вместо **прекрасны** (вместо **почти нет** на **много**).\n",
    "\n",
    "\n",
    "    Хотим сообщить, что ваши ноутбуки прекрасны(ужасны) и брака почти нет (много).\n",
    "    Из партии, которую вы нам прислали, в размере\n",
    "    batch_size\n",
    "    единиц, всего\n",
    "    number_of_defective\n",
    "    ноутбуков были бракованными. Что составляет около\n",
    "    percentage_of_defective %. \n",
    "\n",
    "    С уважением и любовью,\n",
    "    Иван Иванович\n",
    "    тел. +7234567891"
   ]
  },
  {
   "cell_type": "code",
   "execution_count": 25,
   "id": "418de331",
   "metadata": {},
   "outputs": [
    {
     "name": "stdout",
     "output_type": "stream",
     "text": [
      "Введите номер партии: 100\n",
      "Введите количество брака: 18\n",
      "Хотим сообщить, что ваши ноутбуки ужасны, и брака много\n",
      "Из партии, которую вы нам прислали, в размере\n",
      "100\n",
      "единиц, всего\n",
      "18\n",
      "ноутбуков были бракованными. Что составляет около\n",
      "18.0 %.\n",
      "\n",
      "С уважением и любовью,\n",
      "Иван Иванович\n",
      "тел. +7234567891\n"
     ]
    }
   ],
   "source": [
    "batch_size = int(input('Введите номер партии: '))\n",
    "number_of_detective = int(input('Введите количество брака: '))\n",
    "percentage_of_detective = (number_of_detective/batch_size) * 100\n",
    "if percentage_of_detective > 15:\n",
    "    how = 'ужасны'\n",
    "    how_many = 'много'\n",
    "else:\n",
    "    how = 'прекрасны'\n",
    "    how_many = 'почти нет'\n",
    "print(f\"\"\"Хотим сообщить, что ваши ноутбуки {how}, и брака {how_many}\n",
    "Из партии, которую вы нам прислали, в размере\n",
    "{batch_size}\n",
    "единиц, всего\n",
    "{number_of_detective}\n",
    "ноутбуков были бракованными. Что составляет около\n",
    "{percentage_of_detective} %.\\n\n",
    "С уважением и любовью,\n",
    "Иван Иванович\n",
    "тел. +7234567891\"\"\")"
   ]
  }
 ],
 "metadata": {
  "kernelspec": {
   "display_name": "Python 3 (ipykernel)",
   "language": "python",
   "name": "python3"
  },
  "language_info": {
   "codemirror_mode": {
    "name": "ipython",
    "version": 3
   },
   "file_extension": ".py",
   "mimetype": "text/x-python",
   "name": "python",
   "nbconvert_exporter": "python",
   "pygments_lexer": "ipython3",
   "version": "3.10.7"
  },
  "toc": {
   "base_numbering": 1,
   "nav_menu": {},
   "number_sections": false,
   "sideBar": true,
   "skip_h1_title": false,
   "title_cell": "Table of Contents",
   "title_sidebar": "Contents",
   "toc_cell": false,
   "toc_position": {},
   "toc_section_display": true,
   "toc_window_display": false
  }
 },
 "nbformat": 4,
 "nbformat_minor": 5
}
