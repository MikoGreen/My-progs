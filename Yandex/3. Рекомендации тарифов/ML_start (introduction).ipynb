{
 "cells": [
  {
   "cell_type": "markdown",
   "metadata": {},
   "source": [
    "# Рекомендация тарифов"
   ]
  },
  {
   "cell_type": "markdown",
   "metadata": {},
   "source": [
    "В вашем распоряжении данные о поведении клиентов, которые уже перешли на эти тарифы (из проекта курса «Статистический анализ данных»). Нужно построить модель для задачи классификации, которая выберет подходящий тариф. Предобработка данных не понадобится — вы её уже сделали.\n",
    "\n",
    "Постройте модель с максимально большим значением *accuracy*. Чтобы сдать проект успешно, нужно довести долю правильных ответов по крайней мере до 0.75. Проверьте *accuracy* на тестовой выборке самостоятельно."
   ]
  },
  {
   "cell_type": "markdown",
   "metadata": {},
   "source": [
    "## Откройте и изучите файл"
   ]
  },
  {
   "cell_type": "code",
   "execution_count": 203,
   "metadata": {},
   "outputs": [],
   "source": [
    "import pandas as pd\n",
    "import matplotlib.pyplot as plt\n",
    "\n",
    "from sklearn.model_selection import train_test_split, GridSearchCV\n",
    "from sklearn.metrics import accuracy_score, precision_score, f1_score, recall_score, roc_auc_score, roc_curve\n",
    "\n",
    "from sklearn.tree import DecisionTreeClassifier\n",
    "from sklearn.ensemble import RandomForestClassifier\n",
    "from sklearn.linear_model import LogisticRegression\n",
    "from sklearn.neighbors import KNeighborsClassifier\n",
    "from sklearn.ensemble import GradientBoostingClassifier\n",
    "\n",
    "import warnings\n",
    "warnings.filterwarnings('ignore')\n",
    "from sklearn.preprocessing import RobustScaler\n",
    "from sklearn.dummy import DummyClassifier\n",
    "\n",
    "RANDOM_STATE=12345"
   ]
  },
  {
   "cell_type": "code",
   "execution_count": 172,
   "metadata": {},
   "outputs": [],
   "source": [
    "try:\n",
    "    df = pd.read_csv('/datasets/users_behavior.csv')\n",
    "except:\n",
    "    df = pd.read_csv('C:/Users/Home/Downloads/users_behavior.csv')"
   ]
  },
  {
   "cell_type": "code",
   "execution_count": 173,
   "metadata": {},
   "outputs": [],
   "source": [
    "# сбор данных о датафрейме:\n",
    "def data_info(data):\n",
    "    print(f'''\n",
    "    ----------------------------------------\n",
    "    Первые строки датафрейма:\n",
    "    ----------------------------------------''')\n",
    "    display(data.head())\n",
    "    print(f'''\n",
    "    ----------------------------------------\n",
    "    Последние строки датафрейма:\n",
    "    ----------------------------------------''')\n",
    "    display(data.tail())\n",
    "    print(f'''\n",
    "    ----------------------------------------\n",
    "    Общая информация:\n",
    "    ----------------------------------------''')\n",
    "    print(data.info())\n",
    "    print(f'''\n",
    "    ----------------------------------------\n",
    "    Дупликаты:\n",
    "    ----------------------------------------''')\n",
    "    print(data.duplicated().sum())\n",
    "    print(f'''\n",
    "    ----------------------------------------\n",
    "    Пропуски:\n",
    "    ----------------------------------------''')\n",
    "    display(round(data.isna().sum(),))\n",
    "    print(f'''\n",
    "    ----------------------------------------\n",
    "    И немного статистических данных:\n",
    "    ----------------------------------------''')\n",
    "    print(data.describe(include='all'))\n",
    "    \n",
    "    \n",
    "def get_plot(model, train_list, valid_list, point, best_accuracy, xlabel='', bias=1):\n",
    "    '''функция для отрисовки plt.plot'''\n",
    "    \n",
    "    plt.figure(figsize=(12, 5))\n",
    "    plt.plot(train_list, label='train', c='aquamarine')\n",
    "    plt.plot(valid_list, label='valid', c='gold')\n",
    "    plt.scatter(point-bias, best_accuracy, c='#02F83A', s=50)\n",
    "    plt.annotate(f'{best_accuracy=:.4f}', xy=(point, best_accuracy),\n",
    "                 xytext=(-16, 10), textcoords='offset points', fontweight='bold')\n",
    "\n",
    "    plt.legend(facecolor='oldlace', edgecolor='#7B6DA5', loc='center right')\n",
    "    plt.title(f'модель {type(model).__name__}', fontweight='bold', fontsize=15,  fontname='Arial')\n",
    "    plt.xlabel(xlabel)\n",
    "    plt.ylabel('значение accuracy')\n",
    "    plt.xticks(range(len(valid_list)), range(1, len(valid_list)+1), rotation=90)     \n",
    "    plt.minorticks_on()\n",
    "    plt.grid(which='major', linewidth=0.5)\n",
    "    plt.grid(which='minor', axis='y', linewidth=0.25, linestyle='--')\n",
    "    plt.show()\n",
    "    \n",
    "    \n",
    "def get_roc_curve(y, y_pred):\n",
    "    '''функция для подсчёта AUC и отрисовки ROC-кривой'''\n",
    "    fpr, tpr, thresholds = roc_curve(y, y_pred)\n",
    "    # Вычисляем AUC\n",
    "    auc = roc_auc_score(y, y_pred)\n",
    "    # Строим ROC-кривую\n",
    "    plt.figure(figsize=(11, 5))\n",
    "    plt.plot(fpr, tpr, c='orange', label=f'AUC={auc:.3f}')\n",
    "    plt.plot([0, 1], [0, 1], '--', color='#2C3E50')\n",
    "    plt.xlabel('FPR - False Positive Rate')\n",
    "    plt.ylabel('TPR - True Positive Rate')\n",
    "    plt.title('ROC-кривая', fontweight='bold', fontsize=15,  fontname='Arial')\n",
    "    plt.legend()\n",
    "    plt.grid(linewidth=0.25, linestyle='--')\n",
    "    plt.show()"
   ]
  },
  {
   "cell_type": "code",
   "execution_count": 174,
   "metadata": {},
   "outputs": [
    {
     "name": "stdout",
     "output_type": "stream",
     "text": [
      "\n",
      "    ----------------------------------------\n",
      "    Первые строки датафрейма:\n",
      "    ----------------------------------------\n"
     ]
    },
    {
     "data": {
      "text/html": [
       "<div>\n",
       "<style scoped>\n",
       "    .dataframe tbody tr th:only-of-type {\n",
       "        vertical-align: middle;\n",
       "    }\n",
       "\n",
       "    .dataframe tbody tr th {\n",
       "        vertical-align: top;\n",
       "    }\n",
       "\n",
       "    .dataframe thead th {\n",
       "        text-align: right;\n",
       "    }\n",
       "</style>\n",
       "<table border=\"1\" class=\"dataframe\">\n",
       "  <thead>\n",
       "    <tr style=\"text-align: right;\">\n",
       "      <th></th>\n",
       "      <th>calls</th>\n",
       "      <th>minutes</th>\n",
       "      <th>messages</th>\n",
       "      <th>mb_used</th>\n",
       "      <th>is_ultra</th>\n",
       "    </tr>\n",
       "  </thead>\n",
       "  <tbody>\n",
       "    <tr>\n",
       "      <th>0</th>\n",
       "      <td>40.0</td>\n",
       "      <td>311.90</td>\n",
       "      <td>83.0</td>\n",
       "      <td>19915.42</td>\n",
       "      <td>0</td>\n",
       "    </tr>\n",
       "    <tr>\n",
       "      <th>1</th>\n",
       "      <td>85.0</td>\n",
       "      <td>516.75</td>\n",
       "      <td>56.0</td>\n",
       "      <td>22696.96</td>\n",
       "      <td>0</td>\n",
       "    </tr>\n",
       "    <tr>\n",
       "      <th>2</th>\n",
       "      <td>77.0</td>\n",
       "      <td>467.66</td>\n",
       "      <td>86.0</td>\n",
       "      <td>21060.45</td>\n",
       "      <td>0</td>\n",
       "    </tr>\n",
       "    <tr>\n",
       "      <th>3</th>\n",
       "      <td>106.0</td>\n",
       "      <td>745.53</td>\n",
       "      <td>81.0</td>\n",
       "      <td>8437.39</td>\n",
       "      <td>1</td>\n",
       "    </tr>\n",
       "    <tr>\n",
       "      <th>4</th>\n",
       "      <td>66.0</td>\n",
       "      <td>418.74</td>\n",
       "      <td>1.0</td>\n",
       "      <td>14502.75</td>\n",
       "      <td>0</td>\n",
       "    </tr>\n",
       "  </tbody>\n",
       "</table>\n",
       "</div>"
      ],
      "text/plain": [
       "   calls  minutes  messages   mb_used  is_ultra\n",
       "0   40.0   311.90      83.0  19915.42         0\n",
       "1   85.0   516.75      56.0  22696.96         0\n",
       "2   77.0   467.66      86.0  21060.45         0\n",
       "3  106.0   745.53      81.0   8437.39         1\n",
       "4   66.0   418.74       1.0  14502.75         0"
      ]
     },
     "metadata": {},
     "output_type": "display_data"
    },
    {
     "name": "stdout",
     "output_type": "stream",
     "text": [
      "\n",
      "    ----------------------------------------\n",
      "    Последние строки датафрейма:\n",
      "    ----------------------------------------\n"
     ]
    },
    {
     "data": {
      "text/html": [
       "<div>\n",
       "<style scoped>\n",
       "    .dataframe tbody tr th:only-of-type {\n",
       "        vertical-align: middle;\n",
       "    }\n",
       "\n",
       "    .dataframe tbody tr th {\n",
       "        vertical-align: top;\n",
       "    }\n",
       "\n",
       "    .dataframe thead th {\n",
       "        text-align: right;\n",
       "    }\n",
       "</style>\n",
       "<table border=\"1\" class=\"dataframe\">\n",
       "  <thead>\n",
       "    <tr style=\"text-align: right;\">\n",
       "      <th></th>\n",
       "      <th>calls</th>\n",
       "      <th>minutes</th>\n",
       "      <th>messages</th>\n",
       "      <th>mb_used</th>\n",
       "      <th>is_ultra</th>\n",
       "    </tr>\n",
       "  </thead>\n",
       "  <tbody>\n",
       "    <tr>\n",
       "      <th>3209</th>\n",
       "      <td>122.0</td>\n",
       "      <td>910.98</td>\n",
       "      <td>20.0</td>\n",
       "      <td>35124.90</td>\n",
       "      <td>1</td>\n",
       "    </tr>\n",
       "    <tr>\n",
       "      <th>3210</th>\n",
       "      <td>25.0</td>\n",
       "      <td>190.36</td>\n",
       "      <td>0.0</td>\n",
       "      <td>3275.61</td>\n",
       "      <td>0</td>\n",
       "    </tr>\n",
       "    <tr>\n",
       "      <th>3211</th>\n",
       "      <td>97.0</td>\n",
       "      <td>634.44</td>\n",
       "      <td>70.0</td>\n",
       "      <td>13974.06</td>\n",
       "      <td>0</td>\n",
       "    </tr>\n",
       "    <tr>\n",
       "      <th>3212</th>\n",
       "      <td>64.0</td>\n",
       "      <td>462.32</td>\n",
       "      <td>90.0</td>\n",
       "      <td>31239.78</td>\n",
       "      <td>0</td>\n",
       "    </tr>\n",
       "    <tr>\n",
       "      <th>3213</th>\n",
       "      <td>80.0</td>\n",
       "      <td>566.09</td>\n",
       "      <td>6.0</td>\n",
       "      <td>29480.52</td>\n",
       "      <td>1</td>\n",
       "    </tr>\n",
       "  </tbody>\n",
       "</table>\n",
       "</div>"
      ],
      "text/plain": [
       "      calls  minutes  messages   mb_used  is_ultra\n",
       "3209  122.0   910.98      20.0  35124.90         1\n",
       "3210   25.0   190.36       0.0   3275.61         0\n",
       "3211   97.0   634.44      70.0  13974.06         0\n",
       "3212   64.0   462.32      90.0  31239.78         0\n",
       "3213   80.0   566.09       6.0  29480.52         1"
      ]
     },
     "metadata": {},
     "output_type": "display_data"
    },
    {
     "name": "stdout",
     "output_type": "stream",
     "text": [
      "\n",
      "    ----------------------------------------\n",
      "    Общая информация:\n",
      "    ----------------------------------------\n",
      "<class 'pandas.core.frame.DataFrame'>\n",
      "RangeIndex: 3214 entries, 0 to 3213\n",
      "Data columns (total 5 columns):\n",
      " #   Column    Non-Null Count  Dtype  \n",
      "---  ------    --------------  -----  \n",
      " 0   calls     3214 non-null   float64\n",
      " 1   minutes   3214 non-null   float64\n",
      " 2   messages  3214 non-null   float64\n",
      " 3   mb_used   3214 non-null   float64\n",
      " 4   is_ultra  3214 non-null   int64  \n",
      "dtypes: float64(4), int64(1)\n",
      "memory usage: 125.7 KB\n",
      "None\n",
      "\n",
      "    ----------------------------------------\n",
      "    Дупликаты:\n",
      "    ----------------------------------------\n",
      "0\n",
      "\n",
      "    ----------------------------------------\n",
      "    Пропуски:\n",
      "    ----------------------------------------\n"
     ]
    },
    {
     "data": {
      "text/plain": [
       "calls       0\n",
       "minutes     0\n",
       "messages    0\n",
       "mb_used     0\n",
       "is_ultra    0\n",
       "dtype: int64"
      ]
     },
     "metadata": {},
     "output_type": "display_data"
    },
    {
     "name": "stdout",
     "output_type": "stream",
     "text": [
      "\n",
      "    ----------------------------------------\n",
      "    И немного статистических данных:\n",
      "    ----------------------------------------\n",
      "             calls      minutes     messages       mb_used     is_ultra\n",
      "count  3214.000000  3214.000000  3214.000000   3214.000000  3214.000000\n",
      "mean     63.038892   438.208787    38.281269  17207.673836     0.306472\n",
      "std      33.236368   234.569872    36.148326   7570.968246     0.461100\n",
      "min       0.000000     0.000000     0.000000      0.000000     0.000000\n",
      "25%      40.000000   274.575000     9.000000  12491.902500     0.000000\n",
      "50%      62.000000   430.600000    30.000000  16943.235000     0.000000\n",
      "75%      82.000000   571.927500    57.000000  21424.700000     1.000000\n",
      "max     244.000000  1632.060000   224.000000  49745.730000     1.000000\n"
     ]
    }
   ],
   "source": [
    "data_info(df)"
   ]
  },
  {
   "cell_type": "markdown",
   "metadata": {},
   "source": [
    "В таблице у нас 5 колонок:\n",
    "\n",
    "- сalls — количество звонков,\n",
    "- minutes — суммарная длительность звонков в минутах,\n",
    "- messages — количество sms-сообщений,\n",
    "- mb_used — израсходованный интернет-трафик в Мб,\n",
    "- is_ultra — каким тарифом пользовался в течение месяца («Ультра» — 1, «Смарт» — 0)."
   ]
  },
  {
   "cell_type": "markdown",
   "metadata": {},
   "source": [
    "По первому взгляду можно сказать, что среди людей, у которых уже есть тариф \"Ультра\", по сравнению с остальными пользователями, использование интернета значительно меньшее, нежели у остальных пользователей.\n",
    "\n",
    "Также на всякий случай, проверила на пропуски - русское *авось* - великое дело.\n",
    "\n",
    "Все колонки в таблице того типа, которого нужно. Ну, по крайней мере почти все - я не уверена, нужно ли изменять тип колонка 'is_ultra' на bool или float.\n",
    "\n",
    "Также мы видим, что у нас совершенно разного диапазона данные, так что нужно будет масштабировать."
   ]
  },
  {
   "cell_type": "markdown",
   "metadata": {},
   "source": [
    "## Разбейте данные на выборки"
   ]
  },
  {
   "cell_type": "markdown",
   "metadata": {},
   "source": [
    "Первоначально, определим обучающий набор данных и целевой признак. В нашем случае - целевым признаком будет являться колонка *'is_ultra'*"
   ]
  },
  {
   "cell_type": "code",
   "execution_count": 189,
   "metadata": {},
   "outputs": [],
   "source": [
    "features = df.drop(['is_ultra'],axis=1)\n",
    "target = df['is_ultra']"
   ]
  },
  {
   "cell_type": "markdown",
   "metadata": {},
   "source": [
    "Далее делим данные на 2 группы - обучающий набор и целевой признак и на временные набор и целевой признак."
   ]
  },
  {
   "cell_type": "code",
   "execution_count": 190,
   "metadata": {},
   "outputs": [],
   "source": [
    "features_train, features_tmp, target_train, target_tmp = train_test_split(features, target,\n",
    "                                                                          test_size = 0.4, random_state=RANDOM_STATE)"
   ]
  },
  {
   "cell_type": "markdown",
   "metadata": {},
   "source": [
    "Также, нам понадобится валидационная выборка:"
   ]
  },
  {
   "cell_type": "code",
   "execution_count": 191,
   "metadata": {},
   "outputs": [],
   "source": [
    "features_valid, features_test, target_valid, target_test = train_test_split(features_tmp, target_tmp,\n",
    "                                                                           test_size= 0.5, random_state=RANDOM_STATE)"
   ]
  },
  {
   "cell_type": "markdown",
   "metadata": {},
   "source": [
    "В итоге получаем 3 выборки в соотношении 4:1 : обучающую и валидационную"
   ]
  },
  {
   "cell_type": "code",
   "execution_count": 192,
   "metadata": {},
   "outputs": [
    {
     "name": "stdout",
     "output_type": "stream",
     "text": [
      "(1928, 4)\n",
      "(643, 4)\n",
      "(643, 4)\n"
     ]
    }
   ],
   "source": [
    "print(features_train.shape)\n",
    "print(features_valid.shape)\n",
    "print(features_test.shape)"
   ]
  },
  {
   "cell_type": "code",
   "execution_count": 193,
   "metadata": {},
   "outputs": [],
   "source": [
    "scaler = RobustScaler()\n",
    "features_train = scaler.fit_transform(features_train)\n",
    "features_valid = scaler.transform(features_valid)\n",
    "features_test = scaler.transform(features_test)"
   ]
  },
  {
   "cell_type": "markdown",
   "metadata": {},
   "source": [
    "## Исследуйте модели"
   ]
  },
  {
   "cell_type": "markdown",
   "metadata": {},
   "source": [
    "Для исследования нам необходима модель классификации. У нас их существует много видов, но мы изучили 3 из них - *решающее дерево, случайный лес и логистическая регрессия.*"
   ]
  },
  {
   "cell_type": "markdown",
   "metadata": {},
   "source": [
    "Решающее дерево:"
   ]
  },
  {
   "cell_type": "code",
   "execution_count": 194,
   "metadata": {
    "scrolled": false
   },
   "outputs": [
    {
     "name": "stdout",
     "output_type": "stream",
     "text": [
      "Лучшая модель: DecisionTreeClassifier(criterion='entropy', max_depth=7, random_state=12345,\n",
      "                       splitter='random'); \n",
      "Лучшee accuracy: 0.7884914463452566.\n"
     ]
    }
   ],
   "source": [
    "best_model_d, best_accuracy_d = 0, 0\n",
    "splitters = ['best','random']\n",
    "criteries = ['gini','entropy']\n",
    "\n",
    "# мы будем проверять модель на обучающей и валидационной выборках, изменяя гиперпараметры моделей, и выведем лучшую:\n",
    "for depth in range(1,51): \n",
    "    for criter in criteries:\n",
    "        for split in splitters:\n",
    "            model = DecisionTreeClassifier(random_state=RANDOM_STATE, max_depth=depth, splitter=split, criterion=criter)\n",
    "            model.fit(features_train, target_train)\n",
    "            valid_score = accuracy_score(target_valid, model.predict(features_valid))\n",
    "            if valid_score > best_accuracy_d:\n",
    "                best_model_d = model\n",
    "                best_accuracy_d = valid_score\n",
    "    \n",
    "    \n",
    "print(f'''Лучшая модель: {best_model_d}; \n",
    "Лучшee accuracy: {best_accuracy_d}.''')"
   ]
  },
  {
   "cell_type": "markdown",
   "metadata": {},
   "source": [
    "Таким образом, у нас лучшая модель среди решающих деревьев - с критерием `gini`, максимальной глубиной `11` и с `splitter='random'`."
   ]
  },
  {
   "cell_type": "markdown",
   "metadata": {},
   "source": [
    "Случайный лес:"
   ]
  },
  {
   "cell_type": "code",
   "execution_count": 195,
   "metadata": {},
   "outputs": [
    {
     "name": "stdout",
     "output_type": "stream",
     "text": [
      "Лучшая модель: RandomForestClassifier(criterion='entropy', n_estimators=32, random_state=12345); \n",
      "Лучшee accuracy: 0.7962674961119751.\n"
     ]
    }
   ],
   "source": [
    "best_model_r, best_accuracy_r = 0, 0\n",
    "criteries = ['gini','entropy']\n",
    "\n",
    "for est in range(1, 51):\n",
    "    for criter in criteries:\n",
    "        model = RandomForestClassifier(random_state=RANDOM_STATE, n_estimators=est, criterion=criter)\n",
    "        model.fit(features_train, target_train) \n",
    "        valid_score = accuracy_score(target_valid, model.predict(features_valid))\n",
    "        if valid_score > best_accuracy_r:\n",
    "            best_model_r = model\n",
    "            best_accuracy_r = valid_score\n",
    "        \n",
    "print(f'''Лучшая модель: {best_model_r}; \n",
    "Лучшee accuracy: {best_accuracy_r}.''')"
   ]
  },
  {
   "cell_type": "markdown",
   "metadata": {},
   "source": [
    "Логистическая регрессия:"
   ]
  },
  {
   "cell_type": "code",
   "execution_count": 196,
   "metadata": {},
   "outputs": [
    {
     "name": "stdout",
     "output_type": "stream",
     "text": [
      "Лучшая модель: LogisticRegression(max_iter=1, random_state=12345, solver='newton-cg'); \n",
      "Лучшee accuracy: 0.76049766718507.\n"
     ]
    }
   ],
   "source": [
    "best_model_l, best_accuracy_l = 0, 0\n",
    "solvers = ['liblinear', 'newton-cg', 'lbfgs', 'sag', 'saga']\n",
    "\n",
    "for it in range(1, 51, 10):\n",
    "    for solver in solvers:\n",
    "        model = LogisticRegression(random_state=RANDOM_STATE, solver=solver, max_iter=it)\n",
    "        model.fit(features_train, target_train) \n",
    "        valid_score = accuracy_score(target_valid, model.predict(features_valid))\n",
    "        if valid_score > best_accuracy_l:\n",
    "            best_model_l = model \n",
    "            best_accuracy_l = valid_score\n",
    "        \n",
    "print(f'''Лучшая модель: {best_model_l}; \n",
    "Лучшee accuracy: {best_accuracy_l}.''')"
   ]
  },
  {
   "cell_type": "markdown",
   "metadata": {},
   "source": [
    "Метод ближайших соседей:"
   ]
  },
  {
   "cell_type": "code",
   "execution_count": 197,
   "metadata": {},
   "outputs": [
    {
     "name": "stdout",
     "output_type": "stream",
     "text": [
      "Лучшая модель: KNeighborsClassifier(n_neighbors=50, weights='distance'); \n",
      "Лучшee accuracy: 0.7931570762052877.\n"
     ]
    }
   ],
   "source": [
    "best_model_k, best_accuracy_k = 0, 0\n",
    "neigh = [5, 10, 15, 50, 100]\n",
    "weights = ['uniform','distance']\n",
    "\n",
    "for n in neigh:\n",
    "    for weight in weights:\n",
    "        model = KNeighborsClassifier(n_neighbors=n, weights=weight)\n",
    "        model.fit(features_train, target_train)\n",
    "        valid_score = accuracy_score(target_valid, model.predict(features_valid))\n",
    "        if valid_score > best_accuracy_k:\n",
    "            best_model_k = model\n",
    "            best_accuracy_k = valid_score\n",
    "\n",
    "            \n",
    "print(f'''Лучшая модель: {best_model_k}; \n",
    "Лучшee accuracy: {best_accuracy_k}.''')            "
   ]
  },
  {
   "cell_type": "markdown",
   "metadata": {},
   "source": [
    "Градиентный бустинг:"
   ]
  },
  {
   "cell_type": "code",
   "execution_count": 204,
   "metadata": {},
   "outputs": [
    {
     "name": "stdout",
     "output_type": "stream",
     "text": [
      "Лучшая модель: GradientBoostingClassifier(max_depth=10, random_state=12345); \n",
      "Лучшee accuracy: 0.7822706065318819.\n"
     ]
    }
   ],
   "source": [
    "best_model_g, best_accuracy_g = 0, 0\n",
    "n_est = [5, 10, 50, 100, 500]\n",
    "rates = [0.1, 1, 10]\n",
    "depths = [10, 50, 100]\n",
    "\n",
    "for est in n_est:\n",
    "    for rate in rates:\n",
    "        for depth in depths:\n",
    "            model = GradientBoostingClassifier(n_estimators=est, learning_rate=rate, max_depth=depth, random_state=RANDOM_STATE)\n",
    "            model.fit(features_train, target_train)\n",
    "            valid_score = accuracy_score(target_valid, model.predict(features_valid))\n",
    "            if valid_score > best_accuracy_g:\n",
    "                best_model_g = model\n",
    "                best_accuracy_g = valid_score\n",
    "\n",
    "            \n",
    "print(f'''Лучшая модель: {best_model_g}; \n",
    "Лучшee accuracy: {best_accuracy_g}.''')     "
   ]
  },
  {
   "cell_type": "markdown",
   "metadata": {},
   "source": [
    "Исходя из проведенных подбора гиперпараметров разных моделей, *рандомный лес* показал себя наилучшим образом среди всех моделей."
   ]
  },
  {
   "cell_type": "markdown",
   "metadata": {},
   "source": [
    "## Проверьте модель на тестовой выборке"
   ]
  },
  {
   "cell_type": "markdown",
   "metadata": {},
   "source": [
    "Проверим модели на тестовой выборке:"
   ]
  },
  {
   "cell_type": "code",
   "execution_count": 205,
   "metadata": {},
   "outputs": [
    {
     "name": "stdout",
     "output_type": "stream",
     "text": [
      "-------------\n",
      "    DecisionTreeClassifier(criterion='entropy', max_depth=7, random_state=12345,\n",
      "                       splitter='random'):\n",
      "    - accuracy: 0.7900466562986003\n",
      "    - precision: 0.788135593220339; \n",
      "    - recall: 0.458128078817734;\n",
      "    - f1_score: 0.5794392523364486.\n",
      "-------------\n",
      "    RandomForestClassifier(criterion='entropy', n_estimators=32, random_state=12345):\n",
      "    - accuracy: 0.7947122861586314\n",
      "    - precision: 0.7261146496815286; \n",
      "    - recall: 0.5615763546798029;\n",
      "    - f1_score: 0.6333333333333333.\n",
      "-------------\n",
      "    LogisticRegression(max_iter=1, random_state=12345, solver='newton-cg'):\n",
      "    - accuracy: 0.7527216174183515\n",
      "    - precision: 0.782051282051282; \n",
      "    - recall: 0.30049261083743845;\n",
      "    - f1_score: 0.43416370106761565.\n",
      "-------------\n",
      "    KNeighborsClassifier(n_neighbors=50, weights='distance'):\n",
      "    - accuracy: 0.7853810264385692\n",
      "    - precision: 0.7981651376146789; \n",
      "    - recall: 0.42857142857142855;\n",
      "    - f1_score: 0.5576923076923077.\n",
      "-------------\n",
      "    GradientBoostingClassifier(max_depth=10, random_state=12345):\n",
      "    - accuracy: 0.7838258164852255\n",
      "    - precision: 0.6927710843373494; \n",
      "    - recall: 0.5665024630541872;\n",
      "    - f1_score: 0.6233062330623306.\n"
     ]
    }
   ],
   "source": [
    "models = [best_model_d, best_model_r, best_model_l, best_model_k, best_model_g]\n",
    "\n",
    "for model in models:\n",
    "    answers = model.predict(features_test)\n",
    "    f1 = f1_score(target_test, answers)\n",
    "    recall = recall_score(target_test, answers)\n",
    "    precision = precision_score(target_test, answers)\n",
    "    print(f'''-------------\n",
    "    {model}:\n",
    "    - accuracy: {accuracy_score(target_test, answers)}\n",
    "    - precision: {precision}; \n",
    "    - recall: {recall};\n",
    "    - f1_score: {f1}.''')"
   ]
  },
  {
   "cell_type": "markdown",
   "metadata": {},
   "source": [
    "Все метрики неплохо себя показали - точность выше 75%. Лучше всех - `RandomForest`. Учитывая дисбаланс классов, опираться все таки лучше на метрики `precision, recall и f1_score`."
   ]
  },
  {
   "cell_type": "markdown",
   "metadata": {},
   "source": [
    "## Проверка на адекватность"
   ]
  },
  {
   "cell_type": "markdown",
   "metadata": {},
   "source": [
    "У всех моделей относительно сравнимая друг с другом точность, однако в целом полнота ответов сильно разнится - и наиболее точно предсказывают *соседи*, из чего можно делать вывод, что это наиболее точная модель из всех. Однако, у нас наглядно демонстрируется дисбаланс классов:"
   ]
  },
  {
   "cell_type": "code",
   "execution_count": 199,
   "metadata": {},
   "outputs": [
    {
     "data": {
      "text/plain": [
       "0    2229\n",
       "1     985\n",
       "Name: is_ultra, dtype: int64"
      ]
     },
     "execution_count": 199,
     "metadata": {},
     "output_type": "execute_result"
    }
   ],
   "source": [
    "df['is_ultra'].value_counts()"
   ]
  },
  {
   "cell_type": "markdown",
   "metadata": {},
   "source": [
    "То есть, если мы просто будем предсказывать `0`, то у нас получится модель вот с такой accuracy:"
   ]
  },
  {
   "cell_type": "code",
   "execution_count": 200,
   "metadata": {},
   "outputs": [
    {
     "data": {
      "text/plain": [
       "69.35283136278781"
      ]
     },
     "execution_count": 200,
     "metadata": {},
     "output_type": "execute_result"
    }
   ],
   "source": [
    "(df['is_ultra'].value_counts()[0]/df.shape[0])*100"
   ]
  },
  {
   "cell_type": "markdown",
   "metadata": {},
   "source": [
    "У нас, однако, точность такая:"
   ]
  },
  {
   "cell_type": "code",
   "execution_count": 206,
   "metadata": {},
   "outputs": [
    {
     "data": {
      "text/plain": [
       "79.62674961119751"
      ]
     },
     "execution_count": 206,
     "metadata": {},
     "output_type": "execute_result"
    }
   ],
   "source": [
    "best_accuracy_r*100"
   ]
  },
  {
   "cell_type": "markdown",
   "metadata": {},
   "source": [
    "Собственно, вот так наглядно наша модель отличает классы:"
   ]
  },
  {
   "cell_type": "code",
   "execution_count": 207,
   "metadata": {},
   "outputs": [
    {
     "data": {
      "image/png": "[encoded data removed]",
      "text/plain": [
       "<Figure size 1100x500 with 1 Axes>"
      ]
     },
     "metadata": {},
     "output_type": "display_data"
    }
   ],
   "source": [
    "get_roc_curve(target_test, best_model_k.predict_proba(features_test)[:,1])"
   ]
  },
  {
   "cell_type": "markdown",
   "metadata": {},
   "source": [
    "Чем больше график модели захватывает левый верхний угол - тем лучше - это значит, что модель прекрасно научилась определять классы. Черным цветом нарисована модель, которая предсказывает рандомно 0 или 1 - ее AUC (area inder curve) = 0.5. У нашей - 0.827 (лучше всего - AUC=1, так что нам еще есть куда расти, но уже достаточно неплохо)"
   ]
  },
  {
   "cell_type": "markdown",
   "metadata": {},
   "source": [
    "# Подведем итоги"
   ]
  },
  {
   "cell_type": "markdown",
   "metadata": {},
   "source": [
    "Мы ставили задачей определить и построить модель, решающую задачу классификации для подбора подходящего тарифа по имеющимся у нас данным. Первым делом мы (конечно, на всякий случай) проверили, все ли в порядке с данными, а также масштабировали, ибо они (*данные*), были у нас в совершенно разных диапазонах, а следовательно, это могло достаточно сильно повлиять на результат работы разных моделей.\n",
    "\n",
    "Мы протестировали:\n",
    "- Logistic Regression\n",
    "- Decision Tree Classifier\n",
    "- Random Forest Classifier\n",
    "- K-Neighbors Classifier\n",
    "- GradientBoostingClassifier\n",
    "\n",
    "А также, смотрели не только на `accuracy` (которая при дисбалансе классов не самая лучшая из метрик), но и на:\n",
    "- precision\n",
    "- recall\n",
    "- f1\n",
    "- roc-auc\n",
    "\n",
    "После проведенного исследования получили, что `RandomForest` отработала лучше всего, и эта модель достаточно нейтральна к дисбалансу классов, однако, необходимо следить за переобучением модели и вовремя остановиться.\n",
    "\n",
    "Чтобы не обращать внимание на этот нюанс можно использовать механизм градиентного бустинга - показатели там не сильно отличаются, однако расходуемые ресурсы компьютера и риск переообучения будет меньше за счет алгоритма работы."
   ]
  }
 ],
 "metadata": {
  "ExecuteTimeLog": [
   {
    "duration": 1204,
    "start_time": "2023-05-21T20:25:33.165Z"
   },
   {
    "duration": 66,
    "start_time": "2023-05-21T20:41:55.095Z"
   },
   {
    "duration": 17,
    "start_time": "2023-05-21T20:42:03.149Z"
   },
   {
    "duration": 13,
    "start_time": "2023-05-21T20:42:11.042Z"
   },
   {
    "duration": 16,
    "start_time": "2023-05-21T20:50:02.053Z"
   },
   {
    "duration": 13,
    "start_time": "2023-05-21T20:50:27.496Z"
   },
   {
    "duration": 113,
    "start_time": "2023-05-21T20:50:37.479Z"
   },
   {
    "duration": 10,
    "start_time": "2023-05-21T20:50:42.342Z"
   },
   {
    "duration": 21,
    "start_time": "2023-05-21T20:50:55.206Z"
   },
   {
    "duration": 20,
    "start_time": "2023-05-21T20:51:30.497Z"
   },
   {
    "duration": 11,
    "start_time": "2023-05-21T20:52:46.589Z"
   },
   {
    "duration": 12,
    "start_time": "2023-05-21T20:56:32.888Z"
   },
   {
    "duration": 5,
    "start_time": "2023-05-21T20:57:08.239Z"
   },
   {
    "duration": 7,
    "start_time": "2023-05-21T20:57:09.597Z"
   },
   {
    "duration": 19,
    "start_time": "2023-05-21T20:57:15.866Z"
   },
   {
    "duration": 12,
    "start_time": "2023-05-21T20:57:27.456Z"
   },
   {
    "duration": 6,
    "start_time": "2023-05-21T20:57:53.744Z"
   },
   {
    "duration": 13,
    "start_time": "2023-05-21T20:57:54.747Z"
   },
   {
    "duration": 20,
    "start_time": "2023-05-21T20:57:58.767Z"
   },
   {
    "duration": 5,
    "start_time": "2023-05-21T20:59:28.595Z"
   },
   {
    "duration": 18,
    "start_time": "2023-05-21T21:04:36.638Z"
   },
   {
    "duration": 10,
    "start_time": "2023-05-21T21:04:43.238Z"
   },
   {
    "duration": 50,
    "start_time": "2023-05-21T21:04:45.594Z"
   },
   {
    "duration": 12,
    "start_time": "2023-05-21T21:04:47.406Z"
   },
   {
    "duration": 10,
    "start_time": "2023-05-21T21:04:55.172Z"
   },
   {
    "duration": 3,
    "start_time": "2023-05-21T21:05:10.971Z"
   },
   {
    "duration": 5,
    "start_time": "2023-05-21T21:06:04.769Z"
   },
   {
    "duration": 4,
    "start_time": "2023-05-21T21:06:09.070Z"
   },
   {
    "duration": 3,
    "start_time": "2023-05-21T21:06:59.544Z"
   },
   {
    "duration": 5,
    "start_time": "2023-05-21T21:07:04.336Z"
   },
   {
    "duration": 9,
    "start_time": "2023-05-21T21:10:51.695Z"
   },
   {
    "duration": 11,
    "start_time": "2023-05-21T21:10:59.586Z"
   },
   {
    "duration": 13,
    "start_time": "2023-05-21T21:11:03.563Z"
   },
   {
    "duration": 13,
    "start_time": "2023-05-21T21:11:32.561Z"
   },
   {
    "duration": 13,
    "start_time": "2023-05-21T21:11:39.322Z"
   },
   {
    "duration": 15,
    "start_time": "2023-05-21T21:11:43.849Z"
   },
   {
    "duration": 523,
    "start_time": "2023-05-21T21:16:53.220Z"
   },
   {
    "duration": 13,
    "start_time": "2023-05-21T21:17:37.972Z"
   },
   {
    "duration": 11,
    "start_time": "2023-05-21T21:18:17.244Z"
   },
   {
    "duration": 12,
    "start_time": "2023-05-21T21:18:58.717Z"
   },
   {
    "duration": 27,
    "start_time": "2023-05-21T21:20:29.566Z"
   },
   {
    "duration": 3,
    "start_time": "2023-05-21T21:22:06.270Z"
   },
   {
    "duration": 17,
    "start_time": "2023-05-21T21:22:18.019Z"
   },
   {
    "duration": 13,
    "start_time": "2023-05-21T21:22:52.354Z"
   },
   {
    "duration": 14,
    "start_time": "2023-05-21T21:23:23.309Z"
   },
   {
    "duration": 17,
    "start_time": "2023-05-21T21:23:29.873Z"
   },
   {
    "duration": 4,
    "start_time": "2023-05-21T21:24:20.818Z"
   },
   {
    "duration": 4,
    "start_time": "2023-05-21T21:24:39.092Z"
   },
   {
    "duration": 3,
    "start_time": "2023-05-21T21:24:42.632Z"
   },
   {
    "duration": 22,
    "start_time": "2023-05-21T21:25:00.465Z"
   },
   {
    "duration": 10,
    "start_time": "2023-05-21T21:25:33.511Z"
   },
   {
    "duration": 20,
    "start_time": "2023-05-21T21:25:35.026Z"
   },
   {
    "duration": 17,
    "start_time": "2023-05-21T21:28:52.494Z"
   },
   {
    "duration": 16,
    "start_time": "2023-05-21T21:28:58.760Z"
   },
   {
    "duration": 19,
    "start_time": "2023-05-21T21:30:17.328Z"
   },
   {
    "duration": 16,
    "start_time": "2023-05-21T21:30:22.023Z"
   },
   {
    "duration": 19,
    "start_time": "2023-05-21T21:30:29.640Z"
   },
   {
    "duration": 27,
    "start_time": "2023-05-21T21:30:41.428Z"
   },
   {
    "duration": 18,
    "start_time": "2023-05-21T21:30:45.584Z"
   },
   {
    "duration": 15,
    "start_time": "2023-05-21T21:30:49.120Z"
   },
   {
    "duration": 26,
    "start_time": "2023-05-21T21:30:53.937Z"
   },
   {
    "duration": 17,
    "start_time": "2023-05-21T21:31:01.018Z"
   },
   {
    "duration": 20,
    "start_time": "2023-05-21T21:31:22.387Z"
   },
   {
    "duration": 4,
    "start_time": "2023-05-21T21:32:51.779Z"
   },
   {
    "duration": 6,
    "start_time": "2023-05-21T21:32:56.019Z"
   },
   {
    "duration": 8,
    "start_time": "2023-05-21T21:40:14.189Z"
   },
   {
    "duration": 16,
    "start_time": "2023-05-21T21:42:46.573Z"
   },
   {
    "duration": 91,
    "start_time": "2023-05-21T21:42:53.397Z"
   },
   {
    "duration": 83,
    "start_time": "2023-05-21T21:43:10.209Z"
   },
   {
    "duration": 9,
    "start_time": "2023-05-21T21:43:49.283Z"
   },
   {
    "duration": 7,
    "start_time": "2023-05-21T21:45:40.264Z"
   },
   {
    "duration": 75,
    "start_time": "2023-05-21T21:46:39.029Z"
   },
   {
    "duration": 72,
    "start_time": "2023-05-21T21:46:45.267Z"
   },
   {
    "duration": 69,
    "start_time": "2023-05-21T21:46:56.488Z"
   },
   {
    "duration": 9,
    "start_time": "2023-05-21T21:47:14.411Z"
   },
   {
    "duration": 1123,
    "start_time": "2023-05-21T21:47:33.235Z"
   },
   {
    "duration": 1175,
    "start_time": "2023-05-21T21:49:40.088Z"
   },
   {
    "duration": 1460,
    "start_time": "2023-05-21T21:50:19.899Z"
   },
   {
    "duration": 54,
    "start_time": "2023-05-21T21:52:18.484Z"
   },
   {
    "duration": 1240,
    "start_time": "2023-05-21T21:52:23.545Z"
   },
   {
    "duration": 1112,
    "start_time": "2023-05-21T21:52:35.043Z"
   },
   {
    "duration": 1166,
    "start_time": "2023-05-21T21:52:48.633Z"
   },
   {
    "duration": 3,
    "start_time": "2023-05-21T21:53:16.182Z"
   },
   {
    "duration": 1016,
    "start_time": "2023-05-21T21:53:30.439Z"
   },
   {
    "duration": 1057,
    "start_time": "2023-05-21T21:54:06.191Z"
   },
   {
    "duration": 372,
    "start_time": "2023-05-21T21:55:37.022Z"
   },
   {
    "duration": 365,
    "start_time": "2023-05-21T21:55:50.114Z"
   },
   {
    "duration": 22,
    "start_time": "2023-05-21T21:57:35.710Z"
   },
   {
    "duration": 264,
    "start_time": "2023-05-21T21:58:16.340Z"
   },
   {
    "duration": 267,
    "start_time": "2023-05-21T21:59:15.140Z"
   },
   {
    "duration": 294,
    "start_time": "2023-05-21T21:59:26.828Z"
   },
   {
    "duration": 286,
    "start_time": "2023-05-21T21:59:36.565Z"
   },
   {
    "duration": 287,
    "start_time": "2023-05-21T22:00:09.117Z"
   },
   {
    "duration": 3,
    "start_time": "2023-05-21T22:00:35.535Z"
   },
   {
    "duration": 5,
    "start_time": "2023-05-21T22:00:47.959Z"
   },
   {
    "duration": 4,
    "start_time": "2023-05-21T22:01:01.282Z"
   },
   {
    "duration": 193,
    "start_time": "2023-05-21T22:01:36.969Z"
   },
   {
    "duration": 1996,
    "start_time": "2023-05-21T22:03:14.373Z"
   },
   {
    "duration": 1690,
    "start_time": "2023-05-21T22:03:42.287Z"
   },
   {
    "duration": 2366,
    "start_time": "2023-05-21T22:04:14.498Z"
   },
   {
    "duration": 1798,
    "start_time": "2023-05-21T22:05:35.900Z"
   },
   {
    "duration": 18449,
    "start_time": "2023-05-21T22:05:53.951Z"
   },
   {
    "duration": 4,
    "start_time": "2023-05-21T22:07:15.003Z"
   },
   {
    "duration": 1718,
    "start_time": "2023-05-21T22:07:37.803Z"
   },
   {
    "duration": 986,
    "start_time": "2023-05-21T22:12:55.145Z"
   },
   {
    "duration": 15,
    "start_time": "2023-05-21T22:13:51.965Z"
   },
   {
    "duration": 1003,
    "start_time": "2023-05-21T22:14:05.178Z"
   },
   {
    "duration": 264,
    "start_time": "2023-05-21T22:14:50.724Z"
   },
   {
    "duration": 980,
    "start_time": "2023-05-21T22:15:02.842Z"
   },
   {
    "duration": 1536,
    "start_time": "2023-05-21T22:15:20.799Z"
   },
   {
    "duration": 19694,
    "start_time": "2023-05-21T22:16:40.033Z"
   },
   {
    "duration": 19553,
    "start_time": "2023-05-21T22:18:41.360Z"
   },
   {
    "duration": 1036,
    "start_time": "2023-05-21T22:19:42.497Z"
   },
   {
    "duration": 19294,
    "start_time": "2023-05-21T22:19:46.073Z"
   },
   {
    "duration": 1588,
    "start_time": "2023-05-21T22:20:08.643Z"
   },
   {
    "duration": 1096,
    "start_time": "2023-05-21T22:20:43.355Z"
   },
   {
    "duration": 19280,
    "start_time": "2023-05-21T22:21:00.815Z"
   },
   {
    "duration": 3,
    "start_time": "2023-05-21T22:21:57.884Z"
   },
   {
    "duration": 4,
    "start_time": "2023-05-21T22:22:01.243Z"
   },
   {
    "duration": 4,
    "start_time": "2023-05-21T22:22:05.113Z"
   },
   {
    "duration": 4,
    "start_time": "2023-05-21T22:22:07.125Z"
   },
   {
    "duration": 3,
    "start_time": "2023-05-21T22:22:12.731Z"
   },
   {
    "duration": 3,
    "start_time": "2023-05-21T22:22:15.875Z"
   },
   {
    "duration": 4,
    "start_time": "2023-05-21T22:22:17.685Z"
   },
   {
    "duration": 965,
    "start_time": "2023-05-21T22:27:16.522Z"
   },
   {
    "duration": 1054,
    "start_time": "2023-05-21T22:27:33.077Z"
   },
   {
    "duration": 19508,
    "start_time": "2023-05-21T22:27:36.736Z"
   },
   {
    "duration": 20128,
    "start_time": "2023-05-21T22:28:07.545Z"
   },
   {
    "duration": 1063,
    "start_time": "2023-05-21T22:28:39.942Z"
   },
   {
    "duration": 19559,
    "start_time": "2023-05-21T22:29:10.249Z"
   },
   {
    "duration": 20344,
    "start_time": "2023-05-21T22:30:11.284Z"
   },
   {
    "duration": 1671,
    "start_time": "2023-05-21T22:30:35.336Z"
   },
   {
    "duration": 1594,
    "start_time": "2023-05-21T22:30:48.810Z"
   },
   {
    "duration": 996,
    "start_time": "2023-05-21T22:31:14.399Z"
   },
   {
    "duration": 19735,
    "start_time": "2023-05-21T22:31:18.374Z"
   },
   {
    "duration": 19524,
    "start_time": "2023-05-21T22:31:44.268Z"
   },
   {
    "duration": 1542,
    "start_time": "2023-05-21T22:34:17.562Z"
   },
   {
    "duration": 1010,
    "start_time": "2023-05-21T22:35:10.040Z"
   },
   {
    "duration": 19750,
    "start_time": "2023-05-21T22:41:56.255Z"
   },
   {
    "duration": 1605,
    "start_time": "2023-05-21T22:43:34.243Z"
   },
   {
    "duration": 1734,
    "start_time": "2023-05-21T22:44:23.290Z"
   },
   {
    "duration": 19796,
    "start_time": "2023-05-21T22:44:42.579Z"
   },
   {
    "duration": 1641,
    "start_time": "2023-05-21T22:45:16.870Z"
   },
   {
    "duration": 1593,
    "start_time": "2023-05-21T22:45:23.088Z"
   },
   {
    "duration": 1287,
    "start_time": "2023-05-22T14:25:57.909Z"
   },
   {
    "duration": 134,
    "start_time": "2023-05-22T14:25:59.935Z"
   },
   {
    "duration": 20,
    "start_time": "2023-05-22T14:26:02.329Z"
   },
   {
    "duration": 15,
    "start_time": "2023-05-22T14:26:12.988Z"
   },
   {
    "duration": 5,
    "start_time": "2023-05-22T14:26:20.245Z"
   },
   {
    "duration": 6,
    "start_time": "2023-05-22T14:26:21.274Z"
   },
   {
    "duration": 6,
    "start_time": "2023-05-22T14:26:22.118Z"
   },
   {
    "duration": 5,
    "start_time": "2023-05-22T14:26:23.401Z"
   },
   {
    "duration": 1117,
    "start_time": "2023-05-22T14:26:29.643Z"
   },
   {
    "duration": 1059,
    "start_time": "2023-05-22T14:27:29.337Z"
   },
   {
    "duration": 1110,
    "start_time": "2023-05-22T14:30:01.028Z"
   },
   {
    "duration": 1774,
    "start_time": "2023-05-22T14:30:53.672Z"
   },
   {
    "duration": 1853,
    "start_time": "2023-05-22T14:34:17.562Z"
   },
   {
    "duration": 1891,
    "start_time": "2023-05-22T14:35:04.954Z"
   },
   {
    "duration": 1279,
    "start_time": "2023-05-22T14:46:06.093Z"
   },
   {
    "duration": 1030,
    "start_time": "2023-05-22T14:46:19.009Z"
   },
   {
    "duration": 119,
    "start_time": "2023-05-22T14:46:51.148Z"
   },
   {
    "duration": 17,
    "start_time": "2023-05-22T14:47:15.027Z"
   },
   {
    "duration": 1058,
    "start_time": "2023-05-22T14:47:42.914Z"
   },
   {
    "duration": 519,
    "start_time": "2023-05-22T14:48:01.446Z"
   },
   {
    "duration": 492,
    "start_time": "2023-05-22T14:48:19.550Z"
   },
   {
    "duration": 102,
    "start_time": "2023-05-22T14:49:44.422Z"
   },
   {
    "duration": 82,
    "start_time": "2023-05-22T14:49:55.006Z"
   },
   {
    "duration": 12,
    "start_time": "2023-05-22T14:50:08.645Z"
   },
   {
    "duration": 1488,
    "start_time": "2023-05-22T14:50:13.836Z"
   },
   {
    "duration": 3055,
    "start_time": "2023-05-22T14:50:57.471Z"
   },
   {
    "duration": 3226,
    "start_time": "2023-05-22T14:51:07.663Z"
   },
   {
    "duration": 558,
    "start_time": "2023-05-22T14:51:42.786Z"
   },
   {
    "duration": 4041,
    "start_time": "2023-05-22T14:52:13.900Z"
   },
   {
    "duration": 3391,
    "start_time": "2023-05-22T14:52:47.891Z"
   },
   {
    "duration": 3965,
    "start_time": "2023-05-22T14:52:58.284Z"
   },
   {
    "duration": 4138,
    "start_time": "2023-05-22T14:53:36.192Z"
   },
   {
    "duration": 3494,
    "start_time": "2023-05-22T14:54:22.903Z"
   },
   {
    "duration": 1181,
    "start_time": "2023-05-23T12:41:03.915Z"
   },
   {
    "duration": 218,
    "start_time": "2023-05-23T12:41:06.234Z"
   },
   {
    "duration": 16,
    "start_time": "2023-05-23T12:41:07.642Z"
   },
   {
    "duration": 28,
    "start_time": "2023-05-23T12:41:09.774Z"
   },
   {
    "duration": 4,
    "start_time": "2023-05-23T12:41:13.342Z"
   },
   {
    "duration": 8,
    "start_time": "2023-05-23T12:41:14.314Z"
   },
   {
    "duration": 6,
    "start_time": "2023-05-23T12:41:15.975Z"
   },
   {
    "duration": 3,
    "start_time": "2023-05-23T12:41:17.035Z"
   },
   {
    "duration": 3201,
    "start_time": "2023-05-23T12:41:19.842Z"
   },
   {
    "duration": 43383,
    "start_time": "2023-05-23T12:41:34.978Z"
   },
   {
    "duration": 1357,
    "start_time": "2023-05-23T12:51:02.835Z"
   },
   {
    "duration": 121,
    "start_time": "2023-05-23T12:52:45.161Z"
   },
   {
    "duration": 19,
    "start_time": "2023-05-23T12:53:05.560Z"
   },
   {
    "duration": 26,
    "start_time": "2023-05-23T12:53:16.008Z"
   },
   {
    "duration": 3213,
    "start_time": "2023-05-23T12:55:31.939Z"
   },
   {
    "duration": 13,
    "start_time": "2023-05-23T12:56:16.382Z"
   },
   {
    "duration": 44368,
    "start_time": "2023-05-23T13:00:10.115Z"
   },
   {
    "duration": 5,
    "start_time": "2023-05-23T13:05:45.047Z"
   },
   {
    "duration": 1986,
    "start_time": "2023-05-23T13:06:02.911Z"
   },
   {
    "duration": 4,
    "start_time": "2023-05-23T13:06:06.935Z"
   },
   {
    "duration": 11,
    "start_time": "2023-05-23T13:06:13.209Z"
   },
   {
    "duration": 13,
    "start_time": "2023-05-23T13:06:24.536Z"
   },
   {
    "duration": 4,
    "start_time": "2023-05-23T13:08:25.835Z"
   },
   {
    "duration": 11,
    "start_time": "2023-05-23T13:08:31.668Z"
   },
   {
    "duration": 6,
    "start_time": "2023-05-23T13:08:41.575Z"
   },
   {
    "duration": 4,
    "start_time": "2023-05-23T13:09:00.735Z"
   },
   {
    "duration": 20,
    "start_time": "2023-05-23T13:09:44.563Z"
   },
   {
    "duration": 14,
    "start_time": "2023-05-23T13:09:57.319Z"
   },
   {
    "duration": 12,
    "start_time": "2023-05-23T13:10:02.655Z"
   },
   {
    "duration": 7,
    "start_time": "2023-05-23T13:10:24.128Z"
   },
   {
    "duration": 14,
    "start_time": "2023-05-23T13:10:55.690Z"
   },
   {
    "duration": 1290,
    "start_time": "2023-05-23T13:12:32.679Z"
   },
   {
    "duration": 1466,
    "start_time": "2023-05-23T13:12:45.763Z"
   },
   {
    "duration": 3308,
    "start_time": "2023-05-23T13:12:54.447Z"
   },
   {
    "duration": 43468,
    "start_time": "2023-05-23T13:13:02.983Z"
   },
   {
    "duration": 6,
    "start_time": "2023-05-23T13:14:13.235Z"
   },
   {
    "duration": 9,
    "start_time": "2023-05-23T13:14:20.036Z"
   },
   {
    "duration": 6,
    "start_time": "2023-05-23T13:14:28.302Z"
   },
   {
    "duration": 6,
    "start_time": "2023-05-23T13:14:31.820Z"
   },
   {
    "duration": 6,
    "start_time": "2023-05-23T13:14:46.367Z"
   },
   {
    "duration": 156,
    "start_time": "2023-05-23T13:16:06.903Z"
   },
   {
    "duration": 19,
    "start_time": "2023-05-23T13:16:11.824Z"
   },
   {
    "duration": 30,
    "start_time": "2023-05-23T13:16:36.510Z"
   },
   {
    "duration": 19,
    "start_time": "2023-05-23T13:19:15.531Z"
   },
   {
    "duration": 35,
    "start_time": "2023-05-23T13:24:35.310Z"
   },
   {
    "duration": 1307,
    "start_time": "2023-05-23T13:25:48.236Z"
   },
   {
    "duration": 1405,
    "start_time": "2023-05-23T13:29:15.024Z"
   },
   {
    "duration": 21,
    "start_time": "2023-05-23T13:30:53.517Z"
   },
   {
    "duration": 21301,
    "start_time": "2023-05-23T13:32:37.039Z"
   },
   {
    "duration": 14,
    "start_time": "2023-05-23T13:33:40.267Z"
   },
   {
    "duration": 6,
    "start_time": "2023-05-23T13:33:45.631Z"
   },
   {
    "duration": 7,
    "start_time": "2023-05-23T13:33:49.767Z"
   },
   {
    "duration": 7,
    "start_time": "2023-05-23T13:33:53.527Z"
   },
   {
    "duration": 45361,
    "start_time": "2023-05-23T13:38:17.219Z"
   },
   {
    "duration": 95,
    "start_time": "2023-05-23T13:42:47.280Z"
   },
   {
    "duration": 11991,
    "start_time": "2023-05-23T13:43:17.514Z"
   },
   {
    "duration": 13131,
    "start_time": "2023-05-23T13:44:30.109Z"
   },
   {
    "duration": 13,
    "start_time": "2023-05-23T13:45:07.831Z"
   },
   {
    "duration": 1301,
    "start_time": "2023-05-23T13:45:57.439Z"
   },
   {
    "duration": 6,
    "start_time": "2023-05-23T13:48:29.159Z"
   },
   {
    "duration": 6,
    "start_time": "2023-05-23T13:48:34.527Z"
   },
   {
    "duration": 5,
    "start_time": "2023-05-23T13:48:49.840Z"
   },
   {
    "duration": 11,
    "start_time": "2023-05-23T13:49:02.312Z"
   },
   {
    "duration": 5,
    "start_time": "2023-05-23T13:49:10.371Z"
   },
   {
    "duration": 5,
    "start_time": "2023-05-23T13:49:21.261Z"
   },
   {
    "duration": 8,
    "start_time": "2023-05-23T13:50:55.514Z"
   },
   {
    "duration": 3,
    "start_time": "2023-05-23T13:51:45.141Z"
   },
   {
    "duration": 171,
    "start_time": "2023-05-23T13:51:47.410Z"
   },
   {
    "duration": 11,
    "start_time": "2023-05-23T13:51:49.925Z"
   },
   {
    "duration": 12,
    "start_time": "2023-05-23T13:51:52.441Z"
   },
   {
    "duration": 8,
    "start_time": "2023-05-23T13:51:54.369Z"
   },
   {
    "duration": 14,
    "start_time": "2023-05-23T13:51:57.643Z"
   },
   {
    "duration": 131,
    "start_time": "2023-05-23T13:51:59.551Z"
   },
   {
    "duration": 11878,
    "start_time": "2023-05-23T13:52:00.849Z"
   },
   {
    "duration": 3,
    "start_time": "2023-05-23T13:52:15.269Z"
   },
   {
    "duration": 3263,
    "start_time": "2023-05-23T13:52:25.017Z"
   },
   {
    "duration": 46320,
    "start_time": "2023-05-23T13:54:21.515Z"
   },
   {
    "duration": 12635,
    "start_time": "2023-05-23T13:55:43.512Z"
   },
   {
    "duration": 14,
    "start_time": "2023-05-23T13:56:06.561Z"
   },
   {
    "duration": 6,
    "start_time": "2023-05-23T14:00:31.887Z"
   },
   {
    "duration": 30,
    "start_time": "2023-05-23T14:17:17.640Z"
   },
   {
    "duration": 49,
    "start_time": "2023-05-23T14:18:42.124Z"
   },
   {
    "duration": 3756,
    "start_time": "2023-05-23T14:23:16.426Z"
   },
   {
    "duration": 187,
    "start_time": "2023-05-23T14:23:21.524Z"
   },
   {
    "duration": 17,
    "start_time": "2023-05-23T14:23:23.545Z"
   },
   {
    "duration": 15,
    "start_time": "2023-05-23T14:23:26.214Z"
   },
   {
    "duration": 6,
    "start_time": "2023-05-23T14:23:28.135Z"
   },
   {
    "duration": 3,
    "start_time": "2023-05-23T14:23:31.167Z"
   },
   {
    "duration": 5,
    "start_time": "2023-05-23T14:23:32.001Z"
   },
   {
    "duration": 4,
    "start_time": "2023-05-23T14:23:32.744Z"
   },
   {
    "duration": 3,
    "start_time": "2023-05-23T14:23:33.620Z"
   },
   {
    "duration": 3123,
    "start_time": "2023-05-23T14:23:36.522Z"
   },
   {
    "duration": 44035,
    "start_time": "2023-05-23T14:23:45.609Z"
   },
   {
    "duration": 12059,
    "start_time": "2023-05-23T14:24:38.544Z"
   },
   {
    "duration": 15,
    "start_time": "2023-05-23T14:25:19.036Z"
   },
   {
    "duration": 113,
    "start_time": "2023-05-23T14:26:34.451Z"
   },
   {
    "duration": 16,
    "start_time": "2023-05-23T14:28:13.167Z"
   },
   {
    "duration": 18,
    "start_time": "2023-05-23T14:28:31.608Z"
   },
   {
    "duration": 37,
    "start_time": "2023-05-23T14:31:25.077Z"
   },
   {
    "duration": 3,
    "start_time": "2023-05-23T14:34:56.068Z"
   },
   {
    "duration": 62,
    "start_time": "2023-05-23T14:34:59.067Z"
   },
   {
    "duration": 12,
    "start_time": "2023-05-23T14:36:00.638Z"
   },
   {
    "duration": 19,
    "start_time": "2023-05-23T14:36:12.979Z"
   },
   {
    "duration": 41,
    "start_time": "2023-05-23T14:36:31.179Z"
   },
   {
    "duration": 15,
    "start_time": "2023-05-23T14:36:43.667Z"
   },
   {
    "duration": 14,
    "start_time": "2023-05-23T14:37:46.862Z"
   },
   {
    "duration": 19,
    "start_time": "2023-05-23T14:37:53.548Z"
   },
   {
    "duration": 16,
    "start_time": "2023-05-23T14:37:58.848Z"
   },
   {
    "duration": 3,
    "start_time": "2023-05-23T14:40:32.348Z"
   },
   {
    "duration": 1075,
    "start_time": "2023-05-24T06:39:16.932Z"
   },
   {
    "duration": 116,
    "start_time": "2023-05-24T06:39:19.042Z"
   },
   {
    "duration": 25,
    "start_time": "2023-05-24T06:39:20.396Z"
   },
   {
    "duration": 16,
    "start_time": "2023-05-24T06:39:22.491Z"
   },
   {
    "duration": 6,
    "start_time": "2023-05-24T06:39:23.971Z"
   },
   {
    "duration": 4,
    "start_time": "2023-05-24T06:39:25.700Z"
   },
   {
    "duration": 7,
    "start_time": "2023-05-24T06:39:26.804Z"
   },
   {
    "duration": 6,
    "start_time": "2023-05-24T06:39:27.442Z"
   },
   {
    "duration": 3,
    "start_time": "2023-05-24T06:39:28.275Z"
   },
   {
    "duration": 2988,
    "start_time": "2023-05-24T06:39:31.283Z"
   },
   {
    "duration": 47182,
    "start_time": "2023-05-24T06:39:41.812Z"
   },
   {
    "duration": 15844,
    "start_time": "2023-05-24T06:40:36.582Z"
   },
   {
    "duration": 1781,
    "start_time": "2023-05-24T06:45:39.156Z"
   },
   {
    "duration": 25,
    "start_time": "2023-05-24T06:45:49.074Z"
   },
   {
    "duration": 7,
    "start_time": "2023-05-24T06:46:03.678Z"
   },
   {
    "duration": 21,
    "start_time": "2023-05-24T06:46:09.620Z"
   },
   {
    "duration": 1231,
    "start_time": "2023-05-24T21:37:59.959Z"
   },
   {
    "duration": 142,
    "start_time": "2023-05-24T21:38:01.772Z"
   },
   {
    "duration": 20,
    "start_time": "2023-05-24T21:38:03.555Z"
   },
   {
    "duration": 16,
    "start_time": "2023-05-24T21:38:05.943Z"
   },
   {
    "duration": 8,
    "start_time": "2023-05-24T21:38:07.871Z"
   },
   {
    "duration": 4,
    "start_time": "2023-05-24T21:38:10.563Z"
   },
   {
    "duration": 7,
    "start_time": "2023-05-24T21:38:12.906Z"
   },
   {
    "duration": 5,
    "start_time": "2023-05-24T21:38:14.266Z"
   },
   {
    "duration": 5,
    "start_time": "2023-05-24T21:38:15.891Z"
   },
   {
    "duration": 3122,
    "start_time": "2023-05-24T21:38:17.897Z"
   },
   {
    "duration": 45681,
    "start_time": "2023-05-24T21:38:25.356Z"
   },
   {
    "duration": 14503,
    "start_time": "2023-05-24T21:39:11.039Z"
   },
   {
    "duration": 19,
    "start_time": "2023-05-24T21:40:01.451Z"
   },
   {
    "duration": 7,
    "start_time": "2023-05-24T21:40:07.551Z"
   },
   {
    "duration": 22,
    "start_time": "2023-05-24T21:40:12.661Z"
   },
   {
    "duration": 27,
    "start_time": "2023-05-24T21:42:53.476Z"
   },
   {
    "duration": 4,
    "start_time": "2023-05-24T21:43:10.668Z"
   },
   {
    "duration": 25,
    "start_time": "2023-05-24T21:44:48.223Z"
   },
   {
    "duration": 26,
    "start_time": "2023-05-24T21:44:59.560Z"
   }
  ],
  "kernelspec": {
   "display_name": "Python 3 (ipykernel)",
   "language": "python",
   "name": "python3"
  },
  "language_info": {
   "codemirror_mode": {
    "name": "ipython",
    "version": 3
   },
   "file_extension": ".py",
   "mimetype": "text/x-python",
   "name": "python",
   "nbconvert_exporter": "python",
   "pygments_lexer": "ipython3",
   "version": "3.10.7"
  },
  "toc": {
   "base_numbering": 1,
   "nav_menu": {},
   "number_sections": true,
   "sideBar": true,
   "skip_h1_title": true,
   "title_cell": "Table of Contents",
   "title_sidebar": "Contents",
   "toc_cell": false,
   "toc_position": {},
   "toc_section_display": true,
   "toc_window_display": false
  }
 },
 "nbformat": 4,
 "nbformat_minor": 2
}
