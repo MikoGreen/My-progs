{
 "cells": [
  {
   "cell_type": "markdown",
   "metadata": {},
   "source": [
    "# Защита персональных данных клиентов"
   ]
  },
  {
   "cell_type": "markdown",
   "metadata": {},
   "source": [
    "Нужно защитить данные клиентов страховой компании «Хоть потоп»: разработать такой метод преобразования данных, чтобы по ним было сложно восстановить персональную информацию и обосновать корректность его работы. Защитить данные нужно так, чтобы при преобразовании качество моделей машинного обучения не ухудшилось. \n",
    "\n",
    "**P.S.** *Подбирать наилучшую модель не требуется.*"
   ]
  },
  {
   "cell_type": "markdown",
   "metadata": {},
   "source": [
    "### План работы: \n",
    "\n",
    "1. Загрузить и изучить данные.\n",
    "\n",
    "2. Ответьте на вопрос и обоснуйте решение:\n",
    "```\n",
    "Признаки умножают на обратимую матрицу. Изменится ли качество линейной регрессии? (Её можно обучить заново.)\n",
    "\n",
    "- Изменится. Приведите примеры матриц.\n",
    "- Не изменится. Укажите, как связаны параметры линейной регрессии в исходной задаче и в преобразованной.\n",
    "```\n",
    "\n",
    "3. Предложить алгоритм преобразования данных для решения задачи с обоснованием, почему качество линейной регрессии не поменяется.\n",
    "\n",
    "4. Запрограммировать этот алгоритм, применив матричные операции. \n",
    "    + Проверить, что качество линейной регрессии из sklearn не отличается до и после преобразования (применяя метрику R2)."
   ]
  },
  {
   "cell_type": "markdown",
   "metadata": {},
   "source": [
    "## Загрузка данных"
   ]
  },
  {
   "cell_type": "code",
   "execution_count": 2,
   "metadata": {},
   "outputs": [],
   "source": [
    "import pandas as pd\n",
    "import numpy as np\n",
    "from sklearn.linear_model import LinearRegression\n",
    "from sklearn.model_selection import train_test_split\n",
    "from sklearn.metrics import mean_squared_error\n",
    "from sklearn.metrics import r2_score\n",
    "import warnings\n",
    "warnings.filterwarnings(\"ignore\")\n",
    "\n",
    "\n",
    "import os\n",
    "import pandas as pd\n",
    "import seaborn as sns\n",
    "import numpy as np\n",
    "import matplotlib.pyplot as plt\n",
    "pd.set_option('display.max_columns', None)\n",
    "import plotly.express as px\n",
    "\n",
    "from sklearn.metrics import mean_absolute_error, make_scorer\n",
    "from sklearn.model_selection import train_test_split, GridSearchCV\n",
    "from sklearn.preprocessing import StandardScaler, OneHotEncoder\n",
    "from sklearn.dummy import DummyRegressor\n",
    "from sklearn.impute import SimpleImputer\n",
    "from sklearn.compose import ColumnTransformer\n",
    "from sklearn.utils import shuffle\n",
    "from sklearn.pipeline import Pipeline\n",
    "\n",
    "\n",
    "RANDOM_STATE=12345"
   ]
  },
  {
   "cell_type": "code",
   "execution_count": 6,
   "metadata": {},
   "outputs": [],
   "source": [
    "pth1 = '/datasets/'\n",
    "pth2 = 'C:/Users/Солнышко/Documents/'\n",
    "pth3 = 'C:/Users/Home/Documents/Яндекс/'\n",
    "\n",
    "if os.path.exists(pth1):\n",
    "    data = pd.read_csv(pth1 +'insurance.csv')\n",
    "elif os.path.exists(pth2):\n",
    "    data = pd.read_csv(pth2 +'insurance.csv')\n",
    "elif os.path.exists(pth3):\n",
    "    data = pd.read_csv(pth3 +'insurance.csv')\n",
    "else:\n",
    "    print('Something is wrong')\n",
    "    \n",
    "    \n",
    "# сбор данных о датафрейме:\n",
    "def data_info(data):\n",
    "    print(f'''\n",
    "    ----------------------------------------\n",
    "    Первые строки датафрейма:\n",
    "    ----------------------------------------''')\n",
    "    display(data.head())\n",
    "    print(f'''\n",
    "    ----------------------------------------\n",
    "    Последние строки датафрейма:\n",
    "    ----------------------------------------''')\n",
    "    display(data.tail())\n",
    "    print(f'''\n",
    "    ----------------------------------------\n",
    "    Общая информация:\n",
    "    ----------------------------------------''')\n",
    "    print(data.info())\n",
    "    print(f'''\n",
    "    ----------------------------------------\n",
    "    Дупликаты:\n",
    "    ----------------------------------------''')\n",
    "    print(data.duplicated().sum())\n",
    "    print(f'''\n",
    "    ----------------------------------------\n",
    "    Пропуски:\n",
    "    ----------------------------------------''')\n",
    "    display(round(data.isna().sum(),))"
   ]
  },
  {
   "cell_type": "code",
   "execution_count": 7,
   "metadata": {},
   "outputs": [
    {
     "name": "stdout",
     "output_type": "stream",
     "text": [
      "\n",
      "    ----------------------------------------\n",
      "    Первые строки датафрейма:\n",
      "    ----------------------------------------\n"
     ]
    },
    {
     "data": {
      "text/html": [
       "<div>\n",
       "<style scoped>\n",
       "    .dataframe tbody tr th:only-of-type {\n",
       "        vertical-align: middle;\n",
       "    }\n",
       "\n",
       "    .dataframe tbody tr th {\n",
       "        vertical-align: top;\n",
       "    }\n",
       "\n",
       "    .dataframe thead th {\n",
       "        text-align: right;\n",
       "    }\n",
       "</style>\n",
       "<table border=\"1\" class=\"dataframe\">\n",
       "  <thead>\n",
       "    <tr style=\"text-align: right;\">\n",
       "      <th></th>\n",
       "      <th>Пол</th>\n",
       "      <th>Возраст</th>\n",
       "      <th>Зарплата</th>\n",
       "      <th>Члены семьи</th>\n",
       "      <th>Страховые выплаты</th>\n",
       "    </tr>\n",
       "  </thead>\n",
       "  <tbody>\n",
       "    <tr>\n",
       "      <th>0</th>\n",
       "      <td>1</td>\n",
       "      <td>41.0</td>\n",
       "      <td>49600.0</td>\n",
       "      <td>1</td>\n",
       "      <td>0</td>\n",
       "    </tr>\n",
       "    <tr>\n",
       "      <th>1</th>\n",
       "      <td>0</td>\n",
       "      <td>46.0</td>\n",
       "      <td>38000.0</td>\n",
       "      <td>1</td>\n",
       "      <td>1</td>\n",
       "    </tr>\n",
       "    <tr>\n",
       "      <th>2</th>\n",
       "      <td>0</td>\n",
       "      <td>29.0</td>\n",
       "      <td>21000.0</td>\n",
       "      <td>0</td>\n",
       "      <td>0</td>\n",
       "    </tr>\n",
       "    <tr>\n",
       "      <th>3</th>\n",
       "      <td>0</td>\n",
       "      <td>21.0</td>\n",
       "      <td>41700.0</td>\n",
       "      <td>2</td>\n",
       "      <td>0</td>\n",
       "    </tr>\n",
       "    <tr>\n",
       "      <th>4</th>\n",
       "      <td>1</td>\n",
       "      <td>28.0</td>\n",
       "      <td>26100.0</td>\n",
       "      <td>0</td>\n",
       "      <td>0</td>\n",
       "    </tr>\n",
       "  </tbody>\n",
       "</table>\n",
       "</div>"
      ],
      "text/plain": [
       "   Пол  Возраст  Зарплата  Члены семьи  Страховые выплаты\n",
       "0    1     41.0   49600.0            1                  0\n",
       "1    0     46.0   38000.0            1                  1\n",
       "2    0     29.0   21000.0            0                  0\n",
       "3    0     21.0   41700.0            2                  0\n",
       "4    1     28.0   26100.0            0                  0"
      ]
     },
     "metadata": {},
     "output_type": "display_data"
    },
    {
     "name": "stdout",
     "output_type": "stream",
     "text": [
      "\n",
      "    ----------------------------------------\n",
      "    Последние строки датафрейма:\n",
      "    ----------------------------------------\n"
     ]
    },
    {
     "data": {
      "text/html": [
       "<div>\n",
       "<style scoped>\n",
       "    .dataframe tbody tr th:only-of-type {\n",
       "        vertical-align: middle;\n",
       "    }\n",
       "\n",
       "    .dataframe tbody tr th {\n",
       "        vertical-align: top;\n",
       "    }\n",
       "\n",
       "    .dataframe thead th {\n",
       "        text-align: right;\n",
       "    }\n",
       "</style>\n",
       "<table border=\"1\" class=\"dataframe\">\n",
       "  <thead>\n",
       "    <tr style=\"text-align: right;\">\n",
       "      <th></th>\n",
       "      <th>Пол</th>\n",
       "      <th>Возраст</th>\n",
       "      <th>Зарплата</th>\n",
       "      <th>Члены семьи</th>\n",
       "      <th>Страховые выплаты</th>\n",
       "    </tr>\n",
       "  </thead>\n",
       "  <tbody>\n",
       "    <tr>\n",
       "      <th>4995</th>\n",
       "      <td>0</td>\n",
       "      <td>28.0</td>\n",
       "      <td>35700.0</td>\n",
       "      <td>2</td>\n",
       "      <td>0</td>\n",
       "    </tr>\n",
       "    <tr>\n",
       "      <th>4996</th>\n",
       "      <td>0</td>\n",
       "      <td>34.0</td>\n",
       "      <td>52400.0</td>\n",
       "      <td>1</td>\n",
       "      <td>0</td>\n",
       "    </tr>\n",
       "    <tr>\n",
       "      <th>4997</th>\n",
       "      <td>0</td>\n",
       "      <td>20.0</td>\n",
       "      <td>33900.0</td>\n",
       "      <td>2</td>\n",
       "      <td>0</td>\n",
       "    </tr>\n",
       "    <tr>\n",
       "      <th>4998</th>\n",
       "      <td>1</td>\n",
       "      <td>22.0</td>\n",
       "      <td>32700.0</td>\n",
       "      <td>3</td>\n",
       "      <td>0</td>\n",
       "    </tr>\n",
       "    <tr>\n",
       "      <th>4999</th>\n",
       "      <td>1</td>\n",
       "      <td>28.0</td>\n",
       "      <td>40600.0</td>\n",
       "      <td>1</td>\n",
       "      <td>0</td>\n",
       "    </tr>\n",
       "  </tbody>\n",
       "</table>\n",
       "</div>"
      ],
      "text/plain": [
       "      Пол  Возраст  Зарплата  Члены семьи  Страховые выплаты\n",
       "4995    0     28.0   35700.0            2                  0\n",
       "4996    0     34.0   52400.0            1                  0\n",
       "4997    0     20.0   33900.0            2                  0\n",
       "4998    1     22.0   32700.0            3                  0\n",
       "4999    1     28.0   40600.0            1                  0"
      ]
     },
     "metadata": {},
     "output_type": "display_data"
    },
    {
     "name": "stdout",
     "output_type": "stream",
     "text": [
      "\n",
      "    ----------------------------------------\n",
      "    Общая информация:\n",
      "    ----------------------------------------\n",
      "<class 'pandas.core.frame.DataFrame'>\n",
      "RangeIndex: 5000 entries, 0 to 4999\n",
      "Data columns (total 5 columns):\n",
      " #   Column             Non-Null Count  Dtype  \n",
      "---  ------             --------------  -----  \n",
      " 0   Пол                5000 non-null   int64  \n",
      " 1   Возраст            5000 non-null   float64\n",
      " 2   Зарплата           5000 non-null   float64\n",
      " 3   Члены семьи        5000 non-null   int64  \n",
      " 4   Страховые выплаты  5000 non-null   int64  \n",
      "dtypes: float64(2), int64(3)\n",
      "memory usage: 195.4 KB\n",
      "None\n",
      "\n",
      "    ----------------------------------------\n",
      "    Дупликаты:\n",
      "    ----------------------------------------\n",
      "153\n",
      "\n",
      "    ----------------------------------------\n",
      "    Пропуски:\n",
      "    ----------------------------------------\n"
     ]
    },
    {
     "data": {
      "text/plain": [
       "Пол                  0\n",
       "Возраст              0\n",
       "Зарплата             0\n",
       "Члены семьи          0\n",
       "Страховые выплаты    0\n",
       "dtype: int64"
      ]
     },
     "metadata": {},
     "output_type": "display_data"
    }
   ],
   "source": [
    "data_info(data)"
   ]
  },
  {
   "cell_type": "markdown",
   "metadata": {},
   "source": [
    "### Данные:\n",
    "\n",
    "- Признаки: пол, возраст и зарплата застрахованного, количество членов его семьи.\n",
    "- Целевой признак: количество страховых выплат клиенту за последние 5 лет.\n",
    "\n",
    "Датасет небольшой - всего 5000 строк. Пропусков нет, а вот дупликаты есть, однако нельзя только сказать, это дупликаты в данных или действительно совпало, что у нескольких людей одинаковые характеристики. Однако, все таки удалим дупликаты"
   ]
  },
  {
   "cell_type": "code",
   "execution_count": 8,
   "metadata": {},
   "outputs": [
    {
     "data": {
      "text/plain": [
       "0"
      ]
     },
     "execution_count": 8,
     "metadata": {},
     "output_type": "execute_result"
    }
   ],
   "source": [
    "data = data.drop_duplicates()\n",
    "data.duplicated().sum()"
   ]
  },
  {
   "cell_type": "markdown",
   "metadata": {},
   "source": [
    "Также я бы изменила колонку с возрастом - он не может быть дробный, можно поставить int."
   ]
  },
  {
   "cell_type": "code",
   "execution_count": 9,
   "metadata": {},
   "outputs": [],
   "source": [
    "data['Возраст'] = data['Возраст'].astype('int64')"
   ]
  },
  {
   "cell_type": "code",
   "execution_count": 10,
   "metadata": {},
   "outputs": [
    {
     "name": "stdout",
     "output_type": "stream",
     "text": [
      "<class 'pandas.core.frame.DataFrame'>\n",
      "Index: 4847 entries, 0 to 4999\n",
      "Data columns (total 5 columns):\n",
      " #   Column             Non-Null Count  Dtype  \n",
      "---  ------             --------------  -----  \n",
      " 0   Пол                4847 non-null   int64  \n",
      " 1   Возраст            4847 non-null   int64  \n",
      " 2   Зарплата           4847 non-null   float64\n",
      " 3   Члены семьи        4847 non-null   int64  \n",
      " 4   Страховые выплаты  4847 non-null   int64  \n",
      "dtypes: float64(1), int64(4)\n",
      "memory usage: 227.2 KB\n"
     ]
    }
   ],
   "source": [
    "data.info()"
   ]
  },
  {
   "cell_type": "markdown",
   "metadata": {},
   "source": [
    "Далее, можем разделять данные:"
   ]
  },
  {
   "cell_type": "code",
   "execution_count": 13,
   "metadata": {},
   "outputs": [],
   "source": [
    "features = data.drop('Страховые выплаты', axis=1)\n",
    "target = data['Страховые выплаты']\n",
    "\n",
    "features_train, features_valid, target_train, target_valid = train_test_split(features, target, \n",
    "                                                                              test_size=0.25, random_state=RANDOM_STATE)"
   ]
  },
  {
   "cell_type": "code",
   "execution_count": 14,
   "metadata": {
    "scrolled": true
   },
   "outputs": [
    {
     "name": "stdout",
     "output_type": "stream",
     "text": [
      "(3635, 4) (1212, 4) (3635,) (1212,)\n"
     ]
    }
   ],
   "source": [
    "print(features_train.shape, features_valid.shape, target_train.shape, target_valid.shape)"
   ]
  },
  {
   "cell_type": "markdown",
   "metadata": {},
   "source": [
    "Краткий вывод по проделанной работе:\n",
    "\n",
    "- загрузили данные\n",
    "- изучили форматы, преобразовали то, что нужно\n",
    "- проверили на пропуски и дупликаты, убрали вторую категорию\n",
    "- разделили данные на выборки"
   ]
  },
  {
   "cell_type": "markdown",
   "metadata": {},
   "source": [
    "## Умножение матриц"
   ]
  },
  {
   "cell_type": "markdown",
   "metadata": {},
   "source": [
    "Обозначения:\n",
    "\n",
    "- $X$ — матрица признаков (нулевой столбец состоит из единиц)\n",
    "\n",
    "- $y$ — вектор целевого признака\n",
    "\n",
    "- $P$ — матрица, на которую умножаются признаки\n",
    "\n",
    "- $w$ — вектор весов линейной регрессии (нулевой элемент равен сдвигу)"
   ]
  },
  {
   "cell_type": "markdown",
   "metadata": {},
   "source": [
    "Предсказания:\n",
    "\n",
    "$$\n",
    "a = Xw\n",
    "$$\n",
    "\n",
    "Задача обучения:\n",
    "\n",
    "$$\n",
    "w = \\arg\\min_w MSE(Xw, y)\n",
    "$$\n",
    "\n",
    "Формула обучения:\n",
    "\n",
    "$$\n",
    "w = (X^T X)^{-1} X^T y\n",
    "$$"
   ]
  },
  {
   "cell_type": "markdown",
   "metadata": {},
   "source": [
    "Признаки умножают на обратимую матрицу. Изменится ли качество линейной регрессии? (Её можно обучить заново.)"
   ]
  },
  {
   "cell_type": "markdown",
   "metadata": {},
   "source": [
    "**Ответ:** не изменится\n",
    "\n",
    "**Обоснование:**\n",
    "\n",
    "Возпользуемся свойствами матриц:\n",
    "\n",
    "$$\n",
    "(AB)^T=B^T A^T\n",
    "$$\n",
    "$$\n",
    "(AB)^{-1} = B^{-1} A^{-1}\n",
    "$$\n",
    "$$\n",
    "A A^{-1} = A^{-1} A = E\n",
    "$$\n",
    "$$\n",
    "AE = EA = A\n",
    "$$\n",
    "\n",
    "Определим полную формулу предсказаний для исходных данных:\n",
    "\n",
    "$$\n",
    "a = X(X^T X)^{-1} X^T y\n",
    "$$"
   ]
  },
  {
   "cell_type": "markdown",
   "metadata": {},
   "source": [
    "***Для обработанных данных:***\n",
    "\n",
    "Обозначим обратимую матрицу как $Р$ размерностью $(nxn)$. Умножим $X$ на $Р$:\n",
    "\n",
    "$$\n",
    "w = ((XP)^T XP)^{-1} (XP)^T y\n",
    "$$\n",
    "\n",
    "$$\n",
    "a = XP((XP)^T XP)^{-1} (XP)^T y\n",
    "$$\n",
    "\n",
    "Тогда:\n",
    "\n",
    "$$\n",
    "a = XP(P^T X^T XP)^{-1} P^T X^T y\n",
    "$$\n",
    "\n",
    "$$\n",
    "a = XP (X^T X P)^{-1} (P^T)^{-1} P^T X^T y\n",
    "$$\n",
    "\n",
    "$$\n",
    "a = XP (P)^{-1} (X^T X)^{-1} (P^T)^{-1} P^T X^T y\n",
    "$$\n",
    "\n",
    "$$\n",
    "a = XE (X^T X)^{-1} E X^T y\n",
    "$$\n",
    "\n",
    "$$\n",
    "a = X(X^T X)^{-1} X^T y\n",
    "$$\n",
    "\n",
    "То есть при изменении матриц, результат останется тем же, потому что изменение признаков в данном случае не изменяет алгоритм, по которому высчитываются метрики."
   ]
  },
  {
   "cell_type": "markdown",
   "metadata": {},
   "source": [
    "Размерности различных матриц:\n",
    "\n",
    "$X = (mxn)$\n",
    "\n",
    "$X^T = (nxm)$\n",
    "\n",
    "$X^TX = (nxm)*(mxn) = (nxn)$\n",
    "\n",
    "$P = (nxn)$\n",
    "\n",
    "$P^T = (nxn)$\n",
    "\n",
    "$XP = (mxn)*(nxn) = (mxn)$\n",
    "\n",
    "$(XP)^T = ((mxn)*(nxn))^T = (mxn)^T = (nxm)$\n",
    "\n",
    "$P^T X^T = (nxn)*(nxm) = (nxm)$"
   ]
  },
  {
   "cell_type": "markdown",
   "metadata": {},
   "source": [
    "## Алгоритм преобразования"
   ]
  },
  {
   "cell_type": "markdown",
   "metadata": {},
   "source": [
    "**Алгоритм и его обоснование**\n",
    "\n",
    "Как мы выяснили в прошлом этапе, от домножения на обратимую матрицу, результат не поменяется - модель будет работать все так же четко. Это и можно использовать для шифрования исходных данных - это не повлияет на качество работы модели, но будет гораздо меньше шансов найти исходные признаки - для этого нужно будет знать матрицу, на которую мы домножали."
   ]
  },
  {
   "cell_type": "markdown",
   "metadata": {},
   "source": [
    "## Проверка алгоритма"
   ]
  },
  {
   "cell_type": "markdown",
   "metadata": {},
   "source": [
    "Хочу проверить и наш алгоритм, который мы писали в последнем задании, и модель sklearn - в теории, они должны показать одинаковые результаты, и если так и будет, то для простоты написания будем использовать модель sklearn."
   ]
  },
  {
   "cell_type": "code",
   "execution_count": 15,
   "metadata": {},
   "outputs": [],
   "source": [
    "class LinearRegressor:\n",
    "    def fit(self, train_features, train_target):\n",
    "        X = np.concatenate((np.ones((train_features.shape[0], 1)), train_features), axis=1)\n",
    "        y = train_target\n",
    "        w = np.linalg.inv(X.T@X)@X.T@y\n",
    "        self.w = w[1:]\n",
    "        self.w0 = w[0]\n",
    "\n",
    "    def predict(self, test_features):\n",
    "        return test_features.dot(self.w) + self.w0"
   ]
  },
  {
   "cell_type": "markdown",
   "metadata": {},
   "source": [
    "Проверим для начала работу моделей на *сырых* данных"
   ]
  },
  {
   "cell_type": "code",
   "execution_count": 16,
   "metadata": {},
   "outputs": [
    {
     "name": "stdout",
     "output_type": "stream",
     "text": [
      "r2: 0.4230772749214825\n",
      "mse: 0.11955009374099718\n"
     ]
    }
   ],
   "source": [
    "model = LinearRegressor()\n",
    "model.fit(features_train, target_train)\n",
    "predictions = model.predict(features_valid)\n",
    "print('r2:', r2_score(target_valid, predictions))\n",
    "print('mse:', mean_squared_error(target_valid, predictions))"
   ]
  },
  {
   "cell_type": "code",
   "execution_count": 18,
   "metadata": {},
   "outputs": [
    {
     "name": "stdout",
     "output_type": "stream",
     "text": [
      "r2: 0.42307727492147584\n",
      "mse: 0.11955009374099854\n"
     ]
    }
   ],
   "source": [
    "model = LinearRegression()\n",
    "model.fit(features_train, target_train)\n",
    "predictions = model.predict(features_valid)\n",
    "print('r2:', r2_score(target_valid, predictions))\n",
    "print('mse:', mean_squared_error(target_valid, predictions))"
   ]
  },
  {
   "cell_type": "markdown",
   "metadata": {},
   "source": [
    "Разница незначительна $->$ используем. Необходимо создать обратимую матрицу: (P.S.: *квадратная матрица обратима, когда ее определитель не равен нулю*)"
   ]
  },
  {
   "cell_type": "code",
   "execution_count": 22,
   "metadata": {
    "scrolled": true
   },
   "outputs": [
    {
     "name": "stdout",
     "output_type": "stream",
     "text": [
      "0.8114105172664603\n",
      "False\n"
     ]
    }
   ],
   "source": [
    "invert_matr = np.random.normal(size=(features_train.shape[1], features_train.shape[1]))\n",
    "print(np.linalg.det(invert_matr))\n",
    "print(np.linalg.det(invert_matr)==0)\n",
    "features_train = features_train @ invert_matr\n",
    "features_valid = features_valid @ invert_matr"
   ]
  },
  {
   "cell_type": "markdown",
   "metadata": {},
   "source": [
    "Определитель нулю не равен, следовательно, у матрицы, которую мы используем для шифрования данных есть обратная, а мы можем идти дальше :)"
   ]
  },
  {
   "cell_type": "code",
   "execution_count": 23,
   "metadata": {},
   "outputs": [
    {
     "name": "stdout",
     "output_type": "stream",
     "text": [
      "r2: 0.42307727497001457\n",
      "mse: 0.11955009373094035\n"
     ]
    }
   ],
   "source": [
    "model = LinearRegression()\n",
    "model.fit(features_train, target_train)\n",
    "predictions = model.predict(features_valid)\n",
    "print('r2:', r2_score(target_valid, predictions))\n",
    "print('mse:', mean_squared_error(target_valid, predictions))"
   ]
  },
  {
   "cell_type": "markdown",
   "metadata": {},
   "source": [
    "Как мы видим, результаты даже немного улучшились, но эта разница заметна только в 13 знаке после запятой"
   ]
  },
  {
   "cell_type": "code",
   "execution_count": 24,
   "metadata": {},
   "outputs": [
    {
     "data": {
      "text/html": [
       "<div>\n",
       "<style scoped>\n",
       "    .dataframe tbody tr th:only-of-type {\n",
       "        vertical-align: middle;\n",
       "    }\n",
       "\n",
       "    .dataframe tbody tr th {\n",
       "        vertical-align: top;\n",
       "    }\n",
       "\n",
       "    .dataframe thead th {\n",
       "        text-align: right;\n",
       "    }\n",
       "</style>\n",
       "<table border=\"1\" class=\"dataframe\">\n",
       "  <thead>\n",
       "    <tr style=\"text-align: right;\">\n",
       "      <th></th>\n",
       "      <th>0</th>\n",
       "      <th>1</th>\n",
       "      <th>2</th>\n",
       "      <th>3</th>\n",
       "    </tr>\n",
       "  </thead>\n",
       "  <tbody>\n",
       "    <tr>\n",
       "      <th>4599</th>\n",
       "      <td>53458.827372</td>\n",
       "      <td>-107148.452821</td>\n",
       "      <td>29015.396082</td>\n",
       "      <td>-133840.255006</td>\n",
       "    </tr>\n",
       "    <tr>\n",
       "      <th>3882</th>\n",
       "      <td>49728.805459</td>\n",
       "      <td>-99684.309215</td>\n",
       "      <td>27015.915579</td>\n",
       "      <td>-124437.310388</td>\n",
       "    </tr>\n",
       "    <tr>\n",
       "      <th>4705</th>\n",
       "      <td>27465.558677</td>\n",
       "      <td>-55054.253153</td>\n",
       "      <td>14927.567411</td>\n",
       "      <td>-68706.730071</td>\n",
       "    </tr>\n",
       "    <tr>\n",
       "      <th>1400</th>\n",
       "      <td>38057.069731</td>\n",
       "      <td>-76294.585973</td>\n",
       "      <td>20714.181961</td>\n",
       "      <td>-95120.868078</td>\n",
       "    </tr>\n",
       "    <tr>\n",
       "      <th>728</th>\n",
       "      <td>31879.980919</td>\n",
       "      <td>-63908.955585</td>\n",
       "      <td>17352.572479</td>\n",
       "      <td>-79678.367428</td>\n",
       "    </tr>\n",
       "  </tbody>\n",
       "</table>\n",
       "</div>"
      ],
      "text/plain": [
       "                 0              1             2              3\n",
       "4599  53458.827372 -107148.452821  29015.396082 -133840.255006\n",
       "3882  49728.805459  -99684.309215  27015.915579 -124437.310388\n",
       "4705  27465.558677  -55054.253153  14927.567411  -68706.730071\n",
       "1400  38057.069731  -76294.585973  20714.181961  -95120.868078\n",
       "728   31879.980919  -63908.955585  17352.572479  -79678.367428"
      ]
     },
     "execution_count": 24,
     "metadata": {},
     "output_type": "execute_result"
    }
   ],
   "source": [
    "features_train.head()"
   ]
  },
  {
   "cell_type": "markdown",
   "metadata": {},
   "source": [
    "Однако смотря на таблицы с признаками, тяжело понять, где что - и без знания invert_matr - тяжело будет привести данные в изначальный вид."
   ]
  },
  {
   "cell_type": "markdown",
   "metadata": {},
   "source": [
    "### Итоговый вывод.\n",
    "\n",
    "В ходе работы как таковой обработки признаков не было, однако нам удалось понять и доказать, почему при домножении на обратимуюю матрицу результат работы алгоритма и метрики не поменяются, и как нам это может помочь в шифровании данных.\n",
    "\n",
    "Был предложен алгоритм шифрования в виде \"домножения на обратимую матрицу\", так как изменяет данные оно прилично, однако не зная самой матрицы - изначальные данные практически невозможно восстановить."
   ]
  }
 ],
 "metadata": {
  "ExecuteTimeLog": [
   {
    "duration": 1462,
    "start_time": "2023-09-07T10:27:40.255Z"
   },
   {
    "duration": 76,
    "start_time": "2023-09-07T10:27:42.881Z"
   },
   {
    "duration": 18,
    "start_time": "2023-09-07T10:27:43.525Z"
   },
   {
    "duration": 11,
    "start_time": "2023-09-07T10:27:44.269Z"
   },
   {
    "duration": 22,
    "start_time": "2023-09-07T10:27:44.548Z"
   },
   {
    "duration": 6,
    "start_time": "2023-09-07T10:27:44.859Z"
   },
   {
    "duration": 6,
    "start_time": "2023-09-07T10:27:45.347Z"
   },
   {
    "duration": 4,
    "start_time": "2023-09-07T10:27:46.091Z"
   },
   {
    "duration": 7,
    "start_time": "2023-09-07T10:27:46.775Z"
   },
   {
    "duration": 4,
    "start_time": "2023-09-07T10:27:57.665Z"
   },
   {
    "duration": 12,
    "start_time": "2023-09-07T10:27:58.821Z"
   },
   {
    "duration": 9,
    "start_time": "2023-09-07T10:27:59.619Z"
   },
   {
    "duration": 7,
    "start_time": "2023-09-07T10:27:59.974Z"
   },
   {
    "duration": 4,
    "start_time": "2023-09-07T10:28:00.647Z"
   },
   {
    "duration": 4,
    "start_time": "2023-09-07T10:28:10.566Z"
   },
   {
    "duration": 9,
    "start_time": "2023-09-07T10:28:11.830Z"
   },
   {
    "duration": 10,
    "start_time": "2023-09-07T10:28:12.285Z"
   },
   {
    "duration": 5,
    "start_time": "2023-09-07T10:28:14.910Z"
   },
   {
    "duration": 4,
    "start_time": "2023-09-07T10:28:45.500Z"
   },
   {
    "duration": 3,
    "start_time": "2023-09-07T10:29:11.971Z"
   },
   {
    "duration": 10,
    "start_time": "2023-09-07T10:29:54.895Z"
   },
   {
    "duration": 9,
    "start_time": "2023-09-07T10:29:56.285Z"
   }
  ],
  "kernelspec": {
   "display_name": "Python 3 (ipykernel)",
   "language": "python",
   "name": "python3"
  },
  "language_info": {
   "codemirror_mode": {
    "name": "ipython",
    "version": 3
   },
   "file_extension": ".py",
   "mimetype": "text/x-python",
   "name": "python",
   "nbconvert_exporter": "python",
   "pygments_lexer": "ipython3",
   "version": "3.10.7"
  },
  "toc": {
   "base_numbering": 1,
   "nav_menu": {},
   "number_sections": true,
   "sideBar": true,
   "skip_h1_title": true,
   "title_cell": "Содержание",
   "title_sidebar": "Contents",
   "toc_cell": true,
   "toc_position": {},
   "toc_section_display": true,
   "toc_window_display": true
  }
 },
 "nbformat": 4,
 "nbformat_minor": 2
}
