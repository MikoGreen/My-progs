{
 "cells": [
  {
   "cell_type": "markdown",
   "metadata": {},
   "source": [
    "# Выбор локации для скважины"
   ]
  },
  {
   "cell_type": "markdown",
   "metadata": {},
   "source": [
    "Допустим, вы работаете в добывающей компании «ГлавРосГосНефть». Нужно решить, где бурить новую скважину.\n",
    "\n",
    "Вам предоставлены пробы нефти в трёх регионах: в каждом 10 000 месторождений, где измерили качество нефти и объём её запасов. Постройте модель машинного обучения, которая поможет определить регион, где добыча принесёт наибольшую прибыль. Проанализируйте возможную прибыль и риски техникой *Bootstrap.*\n",
    "\n",
    "Шаги для выбора локации:\n",
    "\n",
    "- В избранном регионе ищут месторождения, для каждого определяют значения признаков;\n",
    "- Строят модель и оценивают объём запасов;\n",
    "- Выбирают месторождения с самым высокими оценками значений. Количество месторождений зависит от бюджета компании и стоимости разработки одной скважины;\n",
    "- Прибыль равна суммарной прибыли отобранных месторождений."
   ]
  },
  {
   "cell_type": "markdown",
   "metadata": {},
   "source": [
    "Допустим, вы работаете в добывающей компании «ГлавРосГосНефть». Нужно решить, где бурить новую скважину. \n",
    "Шаги для выбора локации обычно такие:\n",
    "В избранном регионе собирают характеристики для скважин: качество нефти и объём её запасов;\n",
    "Строят модель для предсказания объёма запасов в новых скважинах;\n",
    "Выбирают скважины с самыми высокими оценками значений;\n",
    "Определяют регион с максимальной суммарной прибылью отобранных скважин.\n",
    "Вам предоставлены пробы нефти в трёх регионах. Характеристики для каждой скважины в регионе уже известны. Постройте модель для определения региона, где добыча принесёт наибольшую прибыль. Проанализируйте возможную прибыль и риски техникой Bootstrap."
   ]
  },
  {
   "cell_type": "markdown",
   "metadata": {},
   "source": [
    "1. Загрузите и подготовьте данные. Поясните порядок действий.\n",
    "2. Обучите и проверьте модель для каждого региона:\n",
    "\n",
    "   - Разбейте данные на обучающую и валидационную выборки в соотношении 75:25.\n",
    "   - Обучите модель и сделайте предсказания на валидационной выборке.\n",
    "   - Сохраните предсказания и правильные ответы на валидационной выборке.\n",
    "   - Напечатайте на экране средний запас предсказанного сырья и RMSE модели.\n",
    "   - Проанализируйте результаты.\n",
    "   \n",
    "   \n",
    "3. Подготовьтесь к расчёту прибыли:\n",
    "\n",
    "   - Все ключевые значения для расчётов сохраните в отдельных переменных.\n",
    "   - Рассчитайте достаточный объём сырья для безубыточной разработки новой скважины. Сравните полученный объём сырья со средним запасом в каждом регионе. \n",
    "   - Напишите выводы по этапу подготовки расчёта прибыли.\n",
    "   \n",
    "   \n",
    "4. Напишите функцию для расчёта прибыли по выбранным скважинам и предсказаниям модели:\n",
    "\n",
    "   - Выберите скважины с максимальными значениями предсказаний. \n",
    "   - Просуммируйте целевое значение объёма сырья, соответствующее этим предсказаниям.\n",
    "   - Рассчитайте прибыль для полученного объёма сырья.\n",
    "   \n",
    "   \n",
    "5. Посчитайте риски и прибыль для каждого региона:\n",
    "\n",
    "   - Примените технику Bootstrap с 1000 выборок, чтобы найти распределение прибыли.\n",
    "   - Найдите среднюю прибыль, 95%-й доверительный интервал и риск убытков. Убыток — это отрицательная прибыль.\n",
    "   - Напишите выводы: предложите регион для разработки скважин и обоснуйте выбор."
   ]
  },
  {
   "cell_type": "markdown",
   "metadata": {},
   "source": [
    "**Условия задачи:**\n",
    "- Для обучения модели подходит только линейная регрессия (остальные — недостаточно предсказуемые).\n",
    "- При разведке региона исследуют 500 точек, из которых с помощью машинного обучения выбирают 200 лучших для разработки.\n",
    "- Бюджет на разработку скважин в регионе — 10 млрд рублей.\n",
    "- При нынешних ценах один баррель сырья приносит 450 рублей дохода. Доход с каждой единицы продукта составляет 450 тыс. рублей, поскольку объём указан в тысячах баррелей.\n",
    "- После оценки рисков нужно оставить лишь те регионы, в которых вероятность убытков меньше 2.5%. Среди них выбирают регион с наибольшей средней прибылью."
   ]
  },
  {
   "cell_type": "markdown",
   "metadata": {},
   "source": [
    "## Загрузка и подготовка данных"
   ]
  },
  {
   "cell_type": "code",
   "execution_count": 31,
   "metadata": {},
   "outputs": [],
   "source": [
    "import os\n",
    "import pandas as pd\n",
    "import seaborn as sns\n",
    "import matplotlib.pyplot as plt\n",
    "import numpy as np\n",
    "from sklearn.preprocessing import RobustScaler\n",
    "from sklearn.linear_model import LinearRegression\n",
    "from sklearn.model_selection import train_test_split\n",
    "from sklearn.metrics import mean_squared_error\n",
    "from scipy import stats\n",
    "\n",
    "import warnings\n",
    "warnings.filterwarnings('ignore')"
   ]
  },
  {
   "cell_type": "code",
   "execution_count": 3,
   "metadata": {},
   "outputs": [],
   "source": [
    "pth1 = '/datasets/'\n",
    "pth2 = 'C:/Users/Солнышко/Documents/'\n",
    "pth3 = 'C:/Users/Home/Documents/Яндекс/'\n",
    "\n",
    "if os.path.exists(pth1):\n",
    "    df1 = pd.read_csv(pth1 +'geo_data_0.csv')\n",
    "    df2 = pd.read_csv(pth1 +'geo_data_1.csv')\n",
    "    df3 = pd.read_csv(pth1 +'geo_data_2.csv')\n",
    "elif os.path.exists(pth2):\n",
    "    df1 = pd.read_csv(pth2 +'geo_data_0.csv')\n",
    "    df2 = pd.read_csv(pth2 +'geo_data_1.csv')\n",
    "    df3 = pd.read_csv(pth2 +'geo_data_2.csv')\n",
    "elif os.path.exists(pth3):\n",
    "    df1 = pd.read_csv(pth3 +'geo_data_0.csv')\n",
    "    df2 = pd.read_csv(pth3 +'geo_data_1.csv')\n",
    "    df3 = pd.read_csv(pth3 +'geo_data_2.csv')\n",
    "else:\n",
    "    print('Something is wrong')"
   ]
  },
  {
   "cell_type": "code",
   "execution_count": 4,
   "metadata": {},
   "outputs": [],
   "source": [
    "# сбор данных о датафрейме:\n",
    "def data_info(data):\n",
    "    print(f'''\n",
    "    ----------------------------------------\n",
    "    Первые строки датафрейма:\n",
    "    ----------------------------------------''')\n",
    "    display(data.head())\n",
    "    print(f'''\n",
    "    ----------------------------------------\n",
    "    Последние строки датафрейма:\n",
    "    ----------------------------------------''')\n",
    "    display(data.tail())\n",
    "    print(f'''\n",
    "    ----------------------------------------\n",
    "    Общая информация:\n",
    "    ----------------------------------------''')\n",
    "    print(data.info())\n",
    "    print(f'''\n",
    "    ----------------------------------------\n",
    "    Дупликаты:\n",
    "    ----------------------------------------''')\n",
    "    print(data.duplicated().sum())\n",
    "    print(f'''\n",
    "    ----------------------------------------\n",
    "    Пропуски:\n",
    "    ----------------------------------------''')\n",
    "    display(round(data.isna().sum(),))\n",
    "    print(f'''\n",
    "    ----------------------------------------\n",
    "    И немного статистических данных:\n",
    "    ----------------------------------------''')\n",
    "    print(data.describe(include='all'))      "
   ]
  },
  {
   "cell_type": "code",
   "execution_count": 5,
   "metadata": {
    "scrolled": false
   },
   "outputs": [
    {
     "name": "stdout",
     "output_type": "stream",
     "text": [
      "------------------------------------\n",
      "Регион 1\n",
      "\n",
      "    ----------------------------------------\n",
      "    Первые строки датафрейма:\n",
      "    ----------------------------------------\n"
     ]
    },
    {
     "data": {
      "text/html": [
       "<div>\n",
       "<style scoped>\n",
       "    .dataframe tbody tr th:only-of-type {\n",
       "        vertical-align: middle;\n",
       "    }\n",
       "\n",
       "    .dataframe tbody tr th {\n",
       "        vertical-align: top;\n",
       "    }\n",
       "\n",
       "    .dataframe thead th {\n",
       "        text-align: right;\n",
       "    }\n",
       "</style>\n",
       "<table border=\"1\" class=\"dataframe\">\n",
       "  <thead>\n",
       "    <tr style=\"text-align: right;\">\n",
       "      <th></th>\n",
       "      <th>id</th>\n",
       "      <th>f0</th>\n",
       "      <th>f1</th>\n",
       "      <th>f2</th>\n",
       "      <th>product</th>\n",
       "    </tr>\n",
       "  </thead>\n",
       "  <tbody>\n",
       "    <tr>\n",
       "      <th>0</th>\n",
       "      <td>txEyH</td>\n",
       "      <td>0.705745</td>\n",
       "      <td>-0.497823</td>\n",
       "      <td>1.221170</td>\n",
       "      <td>105.280062</td>\n",
       "    </tr>\n",
       "    <tr>\n",
       "      <th>1</th>\n",
       "      <td>2acmU</td>\n",
       "      <td>1.334711</td>\n",
       "      <td>-0.340164</td>\n",
       "      <td>4.365080</td>\n",
       "      <td>73.037750</td>\n",
       "    </tr>\n",
       "    <tr>\n",
       "      <th>2</th>\n",
       "      <td>409Wp</td>\n",
       "      <td>1.022732</td>\n",
       "      <td>0.151990</td>\n",
       "      <td>1.419926</td>\n",
       "      <td>85.265647</td>\n",
       "    </tr>\n",
       "    <tr>\n",
       "      <th>3</th>\n",
       "      <td>iJLyR</td>\n",
       "      <td>-0.032172</td>\n",
       "      <td>0.139033</td>\n",
       "      <td>2.978566</td>\n",
       "      <td>168.620776</td>\n",
       "    </tr>\n",
       "    <tr>\n",
       "      <th>4</th>\n",
       "      <td>Xdl7t</td>\n",
       "      <td>1.988431</td>\n",
       "      <td>0.155413</td>\n",
       "      <td>4.751769</td>\n",
       "      <td>154.036647</td>\n",
       "    </tr>\n",
       "  </tbody>\n",
       "</table>\n",
       "</div>"
      ],
      "text/plain": [
       "      id        f0        f1        f2     product\n",
       "0  txEyH  0.705745 -0.497823  1.221170  105.280062\n",
       "1  2acmU  1.334711 -0.340164  4.365080   73.037750\n",
       "2  409Wp  1.022732  0.151990  1.419926   85.265647\n",
       "3  iJLyR -0.032172  0.139033  2.978566  168.620776\n",
       "4  Xdl7t  1.988431  0.155413  4.751769  154.036647"
      ]
     },
     "metadata": {},
     "output_type": "display_data"
    },
    {
     "name": "stdout",
     "output_type": "stream",
     "text": [
      "\n",
      "    ----------------------------------------\n",
      "    Последние строки датафрейма:\n",
      "    ----------------------------------------\n"
     ]
    },
    {
     "data": {
      "text/html": [
       "<div>\n",
       "<style scoped>\n",
       "    .dataframe tbody tr th:only-of-type {\n",
       "        vertical-align: middle;\n",
       "    }\n",
       "\n",
       "    .dataframe tbody tr th {\n",
       "        vertical-align: top;\n",
       "    }\n",
       "\n",
       "    .dataframe thead th {\n",
       "        text-align: right;\n",
       "    }\n",
       "</style>\n",
       "<table border=\"1\" class=\"dataframe\">\n",
       "  <thead>\n",
       "    <tr style=\"text-align: right;\">\n",
       "      <th></th>\n",
       "      <th>id</th>\n",
       "      <th>f0</th>\n",
       "      <th>f1</th>\n",
       "      <th>f2</th>\n",
       "      <th>product</th>\n",
       "    </tr>\n",
       "  </thead>\n",
       "  <tbody>\n",
       "    <tr>\n",
       "      <th>99995</th>\n",
       "      <td>DLsed</td>\n",
       "      <td>0.971957</td>\n",
       "      <td>0.370953</td>\n",
       "      <td>6.075346</td>\n",
       "      <td>110.744026</td>\n",
       "    </tr>\n",
       "    <tr>\n",
       "      <th>99996</th>\n",
       "      <td>QKivN</td>\n",
       "      <td>1.392429</td>\n",
       "      <td>-0.382606</td>\n",
       "      <td>1.273912</td>\n",
       "      <td>122.346843</td>\n",
       "    </tr>\n",
       "    <tr>\n",
       "      <th>99997</th>\n",
       "      <td>3rnvd</td>\n",
       "      <td>1.029585</td>\n",
       "      <td>0.018787</td>\n",
       "      <td>-1.348308</td>\n",
       "      <td>64.375443</td>\n",
       "    </tr>\n",
       "    <tr>\n",
       "      <th>99998</th>\n",
       "      <td>7kl59</td>\n",
       "      <td>0.998163</td>\n",
       "      <td>-0.528582</td>\n",
       "      <td>1.583869</td>\n",
       "      <td>74.040764</td>\n",
       "    </tr>\n",
       "    <tr>\n",
       "      <th>99999</th>\n",
       "      <td>1CWhH</td>\n",
       "      <td>1.764754</td>\n",
       "      <td>-0.266417</td>\n",
       "      <td>5.722849</td>\n",
       "      <td>149.633246</td>\n",
       "    </tr>\n",
       "  </tbody>\n",
       "</table>\n",
       "</div>"
      ],
      "text/plain": [
       "          id        f0        f1        f2     product\n",
       "99995  DLsed  0.971957  0.370953  6.075346  110.744026\n",
       "99996  QKivN  1.392429 -0.382606  1.273912  122.346843\n",
       "99997  3rnvd  1.029585  0.018787 -1.348308   64.375443\n",
       "99998  7kl59  0.998163 -0.528582  1.583869   74.040764\n",
       "99999  1CWhH  1.764754 -0.266417  5.722849  149.633246"
      ]
     },
     "metadata": {},
     "output_type": "display_data"
    },
    {
     "name": "stdout",
     "output_type": "stream",
     "text": [
      "\n",
      "    ----------------------------------------\n",
      "    Общая информация:\n",
      "    ----------------------------------------\n",
      "<class 'pandas.core.frame.DataFrame'>\n",
      "RangeIndex: 100000 entries, 0 to 99999\n",
      "Data columns (total 5 columns):\n",
      " #   Column   Non-Null Count   Dtype  \n",
      "---  ------   --------------   -----  \n",
      " 0   id       100000 non-null  object \n",
      " 1   f0       100000 non-null  float64\n",
      " 2   f1       100000 non-null  float64\n",
      " 3   f2       100000 non-null  float64\n",
      " 4   product  100000 non-null  float64\n",
      "dtypes: float64(4), object(1)\n",
      "memory usage: 3.8+ MB\n",
      "None\n",
      "\n",
      "    ----------------------------------------\n",
      "    Дупликаты:\n",
      "    ----------------------------------------\n",
      "0\n",
      "\n",
      "    ----------------------------------------\n",
      "    Пропуски:\n",
      "    ----------------------------------------\n"
     ]
    },
    {
     "data": {
      "text/plain": [
       "id         0\n",
       "f0         0\n",
       "f1         0\n",
       "f2         0\n",
       "product    0\n",
       "dtype: int64"
      ]
     },
     "metadata": {},
     "output_type": "display_data"
    },
    {
     "name": "stdout",
     "output_type": "stream",
     "text": [
      "\n",
      "    ----------------------------------------\n",
      "    И немного статистических данных:\n",
      "    ----------------------------------------\n",
      "            id             f0             f1             f2        product\n",
      "count   100000  100000.000000  100000.000000  100000.000000  100000.000000\n",
      "unique   99990            NaN            NaN            NaN            NaN\n",
      "top      fiKDv            NaN            NaN            NaN            NaN\n",
      "freq         2            NaN            NaN            NaN            NaN\n",
      "mean       NaN       0.500419       0.250143       2.502647      92.500000\n",
      "std        NaN       0.871832       0.504433       3.248248      44.288691\n",
      "min        NaN      -1.408605      -0.848218     -12.088328       0.000000\n",
      "25%        NaN      -0.072580      -0.200881       0.287748      56.497507\n",
      "50%        NaN       0.502360       0.250252       2.515969      91.849972\n",
      "75%        NaN       1.073581       0.700646       4.715088     128.564089\n",
      "max        NaN       2.362331       1.343769      16.003790     185.364347\n"
     ]
    },
    {
     "data": {
      "text/plain": [
       "None"
      ]
     },
     "metadata": {},
     "output_type": "display_data"
    },
    {
     "name": "stdout",
     "output_type": "stream",
     "text": [
      "------------------------------------\n",
      "Регион 2\n",
      "\n",
      "    ----------------------------------------\n",
      "    Первые строки датафрейма:\n",
      "    ----------------------------------------\n"
     ]
    },
    {
     "data": {
      "text/html": [
       "<div>\n",
       "<style scoped>\n",
       "    .dataframe tbody tr th:only-of-type {\n",
       "        vertical-align: middle;\n",
       "    }\n",
       "\n",
       "    .dataframe tbody tr th {\n",
       "        vertical-align: top;\n",
       "    }\n",
       "\n",
       "    .dataframe thead th {\n",
       "        text-align: right;\n",
       "    }\n",
       "</style>\n",
       "<table border=\"1\" class=\"dataframe\">\n",
       "  <thead>\n",
       "    <tr style=\"text-align: right;\">\n",
       "      <th></th>\n",
       "      <th>id</th>\n",
       "      <th>f0</th>\n",
       "      <th>f1</th>\n",
       "      <th>f2</th>\n",
       "      <th>product</th>\n",
       "    </tr>\n",
       "  </thead>\n",
       "  <tbody>\n",
       "    <tr>\n",
       "      <th>0</th>\n",
       "      <td>kBEdx</td>\n",
       "      <td>-15.001348</td>\n",
       "      <td>-8.276000</td>\n",
       "      <td>-0.005876</td>\n",
       "      <td>3.179103</td>\n",
       "    </tr>\n",
       "    <tr>\n",
       "      <th>1</th>\n",
       "      <td>62mP7</td>\n",
       "      <td>14.272088</td>\n",
       "      <td>-3.475083</td>\n",
       "      <td>0.999183</td>\n",
       "      <td>26.953261</td>\n",
       "    </tr>\n",
       "    <tr>\n",
       "      <th>2</th>\n",
       "      <td>vyE1P</td>\n",
       "      <td>6.263187</td>\n",
       "      <td>-5.948386</td>\n",
       "      <td>5.001160</td>\n",
       "      <td>134.766305</td>\n",
       "    </tr>\n",
       "    <tr>\n",
       "      <th>3</th>\n",
       "      <td>KcrkZ</td>\n",
       "      <td>-13.081196</td>\n",
       "      <td>-11.506057</td>\n",
       "      <td>4.999415</td>\n",
       "      <td>137.945408</td>\n",
       "    </tr>\n",
       "    <tr>\n",
       "      <th>4</th>\n",
       "      <td>AHL4O</td>\n",
       "      <td>12.702195</td>\n",
       "      <td>-8.147433</td>\n",
       "      <td>5.004363</td>\n",
       "      <td>134.766305</td>\n",
       "    </tr>\n",
       "  </tbody>\n",
       "</table>\n",
       "</div>"
      ],
      "text/plain": [
       "      id         f0         f1        f2     product\n",
       "0  kBEdx -15.001348  -8.276000 -0.005876    3.179103\n",
       "1  62mP7  14.272088  -3.475083  0.999183   26.953261\n",
       "2  vyE1P   6.263187  -5.948386  5.001160  134.766305\n",
       "3  KcrkZ -13.081196 -11.506057  4.999415  137.945408\n",
       "4  AHL4O  12.702195  -8.147433  5.004363  134.766305"
      ]
     },
     "metadata": {},
     "output_type": "display_data"
    },
    {
     "name": "stdout",
     "output_type": "stream",
     "text": [
      "\n",
      "    ----------------------------------------\n",
      "    Последние строки датафрейма:\n",
      "    ----------------------------------------\n"
     ]
    },
    {
     "data": {
      "text/html": [
       "<div>\n",
       "<style scoped>\n",
       "    .dataframe tbody tr th:only-of-type {\n",
       "        vertical-align: middle;\n",
       "    }\n",
       "\n",
       "    .dataframe tbody tr th {\n",
       "        vertical-align: top;\n",
       "    }\n",
       "\n",
       "    .dataframe thead th {\n",
       "        text-align: right;\n",
       "    }\n",
       "</style>\n",
       "<table border=\"1\" class=\"dataframe\">\n",
       "  <thead>\n",
       "    <tr style=\"text-align: right;\">\n",
       "      <th></th>\n",
       "      <th>id</th>\n",
       "      <th>f0</th>\n",
       "      <th>f1</th>\n",
       "      <th>f2</th>\n",
       "      <th>product</th>\n",
       "    </tr>\n",
       "  </thead>\n",
       "  <tbody>\n",
       "    <tr>\n",
       "      <th>99995</th>\n",
       "      <td>QywKC</td>\n",
       "      <td>9.535637</td>\n",
       "      <td>-6.878139</td>\n",
       "      <td>1.998296</td>\n",
       "      <td>53.906522</td>\n",
       "    </tr>\n",
       "    <tr>\n",
       "      <th>99996</th>\n",
       "      <td>ptvty</td>\n",
       "      <td>-10.160631</td>\n",
       "      <td>-12.558096</td>\n",
       "      <td>5.005581</td>\n",
       "      <td>137.945408</td>\n",
       "    </tr>\n",
       "    <tr>\n",
       "      <th>99997</th>\n",
       "      <td>09gWa</td>\n",
       "      <td>-7.378891</td>\n",
       "      <td>-3.084104</td>\n",
       "      <td>4.998651</td>\n",
       "      <td>137.945408</td>\n",
       "    </tr>\n",
       "    <tr>\n",
       "      <th>99998</th>\n",
       "      <td>rqwUm</td>\n",
       "      <td>0.665714</td>\n",
       "      <td>-6.152593</td>\n",
       "      <td>1.000146</td>\n",
       "      <td>30.132364</td>\n",
       "    </tr>\n",
       "    <tr>\n",
       "      <th>99999</th>\n",
       "      <td>relB0</td>\n",
       "      <td>-3.426139</td>\n",
       "      <td>-7.794274</td>\n",
       "      <td>-0.003299</td>\n",
       "      <td>3.179103</td>\n",
       "    </tr>\n",
       "  </tbody>\n",
       "</table>\n",
       "</div>"
      ],
      "text/plain": [
       "          id         f0         f1        f2     product\n",
       "99995  QywKC   9.535637  -6.878139  1.998296   53.906522\n",
       "99996  ptvty -10.160631 -12.558096  5.005581  137.945408\n",
       "99997  09gWa  -7.378891  -3.084104  4.998651  137.945408\n",
       "99998  rqwUm   0.665714  -6.152593  1.000146   30.132364\n",
       "99999  relB0  -3.426139  -7.794274 -0.003299    3.179103"
      ]
     },
     "metadata": {},
     "output_type": "display_data"
    },
    {
     "name": "stdout",
     "output_type": "stream",
     "text": [
      "\n",
      "    ----------------------------------------\n",
      "    Общая информация:\n",
      "    ----------------------------------------\n",
      "<class 'pandas.core.frame.DataFrame'>\n",
      "RangeIndex: 100000 entries, 0 to 99999\n",
      "Data columns (total 5 columns):\n",
      " #   Column   Non-Null Count   Dtype  \n",
      "---  ------   --------------   -----  \n",
      " 0   id       100000 non-null  object \n",
      " 1   f0       100000 non-null  float64\n",
      " 2   f1       100000 non-null  float64\n",
      " 3   f2       100000 non-null  float64\n",
      " 4   product  100000 non-null  float64\n",
      "dtypes: float64(4), object(1)\n",
      "memory usage: 3.8+ MB\n",
      "None\n",
      "\n",
      "    ----------------------------------------\n",
      "    Дупликаты:\n",
      "    ----------------------------------------\n",
      "0\n",
      "\n",
      "    ----------------------------------------\n",
      "    Пропуски:\n",
      "    ----------------------------------------\n"
     ]
    },
    {
     "data": {
      "text/plain": [
       "id         0\n",
       "f0         0\n",
       "f1         0\n",
       "f2         0\n",
       "product    0\n",
       "dtype: int64"
      ]
     },
     "metadata": {},
     "output_type": "display_data"
    },
    {
     "name": "stdout",
     "output_type": "stream",
     "text": [
      "\n",
      "    ----------------------------------------\n",
      "    И немного статистических данных:\n",
      "    ----------------------------------------\n",
      "            id             f0             f1             f2        product\n",
      "count   100000  100000.000000  100000.000000  100000.000000  100000.000000\n",
      "unique   99996            NaN            NaN            NaN            NaN\n",
      "top      wt4Uk            NaN            NaN            NaN            NaN\n",
      "freq         2            NaN            NaN            NaN            NaN\n",
      "mean       NaN       1.141296      -4.796579       2.494541      68.825000\n",
      "std        NaN       8.965932       5.119872       1.703572      45.944423\n",
      "min        NaN     -31.609576     -26.358598      -0.018144       0.000000\n",
      "25%        NaN      -6.298551      -8.267985       1.000021      26.953261\n",
      "50%        NaN       1.153055      -4.813172       2.011479      57.085625\n",
      "75%        NaN       8.621015      -1.332816       3.999904     107.813044\n",
      "max        NaN      29.421755      18.734063       5.019721     137.945408\n"
     ]
    },
    {
     "data": {
      "text/plain": [
       "None"
      ]
     },
     "metadata": {},
     "output_type": "display_data"
    },
    {
     "name": "stdout",
     "output_type": "stream",
     "text": [
      "------------------------------------\n",
      "Регион 3\n",
      "\n",
      "    ----------------------------------------\n",
      "    Первые строки датафрейма:\n",
      "    ----------------------------------------\n"
     ]
    },
    {
     "data": {
      "text/html": [
       "<div>\n",
       "<style scoped>\n",
       "    .dataframe tbody tr th:only-of-type {\n",
       "        vertical-align: middle;\n",
       "    }\n",
       "\n",
       "    .dataframe tbody tr th {\n",
       "        vertical-align: top;\n",
       "    }\n",
       "\n",
       "    .dataframe thead th {\n",
       "        text-align: right;\n",
       "    }\n",
       "</style>\n",
       "<table border=\"1\" class=\"dataframe\">\n",
       "  <thead>\n",
       "    <tr style=\"text-align: right;\">\n",
       "      <th></th>\n",
       "      <th>id</th>\n",
       "      <th>f0</th>\n",
       "      <th>f1</th>\n",
       "      <th>f2</th>\n",
       "      <th>product</th>\n",
       "    </tr>\n",
       "  </thead>\n",
       "  <tbody>\n",
       "    <tr>\n",
       "      <th>0</th>\n",
       "      <td>fwXo0</td>\n",
       "      <td>-1.146987</td>\n",
       "      <td>0.963328</td>\n",
       "      <td>-0.828965</td>\n",
       "      <td>27.758673</td>\n",
       "    </tr>\n",
       "    <tr>\n",
       "      <th>1</th>\n",
       "      <td>WJtFt</td>\n",
       "      <td>0.262778</td>\n",
       "      <td>0.269839</td>\n",
       "      <td>-2.530187</td>\n",
       "      <td>56.069697</td>\n",
       "    </tr>\n",
       "    <tr>\n",
       "      <th>2</th>\n",
       "      <td>ovLUW</td>\n",
       "      <td>0.194587</td>\n",
       "      <td>0.289035</td>\n",
       "      <td>-5.586433</td>\n",
       "      <td>62.871910</td>\n",
       "    </tr>\n",
       "    <tr>\n",
       "      <th>3</th>\n",
       "      <td>q6cA6</td>\n",
       "      <td>2.236060</td>\n",
       "      <td>-0.553760</td>\n",
       "      <td>0.930038</td>\n",
       "      <td>114.572842</td>\n",
       "    </tr>\n",
       "    <tr>\n",
       "      <th>4</th>\n",
       "      <td>WPMUX</td>\n",
       "      <td>-0.515993</td>\n",
       "      <td>1.716266</td>\n",
       "      <td>5.899011</td>\n",
       "      <td>149.600746</td>\n",
       "    </tr>\n",
       "  </tbody>\n",
       "</table>\n",
       "</div>"
      ],
      "text/plain": [
       "      id        f0        f1        f2     product\n",
       "0  fwXo0 -1.146987  0.963328 -0.828965   27.758673\n",
       "1  WJtFt  0.262778  0.269839 -2.530187   56.069697\n",
       "2  ovLUW  0.194587  0.289035 -5.586433   62.871910\n",
       "3  q6cA6  2.236060 -0.553760  0.930038  114.572842\n",
       "4  WPMUX -0.515993  1.716266  5.899011  149.600746"
      ]
     },
     "metadata": {},
     "output_type": "display_data"
    },
    {
     "name": "stdout",
     "output_type": "stream",
     "text": [
      "\n",
      "    ----------------------------------------\n",
      "    Последние строки датафрейма:\n",
      "    ----------------------------------------\n"
     ]
    },
    {
     "data": {
      "text/html": [
       "<div>\n",
       "<style scoped>\n",
       "    .dataframe tbody tr th:only-of-type {\n",
       "        vertical-align: middle;\n",
       "    }\n",
       "\n",
       "    .dataframe tbody tr th {\n",
       "        vertical-align: top;\n",
       "    }\n",
       "\n",
       "    .dataframe thead th {\n",
       "        text-align: right;\n",
       "    }\n",
       "</style>\n",
       "<table border=\"1\" class=\"dataframe\">\n",
       "  <thead>\n",
       "    <tr style=\"text-align: right;\">\n",
       "      <th></th>\n",
       "      <th>id</th>\n",
       "      <th>f0</th>\n",
       "      <th>f1</th>\n",
       "      <th>f2</th>\n",
       "      <th>product</th>\n",
       "    </tr>\n",
       "  </thead>\n",
       "  <tbody>\n",
       "    <tr>\n",
       "      <th>99995</th>\n",
       "      <td>4GxBu</td>\n",
       "      <td>-1.777037</td>\n",
       "      <td>1.125220</td>\n",
       "      <td>6.263374</td>\n",
       "      <td>172.327046</td>\n",
       "    </tr>\n",
       "    <tr>\n",
       "      <th>99996</th>\n",
       "      <td>YKFjq</td>\n",
       "      <td>-1.261523</td>\n",
       "      <td>-0.894828</td>\n",
       "      <td>2.524545</td>\n",
       "      <td>138.748846</td>\n",
       "    </tr>\n",
       "    <tr>\n",
       "      <th>99997</th>\n",
       "      <td>tKPY3</td>\n",
       "      <td>-1.199934</td>\n",
       "      <td>-2.957637</td>\n",
       "      <td>5.219411</td>\n",
       "      <td>157.080080</td>\n",
       "    </tr>\n",
       "    <tr>\n",
       "      <th>99998</th>\n",
       "      <td>nmxp2</td>\n",
       "      <td>-2.419896</td>\n",
       "      <td>2.417221</td>\n",
       "      <td>-5.548444</td>\n",
       "      <td>51.795253</td>\n",
       "    </tr>\n",
       "    <tr>\n",
       "      <th>99999</th>\n",
       "      <td>V9kWn</td>\n",
       "      <td>-2.551421</td>\n",
       "      <td>-2.025625</td>\n",
       "      <td>6.090891</td>\n",
       "      <td>102.775767</td>\n",
       "    </tr>\n",
       "  </tbody>\n",
       "</table>\n",
       "</div>"
      ],
      "text/plain": [
       "          id        f0        f1        f2     product\n",
       "99995  4GxBu -1.777037  1.125220  6.263374  172.327046\n",
       "99996  YKFjq -1.261523 -0.894828  2.524545  138.748846\n",
       "99997  tKPY3 -1.199934 -2.957637  5.219411  157.080080\n",
       "99998  nmxp2 -2.419896  2.417221 -5.548444   51.795253\n",
       "99999  V9kWn -2.551421 -2.025625  6.090891  102.775767"
      ]
     },
     "metadata": {},
     "output_type": "display_data"
    },
    {
     "name": "stdout",
     "output_type": "stream",
     "text": [
      "\n",
      "    ----------------------------------------\n",
      "    Общая информация:\n",
      "    ----------------------------------------\n",
      "<class 'pandas.core.frame.DataFrame'>\n",
      "RangeIndex: 100000 entries, 0 to 99999\n",
      "Data columns (total 5 columns):\n",
      " #   Column   Non-Null Count   Dtype  \n",
      "---  ------   --------------   -----  \n",
      " 0   id       100000 non-null  object \n",
      " 1   f0       100000 non-null  float64\n",
      " 2   f1       100000 non-null  float64\n",
      " 3   f2       100000 non-null  float64\n",
      " 4   product  100000 non-null  float64\n",
      "dtypes: float64(4), object(1)\n",
      "memory usage: 3.8+ MB\n",
      "None\n",
      "\n",
      "    ----------------------------------------\n",
      "    Дупликаты:\n",
      "    ----------------------------------------\n",
      "0\n",
      "\n",
      "    ----------------------------------------\n",
      "    Пропуски:\n",
      "    ----------------------------------------\n"
     ]
    },
    {
     "data": {
      "text/plain": [
       "id         0\n",
       "f0         0\n",
       "f1         0\n",
       "f2         0\n",
       "product    0\n",
       "dtype: int64"
      ]
     },
     "metadata": {},
     "output_type": "display_data"
    },
    {
     "name": "stdout",
     "output_type": "stream",
     "text": [
      "\n",
      "    ----------------------------------------\n",
      "    И немного статистических данных:\n",
      "    ----------------------------------------\n",
      "            id             f0             f1             f2        product\n",
      "count   100000  100000.000000  100000.000000  100000.000000  100000.000000\n",
      "unique   99996            NaN            NaN            NaN            NaN\n",
      "top      VF7Jo            NaN            NaN            NaN            NaN\n",
      "freq         2            NaN            NaN            NaN            NaN\n",
      "mean       NaN       0.002023      -0.002081       2.495128      95.000000\n",
      "std        NaN       1.732045       1.730417       3.473445      44.749921\n",
      "min        NaN      -8.760004      -7.084020     -11.970335       0.000000\n",
      "25%        NaN      -1.162288      -1.174820       0.130359      59.450441\n",
      "50%        NaN       0.009424      -0.009482       2.484236      94.925613\n",
      "75%        NaN       1.158535       1.163678       4.858794     130.595027\n",
      "max        NaN       7.238262       7.844801      16.739402     190.029838\n"
     ]
    },
    {
     "data": {
      "text/plain": [
       "None"
      ]
     },
     "metadata": {},
     "output_type": "display_data"
    }
   ],
   "source": [
    "datas = [df1, df2, df3]\n",
    "df1.name, df2.name, df3.name = 'Регион 1','Регион 2','Регион 3'\n",
    "for database in datas:\n",
    "    print('------------------------------------')\n",
    "    print(database.name)\n",
    "    display(data_info(database))"
   ]
  },
  {
   "cell_type": "markdown",
   "metadata": {},
   "source": [
    "Мы видим идентификационный номер, три признака и объём запасов в скважине (тыс. баррелей). Мы видим, что все признаки во всех регионах имеют разные масштабы => нужно сделать масштабирование.\n",
    "\n",
    "Явных дупликатов нет."
   ]
  },
  {
   "cell_type": "code",
   "execution_count": 7,
   "metadata": {},
   "outputs": [
    {
     "name": "stdout",
     "output_type": "stream",
     "text": [
      "Регион 1\n",
      "Уникальные значения:99990\n",
      "Все значения: 100000\n",
      "Регион 2\n",
      "Уникальные значения:99996\n",
      "Все значения: 100000\n",
      "Регион 3\n",
      "Уникальные значения:99996\n",
      "Все значения: 100000\n"
     ]
    }
   ],
   "source": [
    "for database in datas:\n",
    "    print(f'''{database.name}\n",
    "Уникальные значения:{len(database['id'].unique())}\n",
    "Все значения: {len(database['id'])}''')"
   ]
  },
  {
   "cell_type": "markdown",
   "metadata": {},
   "source": [
    "Однако неявные дупликаты есть - несколько строк повторяются по колонке 'id'"
   ]
  },
  {
   "cell_type": "code",
   "execution_count": 8,
   "metadata": {},
   "outputs": [
    {
     "data": {
      "image/png": "[encoded data removed]",
      "text/plain": [
       "<Figure size 1800x800 with 8 Axes>"
      ]
     },
     "metadata": {},
     "output_type": "display_data"
    },
    {
     "data": {
      "image/png": "[encoded data removed]",
      "text/plain": [
       "<Figure size 1800x800 with 8 Axes>"
      ]
     },
     "metadata": {},
     "output_type": "display_data"
    },
    {
     "data": {
      "image/png": "[encoded data removed]",
      "text/plain": [
       "<Figure size 1800x800 with 8 Axes>"
      ]
     },
     "metadata": {},
     "output_type": "display_data"
    }
   ],
   "source": [
    "for database in datas:\n",
    "    fig, ax = plt.subplots(nrows=2, ncols=4, figsize=(18, 8))\n",
    "    fig.suptitle(database.name)\n",
    "    for i, feature in enumerate(database.columns[1:]):\n",
    "        sns.boxplot(x=database[feature], color='aquamarine', linewidth=0.6, width=0.4,ax=ax[0][i])\n",
    "        sns.histplot(x=database[feature], kde=True, color='aquamarine',ax=ax[1][i])"
   ]
  },
  {
   "cell_type": "markdown",
   "metadata": {},
   "source": [
    "Достаточно сильно бросается в глаза корреляция признаков f2 и product в Регионе №2."
   ]
  },
  {
   "cell_type": "code",
   "execution_count": 50,
   "metadata": {
    "scrolled": false
   },
   "outputs": [
    {
     "data": {
      "image/png": "[encoded data removed]",
      "text/plain": [
       "<Figure size 640x480 with 2 Axes>"
      ]
     },
     "metadata": {},
     "output_type": "display_data"
    },
    {
     "data": {
      "image/png": "[encoded data removed]",
      "text/plain": [
       "<Figure size 640x480 with 2 Axes>"
      ]
     },
     "metadata": {},
     "output_type": "display_data"
    },
    {
     "data": {
      "image/png": "[encoded data removed]",
      "text/plain": [
       "<Figure size 640x480 with 2 Axes>"
      ]
     },
     "metadata": {},
     "output_type": "display_data"
    }
   ],
   "source": [
    "for database in datas:\n",
    "    fig, ax = plt.subplots(nrows=1, ncols=1)\n",
    "    fig.suptitle(database.name)\n",
    "    sns.heatmap(database.corr(), annot=True, cmap='YlGnBu')\n",
    "    plt.show()"
   ]
  },
  {
   "cell_type": "markdown",
   "metadata": {},
   "source": [
    "В **первом** регионе:\n",
    "\n",
    "- прослеживается отрицательная коррелиция между `f0` и `f1`\n",
    "- прослеживается положительная корреляция между `f2` и `product` - то есть, зная признак `f2` мы можем чуть более точно сказать, как будет изменяться количество наших запасов\n",
    "\n",
    "\n",
    "Во **втором** регионе:\n",
    "\n",
    "- видно прямую корреляцию между `f2` и `product`, остальные данные либо не коррелируют практически вообще, либо корреляция сложная, и так просто её не увидеть\n",
    "\n",
    "\n",
    "В **третьем** регионе:\n",
    "\n",
    "- также сильно на `product` влияет признак `f2`\n",
    "\n",
    "\n",
    "Можем сделать вывод, что зная признак `f2`, чем бы он не являлся, мы можем немного точнее оценить, каким будет распределение ресурса в этом регионе.\n",
    "\n",
    "В данных достаточно много выбросов, поэтому масштабирование будем проводить RobustScaler, так как он более устойчив к выбросам. Однако перед этим избавимся от колонки '*id*', так как она неинформативна"
   ]
  },
  {
   "cell_type": "code",
   "execution_count": 16,
   "metadata": {},
   "outputs": [],
   "source": [
    "df1 = df1.drop('id',axis=1)\n",
    "df2 = df2.drop('id',axis=1)\n",
    "df3 = df3.drop('id',axis=1)"
   ]
  },
  {
   "cell_type": "markdown",
   "metadata": {},
   "source": [
    "Таким образом, данные оценены и убраны ненужные колонки - можно приступать к обучению модели."
   ]
  },
  {
   "cell_type": "markdown",
   "metadata": {},
   "source": [
    "## Обучение и проверка модели"
   ]
  },
  {
   "cell_type": "code",
   "execution_count": 54,
   "metadata": {},
   "outputs": [],
   "source": [
    "# функция для обучения модели\n",
    "scaler = RobustScaler()\n",
    "\n",
    "def predict_model(database):\n",
    "    \n",
    "    features = database.drop('product', axis=1)\n",
    "    target = database['product']\n",
    "    features_train, features_valid, target_train, target_valid = train_test_split(features,\n",
    "                                                                              target, test_size=0.25, random_state=12345)\n",
    "    # Также проведем масштабирование признаков, с учетом выбросов:\n",
    "    features_train = pd.DataFrame(scaler.fit_transform(features_train))\n",
    "    features_valid = pd.DataFrame(scaler.transform(features_valid))\n",
    "    \n",
    "    model = LinearRegression()\n",
    "    model.fit(features_train, target_train)\n",
    "    predictions = model.predict(features_valid)\n",
    "    \n",
    "    return predictions, target_valid\n",
    "\n",
    "def print_stats(target, pred):\n",
    "    print(f'''rmse: {(mean_squared_error(target, pred))**0.5}\n",
    "-----------------------------------------\n",
    "Фактический средний запас сырья: {target.mean()}\n",
    "Предсказанный средний: {pred.mean()}\n",
    "Разница между ними: {target.mean()-pred.mean()}\n",
    "-----------------------------------------\n",
    "Фактический медианный: {target.median()}\n",
    "Предсказанный медианный: {np.median(pred)}\n",
    "Разница между ними: {target.median()-np.median(pred)}''')"
   ]
  },
  {
   "cell_type": "markdown",
   "metadata": {},
   "source": [
    "### Первый регион"
   ]
  },
  {
   "cell_type": "markdown",
   "metadata": {},
   "source": [
    "Первоначально разделим данные на признаки и таргет, а также на обучающую и валидационную выборки:"
   ]
  },
  {
   "cell_type": "code",
   "execution_count": 20,
   "metadata": {
    "scrolled": false
   },
   "outputs": [
    {
     "data": {
      "image/png": "[encoded data removed]",
      "text/plain": [
       "<Figure size 1000x600 with 1 Axes>"
      ]
     },
     "metadata": {},
     "output_type": "display_data"
    }
   ],
   "source": [
    "predictions_f, target_valid_f = predict_model(df1)\n",
    "fig = plt.figure(figsize=(5,3), dpi=200)\n",
    "sns.histplot(x=predictions_f, kde=True, color='gold')\n",
    "sns.histplot(x=target_valid_f, kde=True, color='deepskyblue')\n",
    "plt.show()"
   ]
  },
  {
   "cell_type": "markdown",
   "metadata": {},
   "source": [
    "Средний баланс предсказанного сырья:"
   ]
  },
  {
   "cell_type": "code",
   "execution_count": 56,
   "metadata": {},
   "outputs": [
    {
     "name": "stdout",
     "output_type": "stream",
     "text": [
      "rmse: 37.5794217150813\n",
      "-----------------------------------------\n",
      "Фактический средний запас сырья: 92.07859674082927\n",
      "Предсказанный средний: 92.59256778438035\n",
      "Разница между ними: -0.5139710435510807\n",
      "-----------------------------------------\n",
      "Фактический медианный: 90.89766445926102\n",
      "Предсказанный медианный: 92.66188351790805\n",
      "Разница между ними: -1.7642190586470292\n"
     ]
    }
   ],
   "source": [
    "print_stats(target_valid_f, predictions_f)"
   ]
  },
  {
   "cell_type": "markdown",
   "metadata": {},
   "source": [
    "Среднее и медиана практически совпадают, однако, смотря на график, модель не до конца поняла взаимосвязи в данных."
   ]
  },
  {
   "cell_type": "markdown",
   "metadata": {},
   "source": [
    "### Второй регион"
   ]
  },
  {
   "cell_type": "markdown",
   "metadata": {},
   "source": [
    "Аналогично, сначала подготовим и разделим выборки:"
   ]
  },
  {
   "cell_type": "code",
   "execution_count": 22,
   "metadata": {},
   "outputs": [
    {
     "data": {
      "image/png": "[encoded data removed]",
      "text/plain": [
       "<Figure size 1000x600 with 1 Axes>"
      ]
     },
     "metadata": {},
     "output_type": "display_data"
    }
   ],
   "source": [
    "predictions_s, target_valid_s = predict_model(df2)\n",
    "fig = plt.figure(figsize=(5,3), dpi=200)\n",
    "sns.histplot(x=predictions_s, kde=True, color='gold')\n",
    "sns.histplot(x=target_valid_s, kde=True, color='deepskyblue')\n",
    "plt.show()"
   ]
  },
  {
   "cell_type": "code",
   "execution_count": 53,
   "metadata": {},
   "outputs": [
    {
     "name": "stdout",
     "output_type": "stream",
     "text": [
      "rmse: 0.8930992867756167\n",
      "-----------------------------------------\n",
      "Фактический средний запас сырья: 68.72313602435997\n",
      "Предсказанный средний: 68.72854689544602\n",
      "Разница между ними: -0.00541087108604188\n",
      "-----------------------------------------\n",
      "Фактический медианный: 57.08562464628662\n",
      "Предсказанный медианный: 57.851585882426974\n",
      "Разница между ними: -0.765961236140356\n"
     ]
    }
   ],
   "source": [
    "print_stats(target_valid_s, predictions_s)"
   ]
  },
  {
   "cell_type": "markdown",
   "metadata": {},
   "source": [
    "Здесь мы видим достаточно низкий показатель ошибки - меньше единицы, что говорит о хорошем понимании модели данных этого региона (наглядно видно прямую корреляцию признаков f2 и product). Однако фактически, в этом регионе большая медиана меньше среднего, следовательно, достаточная часть скважин - находятся на уровне 57 тыс. баррелей."
   ]
  },
  {
   "cell_type": "markdown",
   "metadata": {},
   "source": [
    "### Третий регион"
   ]
  },
  {
   "cell_type": "code",
   "execution_count": 24,
   "metadata": {},
   "outputs": [
    {
     "data": {
      "image/png": "[encoded data removed]",
      "text/plain": [
       "<Figure size 1000x600 with 1 Axes>"
      ]
     },
     "metadata": {},
     "output_type": "display_data"
    }
   ],
   "source": [
    "predictions_t, target_valid_t = predict_model(df3)\n",
    "fig = plt.figure(figsize=(5,3), dpi=200)\n",
    "sns.histplot(x=predictions_t, kde=True, color='gold')\n",
    "sns.histplot(x=target_valid_t, kde=True, color='deepskyblue')\n",
    "plt.show()"
   ]
  },
  {
   "cell_type": "code",
   "execution_count": 58,
   "metadata": {},
   "outputs": [
    {
     "name": "stdout",
     "output_type": "stream",
     "text": [
      "rmse: 40.02970873393434\n",
      "-----------------------------------------\n",
      "Фактический средний запас сырья: 94.88423280885438\n",
      "Предсказанный средний: 94.96504596800489\n",
      "Разница между ними: -0.0808131591505088\n",
      "-----------------------------------------\n",
      "Фактический медианный: 94.97946818189787\n",
      "Предсказанный медианный: 95.03120442123549\n",
      "Разница между ними: -0.05173623933761462\n"
     ]
    }
   ],
   "source": [
    "print_stats(target_valid_t, predictions_t)"
   ]
  },
  {
   "cell_type": "markdown",
   "metadata": {},
   "source": [
    "В третьем регионе ошибка больше, чем в первом и втором. Однако предсказанный средний запас сырья в целом выше."
   ]
  },
  {
   "cell_type": "markdown",
   "metadata": {},
   "source": [
    "**Промежуточный вывод:**\n",
    "\n",
    "Исходя из ныне имеющихся исследований, наименьшая ошибка rmse - во втором регионе. Скорее всего это произошло из-за прямой корреляции признака f2 и product. Но стоит учитывать, что и средний запас сырья там ниже в полтора раза. Однако, риски там тоже меньше - следовательно, это *более устойчивый для бизнеса вариант*."
   ]
  },
  {
   "cell_type": "markdown",
   "metadata": {},
   "source": [
    "## Подготовка к расчёту прибыли"
   ]
  },
  {
   "cell_type": "code",
   "execution_count": 59,
   "metadata": {},
   "outputs": [],
   "source": [
    "BUDGET = 10**10\n",
    "CELL_COST = 45 * 10**4"
   ]
  },
  {
   "cell_type": "markdown",
   "metadata": {},
   "source": [
    "Если смотреть в общем, среднее количество вырабатываемой продукции по всему региону должно быть не менее 22.223, чтобы окупить все затраты на постройку:"
   ]
  },
  {
   "cell_type": "code",
   "execution_count": 60,
   "metadata": {},
   "outputs": [
    {
     "data": {
      "text/plain": [
       "22222.222222222223"
      ]
     },
     "execution_count": 60,
     "metadata": {},
     "output_type": "execute_result"
    }
   ],
   "source": [
    "BUDGET/CELL_COST"
   ]
  },
  {
   "cell_type": "markdown",
   "metadata": {},
   "source": [
    "То есть, необходимо, чтобы 200 точек принесли не менее 111 единиц 'product' каждая (в пересчете - (111x200)*cell_cost >= budget) для безубыточного производства."
   ]
  },
  {
   "cell_type": "code",
   "execution_count": 61,
   "metadata": {},
   "outputs": [
    {
     "data": {
      "text/plain": [
       "111.11111111111111"
      ]
     },
     "execution_count": 61,
     "metadata": {},
     "output_type": "execute_result"
    }
   ],
   "source": [
    "(BUDGET/CELL_COST)/200"
   ]
  },
  {
   "cell_type": "markdown",
   "metadata": {},
   "source": [
    "**Промежуточный вывод**\n",
    "\n",
    "Из всех регионов, ни один не удовлетворяет условию, а в регионе №2 средний запас сырья в 1,5 раза меньше необходимого для безубыточного производства"
   ]
  },
  {
   "cell_type": "markdown",
   "metadata": {},
   "source": [
    "## Расчёт прибыли и рисков "
   ]
  },
  {
   "cell_type": "markdown",
   "metadata": {},
   "source": [
    "Для безубыточной добычи нефти необходимо, чтобы средние запасы в предполагаемом регионе были не менее 22.222"
   ]
  },
  {
   "cell_type": "code",
   "execution_count": 62,
   "metadata": {},
   "outputs": [],
   "source": [
    "# функция для вычисления дохода:\n",
    "def revenue(target, probabilities):\n",
    "    prob_sorted = probabilities.sort_values(ascending=False) # сортируем по убыванию\n",
    "    selected = target[prob_sorted.index][:200] # выбираем 200 лучших\n",
    "    return ((selected.sum()*CELL_COST) - BUDGET)"
   ]
  },
  {
   "cell_type": "code",
   "execution_count": 63,
   "metadata": {
    "scrolled": true
   },
   "outputs": [
    {
     "name": "stdout",
     "output_type": "stream",
     "text": [
      "Для региона 1:\n",
      "    Средняя выручка: 425938526.91059244\n",
      "    Доверительный интервал: -102090094.83793654:947976353.3583689\n",
      "    Риск: 6.0%\n",
      "    ------------------------------------------\n",
      "Для региона 2:\n",
      "    Средняя выручка: 518259493.6973249\n",
      "    Доверительный интервал: 128123231.43308444:953612982.0669085\n",
      "    Риск: 0.3%\n",
      "    ------------------------------------------\n",
      "Для региона 3:\n",
      "    Средняя выручка: 420194005.3440501\n",
      "    Доверительный интервал: -115852609.16001143:989629939.8445739\n",
      "    Риск: 6.2%\n",
      "    ------------------------------------------\n"
     ]
    }
   ],
   "source": [
    "state = np.random.RandomState(12345)\n",
    "region = 1\n",
    "# посчитаем прибыль и риски для всех трех регионов:\n",
    "for database in [df1, df2, df3]:\n",
    "\n",
    "    # определяем признаки и целевой признак:\n",
    "    features = database.drop('product', axis=1)\n",
    "    target = database['product']\n",
    "    \n",
    "    # разделяем датафрейм на выборки:\n",
    "    features_train, features_valid, target_train, target_valid = train_test_split(features,\n",
    "                                                                              target, test_size=0.25, random_state=12345)\n",
    "    \n",
    "    # масштабируем признаки:\n",
    "    features_train = pd.DataFrame(scaler.fit_transform(features_train))\n",
    "    features_valid = pd.DataFrame(scaler.transform(features_valid))\n",
    "    \n",
    "    # обучаем модель:\n",
    "    model = LinearRegression()\n",
    "    model.fit(features_train, target_train)\n",
    "    \n",
    "    # предсказываем целевой признак на валидационной выборке:\n",
    "    predictions = pd.Series(model.predict(features_valid))\n",
    "    target_valid_pred = pd.Series(target_valid).reset_index(drop=True)\n",
    "    \n",
    "    values = []\n",
    "    \n",
    "    # bootstrap:\n",
    "    for i in range(1000):\n",
    "        target_subsample = target_valid_pred.sample(n=500, replace=True, random_state=state)\n",
    "        probs_subsample = predictions[target_subsample.index]\n",
    "        values.append(revenue(target_subsample, probs_subsample))\n",
    "               \n",
    "    values = pd.Series(values)\n",
    "    lower = values.quantile(0.025)\n",
    "    upper = values.quantile(0.975)\n",
    "    risks = values.apply(lambda x: x < 0).sum()/len(values)*100\n",
    "    \n",
    "    # выводим все данные\n",
    "    print(f'''Для региона {region}:\n",
    "    Средняя выручка: {values.mean()}\n",
    "    Доверительный интервал: {lower}:{upper}\n",
    "    Риск: {risks}%\n",
    "    ------------------------------------------''')\n",
    "    region += 1"
   ]
  },
  {
   "cell_type": "markdown",
   "metadata": {},
   "source": [
    "В данном случае, единственный возможный вариант для развития этой промышленности - второй регион, в котором и средняя выручка больше, чем  в остальных, и риски меньше. \n",
    "\n",
    "В первом и третьем регионах - риски > 2.5%, следовательно, они уже не подходят под искомые параметры."
   ]
  },
  {
   "cell_type": "markdown",
   "metadata": {},
   "source": [
    "# Итоговый вывод:\n",
    "\n",
    "В ходе работы нам повезло (и данные у нас уже были подготовлены). Мы изучили их, посмотрели корреляцию данных - напрямую на количество продукта в регионах влияет признак `f2` - зная его, мы можем гораздо точнее предсказать объемы нашего ресурса.\n",
    "\n",
    "Проведя исследование и обучив модель `Линейной регрессии` мы получили, что наименее рискованный (но и наименее наполненный) регион - второй. Он единстенный прошел порог риска (`=0.3%`) и средняя выручка там (предполагаемо) будет больше, чем в остальных 2х регионах, и доверительный интервал единственный не уходит в минус, следовательно именно ***второй регион можно рекомендовать к застройке***."
   ]
  }
 ],
 "metadata": {
  "ExecuteTimeLog": [
   {
    "duration": 378,
    "start_time": "2023-06-15T10:47:16.814Z"
   },
   {
    "duration": 1494,
    "start_time": "2023-06-15T10:49:32.404Z"
   },
   {
    "duration": 17,
    "start_time": "2023-06-15T10:50:10.135Z"
   },
   {
    "duration": 8,
    "start_time": "2023-06-15T10:50:21.918Z"
   },
   {
    "duration": 8,
    "start_time": "2023-06-15T10:50:27.092Z"
   },
   {
    "duration": 125,
    "start_time": "2023-06-15T10:52:49.627Z"
   },
   {
    "duration": 118,
    "start_time": "2023-06-15T10:53:29.439Z"
   },
   {
    "duration": 145,
    "start_time": "2023-06-15T10:53:37.995Z"
   },
   {
    "duration": 37,
    "start_time": "2023-06-15T10:54:08.039Z"
   },
   {
    "duration": 36,
    "start_time": "2023-06-15T10:54:11.830Z"
   },
   {
    "duration": 13,
    "start_time": "2023-06-15T10:54:23.774Z"
   },
   {
    "duration": 28,
    "start_time": "2023-06-15T10:54:25.816Z"
   },
   {
    "duration": 30,
    "start_time": "2023-06-15T10:54:29.214Z"
   },
   {
    "duration": 41,
    "start_time": "2023-06-15T10:54:36.638Z"
   },
   {
    "duration": 444,
    "start_time": "2023-06-15T13:00:16.243Z"
   },
   {
    "duration": 1655,
    "start_time": "2023-06-15T13:00:16.810Z"
   },
   {
    "duration": 17,
    "start_time": "2023-06-15T13:00:18.468Z"
   },
   {
    "duration": 17,
    "start_time": "2023-06-15T13:00:18.487Z"
   },
   {
    "duration": 12,
    "start_time": "2023-06-15T13:00:18.523Z"
   },
   {
    "duration": 51,
    "start_time": "2023-06-15T13:00:22.695Z"
   },
   {
    "duration": 45,
    "start_time": "2023-06-15T13:00:23.217Z"
   },
   {
    "duration": 56,
    "start_time": "2023-06-15T13:01:41.213Z"
   },
   {
    "duration": 71,
    "start_time": "2023-06-15T13:01:54.541Z"
   },
   {
    "duration": 532,
    "start_time": "2023-06-15T17:20:45.211Z"
   },
   {
    "duration": 1050,
    "start_time": "2023-06-15T17:20:46.340Z"
   },
   {
    "duration": 23,
    "start_time": "2023-06-15T17:20:47.393Z"
   },
   {
    "duration": 61,
    "start_time": "2023-06-15T17:21:37.251Z"
   },
   {
    "duration": 9,
    "start_time": "2023-06-15T17:21:46.002Z"
   },
   {
    "duration": 10,
    "start_time": "2023-06-15T17:22:41.622Z"
   },
   {
    "duration": 120,
    "start_time": "2023-06-15T17:22:48.114Z"
   },
   {
    "duration": 122,
    "start_time": "2023-06-15T17:23:00.002Z"
   },
   {
    "duration": 120,
    "start_time": "2023-06-15T17:23:06.170Z"
   },
   {
    "duration": 133,
    "start_time": "2023-06-15T17:23:46.110Z"
   },
   {
    "duration": 325,
    "start_time": "2023-06-15T17:24:14.406Z"
   },
   {
    "duration": 183,
    "start_time": "2023-06-15T17:24:18.969Z"
   },
   {
    "duration": 863,
    "start_time": "2023-06-15T17:25:48.849Z"
   },
   {
    "duration": 451,
    "start_time": "2023-06-15T17:25:53.256Z"
   },
   {
    "duration": 135,
    "start_time": "2023-06-15T17:26:11.561Z"
   },
   {
    "duration": 408,
    "start_time": "2023-06-15T17:26:16.747Z"
   },
   {
    "duration": 352,
    "start_time": "2023-06-15T17:26:36.826Z"
   },
   {
    "duration": 345,
    "start_time": "2023-06-15T17:26:41.750Z"
   },
   {
    "duration": 372,
    "start_time": "2023-06-16T09:55:59.750Z"
   },
   {
    "duration": 787,
    "start_time": "2023-06-16T09:56:00.587Z"
   },
   {
    "duration": 194,
    "start_time": "2023-06-16T09:56:01.376Z"
   },
   {
    "duration": 718,
    "start_time": "2023-06-16T09:56:18.316Z"
   },
   {
    "duration": 317,
    "start_time": "2023-06-16T09:56:20.790Z"
   },
   {
    "duration": 321,
    "start_time": "2023-06-16T09:56:21.867Z"
   },
   {
    "duration": 420,
    "start_time": "2023-06-16T10:06:34.560Z"
   },
   {
    "duration": 342,
    "start_time": "2023-06-16T10:06:38.918Z"
   },
   {
    "duration": 73,
    "start_time": "2023-06-16T10:06:42.924Z"
   },
   {
    "duration": 325,
    "start_time": "2023-06-16T10:06:45.738Z"
   },
   {
    "duration": 320,
    "start_time": "2023-06-16T10:06:59.375Z"
   },
   {
    "duration": 460,
    "start_time": "2023-06-16T10:07:06.549Z"
   },
   {
    "duration": 455,
    "start_time": "2023-06-16T10:10:30.222Z"
   },
   {
    "duration": 587,
    "start_time": "2023-06-16T10:10:52.088Z"
   },
   {
    "duration": 2637,
    "start_time": "2023-06-16T10:11:08.172Z"
   },
   {
    "duration": 528,
    "start_time": "2023-06-16T10:12:02.341Z"
   },
   {
    "duration": 685,
    "start_time": "2023-06-16T10:12:12.260Z"
   },
   {
    "duration": 13,
    "start_time": "2023-06-16T10:13:21.774Z"
   },
   {
    "duration": 12,
    "start_time": "2023-06-16T10:13:31.701Z"
   },
   {
    "duration": 12,
    "start_time": "2023-06-16T10:13:38.122Z"
   },
   {
    "duration": 2736,
    "start_time": "2023-06-16T10:13:47.740Z"
   },
   {
    "duration": 11,
    "start_time": "2023-06-16T10:14:25.446Z"
   },
   {
    "duration": 3,
    "start_time": "2023-06-16T10:14:46.010Z"
   },
   {
    "duration": 3273,
    "start_time": "2023-06-16T10:14:48.770Z"
   },
   {
    "duration": 3167,
    "start_time": "2023-06-16T10:15:00.048Z"
   },
   {
    "duration": 3406,
    "start_time": "2023-06-16T10:15:06.021Z"
   },
   {
    "duration": 3179,
    "start_time": "2023-06-16T10:15:47.865Z"
   },
   {
    "duration": 3462,
    "start_time": "2023-06-16T10:16:02.917Z"
   },
   {
    "duration": 3454,
    "start_time": "2023-06-16T10:16:13.863Z"
   },
   {
    "duration": 3313,
    "start_time": "2023-06-16T10:16:34.907Z"
   },
   {
    "duration": 3539,
    "start_time": "2023-06-16T10:16:54.312Z"
   },
   {
    "duration": 3602,
    "start_time": "2023-06-16T10:17:30.405Z"
   },
   {
    "duration": 3062,
    "start_time": "2023-06-16T10:17:50.514Z"
   },
   {
    "duration": 3153,
    "start_time": "2023-06-16T10:18:02.050Z"
   },
   {
    "duration": 10225,
    "start_time": "2023-06-16T10:18:56.661Z"
   },
   {
    "duration": 674,
    "start_time": "2023-06-16T10:19:49.069Z"
   },
   {
    "duration": 10369,
    "start_time": "2023-06-16T10:19:53.845Z"
   },
   {
    "duration": 739,
    "start_time": "2023-06-16T10:21:10.219Z"
   },
   {
    "duration": 10172,
    "start_time": "2023-06-16T10:21:14.713Z"
   },
   {
    "duration": 10152,
    "start_time": "2023-06-16T10:21:33.059Z"
   },
   {
    "duration": 383,
    "start_time": "2023-06-16T10:22:43.350Z"
   },
   {
    "duration": 10179,
    "start_time": "2023-06-16T10:22:47.410Z"
   },
   {
    "duration": 592,
    "start_time": "2023-06-16T10:28:37.321Z"
   },
   {
    "duration": 43,
    "start_time": "2023-06-16T10:29:19.325Z"
   },
   {
    "duration": 17,
    "start_time": "2023-06-16T10:29:38.021Z"
   },
   {
    "duration": 130,
    "start_time": "2023-06-16T10:31:03.146Z"
   },
   {
    "duration": 162,
    "start_time": "2023-06-16T10:31:32.712Z"
   },
   {
    "duration": 138,
    "start_time": "2023-06-16T10:31:41.505Z"
   },
   {
    "duration": 201,
    "start_time": "2023-06-16T10:31:50.443Z"
   },
   {
    "duration": 9,
    "start_time": "2023-06-16T10:33:04.763Z"
   },
   {
    "duration": 184,
    "start_time": "2023-06-16T10:33:10.522Z"
   },
   {
    "duration": 187,
    "start_time": "2023-06-16T10:33:19.360Z"
   },
   {
    "duration": 153,
    "start_time": "2023-06-16T10:33:23.061Z"
   },
   {
    "duration": 175,
    "start_time": "2023-06-16T10:33:55.451Z"
   },
   {
    "duration": 167,
    "start_time": "2023-06-16T10:34:10.216Z"
   },
   {
    "duration": 186,
    "start_time": "2023-06-16T10:34:15.034Z"
   },
   {
    "duration": 168,
    "start_time": "2023-06-16T10:34:18.835Z"
   },
   {
    "duration": 16,
    "start_time": "2023-06-16T10:34:38.841Z"
   },
   {
    "duration": 21,
    "start_time": "2023-06-16T10:34:46.861Z"
   },
   {
    "duration": 22,
    "start_time": "2023-06-16T10:34:54.455Z"
   },
   {
    "duration": 24,
    "start_time": "2023-06-16T10:35:00.826Z"
   },
   {
    "duration": 57,
    "start_time": "2023-06-16T10:36:22.776Z"
   },
   {
    "duration": 57,
    "start_time": "2023-06-16T10:36:36.495Z"
   },
   {
    "duration": 11,
    "start_time": "2023-06-16T10:38:26.222Z"
   },
   {
    "duration": 45,
    "start_time": "2023-06-16T10:38:26.822Z"
   },
   {
    "duration": 7,
    "start_time": "2023-06-16T10:38:35.545Z"
   },
   {
    "duration": 48,
    "start_time": "2023-06-16T10:38:36.292Z"
   },
   {
    "duration": 19,
    "start_time": "2023-06-16T10:38:40.820Z"
   },
   {
    "duration": 17,
    "start_time": "2023-06-16T10:39:15.008Z"
   },
   {
    "duration": 5,
    "start_time": "2023-06-16T10:39:25.138Z"
   },
   {
    "duration": 12,
    "start_time": "2023-06-16T10:39:29.038Z"
   },
   {
    "duration": 23,
    "start_time": "2023-06-16T10:40:04.110Z"
   },
   {
    "duration": 2,
    "start_time": "2023-06-16T10:40:10.039Z"
   },
   {
    "duration": 439,
    "start_time": "2023-06-16T10:40:10.452Z"
   },
   {
    "duration": 223,
    "start_time": "2023-06-16T10:40:10.894Z"
   },
   {
    "duration": 150,
    "start_time": "2023-06-16T10:40:11.812Z"
   },
   {
    "duration": 48,
    "start_time": "2023-06-16T10:40:12.338Z"
   },
   {
    "duration": 10367,
    "start_time": "2023-06-16T10:40:13.214Z"
   },
   {
    "duration": 7,
    "start_time": "2023-06-16T10:40:23.583Z"
   },
   {
    "duration": 19,
    "start_time": "2023-06-16T10:40:27.707Z"
   },
   {
    "duration": 13,
    "start_time": "2023-06-16T10:40:29.150Z"
   },
   {
    "duration": 12,
    "start_time": "2023-06-16T10:40:38.767Z"
   },
   {
    "duration": 14,
    "start_time": "2023-06-16T10:40:41.017Z"
   },
   {
    "duration": 40,
    "start_time": "2023-06-16T10:40:45.650Z"
   },
   {
    "duration": 67,
    "start_time": "2023-06-16T10:41:05.458Z"
   },
   {
    "duration": 11,
    "start_time": "2023-06-16T10:41:08.174Z"
   },
   {
    "duration": 721,
    "start_time": "2023-06-16T10:41:24.339Z"
   },
   {
    "duration": 113,
    "start_time": "2023-06-16T10:41:40.432Z"
   },
   {
    "duration": 2782,
    "start_time": "2023-06-16T10:41:47.900Z"
   },
   {
    "duration": 8223,
    "start_time": "2023-06-16T10:42:20.155Z"
   },
   {
    "duration": 11,
    "start_time": "2023-06-16T10:42:39.784Z"
   },
   {
    "duration": 1459,
    "start_time": "2023-06-16T10:44:28.310Z"
   },
   {
    "duration": 400,
    "start_time": "2023-06-16T10:44:31.559Z"
   },
   {
    "duration": 206,
    "start_time": "2023-06-16T10:44:32.044Z"
   },
   {
    "duration": 140,
    "start_time": "2023-06-16T10:44:33.040Z"
   },
   {
    "duration": 60,
    "start_time": "2023-06-16T10:44:33.869Z"
   },
   {
    "duration": 10172,
    "start_time": "2023-06-16T10:44:34.742Z"
   },
   {
    "duration": 8,
    "start_time": "2023-06-16T10:45:04.267Z"
   },
   {
    "duration": 14,
    "start_time": "2023-06-16T10:45:07.128Z"
   },
   {
    "duration": 11,
    "start_time": "2023-06-16T10:45:13.819Z"
   },
   {
    "duration": 18,
    "start_time": "2023-06-16T10:45:22.164Z"
   },
   {
    "duration": 19,
    "start_time": "2023-06-16T10:45:30.507Z"
   },
   {
    "duration": 69,
    "start_time": "2023-06-16T10:45:33.924Z"
   },
   {
    "duration": 132,
    "start_time": "2023-06-16T10:45:35.407Z"
   },
   {
    "duration": 156,
    "start_time": "2023-06-16T10:45:55.025Z"
   },
   {
    "duration": 4,
    "start_time": "2023-06-16T10:46:01.850Z"
   },
   {
    "duration": 60,
    "start_time": "2023-06-16T10:46:03.921Z"
   },
   {
    "duration": 7920,
    "start_time": "2023-06-16T10:46:07.670Z"
   },
   {
    "duration": 8173,
    "start_time": "2023-06-16T10:46:24.676Z"
   },
   {
    "duration": 98,
    "start_time": "2023-06-16T10:47:00.234Z"
   },
   {
    "duration": 2764,
    "start_time": "2023-06-16T10:47:03.018Z"
   },
   {
    "duration": 2557,
    "start_time": "2023-06-16T10:47:20.207Z"
   },
   {
    "duration": 2739,
    "start_time": "2023-06-16T10:47:33.252Z"
   },
   {
    "duration": 10419,
    "start_time": "2023-06-16T10:47:45.044Z"
   },
   {
    "duration": 932,
    "start_time": "2023-06-16T10:48:29.546Z"
   },
   {
    "duration": 58,
    "start_time": "2023-06-16T10:48:47.734Z"
   },
   {
    "duration": 13,
    "start_time": "2023-06-16T10:48:57.829Z"
   },
   {
    "duration": 40,
    "start_time": "2023-06-16T10:49:04.441Z"
   },
   {
    "duration": 65,
    "start_time": "2023-06-16T10:50:04.828Z"
   },
   {
    "duration": 9,
    "start_time": "2023-06-16T10:50:07.174Z"
   },
   {
    "duration": 52,
    "start_time": "2023-06-16T10:50:17.939Z"
   },
   {
    "duration": 46,
    "start_time": "2023-06-16T10:50:18.897Z"
   },
   {
    "duration": 58,
    "start_time": "2023-06-16T10:50:33.112Z"
   },
   {
    "duration": 36,
    "start_time": "2023-06-16T10:50:34.233Z"
   },
   {
    "duration": 10223,
    "start_time": "2023-06-16T10:50:36.551Z"
   },
   {
    "duration": 1507,
    "start_time": "2023-06-17T15:52:28.362Z"
   },
   {
    "duration": 963,
    "start_time": "2023-06-17T15:52:30.726Z"
   },
   {
    "duration": 191,
    "start_time": "2023-06-17T15:52:35.375Z"
   },
   {
    "duration": 128,
    "start_time": "2023-06-17T15:54:11.034Z"
   },
   {
    "duration": 43,
    "start_time": "2023-06-17T15:54:17.571Z"
   },
   {
    "duration": 9616,
    "start_time": "2023-06-17T15:54:49.431Z"
   },
   {
    "duration": 17,
    "start_time": "2023-06-17T15:55:47.519Z"
   },
   {
    "duration": 60,
    "start_time": "2023-06-17T15:55:48.870Z"
   },
   {
    "duration": 0,
    "start_time": "2023-06-17T15:57:48.731Z"
   },
   {
    "duration": 706,
    "start_time": "2023-06-17T16:13:21.421Z"
   },
   {
    "duration": 12,
    "start_time": "2023-06-17T16:13:44.267Z"
   },
   {
    "duration": 691,
    "start_time": "2023-06-17T16:14:29.864Z"
   },
   {
    "duration": 11,
    "start_time": "2023-06-17T16:15:09.536Z"
   },
   {
    "duration": 12,
    "start_time": "2023-06-17T16:15:13.882Z"
   },
   {
    "duration": 25,
    "start_time": "2023-06-17T16:16:55.018Z"
   },
   {
    "duration": 45,
    "start_time": "2023-06-17T16:16:59.110Z"
   },
   {
    "duration": 14,
    "start_time": "2023-06-17T16:17:09.405Z"
   },
   {
    "duration": 4,
    "start_time": "2023-06-17T16:17:19.954Z"
   },
   {
    "duration": 71,
    "start_time": "2023-06-17T16:17:31.185Z"
   },
   {
    "duration": 22,
    "start_time": "2023-06-17T16:17:44.544Z"
   },
   {
    "duration": 6,
    "start_time": "2023-06-17T16:17:52.843Z"
   },
   {
    "duration": 6,
    "start_time": "2023-06-17T16:18:09.507Z"
   },
   {
    "duration": 5,
    "start_time": "2023-06-17T16:18:13.108Z"
   },
   {
    "duration": 7,
    "start_time": "2023-06-17T16:18:17.060Z"
   },
   {
    "duration": 12,
    "start_time": "2023-06-17T16:18:20.020Z"
   },
   {
    "duration": 6,
    "start_time": "2023-06-17T16:18:23.216Z"
   },
   {
    "duration": 1476,
    "start_time": "2023-06-17T16:26:18.791Z"
   },
   {
    "duration": 803,
    "start_time": "2023-06-17T16:26:20.885Z"
   },
   {
    "duration": 179,
    "start_time": "2023-06-17T16:26:21.691Z"
   },
   {
    "duration": 136,
    "start_time": "2023-06-17T16:26:25.344Z"
   },
   {
    "duration": 45,
    "start_time": "2023-06-17T16:26:26.598Z"
   },
   {
    "duration": 9456,
    "start_time": "2023-06-17T16:26:34.074Z"
   },
   {
    "duration": 13,
    "start_time": "2023-06-17T16:28:14.925Z"
   },
   {
    "duration": 12,
    "start_time": "2023-06-17T16:28:28.164Z"
   },
   {
    "duration": 731,
    "start_time": "2023-06-17T16:30:24.569Z"
   },
   {
    "duration": 12,
    "start_time": "2023-06-17T16:30:41.799Z"
   },
   {
    "duration": 64,
    "start_time": "2023-06-17T16:31:46.921Z"
   },
   {
    "duration": 10,
    "start_time": "2023-06-17T16:31:47.764Z"
   },
   {
    "duration": 384,
    "start_time": "2023-06-17T16:33:41.079Z"
   },
   {
    "duration": 990,
    "start_time": "2023-06-17T16:34:07.194Z"
   },
   {
    "duration": 670,
    "start_time": "2023-06-17T16:34:40.384Z"
   },
   {
    "duration": 402,
    "start_time": "2023-06-17T16:35:03.945Z"
   },
   {
    "duration": 1455,
    "start_time": "2023-06-19T00:07:32.191Z"
   },
   {
    "duration": 770,
    "start_time": "2023-06-19T00:07:34.115Z"
   },
   {
    "duration": 163,
    "start_time": "2023-06-19T00:07:34.903Z"
   },
   {
    "duration": 110,
    "start_time": "2023-06-19T00:07:36.303Z"
   },
   {
    "duration": 37,
    "start_time": "2023-06-19T00:07:37.589Z"
   },
   {
    "duration": 8846,
    "start_time": "2023-06-19T00:07:40.445Z"
   },
   {
    "duration": 11,
    "start_time": "2023-06-19T00:09:30.952Z"
   },
   {
    "duration": 55,
    "start_time": "2023-06-19T00:09:33.930Z"
   },
   {
    "duration": 363,
    "start_time": "2023-06-19T00:09:35.260Z"
   },
   {
    "duration": 339,
    "start_time": "2023-06-19T00:09:41.471Z"
   },
   {
    "duration": 348,
    "start_time": "2023-06-19T00:09:43.804Z"
   },
   {
    "duration": 31,
    "start_time": "2023-06-19T00:11:51.329Z"
   },
   {
    "duration": 2,
    "start_time": "2023-06-19T00:12:02.572Z"
   },
   {
    "duration": 3,
    "start_time": "2023-06-19T00:13:39.889Z"
   },
   {
    "duration": 107,
    "start_time": "2023-06-19T00:16:09.604Z"
   },
   {
    "duration": 13,
    "start_time": "2023-06-19T00:16:20.893Z"
   },
   {
    "duration": 19,
    "start_time": "2023-06-19T00:16:24.372Z"
   },
   {
    "duration": 10,
    "start_time": "2023-06-19T00:17:08.109Z"
   },
   {
    "duration": 4,
    "start_time": "2023-06-19T00:17:16.593Z"
   },
   {
    "duration": 4,
    "start_time": "2023-06-19T00:17:23.889Z"
   },
   {
    "duration": 12,
    "start_time": "2023-06-19T00:19:35.175Z"
   },
   {
    "duration": 10,
    "start_time": "2023-06-19T00:19:43.889Z"
   },
   {
    "duration": 16,
    "start_time": "2023-06-19T00:20:02.304Z"
   },
   {
    "duration": 7,
    "start_time": "2023-06-19T00:20:14.347Z"
   },
   {
    "duration": 8,
    "start_time": "2023-06-19T00:20:16.874Z"
   },
   {
    "duration": 539,
    "start_time": "2023-06-19T00:20:54.204Z"
   },
   {
    "duration": 644,
    "start_time": "2023-06-19T00:21:00.241Z"
   },
   {
    "duration": 717,
    "start_time": "2023-06-19T00:23:07.467Z"
   },
   {
    "duration": 786,
    "start_time": "2023-06-19T00:23:15.510Z"
   },
   {
    "duration": 868,
    "start_time": "2023-06-19T00:24:12.103Z"
   },
   {
    "duration": 766,
    "start_time": "2023-06-19T00:24:21.090Z"
   },
   {
    "duration": 889,
    "start_time": "2023-06-19T00:24:24.833Z"
   },
   {
    "duration": 1794,
    "start_time": "2023-06-19T06:53:53.708Z"
   },
   {
    "duration": 1722,
    "start_time": "2023-06-19T06:53:56.069Z"
   },
   {
    "duration": 201,
    "start_time": "2023-06-19T06:53:57.793Z"
   },
   {
    "duration": 133,
    "start_time": "2023-06-19T06:53:58.803Z"
   },
   {
    "duration": 58,
    "start_time": "2023-06-19T06:53:59.822Z"
   },
   {
    "duration": 10256,
    "start_time": "2023-06-19T06:54:00.742Z"
   },
   {
    "duration": 11,
    "start_time": "2023-06-19T06:54:20.053Z"
   },
   {
    "duration": 58,
    "start_time": "2023-06-19T06:54:20.621Z"
   },
   {
    "duration": 428,
    "start_time": "2023-06-19T06:54:21.551Z"
   },
   {
    "duration": 420,
    "start_time": "2023-06-19T06:54:22.935Z"
   },
   {
    "duration": 442,
    "start_time": "2023-06-19T06:54:23.792Z"
   },
   {
    "duration": 7,
    "start_time": "2023-06-19T06:54:29.030Z"
   },
   {
    "duration": 13,
    "start_time": "2023-06-19T06:54:30.363Z"
   },
   {
    "duration": 15,
    "start_time": "2023-06-19T06:54:48.393Z"
   },
   {
    "duration": 23,
    "start_time": "2023-06-19T06:54:49.906Z"
   },
   {
    "duration": 30,
    "start_time": "2023-06-19T06:54:55.011Z"
   },
   {
    "duration": 831,
    "start_time": "2023-06-19T06:54:56.065Z"
   },
   {
    "duration": 1105,
    "start_time": "2023-06-19T06:55:05.174Z"
   },
   {
    "duration": 832,
    "start_time": "2023-06-19T06:55:21.641Z"
   },
   {
    "duration": 741,
    "start_time": "2023-06-19T06:55:26.335Z"
   },
   {
    "duration": 779,
    "start_time": "2023-06-19T06:55:33.694Z"
   },
   {
    "duration": 918,
    "start_time": "2023-06-19T06:57:24.289Z"
   },
   {
    "duration": 897,
    "start_time": "2023-06-19T06:57:32.592Z"
   },
   {
    "duration": 4,
    "start_time": "2023-06-19T07:00:45.038Z"
   },
   {
    "duration": 4,
    "start_time": "2023-06-19T07:01:15.994Z"
   },
   {
    "duration": 5,
    "start_time": "2023-06-19T07:01:58.150Z"
   },
   {
    "duration": 112,
    "start_time": "2023-06-19T07:03:50.070Z"
   },
   {
    "duration": 4,
    "start_time": "2023-06-19T07:03:57.056Z"
   },
   {
    "duration": 6,
    "start_time": "2023-06-19T07:04:03.728Z"
   },
   {
    "duration": 3,
    "start_time": "2023-06-19T07:05:05.291Z"
   },
   {
    "duration": 5,
    "start_time": "2023-06-19T07:05:41.603Z"
   },
   {
    "duration": 6,
    "start_time": "2023-06-19T07:05:53.597Z"
   },
   {
    "duration": 9,
    "start_time": "2023-06-19T07:07:49.009Z"
   },
   {
    "duration": 10,
    "start_time": "2023-06-19T07:08:04.255Z"
   },
   {
    "duration": 5,
    "start_time": "2023-06-19T08:45:17.855Z"
   },
   {
    "duration": 1605,
    "start_time": "2023-06-19T08:45:23.635Z"
   },
   {
    "duration": 386,
    "start_time": "2023-06-19T08:45:26.643Z"
   },
   {
    "duration": 185,
    "start_time": "2023-06-19T08:45:27.230Z"
   },
   {
    "duration": 158,
    "start_time": "2023-06-19T08:45:32.354Z"
   },
   {
    "duration": 43,
    "start_time": "2023-06-19T08:45:34.534Z"
   },
   {
    "duration": 10485,
    "start_time": "2023-06-19T08:45:37.408Z"
   },
   {
    "duration": 11,
    "start_time": "2023-06-19T08:45:49.066Z"
   },
   {
    "duration": 66,
    "start_time": "2023-06-19T08:45:50.554Z"
   },
   {
    "duration": 411,
    "start_time": "2023-06-19T08:45:51.628Z"
   },
   {
    "duration": 412,
    "start_time": "2023-06-19T08:45:53.197Z"
   },
   {
    "duration": 467,
    "start_time": "2023-06-19T08:45:53.654Z"
   },
   {
    "duration": 17,
    "start_time": "2023-06-19T08:45:56.951Z"
   },
   {
    "duration": 33,
    "start_time": "2023-06-19T08:46:09.005Z"
   },
   {
    "duration": 26,
    "start_time": "2023-06-19T08:46:11.112Z"
   },
   {
    "duration": 779,
    "start_time": "2023-06-19T08:46:12.801Z"
   },
   {
    "duration": 22,
    "start_time": "2023-06-19T08:46:30.911Z"
   },
   {
    "duration": 1560,
    "start_time": "2023-07-24T16:30:27.755Z"
   },
   {
    "duration": 698,
    "start_time": "2023-07-24T16:30:30.165Z"
   },
   {
    "duration": 151,
    "start_time": "2023-07-24T16:30:32.892Z"
   },
   {
    "duration": 125,
    "start_time": "2023-07-24T16:30:53.564Z"
   },
   {
    "duration": 129,
    "start_time": "2023-07-24T16:31:06.347Z"
   },
   {
    "duration": 101,
    "start_time": "2023-07-24T16:31:17.755Z"
   },
   {
    "duration": 37,
    "start_time": "2023-07-24T16:31:19.549Z"
   },
   {
    "duration": 8106,
    "start_time": "2023-07-24T16:31:23.392Z"
   },
   {
    "duration": 1738,
    "start_time": "2023-07-24T19:19:50.142Z"
   },
   {
    "duration": 996,
    "start_time": "2023-07-24T19:19:51.982Z"
   },
   {
    "duration": 189,
    "start_time": "2023-07-24T19:19:53.331Z"
   },
   {
    "duration": 159,
    "start_time": "2023-07-24T19:20:43.425Z"
   },
   {
    "duration": 51,
    "start_time": "2023-07-24T19:20:45.647Z"
   },
   {
    "duration": 11693,
    "start_time": "2023-07-24T19:21:01.885Z"
   },
   {
    "duration": 13,
    "start_time": "2023-07-24T19:24:13.045Z"
   },
   {
    "duration": 71,
    "start_time": "2023-07-24T19:24:13.645Z"
   },
   {
    "duration": 571,
    "start_time": "2023-07-24T19:24:15.075Z"
   },
   {
    "duration": 452,
    "start_time": "2023-07-24T19:24:18.778Z"
   },
   {
    "duration": 439,
    "start_time": "2023-07-24T19:24:20.845Z"
   },
   {
    "duration": 51,
    "start_time": "2023-07-24T19:24:44.065Z"
   },
   {
    "duration": 12,
    "start_time": "2023-07-24T19:24:51.853Z"
   },
   {
    "duration": 123,
    "start_time": "2023-07-24T19:24:56.978Z"
   },
   {
    "duration": 7,
    "start_time": "2023-07-24T19:25:00.938Z"
   },
   {
    "duration": 15,
    "start_time": "2023-07-24T19:26:13.247Z"
   },
   {
    "duration": 80,
    "start_time": "2023-07-24T19:26:17.136Z"
   },
   {
    "duration": 967,
    "start_time": "2023-07-24T19:26:20.666Z"
   },
   {
    "duration": 6,
    "start_time": "2023-07-24T19:26:22.872Z"
   },
   {
    "duration": 26,
    "start_time": "2023-07-24T19:39:08.761Z"
   },
   {
    "duration": 14,
    "start_time": "2023-07-24T19:39:26.305Z"
   },
   {
    "duration": 1057,
    "start_time": "2023-07-24T19:39:32.896Z"
   },
   {
    "duration": 4,
    "start_time": "2023-07-24T19:39:53.653Z"
   },
   {
    "duration": 26,
    "start_time": "2023-07-24T19:40:09.386Z"
   },
   {
    "duration": 9,
    "start_time": "2023-07-24T19:40:12.553Z"
   },
   {
    "duration": 820,
    "start_time": "2023-07-24T19:40:13.496Z"
   },
   {
    "duration": 5,
    "start_time": "2023-07-24T19:40:18.440Z"
   },
   {
    "duration": 12,
    "start_time": "2023-07-24T19:40:19.421Z"
   },
   {
    "duration": 10,
    "start_time": "2023-07-24T19:40:31.695Z"
   },
   {
    "duration": 4,
    "start_time": "2023-07-24T19:40:35.445Z"
   },
   {
    "duration": 9,
    "start_time": "2023-07-24T19:40:41.800Z"
   },
   {
    "duration": 5,
    "start_time": "2023-07-24T19:40:46.849Z"
   },
   {
    "duration": 4,
    "start_time": "2023-07-24T19:41:37.214Z"
   },
   {
    "duration": 13,
    "start_time": "2023-07-24T19:41:50.695Z"
   },
   {
    "duration": 4,
    "start_time": "2023-07-24T19:42:01.138Z"
   },
   {
    "duration": 11,
    "start_time": "2023-07-24T19:42:07.401Z"
   },
   {
    "duration": 25,
    "start_time": "2023-07-24T19:42:11.471Z"
   },
   {
    "duration": 8,
    "start_time": "2023-07-24T19:42:12.445Z"
   },
   {
    "duration": 680,
    "start_time": "2023-07-24T19:42:13.861Z"
   },
   {
    "duration": 6,
    "start_time": "2023-07-24T19:42:25.037Z"
   },
   {
    "duration": 10,
    "start_time": "2023-07-24T19:42:39.257Z"
   },
   {
    "duration": 130,
    "start_time": "2023-07-24T19:43:15.617Z"
   },
   {
    "duration": 130,
    "start_time": "2023-07-24T19:43:31.788Z"
   },
   {
    "duration": 24,
    "start_time": "2023-07-24T19:43:35.088Z"
   },
   {
    "duration": 12,
    "start_time": "2023-07-24T19:43:35.596Z"
   },
   {
    "duration": 810,
    "start_time": "2023-07-24T19:43:36.070Z"
   },
   {
    "duration": 5,
    "start_time": "2023-07-24T19:43:40.569Z"
   },
   {
    "duration": 5,
    "start_time": "2023-07-24T19:43:42.065Z"
   },
   {
    "duration": 121,
    "start_time": "2023-07-24T19:43:43.387Z"
   },
   {
    "duration": 152,
    "start_time": "2023-07-24T19:43:45.895Z"
   },
   {
    "duration": 52,
    "start_time": "2023-07-24T19:43:52.157Z"
   },
   {
    "duration": 266,
    "start_time": "2023-07-24T19:44:32.017Z"
   },
   {
    "duration": 115,
    "start_time": "2023-07-24T19:44:50.657Z"
   },
   {
    "duration": 92,
    "start_time": "2023-07-24T19:44:58.192Z"
   },
   {
    "duration": 113,
    "start_time": "2023-07-24T19:45:17.298Z"
   },
   {
    "duration": 134,
    "start_time": "2023-07-24T19:45:29.385Z"
   },
   {
    "duration": 102,
    "start_time": "2023-07-24T19:45:32.925Z"
   },
   {
    "duration": 91,
    "start_time": "2023-07-24T19:45:41.286Z"
   },
   {
    "duration": 18,
    "start_time": "2023-07-24T19:45:43.767Z"
   },
   {
    "duration": 115,
    "start_time": "2023-07-24T19:46:13.615Z"
   },
   {
    "duration": 15,
    "start_time": "2023-07-24T19:46:28.067Z"
   },
   {
    "duration": 112,
    "start_time": "2023-07-24T19:46:48.487Z"
   },
   {
    "duration": 23,
    "start_time": "2023-07-24T19:47:52.692Z"
   },
   {
    "duration": 5,
    "start_time": "2023-07-24T19:47:53.253Z"
   },
   {
    "duration": 809,
    "start_time": "2023-07-24T19:47:53.890Z"
   },
   {
    "duration": 5,
    "start_time": "2023-07-24T19:47:58.378Z"
   },
   {
    "duration": 5,
    "start_time": "2023-07-24T19:47:59.070Z"
   },
   {
    "duration": 12,
    "start_time": "2023-07-24T19:48:01.109Z"
   },
   {
    "duration": 24,
    "start_time": "2023-07-24T19:48:04.396Z"
   },
   {
    "duration": 5,
    "start_time": "2023-07-24T19:48:05.192Z"
   },
   {
    "duration": 672,
    "start_time": "2023-07-24T19:48:05.661Z"
   },
   {
    "duration": 4,
    "start_time": "2023-07-24T19:48:07.354Z"
   },
   {
    "duration": 5,
    "start_time": "2023-07-24T19:48:08.073Z"
   },
   {
    "duration": 128,
    "start_time": "2023-07-24T19:48:14.883Z"
   },
   {
    "duration": 122,
    "start_time": "2023-07-24T19:48:41.356Z"
   },
   {
    "duration": 305,
    "start_time": "2023-07-24T19:48:44.002Z"
   },
   {
    "duration": 73,
    "start_time": "2023-07-24T19:50:11.537Z"
   },
   {
    "duration": 24,
    "start_time": "2023-07-24T19:50:24.067Z"
   },
   {
    "duration": 24,
    "start_time": "2023-07-24T19:51:20.768Z"
   },
   {
    "duration": 5,
    "start_time": "2023-07-24T19:51:24.357Z"
   },
   {
    "duration": 8,
    "start_time": "2023-07-24T19:51:37.449Z"
   },
   {
    "duration": 716,
    "start_time": "2023-07-24T19:51:40.952Z"
   },
   {
    "duration": 6,
    "start_time": "2023-07-24T19:51:47.155Z"
   },
   {
    "duration": 5,
    "start_time": "2023-07-24T19:51:49.587Z"
   },
   {
    "duration": 11,
    "start_time": "2023-07-24T19:52:27.803Z"
   },
   {
    "duration": 28,
    "start_time": "2023-07-24T19:52:47.306Z"
   },
   {
    "duration": 9,
    "start_time": "2023-07-24T19:52:52.029Z"
   },
   {
    "duration": 761,
    "start_time": "2023-07-24T19:52:56.732Z"
   },
   {
    "duration": 5,
    "start_time": "2023-07-24T19:53:05.528Z"
   },
   {
    "duration": 5,
    "start_time": "2023-07-24T19:53:07.702Z"
   },
   {
    "duration": 121,
    "start_time": "2023-07-24T19:53:15.852Z"
   },
   {
    "duration": 120,
    "start_time": "2023-07-24T19:53:25.482Z"
   },
   {
    "duration": 10,
    "start_time": "2023-07-24T19:54:16.169Z"
   },
   {
    "duration": 20,
    "start_time": "2023-07-24T19:54:21.194Z"
   },
   {
    "duration": 28,
    "start_time": "2023-07-24T19:54:40.479Z"
   },
   {
    "duration": 6,
    "start_time": "2023-07-24T19:54:45.345Z"
   },
   {
    "duration": 768,
    "start_time": "2023-07-24T19:55:02.603Z"
   },
   {
    "duration": 4,
    "start_time": "2023-07-24T19:55:20.049Z"
   },
   {
    "duration": 5,
    "start_time": "2023-07-24T19:55:34.580Z"
   },
   {
    "duration": 13,
    "start_time": "2023-07-24T19:56:20.837Z"
   },
   {
    "duration": 3,
    "start_time": "2023-07-24T20:02:20.492Z"
   },
   {
    "duration": 3,
    "start_time": "2023-07-24T20:15:56.935Z"
   },
   {
    "duration": 1577,
    "start_time": "2023-07-24T20:16:03.093Z"
   },
   {
    "duration": 417,
    "start_time": "2023-07-24T20:16:06.823Z"
   },
   {
    "duration": 176,
    "start_time": "2023-07-24T20:16:08.043Z"
   },
   {
    "duration": 155,
    "start_time": "2023-07-24T20:16:12.816Z"
   },
   {
    "duration": 52,
    "start_time": "2023-07-24T20:16:14.366Z"
   },
   {
    "duration": 9967,
    "start_time": "2023-07-24T20:16:16.026Z"
   },
   {
    "duration": 2631,
    "start_time": "2023-07-25T07:50:30.188Z"
   },
   {
    "duration": 887,
    "start_time": "2023-07-25T07:50:33.688Z"
   },
   {
    "duration": 174,
    "start_time": "2023-07-25T07:50:35.031Z"
   },
   {
    "duration": 133,
    "start_time": "2023-07-25T07:50:43.702Z"
   },
   {
    "duration": 50,
    "start_time": "2023-07-25T07:50:44.663Z"
   },
   {
    "duration": 9990,
    "start_time": "2023-07-25T07:50:46.639Z"
   },
   {
    "duration": 10,
    "start_time": "2023-07-25T07:50:56.631Z"
   },
   {
    "duration": 74,
    "start_time": "2023-07-25T07:50:56.643Z"
   },
   {
    "duration": 13,
    "start_time": "2023-07-25T07:51:02.368Z"
   },
   {
    "duration": 38,
    "start_time": "2023-07-25T07:51:32.760Z"
   },
   {
    "duration": 58,
    "start_time": "2023-07-25T08:39:34.781Z"
   },
   {
    "duration": 33,
    "start_time": "2023-07-25T08:39:41.405Z"
   },
   {
    "duration": 3,
    "start_time": "2023-07-25T08:39:47.597Z"
   },
   {
    "duration": 360,
    "start_time": "2023-07-25T08:39:48.097Z"
   },
   {
    "duration": 158,
    "start_time": "2023-07-25T08:39:49.995Z"
   },
   {
    "duration": 9,
    "start_time": "2023-07-25T08:39:57.625Z"
   },
   {
    "duration": 59,
    "start_time": "2023-07-25T08:39:58.242Z"
   },
   {
    "duration": 35,
    "start_time": "2023-07-25T08:39:58.899Z"
   },
   {
    "duration": 3,
    "start_time": "2023-07-25T08:40:13.995Z"
   },
   {
    "duration": 346,
    "start_time": "2023-07-25T08:40:14.306Z"
   },
   {
    "duration": 146,
    "start_time": "2023-07-25T08:40:14.795Z"
   },
   {
    "duration": 9288,
    "start_time": "2023-07-25T08:40:19.942Z"
   },
   {
    "duration": 7,
    "start_time": "2023-07-25T08:40:39.023Z"
   },
   {
    "duration": 2027,
    "start_time": "2023-07-25T08:50:40.366Z"
   },
   {
    "duration": 908,
    "start_time": "2023-07-25T08:50:43.239Z"
   },
   {
    "duration": 176,
    "start_time": "2023-07-25T08:50:44.276Z"
   },
   {
    "duration": 123,
    "start_time": "2023-07-25T08:50:49.900Z"
   },
   {
    "duration": 45,
    "start_time": "2023-07-25T08:50:51.061Z"
   },
   {
    "duration": 9571,
    "start_time": "2023-07-25T08:50:52.736Z"
   },
   {
    "duration": 11,
    "start_time": "2023-07-25T08:51:05.010Z"
   },
   {
    "duration": 119,
    "start_time": "2023-07-25T08:51:07.163Z"
   },
   {
    "duration": 16,
    "start_time": "2023-07-25T08:53:23.875Z"
   },
   {
    "duration": 23,
    "start_time": "2023-07-25T08:54:12.497Z"
   },
   {
    "duration": 16,
    "start_time": "2023-07-25T08:54:13.795Z"
   },
   {
    "duration": 5,
    "start_time": "2023-07-25T08:54:15.967Z"
   },
   {
    "duration": 734,
    "start_time": "2023-07-25T08:54:17.007Z"
   },
   {
    "duration": 5,
    "start_time": "2023-07-25T08:54:29.099Z"
   },
   {
    "duration": 5,
    "start_time": "2023-07-25T08:54:30.688Z"
   },
   {
    "duration": 3,
    "start_time": "2023-07-25T08:57:32.853Z"
   },
   {
    "duration": 12,
    "start_time": "2023-07-25T08:57:38.091Z"
   },
   {
    "duration": 9,
    "start_time": "2023-07-25T08:57:42.548Z"
   },
   {
    "duration": 10,
    "start_time": "2023-07-25T08:57:48.352Z"
   },
   {
    "duration": 12,
    "start_time": "2023-07-25T08:57:54.430Z"
   },
   {
    "duration": 7,
    "start_time": "2023-07-25T08:58:41.996Z"
   },
   {
    "duration": 6,
    "start_time": "2023-07-25T08:58:48.815Z"
   },
   {
    "duration": 7,
    "start_time": "2023-07-25T08:58:56.527Z"
   },
   {
    "duration": 6,
    "start_time": "2023-07-25T08:59:01.219Z"
   },
   {
    "duration": 7,
    "start_time": "2023-07-25T08:59:10.917Z"
   },
   {
    "duration": 29,
    "start_time": "2023-07-25T09:00:06.747Z"
   },
   {
    "duration": 15,
    "start_time": "2023-07-25T09:01:03.446Z"
   },
   {
    "duration": 24,
    "start_time": "2023-07-25T09:01:28.040Z"
   },
   {
    "duration": 12,
    "start_time": "2023-07-25T09:01:29.266Z"
   },
   {
    "duration": 6,
    "start_time": "2023-07-25T09:01:36.705Z"
   },
   {
    "duration": 930,
    "start_time": "2023-07-25T09:01:37.831Z"
   },
   {
    "duration": 4,
    "start_time": "2023-07-25T09:01:42.623Z"
   },
   {
    "duration": 5,
    "start_time": "2023-07-25T09:01:43.639Z"
   },
   {
    "duration": 149,
    "start_time": "2023-07-25T09:01:56.199Z"
   },
   {
    "duration": 122,
    "start_time": "2023-07-25T09:01:59.205Z"
   },
   {
    "duration": 57,
    "start_time": "2023-07-25T09:02:13.220Z"
   },
   {
    "duration": 18,
    "start_time": "2023-07-25T09:02:40.392Z"
   },
   {
    "duration": 12,
    "start_time": "2023-07-25T09:03:08.219Z"
   },
   {
    "duration": 22,
    "start_time": "2023-07-25T09:03:28.096Z"
   },
   {
    "duration": 12,
    "start_time": "2023-07-25T09:03:28.912Z"
   },
   {
    "duration": 11,
    "start_time": "2023-07-25T09:03:31.623Z"
   },
   {
    "duration": 5,
    "start_time": "2023-07-25T09:03:35.411Z"
   },
   {
    "duration": 867,
    "start_time": "2023-07-25T09:03:38.889Z"
   },
   {
    "duration": 4,
    "start_time": "2023-07-25T09:03:41.488Z"
   },
   {
    "duration": 4,
    "start_time": "2023-07-25T09:03:45.384Z"
   },
   {
    "duration": 5,
    "start_time": "2023-07-25T09:03:50.121Z"
   },
   {
    "duration": 39,
    "start_time": "2023-07-25T09:03:52.740Z"
   },
   {
    "duration": 22,
    "start_time": "2023-07-25T09:04:30.622Z"
   },
   {
    "duration": 12,
    "start_time": "2023-07-25T09:04:33.206Z"
   },
   {
    "duration": 1445,
    "start_time": "2023-07-25T09:04:44.067Z"
   },
   {
    "duration": 437,
    "start_time": "2023-07-25T09:04:46.257Z"
   },
   {
    "duration": 168,
    "start_time": "2023-07-25T09:04:47.761Z"
   },
   {
    "duration": 140,
    "start_time": "2023-07-25T09:04:53.321Z"
   },
   {
    "duration": 39,
    "start_time": "2023-07-25T09:04:54.397Z"
   },
   {
    "duration": 9575,
    "start_time": "2023-07-25T09:04:56.356Z"
   },
   {
    "duration": 12,
    "start_time": "2023-07-25T09:05:10.703Z"
   },
   {
    "duration": 15,
    "start_time": "2023-07-25T09:05:38.748Z"
   },
   {
    "duration": 3,
    "start_time": "2023-07-25T09:05:53.666Z"
   },
   {
    "duration": 17,
    "start_time": "2023-07-25T09:06:09.461Z"
   },
   {
    "duration": 22,
    "start_time": "2023-07-25T09:06:18.301Z"
   },
   {
    "duration": 14,
    "start_time": "2023-07-25T09:06:23.244Z"
   },
   {
    "duration": 11,
    "start_time": "2023-07-25T09:06:29.216Z"
   },
   {
    "duration": 822,
    "start_time": "2023-07-25T09:06:33.924Z"
   },
   {
    "duration": 14,
    "start_time": "2023-07-25T09:06:50.357Z"
   },
   {
    "duration": 46,
    "start_time": "2023-07-25T09:07:38.531Z"
   },
   {
    "duration": 15,
    "start_time": "2023-07-25T09:08:10.995Z"
   },
   {
    "duration": 24,
    "start_time": "2023-07-25T09:08:23.936Z"
   },
   {
    "duration": 12,
    "start_time": "2023-07-25T09:08:28.539Z"
   },
   {
    "duration": 6,
    "start_time": "2023-07-25T09:08:32.985Z"
   },
   {
    "duration": 686,
    "start_time": "2023-07-25T09:08:39.893Z"
   },
   {
    "duration": 4,
    "start_time": "2023-07-25T09:08:48.666Z"
   },
   {
    "duration": 4,
    "start_time": "2023-07-25T09:08:49.305Z"
   },
   {
    "duration": 12,
    "start_time": "2023-07-25T09:09:08.160Z"
   },
   {
    "duration": 14,
    "start_time": "2023-07-25T09:10:20.300Z"
   },
   {
    "duration": 24,
    "start_time": "2023-07-25T09:10:27.801Z"
   },
   {
    "duration": 13,
    "start_time": "2023-07-25T09:10:31.306Z"
   },
   {
    "duration": 111,
    "start_time": "2023-07-25T09:10:36.540Z"
   },
   {
    "duration": 10,
    "start_time": "2023-07-25T09:10:41.628Z"
   },
   {
    "duration": 935,
    "start_time": "2023-07-25T09:10:42.095Z"
   },
   {
    "duration": 3,
    "start_time": "2023-07-25T09:10:46.203Z"
   },
   {
    "duration": 4,
    "start_time": "2023-07-25T09:10:46.648Z"
   },
   {
    "duration": 12,
    "start_time": "2023-07-25T09:11:27.033Z"
   },
   {
    "duration": 2,
    "start_time": "2023-07-25T09:12:08.641Z"
   },
   {
    "duration": 6,
    "start_time": "2023-07-25T09:14:27.203Z"
   },
   {
    "duration": 4,
    "start_time": "2023-07-25T09:14:38.932Z"
   },
   {
    "duration": 4,
    "start_time": "2023-07-25T09:15:08.080Z"
   },
   {
    "duration": 4,
    "start_time": "2023-07-25T09:16:27.669Z"
   },
   {
    "duration": 1730,
    "start_time": "2023-07-26T02:30:32.060Z"
   },
   {
    "duration": 1078,
    "start_time": "2023-07-26T02:30:36.752Z"
   },
   {
    "duration": 197,
    "start_time": "2023-07-26T02:30:41.767Z"
   },
   {
    "duration": 135,
    "start_time": "2023-07-26T02:30:46.928Z"
   },
   {
    "duration": 38,
    "start_time": "2023-07-26T02:30:48.538Z"
   },
   {
    "duration": 10050,
    "start_time": "2023-07-26T02:30:55.067Z"
   },
   {
    "duration": 10,
    "start_time": "2023-07-26T02:31:22.639Z"
   },
   {
    "duration": 13,
    "start_time": "2023-07-26T02:31:28.840Z"
   },
   {
    "duration": 3,
    "start_time": "2023-07-26T02:31:29.660Z"
   },
   {
    "duration": 22,
    "start_time": "2023-07-26T02:31:31.075Z"
   },
   {
    "duration": 12,
    "start_time": "2023-07-26T02:31:32.060Z"
   },
   {
    "duration": 4,
    "start_time": "2023-07-26T02:31:38.849Z"
   },
   {
    "duration": 784,
    "start_time": "2023-07-26T02:31:43.448Z"
   },
   {
    "duration": 12,
    "start_time": "2023-07-26T02:31:52.160Z"
   },
   {
    "duration": 15,
    "start_time": "2023-07-26T02:32:30.211Z"
   },
   {
    "duration": 14,
    "start_time": "2023-07-26T02:32:37.281Z"
   },
   {
    "duration": 26,
    "start_time": "2023-07-26T02:32:37.687Z"
   },
   {
    "duration": 16,
    "start_time": "2023-07-26T02:32:38.187Z"
   },
   {
    "duration": 5,
    "start_time": "2023-07-26T02:32:39.669Z"
   },
   {
    "duration": 676,
    "start_time": "2023-07-26T02:32:40.237Z"
   },
   {
    "duration": 4,
    "start_time": "2023-07-26T02:32:43.121Z"
   },
   {
    "duration": 4,
    "start_time": "2023-07-26T02:32:43.584Z"
   },
   {
    "duration": 14,
    "start_time": "2023-07-26T02:32:45.064Z"
   },
   {
    "duration": 17,
    "start_time": "2023-07-26T02:33:00.096Z"
   },
   {
    "duration": 22,
    "start_time": "2023-07-26T02:33:00.557Z"
   },
   {
    "duration": 13,
    "start_time": "2023-07-26T02:33:01.016Z"
   },
   {
    "duration": 13,
    "start_time": "2023-07-26T02:33:04.342Z"
   },
   {
    "duration": 903,
    "start_time": "2023-07-26T02:33:07.022Z"
   },
   {
    "duration": 4,
    "start_time": "2023-07-26T02:33:10.268Z"
   },
   {
    "duration": 4,
    "start_time": "2023-07-26T02:33:10.784Z"
   },
   {
    "duration": 11,
    "start_time": "2023-07-26T02:33:39.350Z"
   },
   {
    "duration": 3,
    "start_time": "2023-07-26T02:33:42.480Z"
   },
   {
    "duration": 4,
    "start_time": "2023-07-26T02:33:44.750Z"
   },
   {
    "duration": 4,
    "start_time": "2023-07-26T02:33:46.866Z"
   },
   {
    "duration": 128,
    "start_time": "2023-07-26T02:59:31.648Z"
   },
   {
    "duration": 7,
    "start_time": "2023-07-26T03:05:34.267Z"
   },
   {
    "duration": 8,
    "start_time": "2023-07-26T03:05:42.561Z"
   },
   {
    "duration": 7,
    "start_time": "2023-07-26T03:05:49.177Z"
   },
   {
    "duration": 1684,
    "start_time": "2023-07-26T03:08:13.842Z"
   },
   {
    "duration": 535,
    "start_time": "2023-07-26T03:08:15.530Z"
   },
   {
    "duration": 241,
    "start_time": "2023-07-26T03:08:16.070Z"
   },
   {
    "duration": 137,
    "start_time": "2023-07-26T03:08:19.330Z"
   },
   {
    "duration": 45,
    "start_time": "2023-07-26T03:08:20.327Z"
   },
   {
    "duration": 11304,
    "start_time": "2023-07-26T03:08:21.968Z"
   },
   {
    "duration": 12,
    "start_time": "2023-07-26T03:08:38.059Z"
   },
   {
    "duration": 17,
    "start_time": "2023-07-26T03:08:43.049Z"
   },
   {
    "duration": 3,
    "start_time": "2023-07-26T03:08:47.244Z"
   },
   {
    "duration": 38,
    "start_time": "2023-07-26T03:08:51.479Z"
   },
   {
    "duration": 15,
    "start_time": "2023-07-26T03:08:54.537Z"
   },
   {
    "duration": 42,
    "start_time": "2023-07-26T03:08:56.524Z"
   },
   {
    "duration": 984,
    "start_time": "2023-07-26T03:09:01.605Z"
   },
   {
    "duration": 7,
    "start_time": "2023-07-26T03:09:06.123Z"
   },
   {
    "duration": 173,
    "start_time": "2023-07-26T03:09:06.802Z"
   },
   {
    "duration": 6,
    "start_time": "2023-07-26T03:09:20.391Z"
   },
   {
    "duration": 23,
    "start_time": "2023-07-26T03:11:08.852Z"
   },
   {
    "duration": 17,
    "start_time": "2023-07-26T03:11:18.476Z"
   },
   {
    "duration": 40,
    "start_time": "2023-07-26T03:11:19.892Z"
   },
   {
    "duration": 15,
    "start_time": "2023-07-26T03:11:20.194Z"
   },
   {
    "duration": 17,
    "start_time": "2023-07-26T03:11:21.430Z"
   },
   {
    "duration": 798,
    "start_time": "2023-07-26T03:11:22.087Z"
   },
   {
    "duration": 15,
    "start_time": "2023-07-26T03:11:53.626Z"
   },
   {
    "duration": 5,
    "start_time": "2023-07-26T03:12:17.175Z"
   },
   {
    "duration": 17,
    "start_time": "2023-07-26T03:13:14.452Z"
   },
   {
    "duration": 39,
    "start_time": "2023-07-26T03:13:14.823Z"
   },
   {
    "duration": 14,
    "start_time": "2023-07-26T03:13:15.159Z"
   },
   {
    "duration": 28,
    "start_time": "2023-07-26T03:13:15.622Z"
   },
   {
    "duration": 1144,
    "start_time": "2023-07-26T03:13:16.785Z"
   },
   {
    "duration": 8,
    "start_time": "2023-07-26T03:13:37.963Z"
   },
   {
    "duration": 7,
    "start_time": "2023-07-26T03:15:05.057Z"
   },
   {
    "duration": 7,
    "start_time": "2023-07-26T03:15:43.981Z"
   },
   {
    "duration": 8,
    "start_time": "2023-07-26T03:15:56.174Z"
   },
   {
    "duration": 28,
    "start_time": "2023-07-26T03:16:28.200Z"
   },
   {
    "duration": 9,
    "start_time": "2023-07-26T03:16:34.153Z"
   },
   {
    "duration": 13,
    "start_time": "2023-07-26T03:17:08.196Z"
   },
   {
    "duration": 10,
    "start_time": "2023-07-26T03:19:09.254Z"
   },
   {
    "duration": 23,
    "start_time": "2023-07-26T03:20:22.730Z"
   },
   {
    "duration": 9,
    "start_time": "2023-07-26T03:20:41.156Z"
   },
   {
    "duration": 10,
    "start_time": "2023-07-26T03:20:50.251Z"
   },
   {
    "duration": 20,
    "start_time": "2023-07-26T03:21:01.789Z"
   },
   {
    "duration": 23,
    "start_time": "2023-07-26T03:21:57.790Z"
   },
   {
    "duration": 3,
    "start_time": "2023-07-26T03:35:27.388Z"
   },
   {
    "duration": 370,
    "start_time": "2023-07-26T03:35:29.223Z"
   },
   {
    "duration": 208,
    "start_time": "2023-07-26T03:35:30.330Z"
   },
   {
    "duration": 136,
    "start_time": "2023-07-26T03:35:31.282Z"
   },
   {
    "duration": 49,
    "start_time": "2023-07-26T03:35:32.087Z"
   },
   {
    "duration": 9715,
    "start_time": "2023-07-26T03:35:32.982Z"
   },
   {
    "duration": 8,
    "start_time": "2023-07-26T03:35:42.700Z"
   },
   {
    "duration": 29,
    "start_time": "2023-07-26T03:35:45.497Z"
   },
   {
    "duration": 1786,
    "start_time": "2023-07-26T03:35:57.603Z"
   },
   {
    "duration": 419,
    "start_time": "2023-07-26T03:36:04.369Z"
   },
   {
    "duration": 237,
    "start_time": "2023-07-26T03:36:05.294Z"
   },
   {
    "duration": 126,
    "start_time": "2023-07-26T03:36:06.386Z"
   },
   {
    "duration": 45,
    "start_time": "2023-07-26T03:36:07.214Z"
   },
   {
    "duration": 9102,
    "start_time": "2023-07-26T03:36:08.116Z"
   },
   {
    "duration": 10,
    "start_time": "2023-07-26T03:36:20.952Z"
   },
   {
    "duration": 13,
    "start_time": "2023-07-26T03:36:22.573Z"
   },
   {
    "duration": 3,
    "start_time": "2023-07-26T03:36:23.774Z"
   },
   {
    "duration": 22,
    "start_time": "2023-07-26T03:36:24.369Z"
   },
   {
    "duration": 13,
    "start_time": "2023-07-26T03:36:24.770Z"
   },
   {
    "duration": 18,
    "start_time": "2023-07-26T03:36:26.164Z"
   },
   {
    "duration": 781,
    "start_time": "2023-07-26T03:36:26.672Z"
   },
   {
    "duration": 9,
    "start_time": "2023-07-26T03:36:29.270Z"
   },
   {
    "duration": 33,
    "start_time": "2023-07-26T03:36:33.593Z"
   },
   {
    "duration": 28,
    "start_time": "2023-07-26T03:36:34.861Z"
   },
   {
    "duration": 10,
    "start_time": "2023-07-26T03:36:36.730Z"
   },
   {
    "duration": 13,
    "start_time": "2023-07-26T03:36:43.080Z"
   },
   {
    "duration": 607,
    "start_time": "2023-07-26T03:36:43.573Z"
   },
   {
    "duration": 7,
    "start_time": "2023-07-26T03:36:45.633Z"
   },
   {
    "duration": 18,
    "start_time": "2023-07-26T03:37:52.831Z"
   },
   {
    "duration": 49,
    "start_time": "2023-07-26T03:37:53.476Z"
   },
   {
    "duration": 11,
    "start_time": "2023-07-26T03:37:54.825Z"
   },
   {
    "duration": 15,
    "start_time": "2023-07-26T03:37:55.635Z"
   },
   {
    "duration": 893,
    "start_time": "2023-07-26T03:37:59.243Z"
   },
   {
    "duration": 7,
    "start_time": "2023-07-26T03:38:00.138Z"
   },
   {
    "duration": 5,
    "start_time": "2023-07-26T03:38:41.527Z"
   },
   {
    "duration": 4,
    "start_time": "2023-07-26T03:38:43.361Z"
   },
   {
    "duration": 4,
    "start_time": "2023-07-26T03:38:45.473Z"
   },
   {
    "duration": 1935,
    "start_time": "2023-07-26T18:05:22.264Z"
   },
   {
    "duration": 759,
    "start_time": "2023-07-26T18:05:34.291Z"
   },
   {
    "duration": 172,
    "start_time": "2023-07-26T18:05:35.835Z"
   },
   {
    "duration": 107,
    "start_time": "2023-07-26T18:05:37.119Z"
   },
   {
    "duration": 43,
    "start_time": "2023-07-26T18:05:38.066Z"
   },
   {
    "duration": 9559,
    "start_time": "2023-07-26T18:05:46.544Z"
   },
   {
    "duration": 10,
    "start_time": "2023-07-26T18:06:02.764Z"
   },
   {
    "duration": 16,
    "start_time": "2023-07-26T18:06:06.615Z"
   },
   {
    "duration": 3,
    "start_time": "2023-07-26T18:06:09.398Z"
   },
   {
    "duration": 28,
    "start_time": "2023-07-26T18:06:09.559Z"
   },
   {
    "duration": 16,
    "start_time": "2023-07-26T18:06:10.514Z"
   },
   {
    "duration": 5,
    "start_time": "2023-07-26T18:06:10.937Z"
   },
   {
    "duration": 816,
    "start_time": "2023-07-26T18:06:11.433Z"
   },
   {
    "duration": 8,
    "start_time": "2023-07-26T18:06:17.089Z"
   },
   {
    "duration": 15,
    "start_time": "2023-07-26T18:06:24.081Z"
   },
   {
    "duration": 23,
    "start_time": "2023-07-26T18:06:24.565Z"
   },
   {
    "duration": 12,
    "start_time": "2023-07-26T18:06:24.821Z"
   },
   {
    "duration": 5,
    "start_time": "2023-07-26T18:06:25.061Z"
   },
   {
    "duration": 719,
    "start_time": "2023-07-26T18:06:25.272Z"
   },
   {
    "duration": 8,
    "start_time": "2023-07-26T18:06:27.145Z"
   },
   {
    "duration": 15,
    "start_time": "2023-07-26T18:06:33.055Z"
   },
   {
    "duration": 24,
    "start_time": "2023-07-26T18:06:33.813Z"
   },
   {
    "duration": 11,
    "start_time": "2023-07-26T18:06:34.222Z"
   },
   {
    "duration": 11,
    "start_time": "2023-07-26T18:06:34.697Z"
   },
   {
    "duration": 924,
    "start_time": "2023-07-26T18:06:35.111Z"
   },
   {
    "duration": 7,
    "start_time": "2023-07-26T18:06:36.037Z"
   },
   {
    "duration": 3,
    "start_time": "2023-07-26T18:06:38.037Z"
   },
   {
    "duration": 5,
    "start_time": "2023-07-26T18:06:38.869Z"
   },
   {
    "duration": 4,
    "start_time": "2023-07-26T18:06:40.141Z"
   },
   {
    "duration": 3,
    "start_time": "2023-07-26T18:20:18.890Z"
   },
   {
    "duration": 4,
    "start_time": "2023-07-26T18:20:43.597Z"
   },
   {
    "duration": 335,
    "start_time": "2023-07-26T18:23:35.048Z"
   },
   {
    "duration": 169,
    "start_time": "2023-07-26T18:23:48.705Z"
   },
   {
    "duration": 183,
    "start_time": "2023-07-26T18:24:15.089Z"
   },
   {
    "duration": 221,
    "start_time": "2023-07-26T18:24:40.351Z"
   },
   {
    "duration": 246,
    "start_time": "2023-07-26T18:24:50.333Z"
   },
   {
    "duration": 511,
    "start_time": "2023-07-26T18:25:44.461Z"
   },
   {
    "duration": 467,
    "start_time": "2023-07-26T18:26:04.836Z"
   },
   {
    "duration": 120,
    "start_time": "2023-07-26T18:26:22.059Z"
   },
   {
    "duration": 626,
    "start_time": "2023-07-26T18:26:28.047Z"
   },
   {
    "duration": 92,
    "start_time": "2023-07-26T18:26:33.325Z"
   },
   {
    "duration": 141,
    "start_time": "2023-07-26T18:26:36.430Z"
   },
   {
    "duration": 158,
    "start_time": "2023-07-26T18:29:14.312Z"
   },
   {
    "duration": 525,
    "start_time": "2023-07-26T18:29:40.147Z"
   },
   {
    "duration": 552,
    "start_time": "2023-07-26T18:30:05.519Z"
   },
   {
    "duration": 532,
    "start_time": "2023-07-26T18:30:47.240Z"
   },
   {
    "duration": 188,
    "start_time": "2023-07-26T18:41:56.400Z"
   },
   {
    "duration": 4,
    "start_time": "2023-07-26T18:42:04.250Z"
   },
   {
    "duration": 479,
    "start_time": "2023-07-26T18:47:48.018Z"
   },
   {
    "duration": 440,
    "start_time": "2023-07-26T18:49:39.860Z"
   },
   {
    "duration": 177,
    "start_time": "2023-07-26T18:58:41.299Z"
   },
   {
    "duration": 1306,
    "start_time": "2023-07-26T18:59:05.006Z"
   },
   {
    "duration": 71527,
    "start_time": "2023-07-26T18:59:30.609Z"
   },
   {
    "duration": 20896,
    "start_time": "2023-07-26T19:00:45.254Z"
   },
   {
    "duration": 20695,
    "start_time": "2023-07-26T19:02:00.531Z"
   },
   {
    "duration": 1929,
    "start_time": "2023-07-26T19:02:35.292Z"
   },
   {
    "duration": 468,
    "start_time": "2023-07-26T19:02:37.744Z"
   },
   {
    "duration": 196,
    "start_time": "2023-07-26T19:02:38.215Z"
   },
   {
    "duration": 134,
    "start_time": "2023-07-26T19:02:39.063Z"
   },
   {
    "duration": 73,
    "start_time": "2023-07-26T19:02:39.742Z"
   },
   {
    "duration": 9990,
    "start_time": "2023-07-26T19:02:40.502Z"
   },
   {
    "duration": 13,
    "start_time": "2023-07-26T19:02:50.494Z"
   },
   {
    "duration": 21,
    "start_time": "2023-07-26T19:02:54.756Z"
   },
   {
    "duration": 3,
    "start_time": "2023-07-26T19:02:56.692Z"
   },
   {
    "duration": 24,
    "start_time": "2023-07-26T19:02:59.524Z"
   },
   {
    "duration": 12,
    "start_time": "2023-07-26T19:03:00.030Z"
   },
   {
    "duration": 6,
    "start_time": "2023-07-26T19:03:00.630Z"
   },
   {
    "duration": 827,
    "start_time": "2023-07-26T19:03:02.655Z"
   },
   {
    "duration": 8,
    "start_time": "2023-07-26T19:03:12.299Z"
   },
   {
    "duration": 14,
    "start_time": "2023-07-26T19:03:15.302Z"
   },
   {
    "duration": 34,
    "start_time": "2023-07-26T19:03:16.552Z"
   },
   {
    "duration": 12,
    "start_time": "2023-07-26T19:03:16.794Z"
   },
   {
    "duration": 6,
    "start_time": "2023-07-26T19:03:17.018Z"
   },
   {
    "duration": 687,
    "start_time": "2023-07-26T19:03:17.220Z"
   },
   {
    "duration": 8,
    "start_time": "2023-07-26T19:03:17.909Z"
   },
   {
    "duration": 14,
    "start_time": "2023-07-26T19:03:19.643Z"
   },
   {
    "duration": 22,
    "start_time": "2023-07-26T19:03:19.926Z"
   },
   {
    "duration": 12,
    "start_time": "2023-07-26T19:03:20.212Z"
   },
   {
    "duration": 7,
    "start_time": "2023-07-26T19:03:20.491Z"
   },
   {
    "duration": 942,
    "start_time": "2023-07-26T19:03:20.895Z"
   },
   {
    "duration": 8,
    "start_time": "2023-07-26T19:03:22.418Z"
   },
   {
    "duration": 2,
    "start_time": "2023-07-26T19:03:55.235Z"
   },
   {
    "duration": 4,
    "start_time": "2023-07-26T19:04:00.041Z"
   },
   {
    "duration": 4,
    "start_time": "2023-07-26T19:04:01.829Z"
   },
   {
    "duration": 1389,
    "start_time": "2023-07-26T19:04:25.297Z"
   },
   {
    "duration": 4,
    "start_time": "2023-07-26T19:04:31.492Z"
   },
   {
    "duration": 25686,
    "start_time": "2023-07-26T19:04:32.663Z"
   },
   {
    "duration": 847159,
    "start_time": "2023-07-26T19:04:59.426Z"
   },
   {
    "duration": 5,
    "start_time": "2023-07-26T19:24:42.961Z"
   },
   {
    "duration": 1551,
    "start_time": "2023-07-26T19:24:47.895Z"
   },
   {
    "duration": 451,
    "start_time": "2023-07-26T19:24:50.115Z"
   },
   {
    "duration": 243,
    "start_time": "2023-07-26T19:24:50.567Z"
   },
   {
    "duration": 165,
    "start_time": "2023-07-26T19:24:51.410Z"
   },
   {
    "duration": 49,
    "start_time": "2023-07-26T19:24:52.091Z"
   },
   {
    "duration": 10915,
    "start_time": "2023-07-26T19:24:52.880Z"
   },
   {
    "duration": 11,
    "start_time": "2023-07-26T19:25:03.798Z"
   },
   {
    "duration": 19,
    "start_time": "2023-07-26T19:25:05.234Z"
   },
   {
    "duration": 3,
    "start_time": "2023-07-26T19:25:05.819Z"
   },
   {
    "duration": 29,
    "start_time": "2023-07-26T19:25:06.041Z"
   },
   {
    "duration": 16,
    "start_time": "2023-07-26T19:25:06.251Z"
   },
   {
    "duration": 24,
    "start_time": "2023-07-26T19:25:06.466Z"
   },
   {
    "duration": 860,
    "start_time": "2023-07-26T19:25:06.695Z"
   },
   {
    "duration": 15,
    "start_time": "2023-07-26T19:25:07.558Z"
   },
   {
    "duration": 20,
    "start_time": "2023-07-26T19:25:09.381Z"
   },
   {
    "duration": 32,
    "start_time": "2023-07-26T19:25:09.694Z"
   },
   {
    "duration": 13,
    "start_time": "2023-07-26T19:25:09.946Z"
   },
   {
    "duration": 12,
    "start_time": "2023-07-26T19:25:10.204Z"
   },
   {
    "duration": 792,
    "start_time": "2023-07-26T19:25:10.434Z"
   },
   {
    "duration": 10,
    "start_time": "2023-07-26T19:25:11.228Z"
   },
   {
    "duration": 16,
    "start_time": "2023-07-26T19:25:12.455Z"
   },
   {
    "duration": 32,
    "start_time": "2023-07-26T19:25:12.708Z"
   },
   {
    "duration": 13,
    "start_time": "2023-07-26T19:25:12.955Z"
   },
   {
    "duration": 14,
    "start_time": "2023-07-26T19:25:13.206Z"
   },
   {
    "duration": 1206,
    "start_time": "2023-07-26T19:25:13.482Z"
   },
   {
    "duration": 11,
    "start_time": "2023-07-26T19:25:14.691Z"
   },
   {
    "duration": 3,
    "start_time": "2023-07-26T19:25:16.117Z"
   },
   {
    "duration": 5,
    "start_time": "2023-07-26T19:25:16.599Z"
   },
   {
    "duration": 5,
    "start_time": "2023-07-26T19:25:17.064Z"
   },
   {
    "duration": 4,
    "start_time": "2023-07-26T19:25:22.022Z"
   },
   {
    "duration": 76775,
    "start_time": "2023-07-26T19:25:38.884Z"
   },
   {
    "duration": 91,
    "start_time": "2023-07-26T19:27:04.088Z"
   },
   {
    "duration": 92278,
    "start_time": "2023-07-26T19:27:12.468Z"
   },
   {
    "duration": 9,
    "start_time": "2023-07-26T19:28:49.161Z"
   },
   {
    "duration": 59632,
    "start_time": "2023-07-26T19:29:13.588Z"
   },
   {
    "duration": 14,
    "start_time": "2023-07-26T19:31:58.004Z"
   },
   {
    "duration": 13,
    "start_time": "2023-07-26T19:32:04.515Z"
   },
   {
    "duration": 4022,
    "start_time": "2023-07-26T19:33:09.847Z"
   },
   {
    "duration": 8,
    "start_time": "2023-07-26T19:33:20.096Z"
   },
   {
    "duration": 28137,
    "start_time": "2023-07-26T19:34:44.799Z"
   },
   {
    "duration": 42626,
    "start_time": "2023-07-26T19:36:26.615Z"
   },
   {
    "duration": 12,
    "start_time": "2023-07-26T19:37:13.584Z"
   },
   {
    "duration": 16,
    "start_time": "2023-07-26T19:37:17.300Z"
   },
   {
    "duration": 16,
    "start_time": "2023-07-26T19:37:46.936Z"
   },
   {
    "duration": 31,
    "start_time": "2023-07-26T19:37:54.266Z"
   },
   {
    "duration": 16203,
    "start_time": "2023-07-26T19:38:05.067Z"
   },
   {
    "duration": 74,
    "start_time": "2023-07-26T19:38:23.097Z"
   },
   {
    "duration": 243231,
    "start_time": "2023-07-26T19:38:30.807Z"
   },
   {
    "duration": 91777,
    "start_time": "2023-07-26T19:42:50.785Z"
   },
   {
    "duration": 25128,
    "start_time": "2023-07-26T19:44:23.903Z"
   },
   {
    "duration": 4477,
    "start_time": "2023-07-26T19:44:51.378Z"
   },
   {
    "duration": 36146,
    "start_time": "2023-07-26T19:45:27.227Z"
   },
   {
    "duration": 1496,
    "start_time": "2023-07-26T19:46:06.026Z"
   },
   {
    "duration": 5086,
    "start_time": "2023-07-26T19:47:29.219Z"
   },
   {
    "duration": 1474,
    "start_time": "2023-07-26T19:49:09.552Z"
   },
   {
    "duration": 394,
    "start_time": "2023-07-26T19:49:11.708Z"
   },
   {
    "duration": 223,
    "start_time": "2023-07-26T19:49:12.782Z"
   },
   {
    "duration": 119,
    "start_time": "2023-07-26T19:49:14.230Z"
   },
   {
    "duration": 43,
    "start_time": "2023-07-26T19:49:14.998Z"
   },
   {
    "duration": 9797,
    "start_time": "2023-07-26T19:49:15.841Z"
   },
   {
    "duration": 13,
    "start_time": "2023-07-26T19:49:26.422Z"
   },
   {
    "duration": 182,
    "start_time": "2023-07-26T19:49:48.823Z"
   },
   {
    "duration": 121,
    "start_time": "2023-07-26T19:49:55.298Z"
   },
   {
    "duration": 143,
    "start_time": "2023-07-26T19:50:16.892Z"
   },
   {
    "duration": 66,
    "start_time": "2023-07-26T19:50:23.545Z"
   },
   {
    "duration": 1424,
    "start_time": "2023-07-26T19:50:34.180Z"
   },
   {
    "duration": 64,
    "start_time": "2023-07-26T19:50:48.120Z"
   },
   {
    "duration": 1635,
    "start_time": "2023-07-26T19:50:49.184Z"
   },
   {
    "duration": 1443,
    "start_time": "2023-07-26T19:51:03.723Z"
   },
   {
    "duration": 383,
    "start_time": "2023-07-26T19:51:05.737Z"
   },
   {
    "duration": 165,
    "start_time": "2023-07-26T19:51:10.722Z"
   },
   {
    "duration": 147,
    "start_time": "2023-07-26T19:51:16.971Z"
   },
   {
    "duration": 37,
    "start_time": "2023-07-26T19:51:19.027Z"
   },
   {
    "duration": 9736,
    "start_time": "2023-07-26T19:51:40.355Z"
   },
   {
    "duration": 10,
    "start_time": "2023-07-26T19:51:53.288Z"
   },
   {
    "duration": 14,
    "start_time": "2023-07-26T19:51:57.242Z"
   },
   {
    "duration": 6,
    "start_time": "2023-07-26T19:51:58.873Z"
   },
   {
    "duration": 24,
    "start_time": "2023-07-26T19:51:59.210Z"
   },
   {
    "duration": 12,
    "start_time": "2023-07-26T19:51:59.556Z"
   },
   {
    "duration": 5,
    "start_time": "2023-07-26T19:51:59.890Z"
   },
   {
    "duration": 816,
    "start_time": "2023-07-26T19:52:00.622Z"
   },
   {
    "duration": 9,
    "start_time": "2023-07-26T19:52:02.821Z"
   },
   {
    "duration": 15,
    "start_time": "2023-07-26T19:52:04.698Z"
   },
   {
    "duration": 23,
    "start_time": "2023-07-26T19:52:05.117Z"
   },
   {
    "duration": 22,
    "start_time": "2023-07-26T19:52:05.469Z"
   },
   {
    "duration": 6,
    "start_time": "2023-07-26T19:52:06.054Z"
   },
   {
    "duration": 676,
    "start_time": "2023-07-26T19:52:06.714Z"
   },
   {
    "duration": 8,
    "start_time": "2023-07-26T19:52:07.557Z"
   },
   {
    "duration": 14,
    "start_time": "2023-07-26T19:52:10.303Z"
   },
   {
    "duration": 28,
    "start_time": "2023-07-26T19:52:10.562Z"
   },
   {
    "duration": 11,
    "start_time": "2023-07-26T19:52:10.851Z"
   },
   {
    "duration": 5,
    "start_time": "2023-07-26T19:52:11.094Z"
   },
   {
    "duration": 1081,
    "start_time": "2023-07-26T19:52:11.569Z"
   },
   {
    "duration": 8,
    "start_time": "2023-07-26T19:52:12.652Z"
   },
   {
    "duration": 2,
    "start_time": "2023-07-26T19:52:16.007Z"
   },
   {
    "duration": 6,
    "start_time": "2023-07-26T19:52:16.904Z"
   },
   {
    "duration": 5,
    "start_time": "2023-07-26T19:52:18.186Z"
   },
   {
    "duration": 8,
    "start_time": "2023-07-26T19:52:21.475Z"
   },
   {
    "duration": 118,
    "start_time": "2023-07-26T19:52:35.252Z"
   },
   {
    "duration": 57,
    "start_time": "2023-07-26T19:52:47.438Z"
   },
   {
    "duration": 4907,
    "start_time": "2023-07-26T19:53:05.212Z"
   },
   {
    "duration": 1648,
    "start_time": "2023-07-26T19:55:05.091Z"
   },
   {
    "duration": 514,
    "start_time": "2023-07-26T19:55:07.425Z"
   },
   {
    "duration": 228,
    "start_time": "2023-07-26T19:55:08.024Z"
   },
   {
    "duration": 139,
    "start_time": "2023-07-26T19:55:10.210Z"
   },
   {
    "duration": 39,
    "start_time": "2023-07-26T19:55:11.026Z"
   },
   {
    "duration": 9859,
    "start_time": "2023-07-26T19:55:12.163Z"
   },
   {
    "duration": 12,
    "start_time": "2023-07-26T19:55:22.024Z"
   },
   {
    "duration": 22,
    "start_time": "2023-07-26T19:55:26.524Z"
   },
   {
    "duration": 4,
    "start_time": "2023-07-26T19:55:27.288Z"
   },
   {
    "duration": 28,
    "start_time": "2023-07-26T19:55:27.696Z"
   },
   {
    "duration": 12,
    "start_time": "2023-07-26T19:55:27.939Z"
   },
   {
    "duration": 8,
    "start_time": "2023-07-26T19:55:28.195Z"
   },
   {
    "duration": 854,
    "start_time": "2023-07-26T19:55:28.661Z"
   },
   {
    "duration": 11,
    "start_time": "2023-07-26T19:55:39.470Z"
   },
   {
    "duration": 51,
    "start_time": "2023-07-26T19:56:10.676Z"
   },
   {
    "duration": 695,
    "start_time": "2023-07-26T19:56:14.404Z"
   },
   {
    "duration": 8,
    "start_time": "2023-07-26T19:56:16.816Z"
   },
   {
    "duration": 44,
    "start_time": "2023-07-26T19:56:41.399Z"
   },
   {
    "duration": 997,
    "start_time": "2023-07-26T19:56:42.257Z"
   },
   {
    "duration": 13,
    "start_time": "2023-07-26T19:56:48.884Z"
   },
   {
    "duration": 3,
    "start_time": "2023-07-26T19:56:54.108Z"
   },
   {
    "duration": 4,
    "start_time": "2023-07-26T19:56:55.028Z"
   },
   {
    "duration": 4,
    "start_time": "2023-07-26T19:56:56.819Z"
   },
   {
    "duration": 3,
    "start_time": "2023-07-26T19:56:58.840Z"
   },
   {
    "duration": 5277,
    "start_time": "2023-07-26T19:57:01.015Z"
   },
   {
    "duration": 1623,
    "start_time": "2023-07-26T21:21:05.620Z"
   },
   {
    "duration": 826,
    "start_time": "2023-07-26T21:21:09.086Z"
   },
   {
    "duration": 175,
    "start_time": "2023-07-26T21:21:10.668Z"
   },
   {
    "duration": 113,
    "start_time": "2023-07-26T21:21:14.514Z"
   },
   {
    "duration": 41,
    "start_time": "2023-07-26T21:21:17.460Z"
   },
   {
    "duration": 9994,
    "start_time": "2023-07-26T21:21:19.230Z"
   },
   {
    "duration": 5,
    "start_time": "2023-07-26T21:31:19.401Z"
   },
   {
    "duration": 131,
    "start_time": "2023-07-26T21:31:31.151Z"
   },
   {
    "duration": 4,
    "start_time": "2023-07-26T21:31:49.050Z"
   },
   {
    "duration": 60,
    "start_time": "2023-07-26T21:31:51.285Z"
   },
   {
    "duration": 4,
    "start_time": "2023-07-26T21:32:25.847Z"
   },
   {
    "duration": 50,
    "start_time": "2023-07-26T21:32:31.001Z"
   },
   {
    "duration": 6,
    "start_time": "2023-07-26T21:33:00.678Z"
   },
   {
    "duration": 55,
    "start_time": "2023-07-26T21:33:02.846Z"
   },
   {
    "duration": 55,
    "start_time": "2023-07-26T21:33:54.358Z"
   },
   {
    "duration": 5,
    "start_time": "2023-07-26T21:34:38.167Z"
   },
   {
    "duration": 53,
    "start_time": "2023-07-26T21:34:46.587Z"
   },
   {
    "duration": 11,
    "start_time": "2023-07-26T21:35:08.880Z"
   },
   {
    "duration": 51,
    "start_time": "2023-07-26T21:35:11.798Z"
   },
   {
    "duration": 369,
    "start_time": "2023-07-26T21:35:22.428Z"
   },
   {
    "duration": 13,
    "start_time": "2023-07-26T21:35:28.330Z"
   },
   {
    "duration": 5,
    "start_time": "2023-07-26T21:35:31.209Z"
   },
   {
    "duration": 218,
    "start_time": "2023-07-26T21:35:33.057Z"
   },
   {
    "duration": 177,
    "start_time": "2023-07-26T21:36:31.095Z"
   },
   {
    "duration": 1124,
    "start_time": "2023-07-26T21:36:37.174Z"
   },
   {
    "duration": 4,
    "start_time": "2023-07-26T21:36:57.227Z"
   },
   {
    "duration": 10,
    "start_time": "2023-07-26T21:37:21.561Z"
   },
   {
    "duration": 1036,
    "start_time": "2023-07-26T21:37:52.805Z"
   },
   {
    "duration": 9,
    "start_time": "2023-07-26T21:37:57.048Z"
   },
   {
    "duration": 1118,
    "start_time": "2023-07-26T21:38:19.868Z"
   },
   {
    "duration": 9,
    "start_time": "2023-07-26T21:38:32.314Z"
   },
   {
    "duration": 4,
    "start_time": "2023-07-26T21:38:49.527Z"
   },
   {
    "duration": 942,
    "start_time": "2023-07-26T21:38:52.193Z"
   },
   {
    "duration": 13,
    "start_time": "2023-07-26T21:38:55.754Z"
   },
   {
    "duration": 802,
    "start_time": "2023-07-26T21:38:57.884Z"
   },
   {
    "duration": 9,
    "start_time": "2023-07-26T21:39:00.089Z"
   },
   {
    "duration": 970,
    "start_time": "2023-07-26T21:39:23.792Z"
   },
   {
    "duration": 11,
    "start_time": "2023-07-26T21:39:26.452Z"
   },
   {
    "duration": 1495,
    "start_time": "2023-07-26T21:41:52.333Z"
   },
   {
    "duration": 404,
    "start_time": "2023-07-26T21:41:54.867Z"
   },
   {
    "duration": 201,
    "start_time": "2023-07-26T21:41:56.420Z"
   },
   {
    "duration": 135,
    "start_time": "2023-07-26T21:42:00.506Z"
   },
   {
    "duration": 49,
    "start_time": "2023-07-26T21:42:02.482Z"
   },
   {
    "duration": 10717,
    "start_time": "2023-07-26T21:42:04.484Z"
   },
   {
    "duration": 10,
    "start_time": "2023-07-26T21:42:16.712Z"
   },
   {
    "duration": 5,
    "start_time": "2023-07-26T21:43:19.771Z"
   },
   {
    "duration": 946,
    "start_time": "2023-07-26T21:43:21.898Z"
   },
   {
    "duration": 4,
    "start_time": "2023-07-26T21:43:42.224Z"
   },
   {
    "duration": 1061,
    "start_time": "2023-07-26T21:43:44.882Z"
   },
   {
    "duration": 11,
    "start_time": "2023-07-26T21:43:49.186Z"
   },
   {
    "duration": 919,
    "start_time": "2023-07-26T21:43:52.587Z"
   },
   {
    "duration": 10,
    "start_time": "2023-07-26T21:43:54.983Z"
   },
   {
    "duration": 1203,
    "start_time": "2023-07-26T21:43:57.947Z"
   },
   {
    "duration": 8,
    "start_time": "2023-07-26T21:44:00.554Z"
   },
   {
    "duration": 3,
    "start_time": "2023-07-26T21:44:29.972Z"
   },
   {
    "duration": 4,
    "start_time": "2023-07-26T21:44:42.067Z"
   },
   {
    "duration": 4,
    "start_time": "2023-07-26T21:44:44.061Z"
   },
   {
    "duration": 4,
    "start_time": "2023-07-26T21:44:54.795Z"
   },
   {
    "duration": 4798,
    "start_time": "2023-07-26T21:44:57.378Z"
   }
  ],
  "kernelspec": {
   "display_name": "Python 3 (ipykernel)",
   "language": "python",
   "name": "python3"
  },
  "language_info": {
   "codemirror_mode": {
    "name": "ipython",
    "version": 3
   },
   "file_extension": ".py",
   "mimetype": "text/x-python",
   "name": "python",
   "nbconvert_exporter": "python",
   "pygments_lexer": "ipython3",
   "version": "3.10.7"
  },
  "toc": {
   "base_numbering": 1,
   "nav_menu": {},
   "number_sections": true,
   "sideBar": true,
   "skip_h1_title": true,
   "title_cell": "Table of Contents",
   "title_sidebar": "Contents",
   "toc_cell": false,
   "toc_position": {},
   "toc_section_display": true,
   "toc_window_display": false
  }
 },
 "nbformat": 4,
 "nbformat_minor": 2
}
