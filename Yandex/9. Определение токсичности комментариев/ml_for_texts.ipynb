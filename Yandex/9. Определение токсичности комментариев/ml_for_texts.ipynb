{
 "cells": [
  {
   "cell_type": "markdown",
   "id": "dbaee7d6",
   "metadata": {},
   "source": [
    "# Описание проекта\n",
    "\n",
    "Интернет-магазин «Викишоп» запускает новый сервис. Теперь пользователи могут редактировать и дополнять описания товаров, как в вики-сообществах. То есть клиенты предлагают свои правки и комментируют изменения других. Магазину нужен инструмент, который будет искать токсичные комментарии и отправлять их на модерацию. \n",
    "Обучите модель классифицировать комментарии на позитивные и негативные. В вашем распоряжении набор данных с разметкой о токсичности правок.\n",
    "\n",
    "Постройте модель со значением метрики качества F1 не меньше 0.75. \n",
    "\n",
    "Алгоритм выполнения задачи:\n",
    "1. Загрузите и подготовьте данные.\n",
    "2. Обучите разные модели.\n",
    "3. Сделайте выводы.\n",
    "\n",
    "Описание данных\n",
    "Данные находятся в файле `/datasets/toxic_comments.csv.` Столбец text в нём содержит текст комментария, а toxic — целевой признак."
   ]
  },
  {
   "cell_type": "markdown",
   "id": "5b1cbcb5",
   "metadata": {},
   "source": [
    "## 1. Загрузка и подготовка данных"
   ]
  },
  {
   "cell_type": "code",
   "execution_count": 1,
   "id": "cfa4b688",
   "metadata": {},
   "outputs": [
    {
     "name": "stderr",
     "output_type": "stream",
     "text": [
      "[nltk_data] Downloading package stopwords to\n",
      "[nltk_data]     C:\\Users\\Home\\AppData\\Roaming\\nltk_data...\n",
      "[nltk_data]   Package stopwords is already up-to-date!\n",
      "[nltk_data] Downloading package wordnet to\n",
      "[nltk_data]     C:\\Users\\Home\\AppData\\Roaming\\nltk_data...\n",
      "[nltk_data]   Package wordnet is already up-to-date!\n",
      "[nltk_data] Downloading package punkt to\n",
      "[nltk_data]     C:\\Users\\Home\\AppData\\Roaming\\nltk_data...\n",
      "[nltk_data]   Package punkt is already up-to-date!\n",
      "[nltk_data] Downloading package averaged_perceptron_tagger to\n",
      "[nltk_data]     C:\\Users\\Home\\AppData\\Roaming\\nltk_data...\n",
      "[nltk_data]   Package averaged_perceptron_tagger is already up-to-\n",
      "[nltk_data]       date!\n"
     ]
    }
   ],
   "source": [
    "import numpy as np\n",
    "import pandas as pd\n",
    "import matplotlib.pyplot as plt\n",
    "import seaborn as sns\n",
    "import os\n",
    "import re \n",
    "from time import time\n",
    "\n",
    "import warnings\n",
    "warnings.filterwarnings(\"ignore\")\n",
    "\n",
    "import nltk\n",
    "nltk.download('stopwords')\n",
    "nltk.download('wordnet')\n",
    "nltk.download('punkt')\n",
    "nltk.download('averaged_perceptron_tagger')\n",
    "\n",
    "import torch\n",
    "import transformers\n",
    "from tqdm import notebook\n",
    "from pymystem3 import Mystem\n",
    "from nltk.corpus import stopwords \n",
    "from sklearn.utils import shuffle\n",
    "from sklearn.feature_extraction.text import TfidfVectorizer\n",
    "from sklearn.model_selection import train_test_split, RandomizedSearchCV\n",
    "from sklearn.linear_model import LogisticRegression\n",
    "from sklearn.tree import DecisionTreeClassifier\n",
    "from lightgbm import LGBMClassifier\n",
    "from catboost import CatBoostClassifier\n",
    "from sklearn.svm import LinearSVC\n",
    "from sklearn.pipeline import Pipeline\n",
    "from tqdm import tqdm\n",
    "tqdm.pandas()\n",
    "from sklearn.compose import ColumnTransformer\n",
    "import random\n",
    "from sklearn.metrics import f1_score, make_scorer, classification_report\n",
    "\n",
    "RANDOM_STATE = np.random.randint(12345)\n",
    "STOP_WORDS = list(stopwords.words('english'))\n",
    "\n",
    "from sklearn.dummy import DummyClassifier\n",
    "from sklearn.model_selection import KFold"
   ]
  },
  {
   "cell_type": "code",
   "execution_count": 2,
   "id": "f0a5fb90",
   "metadata": {},
   "outputs": [],
   "source": [
    "pth1 = '/datasets/toxic_comments.csv'\n",
    "pth2 = 'C:/Users/Солнышко/Documents/toxic_comments.csv'\n",
    "pth3 = 'C:/Users/Home/Documents/Яндекс/Сатанист/toxic_comments.csv'\n",
    "\n",
    "if os.path.exists(pth1):\n",
    "    data = pd.read_csv(pth1, index_col=0)\n",
    "elif os.path.exists(pth2):\n",
    "    data = pd.read_csv(pth2, index_col=0)\n",
    "elif os.path.exists(pth3):\n",
    "    data = pd.read_csv(pth3, index_col=0)\n",
    "else:\n",
    "    print('Something is wrong')"
   ]
  },
  {
   "cell_type": "code",
   "execution_count": 3,
   "id": "da3326ac",
   "metadata": {},
   "outputs": [
    {
     "data": {
      "text/html": [
       "<div>\n",
       "<style scoped>\n",
       "    .dataframe tbody tr th:only-of-type {\n",
       "        vertical-align: middle;\n",
       "    }\n",
       "\n",
       "    .dataframe tbody tr th {\n",
       "        vertical-align: top;\n",
       "    }\n",
       "\n",
       "    .dataframe thead th {\n",
       "        text-align: right;\n",
       "    }\n",
       "</style>\n",
       "<table border=\"1\" class=\"dataframe\">\n",
       "  <thead>\n",
       "    <tr style=\"text-align: right;\">\n",
       "      <th></th>\n",
       "      <th>text</th>\n",
       "      <th>toxic</th>\n",
       "    </tr>\n",
       "  </thead>\n",
       "  <tbody>\n",
       "    <tr>\n",
       "      <th>0</th>\n",
       "      <td>Explanation\\nWhy the edits made under my usern...</td>\n",
       "      <td>0</td>\n",
       "    </tr>\n",
       "    <tr>\n",
       "      <th>1</th>\n",
       "      <td>D'aww! He matches this background colour I'm s...</td>\n",
       "      <td>0</td>\n",
       "    </tr>\n",
       "    <tr>\n",
       "      <th>2</th>\n",
       "      <td>Hey man, I'm really not trying to edit war. It...</td>\n",
       "      <td>0</td>\n",
       "    </tr>\n",
       "    <tr>\n",
       "      <th>3</th>\n",
       "      <td>\"\\nMore\\nI can't make any real suggestions on ...</td>\n",
       "      <td>0</td>\n",
       "    </tr>\n",
       "    <tr>\n",
       "      <th>4</th>\n",
       "      <td>You, sir, are my hero. Any chance you remember...</td>\n",
       "      <td>0</td>\n",
       "    </tr>\n",
       "    <tr>\n",
       "      <th>...</th>\n",
       "      <td>...</td>\n",
       "      <td>...</td>\n",
       "    </tr>\n",
       "    <tr>\n",
       "      <th>159446</th>\n",
       "      <td>\":::::And for the second time of asking, when ...</td>\n",
       "      <td>0</td>\n",
       "    </tr>\n",
       "    <tr>\n",
       "      <th>159447</th>\n",
       "      <td>You should be ashamed of yourself \\n\\nThat is ...</td>\n",
       "      <td>0</td>\n",
       "    </tr>\n",
       "    <tr>\n",
       "      <th>159448</th>\n",
       "      <td>Spitzer \\n\\nUmm, theres no actual article for ...</td>\n",
       "      <td>0</td>\n",
       "    </tr>\n",
       "    <tr>\n",
       "      <th>159449</th>\n",
       "      <td>And it looks like it was actually you who put ...</td>\n",
       "      <td>0</td>\n",
       "    </tr>\n",
       "    <tr>\n",
       "      <th>159450</th>\n",
       "      <td>\"\\nAnd ... I really don't think you understand...</td>\n",
       "      <td>0</td>\n",
       "    </tr>\n",
       "  </tbody>\n",
       "</table>\n",
       "<p>159292 rows × 2 columns</p>\n",
       "</div>"
      ],
      "text/plain": [
       "                                                     text  toxic\n",
       "0       Explanation\\nWhy the edits made under my usern...      0\n",
       "1       D'aww! He matches this background colour I'm s...      0\n",
       "2       Hey man, I'm really not trying to edit war. It...      0\n",
       "3       \"\\nMore\\nI can't make any real suggestions on ...      0\n",
       "4       You, sir, are my hero. Any chance you remember...      0\n",
       "...                                                   ...    ...\n",
       "159446  \":::::And for the second time of asking, when ...      0\n",
       "159447  You should be ashamed of yourself \\n\\nThat is ...      0\n",
       "159448  Spitzer \\n\\nUmm, theres no actual article for ...      0\n",
       "159449  And it looks like it was actually you who put ...      0\n",
       "159450  \"\\nAnd ... I really don't think you understand...      0\n",
       "\n",
       "[159292 rows x 2 columns]"
      ]
     },
     "execution_count": 3,
     "metadata": {},
     "output_type": "execute_result"
    }
   ],
   "source": [
    "data"
   ]
  },
  {
   "cell_type": "markdown",
   "id": "13462c5d",
   "metadata": {},
   "source": [
    "У нас 160 тысяч строк и 2 колонки - с изначальным текстом и таргетом. Для начала, лемматизируем и очистим текст:"
   ]
  },
  {
   "cell_type": "code",
   "execution_count": 4,
   "id": "d14d2771",
   "metadata": {},
   "outputs": [
    {
     "name": "stdout",
     "output_type": "stream",
     "text": [
      "Исходный текст: Explanation\n",
      "Why the edits made under my username Hardcore Metallica Fan were reverted? They weren't vandalisms, just closure on some GAs after I voted at New York Dolls FAC. And please don't remove the template from the talk page since I'm retired now.89.205.38.27\n",
      "\n",
      "Очищенный текст: Explanation Why the edits made under my username Hardcore Metallica Fan were reverted They weren t vandalisms just closure on some GAs after I voted at New York Dolls FAC And please don t remove the template from the talk page since I m retired now\n"
     ]
    }
   ],
   "source": [
    "corpus = data['text'].values\n",
    "\n",
    "def clear_text(text):\n",
    "    cleared = re.sub(r'[^a-zA-Z]', ' ', text).split()\n",
    "    return ' '.join(cleared)\n",
    "\n",
    "# Проверим:\n",
    "print(\"Исходный текст:\", corpus[0])\n",
    "print()\n",
    "print(\"Очищенный текст:\", clear_text(corpus[0]))"
   ]
  },
  {
   "cell_type": "code",
   "execution_count": 5,
   "id": "5a953ee7",
   "metadata": {},
   "outputs": [
    {
     "data": {
      "text/html": [
       "<div>\n",
       "<style scoped>\n",
       "    .dataframe tbody tr th:only-of-type {\n",
       "        vertical-align: middle;\n",
       "    }\n",
       "\n",
       "    .dataframe tbody tr th {\n",
       "        vertical-align: top;\n",
       "    }\n",
       "\n",
       "    .dataframe thead th {\n",
       "        text-align: right;\n",
       "    }\n",
       "</style>\n",
       "<table border=\"1\" class=\"dataframe\">\n",
       "  <thead>\n",
       "    <tr style=\"text-align: right;\">\n",
       "      <th></th>\n",
       "      <th>text</th>\n",
       "    </tr>\n",
       "  </thead>\n",
       "  <tbody>\n",
       "    <tr>\n",
       "      <th>0</th>\n",
       "      <td>explanation why the edits made under my userna...</td>\n",
       "    </tr>\n",
       "    <tr>\n",
       "      <th>1</th>\n",
       "      <td>d aww he matches this background colour i m se...</td>\n",
       "    </tr>\n",
       "    <tr>\n",
       "      <th>2</th>\n",
       "      <td>hey man i m really not trying to edit war it s...</td>\n",
       "    </tr>\n",
       "    <tr>\n",
       "      <th>3</th>\n",
       "      <td>more i can t make any real suggestions on impr...</td>\n",
       "    </tr>\n",
       "    <tr>\n",
       "      <th>4</th>\n",
       "      <td>you sir are my hero any chance you remember wh...</td>\n",
       "    </tr>\n",
       "    <tr>\n",
       "      <th>...</th>\n",
       "      <td>...</td>\n",
       "    </tr>\n",
       "    <tr>\n",
       "      <th>159446</th>\n",
       "      <td>and for the second time of asking when your vi...</td>\n",
       "    </tr>\n",
       "    <tr>\n",
       "      <th>159447</th>\n",
       "      <td>you should be ashamed of yourself that is a ho...</td>\n",
       "    </tr>\n",
       "    <tr>\n",
       "      <th>159448</th>\n",
       "      <td>spitzer umm theres no actual article for prost...</td>\n",
       "    </tr>\n",
       "    <tr>\n",
       "      <th>159449</th>\n",
       "      <td>and it looks like it was actually you who put ...</td>\n",
       "    </tr>\n",
       "    <tr>\n",
       "      <th>159450</th>\n",
       "      <td>and i really don t think you understand i came...</td>\n",
       "    </tr>\n",
       "  </tbody>\n",
       "</table>\n",
       "<p>159292 rows × 1 columns</p>\n",
       "</div>"
      ],
      "text/plain": [
       "                                                     text\n",
       "0       explanation why the edits made under my userna...\n",
       "1       d aww he matches this background colour i m se...\n",
       "2       hey man i m really not trying to edit war it s...\n",
       "3       more i can t make any real suggestions on impr...\n",
       "4       you sir are my hero any chance you remember wh...\n",
       "...                                                   ...\n",
       "159446  and for the second time of asking when your vi...\n",
       "159447  you should be ashamed of yourself that is a ho...\n",
       "159448  spitzer umm theres no actual article for prost...\n",
       "159449  and it looks like it was actually you who put ...\n",
       "159450  and i really don t think you understand i came...\n",
       "\n",
       "[159292 rows x 1 columns]"
      ]
     },
     "execution_count": 5,
     "metadata": {},
     "output_type": "execute_result"
    }
   ],
   "source": [
    "clear_data = pd.DataFrame(data['text'].apply(clear_text), index = data.index)\n",
    "clear_data['text'] = clear_data['text'].str.lower()\n",
    "clear_data"
   ]
  },
  {
   "cell_type": "markdown",
   "id": "1375c28a",
   "metadata": {},
   "source": [
    "Текст очистили, переходим к лемматизации:"
   ]
  },
  {
   "cell_type": "code",
   "execution_count": 6,
   "id": "8c74869e",
   "metadata": {
    "scrolled": true
   },
   "outputs": [
    {
     "name": "stderr",
     "output_type": "stream",
     "text": [
      "[nltk_data] Downloading package averaged_perceptron_tagger to\n",
      "[nltk_data]     C:\\Users\\Home\\AppData\\Roaming\\nltk_data...\n",
      "[nltk_data]   Package averaged_perceptron_tagger is already up-to-\n",
      "[nltk_data]       date!\n",
      "100%|█████████████████████████████████████████████████████████████████████████| 159292/159292 [20:02<00:00, 132.44it/s]\n"
     ]
    },
    {
     "data": {
      "text/plain": [
       "0    explanation why the edits make under my userna...\n",
       "1    d aww he match this background colour i m seem...\n",
       "2    hey man i m really not try to edit war it s ju...\n",
       "3    more i can t make any real suggestion on impro...\n",
       "4    you sir be my hero any chance you remember wha...\n",
       "5    congratulation from me as well use the tool we...\n",
       "6         cocksucker before you piss around on my work\n",
       "7    your vandalism to the matt shirvington article...\n",
       "8    sorry if the word nonsense be offensive to you...\n",
       "9    alignment on this subject and which be contrar...\n",
       "Name: lemm_text, dtype: object"
      ]
     },
     "execution_count": 6,
     "metadata": {},
     "output_type": "execute_result"
    }
   ],
   "source": [
    "# Лемматизация занимает достаточно много времени, но это один из основных процессов. \n",
    "# Для облегчения понимания, на каком этапе лемматизация, добавим progress_apply\n",
    "import nltk\n",
    "from nltk.stem import WordNetLemmatizer\n",
    "nltk.download('averaged_perceptron_tagger')\n",
    "from nltk.corpus import wordnet\n",
    "\n",
    "def pos_tagger(nltk_tag):\n",
    "    if nltk_tag.startswith('J'):\n",
    "        return wordnet.ADJ\n",
    "    elif nltk_tag.startswith('V'):\n",
    "        return wordnet.VERB\n",
    "    elif nltk_tag.startswith('N'):\n",
    "        return wordnet.NOUN\n",
    "    elif nltk_tag.startswith('R'):\n",
    "        return wordnet.ADV\n",
    "    else:\n",
    "        return None\n",
    "\n",
    "\n",
    "def lemmatization(row):\n",
    "    lemmatizer = WordNetLemmatizer()\n",
    "    pos_tagged = nltk.pos_tag(nltk.word_tokenize(row))\n",
    "    wordnet_tagged = list(map(lambda x: (x[0], pos_tagger(x[1])), pos_tagged))\n",
    "    lemmatized_sentence = []\n",
    "    for word, tag in wordnet_tagged:\n",
    "        if tag is None: \n",
    "            lemmatized_sentence.append(word)\n",
    "        else: \n",
    "            lemmatized_sentence.append(lemmatizer.lemmatize(word, tag))\n",
    "    return ' '.join(lemmatized_sentence)\n",
    "\n",
    "data['lemm_text'] = clear_data['text'].progress_apply(lambda x: lemmatization(x))\n",
    "data['lemm_text'].head(10)"
   ]
  },
  {
   "cell_type": "markdown",
   "id": "f4a007e0",
   "metadata": {},
   "source": [
    "Посмотрим соотношение классов:"
   ]
  },
  {
   "cell_type": "code",
   "execution_count": 7,
   "id": "d1f7e46d",
   "metadata": {},
   "outputs": [
    {
     "name": "stdout",
     "output_type": "stream",
     "text": [
      "toxic\n",
      "0    143106\n",
      "1     16186\n",
      "Name: count, dtype: int64\n"
     ]
    },
    {
     "data": {
      "text/plain": [
       "8.841344371679229"
      ]
     },
     "execution_count": 7,
     "metadata": {},
     "output_type": "execute_result"
    }
   ],
   "source": [
    "print(data['toxic'].value_counts())\n",
    "(data['toxic'].value_counts()[0]/data['toxic'].value_counts()[1])"
   ]
  },
  {
   "cell_type": "code",
   "execution_count": 8,
   "id": "c57fd775",
   "metadata": {},
   "outputs": [
    {
     "data": {
      "image/png": "[encoded data removed]",
      "text/plain": [
       "<Figure size 1500x800 with 1 Axes>"
      ]
     },
     "metadata": {},
     "output_type": "display_data"
    }
   ],
   "source": [
    "plt.figure(figsize=(15, 8))\n",
    "elements, count = np.unique(data['toxic'], return_counts=True)\n",
    "plt.bar(elements, count, color = 'palegreen', edgecolor='forestgreen')\n",
    "plt.xticks(elements)\n",
    "plt.xlabel('Класс')\n",
    "plt.ylabel('Количество объектов в классе')\n",
    "plt.title('Распределение классов')\n",
    "plt.grid(linewidth=0.5); "
   ]
  },
  {
   "cell_type": "markdown",
   "id": "64116f0d",
   "metadata": {},
   "source": [
    "Количество нетоксичных комментариев превосходит количество токсичных в 8 раз."
   ]
  },
  {
   "cell_type": "code",
   "execution_count": 9,
   "id": "9a35646a",
   "metadata": {},
   "outputs": [],
   "source": [
    "features = data['lemm_text']\n",
    "target = data['toxic']\n",
    "# будем делать кросс-валидацию, поэтому разбиваем на 2 выборки: обучающую и тестовую\n",
    "features_train, features_test, target_train, target_test = train_test_split(features, target, \n",
    "                                                                            test_size=0.2, random_state = RANDOM_STATE)"
   ]
  },
  {
   "cell_type": "code",
   "execution_count": 10,
   "id": "9dfde71a",
   "metadata": {},
   "outputs": [
    {
     "name": "stdout",
     "output_type": "stream",
     "text": [
      "(127433,) (31859,) (127433,) (31859,)\n"
     ]
    }
   ],
   "source": [
    "print(features_train.shape, features_test.shape, target_train.shape, target_test.shape)"
   ]
  },
  {
   "cell_type": "code",
   "execution_count": 27,
   "id": "26548554",
   "metadata": {
    "scrolled": true
   },
   "outputs": [],
   "source": [
    "# векторизируем наш текст:\n",
    "vect = TfidfVectorizer(stop_words=list(STOP_WORDS))\n",
    "tfidf_train = vect.fit_transform(features_train)\n",
    "tfidf_test = vect.transform(features_test)"
   ]
  },
  {
   "cell_type": "code",
   "execution_count": 28,
   "id": "7f4ddd26",
   "metadata": {
    "scrolled": true
   },
   "outputs": [
    {
     "name": "stdout",
     "output_type": "stream",
     "text": [
      "(127433, 137118) (31859, 137118)\n"
     ]
    }
   ],
   "source": [
    "print(tfidf_train.shape, tfidf_test.shape)"
   ]
  },
  {
   "cell_type": "markdown",
   "id": "219a357b",
   "metadata": {},
   "source": [
    "## 2. Обучение моделей"
   ]
  },
  {
   "cell_type": "markdown",
   "id": "131d867a",
   "metadata": {},
   "source": [
    "Добавим результирующую таблицу:"
   ]
  },
  {
   "cell_type": "code",
   "execution_count": 32,
   "id": "b6a8cc6f",
   "metadata": {
    "scrolled": true
   },
   "outputs": [
    {
     "data": {
      "text/html": [
       "<div>\n",
       "<style scoped>\n",
       "    .dataframe tbody tr th:only-of-type {\n",
       "        vertical-align: middle;\n",
       "    }\n",
       "\n",
       "    .dataframe tbody tr th {\n",
       "        vertical-align: top;\n",
       "    }\n",
       "\n",
       "    .dataframe thead th {\n",
       "        text-align: right;\n",
       "    }\n",
       "</style>\n",
       "<table border=\"1\" class=\"dataframe\">\n",
       "  <thead>\n",
       "    <tr style=\"text-align: right;\">\n",
       "      <th></th>\n",
       "      <th>model</th>\n",
       "      <th>params</th>\n",
       "      <th>best_f1</th>\n",
       "      <th>fit_time</th>\n",
       "      <th>pred_time</th>\n",
       "    </tr>\n",
       "  </thead>\n",
       "  <tbody>\n",
       "    <tr>\n",
       "      <th>0</th>\n",
       "      <td>NaN</td>\n",
       "      <td>NaN</td>\n",
       "      <td>NaN</td>\n",
       "      <td>NaN</td>\n",
       "      <td>NaN</td>\n",
       "    </tr>\n",
       "    <tr>\n",
       "      <th>1</th>\n",
       "      <td>NaN</td>\n",
       "      <td>NaN</td>\n",
       "      <td>NaN</td>\n",
       "      <td>NaN</td>\n",
       "      <td>NaN</td>\n",
       "    </tr>\n",
       "    <tr>\n",
       "      <th>2</th>\n",
       "      <td>NaN</td>\n",
       "      <td>NaN</td>\n",
       "      <td>NaN</td>\n",
       "      <td>NaN</td>\n",
       "      <td>NaN</td>\n",
       "    </tr>\n",
       "    <tr>\n",
       "      <th>3</th>\n",
       "      <td>NaN</td>\n",
       "      <td>NaN</td>\n",
       "      <td>NaN</td>\n",
       "      <td>NaN</td>\n",
       "      <td>NaN</td>\n",
       "    </tr>\n",
       "    <tr>\n",
       "      <th>4</th>\n",
       "      <td>NaN</td>\n",
       "      <td>NaN</td>\n",
       "      <td>NaN</td>\n",
       "      <td>NaN</td>\n",
       "      <td>NaN</td>\n",
       "    </tr>\n",
       "  </tbody>\n",
       "</table>\n",
       "</div>"
      ],
      "text/plain": [
       "  model params best_f1 fit_time pred_time\n",
       "0   NaN    NaN     NaN      NaN       NaN\n",
       "1   NaN    NaN     NaN      NaN       NaN\n",
       "2   NaN    NaN     NaN      NaN       NaN\n",
       "3   NaN    NaN     NaN      NaN       NaN\n",
       "4   NaN    NaN     NaN      NaN       NaN"
      ]
     },
     "execution_count": 32,
     "metadata": {},
     "output_type": "execute_result"
    }
   ],
   "source": [
    "res = pd.DataFrame(index=range(0,5), columns = ['model','params', 'best_f1','fit_time','pred_time'])\n",
    "res"
   ]
  },
  {
   "cell_type": "markdown",
   "id": "25e90ef6",
   "metadata": {},
   "source": [
    "И пару необходимых функций:"
   ]
  },
  {
   "cell_type": "code",
   "execution_count": 38,
   "id": "78b663b6",
   "metadata": {},
   "outputs": [],
   "source": [
    "score = make_scorer(f1_score, greater_is_better = True)\n",
    "\n",
    "def return_best_model(model, params, features, target):\n",
    "    \n",
    "    pipeline = Pipeline(steps=[\n",
    "        ('vect', TfidfVectorizer(stop_words=STOP_WORDS)), \n",
    "        ('clf', model)])\n",
    "    \n",
    "    search = RandomizedSearchCV(pipeline, param_distributions = params, cv=3, \n",
    "                                    scoring = score, random_state=RANDOM_STATE, verbose=4)\n",
    "    print('start search')\n",
    "    search.fit(features, target)\n",
    "    print(f'best params: {search.best_params_}')\n",
    "    print(f'best score: {search.best_score_}')\n",
    "    \n",
    "    start_fit = time()\n",
    "    search.best_estimator_.fit(features, target)\n",
    "    end_fit = time()\n",
    "    fit_time = (end_fit-start_fit)/60\n",
    "    print(f'fit time: {fit_time} min')\n",
    "    start_pred = time()\n",
    "    predictions = search.best_estimator_.predict(features)\n",
    "    end_pred = time()\n",
    "    pred_time = (end_pred-start_pred)/60\n",
    "    print(f'pred time: {pred_time} min')\n",
    "                \n",
    "    return search, fit_time, pred_time"
   ]
  },
  {
   "cell_type": "markdown",
   "id": "8efea2c5",
   "metadata": {},
   "source": [
    "### LogisticRegression:"
   ]
  },
  {
   "cell_type": "code",
   "execution_count": 41,
   "id": "5933223f",
   "metadata": {},
   "outputs": [
    {
     "name": "stdout",
     "output_type": "stream",
     "text": [
      "start search\n",
      "Fitting 3 folds for each of 10 candidates, totalling 30 fits\n",
      "[CV 1/3] END clf__C=1, clf__penalty=l1, clf__solver=saga;, score=0.769 total time=  21.3s\n",
      "[CV 2/3] END clf__C=1, clf__penalty=l1, clf__solver=saga;, score=0.766 total time=  20.4s\n",
      "[CV 3/3] END clf__C=1, clf__penalty=l1, clf__solver=saga;, score=0.763 total time=  23.5s\n",
      "[CV 1/3] END clf__C=10, clf__penalty=l2, clf__solver=liblinear;, score=0.773 total time=   6.9s\n",
      "[CV 2/3] END clf__C=10, clf__penalty=l2, clf__solver=liblinear;, score=0.770 total time=   6.9s\n",
      "[CV 3/3] END clf__C=10, clf__penalty=l2, clf__solver=liblinear;, score=0.770 total time=   6.9s\n",
      "[CV 1/3] END clf__C=0.1, clf__penalty=l2, clf__solver=liblinear;, score=0.460 total time=   6.0s\n",
      "[CV 2/3] END clf__C=0.1, clf__penalty=l2, clf__solver=liblinear;, score=0.472 total time=   9.5s\n",
      "[CV 3/3] END clf__C=0.1, clf__penalty=l2, clf__solver=liblinear;, score=0.469 total time=  16.7s\n",
      "[CV 1/3] END clf__C=15, clf__penalty=l1, clf__solver=saga;, score=0.771 total time=15.3min\n",
      "[CV 2/3] END clf__C=15, clf__penalty=l1, clf__solver=saga;, score=0.765 total time=14.8min\n",
      "[CV 3/3] END clf__C=15, clf__penalty=l1, clf__solver=saga;, score=0.764 total time=13.9min\n",
      "[CV 1/3] END clf__C=15, clf__penalty=l1, clf__solver=sag;, score=nan total time=  10.8s\n",
      "[CV 2/3] END clf__C=15, clf__penalty=l1, clf__solver=sag;, score=nan total time=  10.7s\n",
      "[CV 3/3] END clf__C=15, clf__penalty=l1, clf__solver=sag;, score=nan total time=  10.8s\n",
      "[CV 1/3] END clf__C=0.1, clf__penalty=l1, clf__solver=lbfgs;, score=nan total time=  10.5s\n",
      "[CV 2/3] END clf__C=0.1, clf__penalty=l1, clf__solver=lbfgs;, score=nan total time=  10.6s\n",
      "[CV 3/3] END clf__C=0.1, clf__penalty=l1, clf__solver=lbfgs;, score=nan total time=  10.6s\n",
      "[CV 1/3] END clf__C=10, clf__penalty=l1, clf__solver=lbfgs;, score=nan total time=  10.7s\n",
      "[CV 2/3] END clf__C=10, clf__penalty=l1, clf__solver=lbfgs;, score=nan total time=  10.7s\n",
      "[CV 3/3] END clf__C=10, clf__penalty=l1, clf__solver=lbfgs;, score=nan total time=  10.6s\n",
      "[CV 1/3] END clf__C=10, clf__penalty=l1, clf__solver=liblinear;, score=0.772 total time=  19.3s\n",
      "[CV 2/3] END clf__C=10, clf__penalty=l1, clf__solver=liblinear;, score=0.764 total time=  19.8s\n",
      "[CV 3/3] END clf__C=10, clf__penalty=l1, clf__solver=liblinear;, score=0.767 total time=  19.4s\n",
      "[CV 1/3] END clf__C=10, clf__penalty=l1, clf__solver=saga;, score=0.776 total time=11.5min\n",
      "[CV 2/3] END clf__C=10, clf__penalty=l1, clf__solver=saga;, score=0.766 total time=11.7min\n",
      "[CV 3/3] END clf__C=10, clf__penalty=l1, clf__solver=saga;, score=0.769 total time=11.6min\n",
      "[CV 1/3] END clf__C=1, clf__penalty=l1, clf__solver=lbfgs;, score=nan total time=  11.2s\n",
      "[CV 2/3] END clf__C=1, clf__penalty=l1, clf__solver=lbfgs;, score=nan total time=  12.3s\n",
      "[CV 3/3] END clf__C=1, clf__penalty=l1, clf__solver=lbfgs;, score=nan total time=  11.0s\n",
      "best params: {'clf__solver': 'liblinear', 'clf__penalty': 'l2', 'clf__C': 10}\n",
      "best score: 0.7709486469069246\n",
      "fit time: 0.3347110231717428 min\n",
      "pred time: 0.2429758946100871 min\n"
     ]
    }
   ],
   "source": [
    "model = LogisticRegression()\n",
    "params_lr = {\n",
    "    'clf__penalty': ['l1', 'l2'],\n",
    "    'clf__C': [0.1, 1, 5, 10, 15],\n",
    "    'clf__solver':['lbfgs', 'liblinear', 'sag', 'saga']}\n",
    "\n",
    "search, fit_time, pred_time = return_best_model(model, params_lr, features_train, target_train)\n",
    "res.loc[0] = [model, search.best_params_, search.best_score_, fit_time, pred_time]"
   ]
  },
  {
   "cell_type": "markdown",
   "id": "f55d6653",
   "metadata": {},
   "source": [
    "### DecisionTree"
   ]
  },
  {
   "cell_type": "code",
   "execution_count": 45,
   "id": "15fc59b0",
   "metadata": {},
   "outputs": [
    {
     "name": "stdout",
     "output_type": "stream",
     "text": [
      "start search\n",
      "Fitting 3 folds for each of 10 candidates, totalling 30 fits\n",
      "[CV 1/3] END clf__criterion=entropy, clf__max_depth=5, clf__splitter=random;, score=0.354 total time=  19.3s\n",
      "[CV 2/3] END clf__criterion=entropy, clf__max_depth=5, clf__splitter=random;, score=0.466 total time=  20.2s\n",
      "[CV 3/3] END clf__criterion=entropy, clf__max_depth=5, clf__splitter=random;, score=0.411 total time=  19.5s\n",
      "[CV 1/3] END clf__criterion=gini, clf__max_depth=10, clf__splitter=random;, score=0.547 total time=  25.2s\n",
      "[CV 2/3] END clf__criterion=gini, clf__max_depth=10, clf__splitter=random;, score=0.544 total time=  27.6s\n",
      "[CV 3/3] END clf__criterion=gini, clf__max_depth=10, clf__splitter=random;, score=0.523 total time=  25.7s\n",
      "[CV 1/3] END clf__criterion=entropy, clf__max_depth=10, clf__splitter=random;, score=0.550 total time=  22.6s\n",
      "[CV 2/3] END clf__criterion=entropy, clf__max_depth=10, clf__splitter=random;, score=0.519 total time=  23.0s\n",
      "[CV 3/3] END clf__criterion=entropy, clf__max_depth=10, clf__splitter=random;, score=0.551 total time=  25.6s\n",
      "[CV 1/3] END clf__criterion=log_loss, clf__max_depth=5, clf__splitter=random;, score=0.433 total time=  21.9s\n",
      "[CV 2/3] END clf__criterion=log_loss, clf__max_depth=5, clf__splitter=random;, score=0.471 total time=  21.4s\n",
      "[CV 3/3] END clf__criterion=log_loss, clf__max_depth=5, clf__splitter=random;, score=0.490 total time=  21.9s\n",
      "[CV 1/3] END clf__criterion=log_loss, clf__max_depth=10, clf__splitter=best;, score=0.585 total time=  49.4s\n",
      "[CV 2/3] END clf__criterion=log_loss, clf__max_depth=10, clf__splitter=best;, score=0.581 total time=  50.8s\n",
      "[CV 3/3] END clf__criterion=log_loss, clf__max_depth=10, clf__splitter=best;, score=0.583 total time=  49.2s\n",
      "[CV 1/3] END clf__criterion=gini, clf__max_depth=10, clf__splitter=best;, score=0.589 total time=  45.3s\n",
      "[CV 2/3] END clf__criterion=gini, clf__max_depth=10, clf__splitter=best;, score=0.582 total time=  44.7s\n",
      "[CV 3/3] END clf__criterion=gini, clf__max_depth=10, clf__splitter=best;, score=0.591 total time=  44.5s\n",
      "[CV 1/3] END clf__criterion=gini, clf__max_depth=50, clf__splitter=best;, score=0.700 total time= 2.7min\n",
      "[CV 2/3] END clf__criterion=gini, clf__max_depth=50, clf__splitter=best;, score=0.693 total time= 2.7min\n",
      "[CV 3/3] END clf__criterion=gini, clf__max_depth=50, clf__splitter=best;, score=0.699 total time= 2.6min\n",
      "[CV 1/3] END clf__criterion=entropy, clf__max_depth=5, clf__splitter=best;, score=0.531 total time=  33.0s\n",
      "[CV 2/3] END clf__criterion=entropy, clf__max_depth=5, clf__splitter=best;, score=0.516 total time=  32.1s\n",
      "[CV 3/3] END clf__criterion=entropy, clf__max_depth=5, clf__splitter=best;, score=0.520 total time=  32.0s\n",
      "[CV 1/3] END clf__criterion=gini, clf__max_depth=50, clf__splitter=random;, score=0.689 total time= 1.2min\n",
      "[CV 2/3] END clf__criterion=gini, clf__max_depth=50, clf__splitter=random;, score=0.697 total time= 1.1min\n",
      "[CV 3/3] END clf__criterion=gini, clf__max_depth=50, clf__splitter=random;, score=0.690 total time= 1.1min\n",
      "[CV 1/3] END clf__criterion=gini, clf__max_depth=25, clf__splitter=random;, score=0.659 total time=  42.8s\n",
      "[CV 2/3] END clf__criterion=gini, clf__max_depth=25, clf__splitter=random;, score=0.644 total time=  42.2s\n",
      "[CV 3/3] END clf__criterion=gini, clf__max_depth=25, clf__splitter=random;, score=0.650 total time=  43.4s\n",
      "best params: {'clf__splitter': 'best', 'clf__max_depth': 50, 'clf__criterion': 'gini'}\n",
      "best score: 0.6974291904272473\n",
      "fit time: 3.788923406600952 min\n",
      "pred time: 0.2590430895487467 min\n"
     ]
    }
   ],
   "source": [
    "model = DecisionTreeClassifier()\n",
    "\n",
    "params_dtc = {'clf__splitter':['best', 'random'],\n",
    "              'clf__max_depth':[5, 10, 25, 50],\n",
    "              'clf__criterion':['gini', 'entropy','log_loss']}\n",
    "\n",
    "search, fit_time, pred_time = return_best_model(model, params_dtc, features_train, target_train)\n",
    "res.loc[1] = [model, search.best_params_, search.best_score_, fit_time, pred_time]"
   ]
  },
  {
   "cell_type": "markdown",
   "id": "e5ebd990",
   "metadata": {},
   "source": [
    "### LightGBM"
   ]
  },
  {
   "cell_type": "code",
   "execution_count": 46,
   "id": "a21390ef",
   "metadata": {},
   "outputs": [
    {
     "name": "stdout",
     "output_type": "stream",
     "text": [
      "start search\n",
      "Fitting 3 folds for each of 9 candidates, totalling 27 fits\n",
      "[CV 1/3] END clf__boosting_type=gbdt, clf__learning_rate=0.01;, score=0.551 total time=  57.6s\n",
      "[CV 2/3] END clf__boosting_type=gbdt, clf__learning_rate=0.01;, score=0.557 total time=  54.6s\n",
      "[CV 3/3] END clf__boosting_type=gbdt, clf__learning_rate=0.01;, score=0.565 total time=  54.8s\n",
      "[CV 1/3] END clf__boosting_type=gbdt, clf__learning_rate=0.03;, score=0.680 total time=  55.7s\n",
      "[CV 2/3] END clf__boosting_type=gbdt, clf__learning_rate=0.03;, score=0.674 total time=  55.0s\n",
      "[CV 3/3] END clf__boosting_type=gbdt, clf__learning_rate=0.03;, score=0.674 total time=  55.3s\n",
      "[CV 1/3] END clf__boosting_type=gbdt, clf__learning_rate=0.05;, score=0.708 total time=  54.3s\n",
      "[CV 2/3] END clf__boosting_type=gbdt, clf__learning_rate=0.05;, score=0.708 total time=  53.8s\n",
      "[CV 3/3] END clf__boosting_type=gbdt, clf__learning_rate=0.05;, score=0.705 total time=  56.2s\n",
      "[CV 1/3] END clf__boosting_type=dart, clf__learning_rate=0.01;, score=0.537 total time=  59.6s\n",
      "[CV 2/3] END clf__boosting_type=dart, clf__learning_rate=0.01;, score=0.543 total time= 1.0min\n",
      "[CV 3/3] END clf__boosting_type=dart, clf__learning_rate=0.01;, score=0.556 total time=  58.2s\n",
      "[CV 1/3] END clf__boosting_type=dart, clf__learning_rate=0.03;, score=0.668 total time=  59.7s\n",
      "[CV 2/3] END clf__boosting_type=dart, clf__learning_rate=0.03;, score=0.662 total time=  58.2s\n",
      "[CV 3/3] END clf__boosting_type=dart, clf__learning_rate=0.03;, score=0.666 total time=  59.3s\n",
      "[CV 1/3] END clf__boosting_type=dart, clf__learning_rate=0.05;, score=0.684 total time=  59.0s\n",
      "[CV 2/3] END clf__boosting_type=dart, clf__learning_rate=0.05;, score=0.681 total time= 1.0min\n",
      "[CV 3/3] END clf__boosting_type=dart, clf__learning_rate=0.05;, score=0.679 total time=  58.4s\n",
      "[CV 1/3] END clf__boosting_type=rf, clf__learning_rate=0.01;, score=nan total time=  14.3s\n",
      "[CV 2/3] END clf__boosting_type=rf, clf__learning_rate=0.01;, score=nan total time=  15.0s\n",
      "[CV 3/3] END clf__boosting_type=rf, clf__learning_rate=0.01;, score=nan total time=  14.0s\n",
      "[CV 1/3] END clf__boosting_type=rf, clf__learning_rate=0.03;, score=nan total time=  16.1s\n",
      "[CV 2/3] END clf__boosting_type=rf, clf__learning_rate=0.03;, score=nan total time=  14.5s\n",
      "[CV 3/3] END clf__boosting_type=rf, clf__learning_rate=0.03;, score=nan total time=  14.0s\n",
      "[CV 1/3] END clf__boosting_type=rf, clf__learning_rate=0.05;, score=nan total time=  14.7s\n",
      "[CV 2/3] END clf__boosting_type=rf, clf__learning_rate=0.05;, score=nan total time=  15.1s\n",
      "[CV 3/3] END clf__boosting_type=rf, clf__learning_rate=0.05;, score=nan total time=  14.2s\n",
      "best params: {'clf__learning_rate': 0.05, 'clf__boosting_type': 'gbdt'}\n",
      "best score: 0.7073903779903384\n",
      "fit time: 1.1840347369511923 min\n",
      "pred time: 0.35660309394200645 min\n"
     ]
    }
   ],
   "source": [
    "model = LGBMClassifier(verbose=-1)\n",
    "\n",
    "params_lgbm = {'clf__boosting_type':['gbdt','dart','rf'],\n",
    "               'clf__learning_rate':[0.01, 0.03, 0.05]}\n",
    "\n",
    "search, fit_time, pred_time = return_best_model(model, params_lgbm, features_train, target_train)\n",
    "res.loc[2] = [model, search.best_params_, search.best_score_, fit_time, pred_time]"
   ]
  },
  {
   "cell_type": "markdown",
   "id": "ca0dee3d",
   "metadata": {},
   "source": [
    "### CatBoost"
   ]
  },
  {
   "cell_type": "code",
   "execution_count": 48,
   "id": "16765c01",
   "metadata": {},
   "outputs": [
    {
     "name": "stdout",
     "output_type": "stream",
     "text": [
      "start search\n",
      "Fitting 3 folds for each of 4 candidates, totalling 12 fits\n",
      "[CV 1/3] END clf__iterations=100, clf__learning_rate=0.01;, score=0.468 total time= 3.7min\n",
      "[CV 2/3] END clf__iterations=100, clf__learning_rate=0.01;, score=0.485 total time= 3.8min\n",
      "[CV 3/3] END clf__iterations=100, clf__learning_rate=0.01;, score=0.488 total time= 3.8min\n",
      "[CV 1/3] END clf__iterations=100, clf__learning_rate=0.03;, score=0.536 total time= 3.7min\n",
      "[CV 2/3] END clf__iterations=100, clf__learning_rate=0.03;, score=0.520 total time= 3.8min\n",
      "[CV 3/3] END clf__iterations=100, clf__learning_rate=0.03;, score=0.530 total time= 3.8min\n",
      "[CV 1/3] END clf__iterations=200, clf__learning_rate=0.01;, score=0.506 total time= 6.0min\n",
      "[CV 2/3] END clf__iterations=200, clf__learning_rate=0.01;, score=0.502 total time= 5.8min\n",
      "[CV 3/3] END clf__iterations=200, clf__learning_rate=0.01;, score=0.508 total time= 5.9min\n",
      "[CV 1/3] END clf__iterations=200, clf__learning_rate=0.03;, score=0.604 total time= 5.8min\n",
      "[CV 2/3] END clf__iterations=200, clf__learning_rate=0.03;, score=0.597 total time= 5.8min\n",
      "[CV 3/3] END clf__iterations=200, clf__learning_rate=0.03;, score=0.594 total time= 5.9min\n",
      "best params: {'clf__learning_rate': 0.03, 'clf__iterations': 200}\n",
      "best score: 0.5987166102739476\n",
      "fit time: 3.755162020524343 min\n",
      "pred time: 0.11017924944559733 min\n"
     ]
    }
   ],
   "source": [
    "model = CatBoostClassifier(verbose=False)\n",
    "\n",
    "params_cb = {'clf__iterations':[100, 200],\n",
    "             'clf__learning_rate':[0.01, 0.03]}\n",
    "\n",
    "search, fit_time, pred_time = return_best_model(model, params_cb, features_train, target_train)\n",
    "res.loc[3] = [model, search.best_params_, search.best_score_, fit_time, pred_time]"
   ]
  },
  {
   "cell_type": "markdown",
   "id": "b9687505",
   "metadata": {},
   "source": [
    "### LinearSVC"
   ]
  },
  {
   "cell_type": "code",
   "execution_count": 49,
   "id": "e151176c",
   "metadata": {},
   "outputs": [
    {
     "name": "stdout",
     "output_type": "stream",
     "text": [
      "start search\n",
      "Fitting 3 folds for each of 10 candidates, totalling 30 fits\n",
      "[CV 1/3] END clf__C=1, clf__dual=False, clf__max_iter=2000, clf__penalty=l2;, score=0.777 total time=   7.6s\n",
      "[CV 2/3] END clf__C=1, clf__dual=False, clf__max_iter=2000, clf__penalty=l2;, score=0.771 total time=   6.9s\n",
      "[CV 3/3] END clf__C=1, clf__dual=False, clf__max_iter=2000, clf__penalty=l2;, score=0.770 total time=   6.3s\n",
      "[CV 1/3] END clf__C=1, clf__dual=True, clf__max_iter=1000, clf__penalty=l2;, score=0.777 total time=   5.7s\n",
      "[CV 2/3] END clf__C=1, clf__dual=True, clf__max_iter=1000, clf__penalty=l2;, score=0.771 total time=   5.9s\n",
      "[CV 3/3] END clf__C=1, clf__dual=True, clf__max_iter=1000, clf__penalty=l2;, score=0.770 total time=   6.2s\n",
      "[CV 1/3] END clf__C=0.1, clf__dual=True, clf__max_iter=2000, clf__penalty=l2;, score=0.724 total time=   6.0s\n",
      "[CV 2/3] END clf__C=0.1, clf__dual=True, clf__max_iter=2000, clf__penalty=l2;, score=0.723 total time=   5.4s\n",
      "[CV 3/3] END clf__C=0.1, clf__dual=True, clf__max_iter=2000, clf__penalty=l2;, score=0.719 total time=   5.5s\n",
      "[CV 1/3] END clf__C=0.1, clf__dual=False, clf__max_iter=1000, clf__penalty=l1;, score=0.725 total time=   5.9s\n",
      "[CV 2/3] END clf__C=0.1, clf__dual=False, clf__max_iter=1000, clf__penalty=l1;, score=0.721 total time=   6.1s\n",
      "[CV 3/3] END clf__C=0.1, clf__dual=False, clf__max_iter=1000, clf__penalty=l1;, score=0.721 total time=   5.8s\n",
      "[CV 1/3] END clf__C=1, clf__dual=False, clf__max_iter=100, clf__penalty=l1;, score=0.781 total time=   6.5s\n",
      "[CV 2/3] END clf__C=1, clf__dual=False, clf__max_iter=100, clf__penalty=l1;, score=0.775 total time=   6.9s\n",
      "[CV 3/3] END clf__C=1, clf__dual=False, clf__max_iter=100, clf__penalty=l1;, score=0.773 total time=   7.8s\n",
      "[CV 1/3] END clf__C=1, clf__dual=False, clf__max_iter=2000, clf__penalty=l1;, score=0.781 total time=   6.9s\n",
      "[CV 2/3] END clf__C=1, clf__dual=False, clf__max_iter=2000, clf__penalty=l1;, score=0.775 total time=   6.6s\n",
      "[CV 3/3] END clf__C=1, clf__dual=False, clf__max_iter=2000, clf__penalty=l1;, score=0.773 total time=  18.5s\n",
      "[CV 1/3] END clf__C=10, clf__dual=True, clf__max_iter=100, clf__penalty=l1;, score=nan total time=   3.4s\n",
      "[CV 2/3] END clf__C=10, clf__dual=True, clf__max_iter=100, clf__penalty=l1;, score=nan total time=   3.5s\n",
      "[CV 3/3] END clf__C=10, clf__dual=True, clf__max_iter=100, clf__penalty=l1;, score=nan total time=   3.4s\n",
      "[CV 1/3] END clf__C=10, clf__dual=False, clf__max_iter=100, clf__penalty=l2;, score=0.751 total time=   7.6s\n",
      "[CV 2/3] END clf__C=10, clf__dual=False, clf__max_iter=100, clf__penalty=l2;, score=0.738 total time=   7.4s\n",
      "[CV 3/3] END clf__C=10, clf__dual=False, clf__max_iter=100, clf__penalty=l2;, score=0.743 total time=   7.4s\n",
      "[CV 1/3] END clf__C=1, clf__dual=True, clf__max_iter=100, clf__penalty=l2;, score=0.777 total time=   5.6s\n",
      "[CV 2/3] END clf__C=1, clf__dual=True, clf__max_iter=100, clf__penalty=l2;, score=0.771 total time=   5.6s\n",
      "[CV 3/3] END clf__C=1, clf__dual=True, clf__max_iter=100, clf__penalty=l2;, score=0.770 total time=   5.8s\n",
      "[CV 1/3] END clf__C=0.1, clf__dual=False, clf__max_iter=1000, clf__penalty=l2;, score=0.724 total time=   5.8s\n",
      "[CV 2/3] END clf__C=0.1, clf__dual=False, clf__max_iter=1000, clf__penalty=l2;, score=0.723 total time=   6.6s\n",
      "[CV 3/3] END clf__C=0.1, clf__dual=False, clf__max_iter=1000, clf__penalty=l2;, score=0.719 total time=   6.4s\n",
      "best params: {'clf__penalty': 'l1', 'clf__max_iter': 100, 'clf__dual': False, 'clf__C': 1}\n",
      "best score: 0.7764483332530187\n",
      "fit time: 0.1263110876083374 min\n",
      "pred time: 0.08335447708765666 min\n"
     ]
    }
   ],
   "source": [
    "model = LinearSVC()\n",
    "\n",
    "params_lsvc = {'clf__C': [0.1, 1, 10],\n",
    "               'clf__max_iter': [100, 1000, 2000],\n",
    "               'clf__penalty': ['l1', 'l2'],\n",
    "               'clf__dual': [True, False]}\n",
    "\n",
    "search, fit_time, pred_time = return_best_model(model, params_lsvc, features_train, target_train)\n",
    "res.loc[4] = [model, search.best_params_, search.best_score_, fit_time, pred_time]"
   ]
  },
  {
   "cell_type": "code",
   "execution_count": 50,
   "id": "3df5056d",
   "metadata": {},
   "outputs": [
    {
     "data": {
      "text/html": [
       "<div>\n",
       "<style scoped>\n",
       "    .dataframe tbody tr th:only-of-type {\n",
       "        vertical-align: middle;\n",
       "    }\n",
       "\n",
       "    .dataframe tbody tr th {\n",
       "        vertical-align: top;\n",
       "    }\n",
       "\n",
       "    .dataframe thead th {\n",
       "        text-align: right;\n",
       "    }\n",
       "</style>\n",
       "<table border=\"1\" class=\"dataframe\">\n",
       "  <thead>\n",
       "    <tr style=\"text-align: right;\">\n",
       "      <th></th>\n",
       "      <th>model</th>\n",
       "      <th>params</th>\n",
       "      <th>best_f1</th>\n",
       "      <th>fit_time</th>\n",
       "      <th>pred_time</th>\n",
       "    </tr>\n",
       "  </thead>\n",
       "  <tbody>\n",
       "    <tr>\n",
       "      <th>4</th>\n",
       "      <td>LinearSVC()</td>\n",
       "      <td>{'clf__penalty': 'l1', 'clf__max_iter': 100, '...</td>\n",
       "      <td>0.776448</td>\n",
       "      <td>0.126311</td>\n",
       "      <td>0.083354</td>\n",
       "    </tr>\n",
       "    <tr>\n",
       "      <th>0</th>\n",
       "      <td>LogisticRegression()</td>\n",
       "      <td>{'clf__solver': 'liblinear', 'clf__penalty': '...</td>\n",
       "      <td>0.770949</td>\n",
       "      <td>0.334711</td>\n",
       "      <td>0.242976</td>\n",
       "    </tr>\n",
       "    <tr>\n",
       "      <th>2</th>\n",
       "      <td>LGBMClassifier(verbose=-1)</td>\n",
       "      <td>{'clf__learning_rate': 0.05, 'clf__boosting_ty...</td>\n",
       "      <td>0.70739</td>\n",
       "      <td>1.184035</td>\n",
       "      <td>0.356603</td>\n",
       "    </tr>\n",
       "    <tr>\n",
       "      <th>1</th>\n",
       "      <td>DecisionTreeClassifier()</td>\n",
       "      <td>{'clf__splitter': 'best', 'clf__max_depth': 50...</td>\n",
       "      <td>0.697429</td>\n",
       "      <td>3.788923</td>\n",
       "      <td>0.259043</td>\n",
       "    </tr>\n",
       "    <tr>\n",
       "      <th>3</th>\n",
       "      <td>&lt;catboost.core.CatBoostClassifier object at 0x...</td>\n",
       "      <td>{'clf__learning_rate': 0.03, 'clf__iterations'...</td>\n",
       "      <td>0.598717</td>\n",
       "      <td>3.755162</td>\n",
       "      <td>0.110179</td>\n",
       "    </tr>\n",
       "  </tbody>\n",
       "</table>\n",
       "</div>"
      ],
      "text/plain": [
       "                                               model  \\\n",
       "4                                        LinearSVC()   \n",
       "0                               LogisticRegression()   \n",
       "2                         LGBMClassifier(verbose=-1)   \n",
       "1                           DecisionTreeClassifier()   \n",
       "3  <catboost.core.CatBoostClassifier object at 0x...   \n",
       "\n",
       "                                              params   best_f1  fit_time  \\\n",
       "4  {'clf__penalty': 'l1', 'clf__max_iter': 100, '...  0.776448  0.126311   \n",
       "0  {'clf__solver': 'liblinear', 'clf__penalty': '...  0.770949  0.334711   \n",
       "2  {'clf__learning_rate': 0.05, 'clf__boosting_ty...   0.70739  1.184035   \n",
       "1  {'clf__splitter': 'best', 'clf__max_depth': 50...  0.697429  3.788923   \n",
       "3  {'clf__learning_rate': 0.03, 'clf__iterations'...  0.598717  3.755162   \n",
       "\n",
       "  pred_time  \n",
       "4  0.083354  \n",
       "0  0.242976  \n",
       "2  0.356603  \n",
       "1  0.259043  \n",
       "3  0.110179  "
      ]
     },
     "execution_count": 50,
     "metadata": {},
     "output_type": "execute_result"
    }
   ],
   "source": [
    "res = res.sort_values('best_f1', ascending=False)\n",
    "res"
   ]
  },
  {
   "cell_type": "markdown",
   "id": "6034bffe",
   "metadata": {},
   "source": [
    "## 3. Выводы"
   ]
  },
  {
   "cell_type": "markdown",
   "id": "2c72b6cb",
   "metadata": {},
   "source": [
    "На тестовой выборке мы будем проверять опорные вектора. У них самая высокая f1 мера - а значит, и по точности, и по полноте модель показывает себя лучше всех. К тому же, у них достаточно небольшое время обучения и предсказания."
   ]
  },
  {
   "cell_type": "code",
   "execution_count": 59,
   "id": "daf2e791",
   "metadata": {},
   "outputs": [],
   "source": [
    "def return_best_model(model, params, features_train, target_train, features_test):\n",
    "    \n",
    "    pipeline = Pipeline(steps=[\n",
    "        ('vect', TfidfVectorizer(stop_words=STOP_WORDS)), \n",
    "        ('clf', model)])\n",
    "    \n",
    "    search = RandomizedSearchCV(pipeline, param_distributions = params, cv=3, \n",
    "                                    scoring = score, random_state=RANDOM_STATE)\n",
    "    search.fit(features, target)\n",
    "    search.best_estimator_.fit(features, target)\n",
    "    predictions = search.best_estimator_.predict(features_test)\n",
    "                \n",
    "    return predictions"
   ]
  },
  {
   "cell_type": "code",
   "execution_count": 60,
   "id": "a7876460",
   "metadata": {},
   "outputs": [
    {
     "name": "stdout",
     "output_type": "stream",
     "text": [
      "              precision    recall  f1-score   support\n",
      "\n",
      "           0       0.98      0.99      0.99     28574\n",
      "           1       0.94      0.80      0.87      3285\n",
      "\n",
      "    accuracy                           0.97     31859\n",
      "   macro avg       0.96      0.90      0.93     31859\n",
      "weighted avg       0.97      0.97      0.97     31859\n",
      "\n",
      "\n",
      "final f1 score: 0.8661856346343063\n"
     ]
    }
   ],
   "source": [
    "model = LinearSVC()\n",
    "\n",
    "params_lsvc = {'clf__C': [1],\n",
    "               'clf__max_iter': [100],\n",
    "               'clf__penalty': ['l1'],\n",
    "               'clf__dual': [False]}\n",
    "\n",
    "pred = return_best_model(model, params_lsvc, features_train, target_train, features_test)\n",
    "print(f'''{classification_report(target_test, pred)}\n",
    "\n",
    "final f1 score: {f1_score(target_test, pred)}''')"
   ]
  },
  {
   "cell_type": "markdown",
   "id": "f4bd891c",
   "metadata": {},
   "source": [
    "Нужный нам порог f1-меры в 0.75 пройден."
   ]
  },
  {
   "cell_type": "markdown",
   "id": "a2552c8a",
   "metadata": {},
   "source": [
    "# Итоговый вывод\n",
    "\n",
    "В ходе проекта необходимо было обучить модель определять негативные и позитивные комментарии на сайте интернет магазина. В ходе работ мы загрузили, изучили и подготовили данные, обучили 5 моделей: `LogisticRegression, LinearSVC, DecisionTreeClassifier, LightGBM и CatBoost`, а также определили лучшую модель - ею стала `LinearSVC` по соотношению f1 меры, времени обучения и предсказания."
   ]
  }
 ],
 "metadata": {
  "ExecuteTimeLog": [
   {
    "duration": 14,
    "start_time": "2023-09-28T17:39:00.763Z"
   },
   {
    "duration": 0,
    "start_time": "2023-09-28T17:39:00.779Z"
   },
   {
    "duration": 0,
    "start_time": "2023-09-28T17:39:00.781Z"
   },
   {
    "duration": 0,
    "start_time": "2023-09-28T17:39:00.782Z"
   },
   {
    "duration": 0,
    "start_time": "2023-09-28T17:39:00.810Z"
   },
   {
    "duration": 0,
    "start_time": "2023-09-28T17:39:00.811Z"
   },
   {
    "duration": 27,
    "start_time": "2023-09-28T17:39:00.818Z"
   },
   {
    "duration": 0,
    "start_time": "2023-09-28T17:39:00.847Z"
   },
   {
    "duration": 1,
    "start_time": "2023-09-28T17:39:00.908Z"
   },
   {
    "duration": 0,
    "start_time": "2023-09-28T17:39:00.911Z"
   },
   {
    "duration": 0,
    "start_time": "2023-09-28T17:39:00.912Z"
   },
   {
    "duration": 4325,
    "start_time": "2023-09-28T18:37:01.914Z"
   },
   {
    "duration": 2456,
    "start_time": "2023-09-28T18:37:25.278Z"
   },
   {
    "duration": 16,
    "start_time": "2023-09-28T18:37:27.736Z"
   },
   {
    "duration": 184,
    "start_time": "2023-09-28T18:37:52.572Z"
   },
   {
    "duration": 5,
    "start_time": "2023-09-28T18:37:55.770Z"
   },
   {
    "duration": 4660,
    "start_time": "2023-09-28T18:38:23.784Z"
   },
   {
    "duration": 596851,
    "start_time": "2023-09-28T18:38:38.203Z"
   },
   {
    "duration": 12,
    "start_time": "2023-09-28T18:50:12.179Z"
   },
   {
    "duration": 168,
    "start_time": "2023-09-28T18:50:13.058Z"
   },
   {
    "duration": 30,
    "start_time": "2023-09-28T18:50:47.202Z"
   },
   {
    "duration": 4,
    "start_time": "2023-09-28T18:50:49.206Z"
   },
   {
    "duration": 12,
    "start_time": "2023-09-28T18:50:54.249Z"
   },
   {
    "duration": 7424,
    "start_time": "2023-09-28T18:51:05.263Z"
   },
   {
    "duration": 4,
    "start_time": "2023-09-28T18:51:19.027Z"
   },
   {
    "duration": 17,
    "start_time": "2023-09-28T18:51:30.283Z"
   },
   {
    "duration": 11,
    "start_time": "2023-09-28T18:51:37.645Z"
   },
   {
    "duration": 3,
    "start_time": "2023-09-28T18:51:53.950Z"
   },
   {
    "duration": 10,
    "start_time": "2023-09-28T18:53:30.778Z"
   },
   {
    "duration": 21,
    "start_time": "2023-09-28T18:54:06.471Z"
   },
   {
    "duration": 5,
    "start_time": "2023-09-28T18:54:20.048Z"
   },
   {
    "duration": 44508,
    "start_time": "2023-09-28T19:00:39.362Z"
   },
   {
    "duration": 55983,
    "start_time": "2023-09-28T19:01:25.509Z"
   },
   {
    "duration": 195353,
    "start_time": "2023-09-28T19:02:34.378Z"
   },
   {
    "duration": 596987,
    "start_time": "2023-09-28T19:05:49.733Z"
   },
   {
    "duration": 0,
    "start_time": "2023-09-28T19:15:46.722Z"
   },
   {
    "duration": 0,
    "start_time": "2023-09-28T19:15:46.723Z"
   },
   {
    "duration": 0,
    "start_time": "2023-09-28T19:15:46.724Z"
   },
   {
    "duration": 0,
    "start_time": "2023-09-28T19:15:46.725Z"
   },
   {
    "duration": 372274,
    "start_time": "2023-09-28T19:15:53.602Z"
   },
   {
    "duration": 1187106,
    "start_time": "2023-09-28T19:22:05.878Z"
   },
   {
    "duration": 4542975,
    "start_time": "2023-09-28T19:41:52.986Z"
   },
   {
    "duration": 4742749,
    "start_time": "2023-09-28T20:57:35.963Z"
   },
   {
    "duration": 801955,
    "start_time": "2023-09-28T22:16:38.714Z"
   },
   {
    "duration": 13,
    "start_time": "2023-09-28T22:30:00.671Z"
   },
   {
    "duration": 3714,
    "start_time": "2023-09-28T22:31:00.425Z"
   }
  ],
  "kernelspec": {
   "display_name": "Python 3 (ipykernel)",
   "language": "python",
   "name": "python3"
  },
  "language_info": {
   "codemirror_mode": {
    "name": "ipython",
    "version": 3
   },
   "file_extension": ".py",
   "mimetype": "text/x-python",
   "name": "python",
   "nbconvert_exporter": "python",
   "pygments_lexer": "ipython3",
   "version": "3.10.7"
  },
  "toc": {
   "base_numbering": 1,
   "nav_menu": {},
   "number_sections": true,
   "sideBar": true,
   "skip_h1_title": true,
   "title_cell": "Table of Contents",
   "title_sidebar": "Contents",
   "toc_cell": false,
   "toc_position": {
    "height": "calc(100% - 180px)",
    "left": "10px",
    "top": "150px",
    "width": "164.988px"
   },
   "toc_section_display": true,
   "toc_window_display": true
  }
 },
 "nbformat": 4,
 "nbformat_minor": 5
}
