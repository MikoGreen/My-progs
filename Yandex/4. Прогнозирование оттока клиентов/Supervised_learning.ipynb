{
 "cells": [
  {
   "cell_type": "markdown",
   "metadata": {},
   "source": [
    "# Отток клиентов"
   ]
  },
  {
   "cell_type": "markdown",
   "metadata": {},
   "source": [
    "Из «Бета-Банка» стали уходить клиенты. Каждый месяц. Немного, но заметно. Банковские маркетологи посчитали: сохранять текущих клиентов дешевле, чем привлекать новых.\n",
    "\n",
    "Нужно спрогнозировать, уйдёт клиент из банка в ближайшее время или нет. Вам предоставлены исторические данные о поведении клиентов и расторжении договоров с банком. \n",
    "\n",
    "Постройте модель с предельно большим значением *F1*-меры. Чтобы сдать проект успешно, нужно довести метрику до 0.59. Проверьте *F1*-меру на тестовой выборке самостоятельно.\n",
    "\n",
    "Дополнительно измеряйте *AUC-ROC*, сравнивайте её значение с *F1*-мерой.\n",
    "\n",
    "Источник данных: [https://www.kaggle.com/barelydedicated/bank-customer-churn-modeling](https://www.kaggle.com/barelydedicated/bank-customer-churn-modeling)"
   ]
  },
  {
   "cell_type": "markdown",
   "metadata": {},
   "source": [
    "## Подготовка данных"
   ]
  },
  {
   "cell_type": "code",
   "execution_count": 170,
   "metadata": {},
   "outputs": [],
   "source": [
    "import os\n",
    "import numpy as np\n",
    "import pandas as pd\n",
    "import seaborn as sns\n",
    "import matplotlib.pyplot as plt\n",
    "\n",
    "from sklearn.model_selection import train_test_split, GridSearchCV, StratifiedKFold\n",
    "from sklearn.metrics import (accuracy_score, mean_absolute_error, recall_score, \n",
    "                             precision_score, f1_score, roc_curve, roc_auc_score, make_scorer)\n",
    "\n",
    "from sklearn import set_config\n",
    "set_config(display='diagram')\n",
    "from sklearn.tree import DecisionTreeClassifier\n",
    "from sklearn.ensemble import RandomForestClassifier\n",
    "from sklearn.linear_model import LogisticRegression\n",
    "from sklearn.neighbors import KNeighborsClassifier\n",
    "from sklearn.ensemble import GradientBoostingClassifier\n",
    "from sklearn.dummy import DummyRegressor\n",
    "\n",
    "import warnings\n",
    "warnings.filterwarnings('ignore')\n",
    "from sklearn.preprocessing import StandardScaler, OneHotEncoder\n",
    "from sklearn.compose import ColumnTransformer\n",
    "from sklearn.dummy import DummyClassifier\n",
    "from sklearn.utils import shuffle\n",
    "plt.rcParams['figure.dpi'] = 140\n",
    "from sklearn.pipeline import Pipeline\n",
    "from sklearn.experimental import enable_iterative_imputer\n",
    "from sklearn.impute import SimpleImputer, IterativeImputer\n",
    "\n",
    "\n",
    "plt.rcParams[\"font.family\"] = \"Times New Roman\"\n",
    "RANDOM_STATE=12345"
   ]
  },
  {
   "cell_type": "code",
   "execution_count": 2,
   "metadata": {},
   "outputs": [],
   "source": [
    "pth1 = '/datasets/'\n",
    "pth2 = 'C:/Users/Солнышко/Documents/'\n",
    "pth3 = 'C:/Users/Home/Documents/Яндекс/Сатанист/'\n",
    "\n",
    "if os.path.exists(pth1):\n",
    "    df = pd.read_csv(pth1 + 'Churn.csv')\n",
    "elif os.path.exists(pth2):\n",
    "    df = pd.read_csv(pth2 + 'Churn.csv')\n",
    "elif os.path.exists(pth3):\n",
    "    df = pd.read_csv(pth3 + 'Churn.csv')\n",
    "else:\n",
    "    print('Something is wrong')"
   ]
  },
  {
   "cell_type": "code",
   "execution_count": 3,
   "metadata": {},
   "outputs": [],
   "source": [
    "# сбор данных о датафрейме:\n",
    "def data_info(data):\n",
    "    print(f'''\n",
    "    ----------------------------------------\n",
    "    Первые строки датафрейма:\n",
    "    ----------------------------------------''')\n",
    "    display(data.head())\n",
    "    print(f'''\n",
    "    ----------------------------------------\n",
    "    Последние строки датафрейма:\n",
    "    ----------------------------------------''')\n",
    "    display(data.tail())\n",
    "    print(f'''\n",
    "    ----------------------------------------\n",
    "    Общая информация:\n",
    "    ----------------------------------------''')\n",
    "    print(data.info())\n",
    "    print(f'''\n",
    "    ----------------------------------------\n",
    "    Дупликаты:\n",
    "    ----------------------------------------''')\n",
    "    print(data.duplicated().sum())\n",
    "    print(f'''\n",
    "    ----------------------------------------\n",
    "    Пропуски:\n",
    "    ----------------------------------------''')\n",
    "    display(round(data.isna().sum(),))\n",
    "    print(f'''\n",
    "    ----------------------------------------\n",
    "    И немного статистических данных:\n",
    "    ----------------------------------------''')\n",
    "    print(data.describe(include='all'))      \n",
    "    \n",
    "def get_roc_curve(y, y_pred):\n",
    "    '''функция для подсчёта AUC и отрисовки ROC-кривой'''\n",
    "    fpr, tpr, thresholds = roc_curve(y, y_pred)\n",
    "    # Вычисляем AUC\n",
    "    auc = roc_auc_score(y, y_pred)\n",
    "    # Строим ROC-кривую\n",
    "    plt.figure(figsize=(11, 5))\n",
    "    plt.plot(fpr, tpr, c='orange', label=f'AUC={auc:.3f}')\n",
    "    plt.plot([0, 1], [0, 1], '--', color='#2C3E50')\n",
    "    plt.xlabel('FPR - False Positive Rate')\n",
    "    plt.ylabel('TPR - True Positive Rate')\n",
    "    plt.title('ROC-кривая', fontweight='bold', fontsize=15,  fontname='Arial')\n",
    "    plt.legend()\n",
    "    plt.grid(linewidth=0.25, linestyle='--')\n",
    "    plt.show()"
   ]
  },
  {
   "cell_type": "code",
   "execution_count": 4,
   "metadata": {
    "scrolled": false
   },
   "outputs": [
    {
     "name": "stdout",
     "output_type": "stream",
     "text": [
      "\n",
      "    ----------------------------------------\n",
      "    Первые строки датафрейма:\n",
      "    ----------------------------------------\n"
     ]
    },
    {
     "data": {
      "text/html": [
       "<div>\n",
       "<style scoped>\n",
       "    .dataframe tbody tr th:only-of-type {\n",
       "        vertical-align: middle;\n",
       "    }\n",
       "\n",
       "    .dataframe tbody tr th {\n",
       "        vertical-align: top;\n",
       "    }\n",
       "\n",
       "    .dataframe thead th {\n",
       "        text-align: right;\n",
       "    }\n",
       "</style>\n",
       "<table border=\"1\" class=\"dataframe\">\n",
       "  <thead>\n",
       "    <tr style=\"text-align: right;\">\n",
       "      <th></th>\n",
       "      <th>RowNumber</th>\n",
       "      <th>CustomerId</th>\n",
       "      <th>Surname</th>\n",
       "      <th>CreditScore</th>\n",
       "      <th>Geography</th>\n",
       "      <th>Gender</th>\n",
       "      <th>Age</th>\n",
       "      <th>Tenure</th>\n",
       "      <th>Balance</th>\n",
       "      <th>NumOfProducts</th>\n",
       "      <th>HasCrCard</th>\n",
       "      <th>IsActiveMember</th>\n",
       "      <th>EstimatedSalary</th>\n",
       "      <th>Exited</th>\n",
       "    </tr>\n",
       "  </thead>\n",
       "  <tbody>\n",
       "    <tr>\n",
       "      <th>0</th>\n",
       "      <td>1</td>\n",
       "      <td>15634602</td>\n",
       "      <td>Hargrave</td>\n",
       "      <td>619</td>\n",
       "      <td>France</td>\n",
       "      <td>Female</td>\n",
       "      <td>42</td>\n",
       "      <td>2.0</td>\n",
       "      <td>0.00</td>\n",
       "      <td>1</td>\n",
       "      <td>1</td>\n",
       "      <td>1</td>\n",
       "      <td>101348.88</td>\n",
       "      <td>1</td>\n",
       "    </tr>\n",
       "    <tr>\n",
       "      <th>1</th>\n",
       "      <td>2</td>\n",
       "      <td>15647311</td>\n",
       "      <td>Hill</td>\n",
       "      <td>608</td>\n",
       "      <td>Spain</td>\n",
       "      <td>Female</td>\n",
       "      <td>41</td>\n",
       "      <td>1.0</td>\n",
       "      <td>83807.86</td>\n",
       "      <td>1</td>\n",
       "      <td>0</td>\n",
       "      <td>1</td>\n",
       "      <td>112542.58</td>\n",
       "      <td>0</td>\n",
       "    </tr>\n",
       "    <tr>\n",
       "      <th>2</th>\n",
       "      <td>3</td>\n",
       "      <td>15619304</td>\n",
       "      <td>Onio</td>\n",
       "      <td>502</td>\n",
       "      <td>France</td>\n",
       "      <td>Female</td>\n",
       "      <td>42</td>\n",
       "      <td>8.0</td>\n",
       "      <td>159660.80</td>\n",
       "      <td>3</td>\n",
       "      <td>1</td>\n",
       "      <td>0</td>\n",
       "      <td>113931.57</td>\n",
       "      <td>1</td>\n",
       "    </tr>\n",
       "    <tr>\n",
       "      <th>3</th>\n",
       "      <td>4</td>\n",
       "      <td>15701354</td>\n",
       "      <td>Boni</td>\n",
       "      <td>699</td>\n",
       "      <td>France</td>\n",
       "      <td>Female</td>\n",
       "      <td>39</td>\n",
       "      <td>1.0</td>\n",
       "      <td>0.00</td>\n",
       "      <td>2</td>\n",
       "      <td>0</td>\n",
       "      <td>0</td>\n",
       "      <td>93826.63</td>\n",
       "      <td>0</td>\n",
       "    </tr>\n",
       "    <tr>\n",
       "      <th>4</th>\n",
       "      <td>5</td>\n",
       "      <td>15737888</td>\n",
       "      <td>Mitchell</td>\n",
       "      <td>850</td>\n",
       "      <td>Spain</td>\n",
       "      <td>Female</td>\n",
       "      <td>43</td>\n",
       "      <td>2.0</td>\n",
       "      <td>125510.82</td>\n",
       "      <td>1</td>\n",
       "      <td>1</td>\n",
       "      <td>1</td>\n",
       "      <td>79084.10</td>\n",
       "      <td>0</td>\n",
       "    </tr>\n",
       "  </tbody>\n",
       "</table>\n",
       "</div>"
      ],
      "text/plain": [
       "   RowNumber  CustomerId   Surname  CreditScore Geography  Gender  Age  \\\n",
       "0          1    15634602  Hargrave          619    France  Female   42   \n",
       "1          2    15647311      Hill          608     Spain  Female   41   \n",
       "2          3    15619304      Onio          502    France  Female   42   \n",
       "3          4    15701354      Boni          699    France  Female   39   \n",
       "4          5    15737888  Mitchell          850     Spain  Female   43   \n",
       "\n",
       "   Tenure    Balance  NumOfProducts  HasCrCard  IsActiveMember  \\\n",
       "0     2.0       0.00              1          1               1   \n",
       "1     1.0   83807.86              1          0               1   \n",
       "2     8.0  159660.80              3          1               0   \n",
       "3     1.0       0.00              2          0               0   \n",
       "4     2.0  125510.82              1          1               1   \n",
       "\n",
       "   EstimatedSalary  Exited  \n",
       "0        101348.88       1  \n",
       "1        112542.58       0  \n",
       "2        113931.57       1  \n",
       "3         93826.63       0  \n",
       "4         79084.10       0  "
      ]
     },
     "metadata": {},
     "output_type": "display_data"
    },
    {
     "name": "stdout",
     "output_type": "stream",
     "text": [
      "\n",
      "    ----------------------------------------\n",
      "    Последние строки датафрейма:\n",
      "    ----------------------------------------\n"
     ]
    },
    {
     "data": {
      "text/html": [
       "<div>\n",
       "<style scoped>\n",
       "    .dataframe tbody tr th:only-of-type {\n",
       "        vertical-align: middle;\n",
       "    }\n",
       "\n",
       "    .dataframe tbody tr th {\n",
       "        vertical-align: top;\n",
       "    }\n",
       "\n",
       "    .dataframe thead th {\n",
       "        text-align: right;\n",
       "    }\n",
       "</style>\n",
       "<table border=\"1\" class=\"dataframe\">\n",
       "  <thead>\n",
       "    <tr style=\"text-align: right;\">\n",
       "      <th></th>\n",
       "      <th>RowNumber</th>\n",
       "      <th>CustomerId</th>\n",
       "      <th>Surname</th>\n",
       "      <th>CreditScore</th>\n",
       "      <th>Geography</th>\n",
       "      <th>Gender</th>\n",
       "      <th>Age</th>\n",
       "      <th>Tenure</th>\n",
       "      <th>Balance</th>\n",
       "      <th>NumOfProducts</th>\n",
       "      <th>HasCrCard</th>\n",
       "      <th>IsActiveMember</th>\n",
       "      <th>EstimatedSalary</th>\n",
       "      <th>Exited</th>\n",
       "    </tr>\n",
       "  </thead>\n",
       "  <tbody>\n",
       "    <tr>\n",
       "      <th>9995</th>\n",
       "      <td>9996</td>\n",
       "      <td>15606229</td>\n",
       "      <td>Obijiaku</td>\n",
       "      <td>771</td>\n",
       "      <td>France</td>\n",
       "      <td>Male</td>\n",
       "      <td>39</td>\n",
       "      <td>5.0</td>\n",
       "      <td>0.00</td>\n",
       "      <td>2</td>\n",
       "      <td>1</td>\n",
       "      <td>0</td>\n",
       "      <td>96270.64</td>\n",
       "      <td>0</td>\n",
       "    </tr>\n",
       "    <tr>\n",
       "      <th>9996</th>\n",
       "      <td>9997</td>\n",
       "      <td>15569892</td>\n",
       "      <td>Johnstone</td>\n",
       "      <td>516</td>\n",
       "      <td>France</td>\n",
       "      <td>Male</td>\n",
       "      <td>35</td>\n",
       "      <td>10.0</td>\n",
       "      <td>57369.61</td>\n",
       "      <td>1</td>\n",
       "      <td>1</td>\n",
       "      <td>1</td>\n",
       "      <td>101699.77</td>\n",
       "      <td>0</td>\n",
       "    </tr>\n",
       "    <tr>\n",
       "      <th>9997</th>\n",
       "      <td>9998</td>\n",
       "      <td>15584532</td>\n",
       "      <td>Liu</td>\n",
       "      <td>709</td>\n",
       "      <td>France</td>\n",
       "      <td>Female</td>\n",
       "      <td>36</td>\n",
       "      <td>7.0</td>\n",
       "      <td>0.00</td>\n",
       "      <td>1</td>\n",
       "      <td>0</td>\n",
       "      <td>1</td>\n",
       "      <td>42085.58</td>\n",
       "      <td>1</td>\n",
       "    </tr>\n",
       "    <tr>\n",
       "      <th>9998</th>\n",
       "      <td>9999</td>\n",
       "      <td>15682355</td>\n",
       "      <td>Sabbatini</td>\n",
       "      <td>772</td>\n",
       "      <td>Germany</td>\n",
       "      <td>Male</td>\n",
       "      <td>42</td>\n",
       "      <td>3.0</td>\n",
       "      <td>75075.31</td>\n",
       "      <td>2</td>\n",
       "      <td>1</td>\n",
       "      <td>0</td>\n",
       "      <td>92888.52</td>\n",
       "      <td>1</td>\n",
       "    </tr>\n",
       "    <tr>\n",
       "      <th>9999</th>\n",
       "      <td>10000</td>\n",
       "      <td>15628319</td>\n",
       "      <td>Walker</td>\n",
       "      <td>792</td>\n",
       "      <td>France</td>\n",
       "      <td>Female</td>\n",
       "      <td>28</td>\n",
       "      <td>NaN</td>\n",
       "      <td>130142.79</td>\n",
       "      <td>1</td>\n",
       "      <td>1</td>\n",
       "      <td>0</td>\n",
       "      <td>38190.78</td>\n",
       "      <td>0</td>\n",
       "    </tr>\n",
       "  </tbody>\n",
       "</table>\n",
       "</div>"
      ],
      "text/plain": [
       "      RowNumber  CustomerId    Surname  CreditScore Geography  Gender  Age  \\\n",
       "9995       9996    15606229   Obijiaku          771    France    Male   39   \n",
       "9996       9997    15569892  Johnstone          516    France    Male   35   \n",
       "9997       9998    15584532        Liu          709    France  Female   36   \n",
       "9998       9999    15682355  Sabbatini          772   Germany    Male   42   \n",
       "9999      10000    15628319     Walker          792    France  Female   28   \n",
       "\n",
       "      Tenure    Balance  NumOfProducts  HasCrCard  IsActiveMember  \\\n",
       "9995     5.0       0.00              2          1               0   \n",
       "9996    10.0   57369.61              1          1               1   \n",
       "9997     7.0       0.00              1          0               1   \n",
       "9998     3.0   75075.31              2          1               0   \n",
       "9999     NaN  130142.79              1          1               0   \n",
       "\n",
       "      EstimatedSalary  Exited  \n",
       "9995         96270.64       0  \n",
       "9996        101699.77       0  \n",
       "9997         42085.58       1  \n",
       "9998         92888.52       1  \n",
       "9999         38190.78       0  "
      ]
     },
     "metadata": {},
     "output_type": "display_data"
    },
    {
     "name": "stdout",
     "output_type": "stream",
     "text": [
      "\n",
      "    ----------------------------------------\n",
      "    Общая информация:\n",
      "    ----------------------------------------\n",
      "<class 'pandas.core.frame.DataFrame'>\n",
      "RangeIndex: 10000 entries, 0 to 9999\n",
      "Data columns (total 14 columns):\n",
      " #   Column           Non-Null Count  Dtype  \n",
      "---  ------           --------------  -----  \n",
      " 0   RowNumber        10000 non-null  int64  \n",
      " 1   CustomerId       10000 non-null  int64  \n",
      " 2   Surname          10000 non-null  object \n",
      " 3   CreditScore      10000 non-null  int64  \n",
      " 4   Geography        10000 non-null  object \n",
      " 5   Gender           10000 non-null  object \n",
      " 6   Age              10000 non-null  int64  \n",
      " 7   Tenure           9091 non-null   float64\n",
      " 8   Balance          10000 non-null  float64\n",
      " 9   NumOfProducts    10000 non-null  int64  \n",
      " 10  HasCrCard        10000 non-null  int64  \n",
      " 11  IsActiveMember   10000 non-null  int64  \n",
      " 12  EstimatedSalary  10000 non-null  float64\n",
      " 13  Exited           10000 non-null  int64  \n",
      "dtypes: float64(3), int64(8), object(3)\n",
      "memory usage: 1.1+ MB\n",
      "None\n",
      "\n",
      "    ----------------------------------------\n",
      "    Дупликаты:\n",
      "    ----------------------------------------\n",
      "0\n",
      "\n",
      "    ----------------------------------------\n",
      "    Пропуски:\n",
      "    ----------------------------------------\n"
     ]
    },
    {
     "data": {
      "text/plain": [
       "RowNumber            0\n",
       "CustomerId           0\n",
       "Surname              0\n",
       "CreditScore          0\n",
       "Geography            0\n",
       "Gender               0\n",
       "Age                  0\n",
       "Tenure             909\n",
       "Balance              0\n",
       "NumOfProducts        0\n",
       "HasCrCard            0\n",
       "IsActiveMember       0\n",
       "EstimatedSalary      0\n",
       "Exited               0\n",
       "dtype: int64"
      ]
     },
     "metadata": {},
     "output_type": "display_data"
    },
    {
     "name": "stdout",
     "output_type": "stream",
     "text": [
      "\n",
      "    ----------------------------------------\n",
      "    И немного статистических данных:\n",
      "    ----------------------------------------\n",
      "          RowNumber    CustomerId Surname   CreditScore Geography Gender  \\\n",
      "count   10000.00000  1.000000e+04   10000  10000.000000     10000  10000   \n",
      "unique          NaN           NaN    2932           NaN         3      2   \n",
      "top             NaN           NaN   Smith           NaN    France   Male   \n",
      "freq            NaN           NaN      32           NaN      5014   5457   \n",
      "mean     5000.50000  1.569094e+07     NaN    650.528800       NaN    NaN   \n",
      "std      2886.89568  7.193619e+04     NaN     96.653299       NaN    NaN   \n",
      "min         1.00000  1.556570e+07     NaN    350.000000       NaN    NaN   \n",
      "25%      2500.75000  1.562853e+07     NaN    584.000000       NaN    NaN   \n",
      "50%      5000.50000  1.569074e+07     NaN    652.000000       NaN    NaN   \n",
      "75%      7500.25000  1.575323e+07     NaN    718.000000       NaN    NaN   \n",
      "max     10000.00000  1.581569e+07     NaN    850.000000       NaN    NaN   \n",
      "\n",
      "                 Age       Tenure        Balance  NumOfProducts    HasCrCard  \\\n",
      "count   10000.000000  9091.000000   10000.000000   10000.000000  10000.00000   \n",
      "unique           NaN          NaN            NaN            NaN          NaN   \n",
      "top              NaN          NaN            NaN            NaN          NaN   \n",
      "freq             NaN          NaN            NaN            NaN          NaN   \n",
      "mean       38.921800     4.997690   76485.889288       1.530200      0.70550   \n",
      "std        10.487806     2.894723   62397.405202       0.581654      0.45584   \n",
      "min        18.000000     0.000000       0.000000       1.000000      0.00000   \n",
      "25%        32.000000     2.000000       0.000000       1.000000      0.00000   \n",
      "50%        37.000000     5.000000   97198.540000       1.000000      1.00000   \n",
      "75%        44.000000     7.000000  127644.240000       2.000000      1.00000   \n",
      "max        92.000000    10.000000  250898.090000       4.000000      1.00000   \n",
      "\n",
      "        IsActiveMember  EstimatedSalary        Exited  \n",
      "count     10000.000000     10000.000000  10000.000000  \n",
      "unique             NaN              NaN           NaN  \n",
      "top                NaN              NaN           NaN  \n",
      "freq               NaN              NaN           NaN  \n",
      "mean          0.515100    100090.239881      0.203700  \n",
      "std           0.499797     57510.492818      0.402769  \n",
      "min           0.000000        11.580000      0.000000  \n",
      "25%           0.000000     51002.110000      0.000000  \n",
      "50%           1.000000    100193.915000      0.000000  \n",
      "75%           1.000000    149388.247500      0.000000  \n",
      "max           1.000000    199992.480000      1.000000  \n"
     ]
    }
   ],
   "source": [
    "data_info(df)"
   ]
  },
  {
   "cell_type": "markdown",
   "metadata": {},
   "source": [
    "У нас всего есть 14 колонок:\n",
    "- RowNumber (индекс строки)\n",
    "- CustomerId (id покупателя)\n",
    "- Surname (фамилия)\n",
    "- CreditScore (кредитный )\n",
    "- Geography (местоположение)\n",
    "- Gender (пол)\n",
    "- Age (возраст)\n",
    "- Tenure (сколько лет человек является клиентом банка)\n",
    "- Balance (баланс на дату выгрузки данных)\n",
    "- NumOfProducts (количество используемых продуктов)\n",
    "- HasCrCard (наличие кредитной карты)\n",
    "- IsActiveMember (является ли активным пользователем)\n",
    "- EstimatedSalary (предполагаемая зарплата)\n",
    "- Exited (факт ухода клиента) - `нам необходимо предсказать`\n",
    "\n",
    "Дупликатов нет, следовательно, некоторые колонки можно удалить:\n",
    "\n",
    "- RowNumber - обозначение строки, можно удалить\n",
    "- CustomerId - идентификационный номер пользователя, также можно удалить,\n",
    "- Surname - фамилия, аналогично можно удалить,\n",
    "\n",
    "так как эти колонки используются для более легкого понимания человеческому взгляду, в отличие от остальных.\n",
    "\n",
    "Также мы видим, что необходимо обработать несколько колонок в технике *OHE* - Geography and Gender.\n",
    "\n",
    "Критических выбросов в данных не наблюдается, однако есть непонятного происхождения пропуски в колонке `Tenure`."
   ]
  },
  {
   "cell_type": "code",
   "execution_count": 5,
   "metadata": {},
   "outputs": [],
   "source": [
    "columns = ['RowNumber', 'CustomerId','Surname']\n",
    "data = df.drop(columns, axis=1)"
   ]
  },
  {
   "cell_type": "code",
   "execution_count": 6,
   "metadata": {},
   "outputs": [
    {
     "data": {
      "text/html": [
       "<div>\n",
       "<style scoped>\n",
       "    .dataframe tbody tr th:only-of-type {\n",
       "        vertical-align: middle;\n",
       "    }\n",
       "\n",
       "    .dataframe tbody tr th {\n",
       "        vertical-align: top;\n",
       "    }\n",
       "\n",
       "    .dataframe thead th {\n",
       "        text-align: right;\n",
       "    }\n",
       "</style>\n",
       "<table border=\"1\" class=\"dataframe\">\n",
       "  <thead>\n",
       "    <tr style=\"text-align: right;\">\n",
       "      <th></th>\n",
       "      <th>CreditScore</th>\n",
       "      <th>Geography</th>\n",
       "      <th>Gender</th>\n",
       "      <th>Age</th>\n",
       "      <th>Tenure</th>\n",
       "      <th>Balance</th>\n",
       "      <th>NumOfProducts</th>\n",
       "      <th>HasCrCard</th>\n",
       "      <th>IsActiveMember</th>\n",
       "      <th>EstimatedSalary</th>\n",
       "      <th>Exited</th>\n",
       "    </tr>\n",
       "  </thead>\n",
       "  <tbody>\n",
       "    <tr>\n",
       "      <th>30</th>\n",
       "      <td>591</td>\n",
       "      <td>Spain</td>\n",
       "      <td>Female</td>\n",
       "      <td>39</td>\n",
       "      <td>NaN</td>\n",
       "      <td>0.00</td>\n",
       "      <td>3</td>\n",
       "      <td>1</td>\n",
       "      <td>0</td>\n",
       "      <td>140469.38</td>\n",
       "      <td>1</td>\n",
       "    </tr>\n",
       "    <tr>\n",
       "      <th>48</th>\n",
       "      <td>550</td>\n",
       "      <td>Germany</td>\n",
       "      <td>Male</td>\n",
       "      <td>38</td>\n",
       "      <td>NaN</td>\n",
       "      <td>103391.38</td>\n",
       "      <td>1</td>\n",
       "      <td>0</td>\n",
       "      <td>1</td>\n",
       "      <td>90878.13</td>\n",
       "      <td>0</td>\n",
       "    </tr>\n",
       "    <tr>\n",
       "      <th>51</th>\n",
       "      <td>585</td>\n",
       "      <td>Germany</td>\n",
       "      <td>Male</td>\n",
       "      <td>36</td>\n",
       "      <td>NaN</td>\n",
       "      <td>146050.97</td>\n",
       "      <td>2</td>\n",
       "      <td>0</td>\n",
       "      <td>0</td>\n",
       "      <td>86424.57</td>\n",
       "      <td>0</td>\n",
       "    </tr>\n",
       "    <tr>\n",
       "      <th>53</th>\n",
       "      <td>655</td>\n",
       "      <td>Germany</td>\n",
       "      <td>Male</td>\n",
       "      <td>41</td>\n",
       "      <td>NaN</td>\n",
       "      <td>125561.97</td>\n",
       "      <td>1</td>\n",
       "      <td>0</td>\n",
       "      <td>0</td>\n",
       "      <td>164040.94</td>\n",
       "      <td>1</td>\n",
       "    </tr>\n",
       "    <tr>\n",
       "      <th>60</th>\n",
       "      <td>742</td>\n",
       "      <td>Germany</td>\n",
       "      <td>Male</td>\n",
       "      <td>35</td>\n",
       "      <td>NaN</td>\n",
       "      <td>136857.00</td>\n",
       "      <td>1</td>\n",
       "      <td>0</td>\n",
       "      <td>0</td>\n",
       "      <td>84509.57</td>\n",
       "      <td>0</td>\n",
       "    </tr>\n",
       "    <tr>\n",
       "      <th>...</th>\n",
       "      <td>...</td>\n",
       "      <td>...</td>\n",
       "      <td>...</td>\n",
       "      <td>...</td>\n",
       "      <td>...</td>\n",
       "      <td>...</td>\n",
       "      <td>...</td>\n",
       "      <td>...</td>\n",
       "      <td>...</td>\n",
       "      <td>...</td>\n",
       "      <td>...</td>\n",
       "    </tr>\n",
       "    <tr>\n",
       "      <th>9944</th>\n",
       "      <td>744</td>\n",
       "      <td>Germany</td>\n",
       "      <td>Male</td>\n",
       "      <td>41</td>\n",
       "      <td>NaN</td>\n",
       "      <td>190409.34</td>\n",
       "      <td>2</td>\n",
       "      <td>1</td>\n",
       "      <td>1</td>\n",
       "      <td>138361.48</td>\n",
       "      <td>0</td>\n",
       "    </tr>\n",
       "    <tr>\n",
       "      <th>9956</th>\n",
       "      <td>520</td>\n",
       "      <td>France</td>\n",
       "      <td>Female</td>\n",
       "      <td>46</td>\n",
       "      <td>NaN</td>\n",
       "      <td>85216.61</td>\n",
       "      <td>1</td>\n",
       "      <td>1</td>\n",
       "      <td>0</td>\n",
       "      <td>117369.52</td>\n",
       "      <td>1</td>\n",
       "    </tr>\n",
       "    <tr>\n",
       "      <th>9964</th>\n",
       "      <td>479</td>\n",
       "      <td>France</td>\n",
       "      <td>Male</td>\n",
       "      <td>34</td>\n",
       "      <td>NaN</td>\n",
       "      <td>117593.48</td>\n",
       "      <td>2</td>\n",
       "      <td>0</td>\n",
       "      <td>0</td>\n",
       "      <td>113308.29</td>\n",
       "      <td>0</td>\n",
       "    </tr>\n",
       "    <tr>\n",
       "      <th>9985</th>\n",
       "      <td>659</td>\n",
       "      <td>France</td>\n",
       "      <td>Male</td>\n",
       "      <td>36</td>\n",
       "      <td>NaN</td>\n",
       "      <td>123841.49</td>\n",
       "      <td>2</td>\n",
       "      <td>1</td>\n",
       "      <td>0</td>\n",
       "      <td>96833.00</td>\n",
       "      <td>0</td>\n",
       "    </tr>\n",
       "    <tr>\n",
       "      <th>9999</th>\n",
       "      <td>792</td>\n",
       "      <td>France</td>\n",
       "      <td>Female</td>\n",
       "      <td>28</td>\n",
       "      <td>NaN</td>\n",
       "      <td>130142.79</td>\n",
       "      <td>1</td>\n",
       "      <td>1</td>\n",
       "      <td>0</td>\n",
       "      <td>38190.78</td>\n",
       "      <td>0</td>\n",
       "    </tr>\n",
       "  </tbody>\n",
       "</table>\n",
       "<p>909 rows × 11 columns</p>\n",
       "</div>"
      ],
      "text/plain": [
       "      CreditScore Geography  Gender  Age  Tenure    Balance  NumOfProducts  \\\n",
       "30            591     Spain  Female   39     NaN       0.00              3   \n",
       "48            550   Germany    Male   38     NaN  103391.38              1   \n",
       "51            585   Germany    Male   36     NaN  146050.97              2   \n",
       "53            655   Germany    Male   41     NaN  125561.97              1   \n",
       "60            742   Germany    Male   35     NaN  136857.00              1   \n",
       "...           ...       ...     ...  ...     ...        ...            ...   \n",
       "9944          744   Germany    Male   41     NaN  190409.34              2   \n",
       "9956          520    France  Female   46     NaN   85216.61              1   \n",
       "9964          479    France    Male   34     NaN  117593.48              2   \n",
       "9985          659    France    Male   36     NaN  123841.49              2   \n",
       "9999          792    France  Female   28     NaN  130142.79              1   \n",
       "\n",
       "      HasCrCard  IsActiveMember  EstimatedSalary  Exited  \n",
       "30            1               0        140469.38       1  \n",
       "48            0               1         90878.13       0  \n",
       "51            0               0         86424.57       0  \n",
       "53            0               0        164040.94       1  \n",
       "60            0               0         84509.57       0  \n",
       "...         ...             ...              ...     ...  \n",
       "9944          1               1        138361.48       0  \n",
       "9956          1               0        117369.52       1  \n",
       "9964          0               0        113308.29       0  \n",
       "9985          1               0         96833.00       0  \n",
       "9999          1               0         38190.78       0  \n",
       "\n",
       "[909 rows x 11 columns]"
      ]
     },
     "execution_count": 6,
     "metadata": {},
     "output_type": "execute_result"
    }
   ],
   "source": [
    "data[data['Tenure'].isna()]"
   ]
  },
  {
   "cell_type": "code",
   "execution_count": 7,
   "metadata": {},
   "outputs": [
    {
     "data": {
      "text/plain": [
       "9.09"
      ]
     },
     "execution_count": 7,
     "metadata": {},
     "output_type": "execute_result"
    }
   ],
   "source": [
    "(data[data['Tenure'].isna()].shape[0]/data.shape[0])*100"
   ]
  },
  {
   "cell_type": "markdown",
   "metadata": {},
   "source": [
    "Пропуски наблюдаются только в одной колонке, которая описывает продолжительность пользования клиентом услугами банка.\n",
    "\n",
    "Есть несколько вариантов действий:\n",
    "\n",
    "- Удалить пропуски - *однако их около 10%*\n",
    "- Заполнить каким-либо значением\n",
    "\n",
    "Мы остановимся на втором варианте, заполнять будем с помощью IterativeImputer, так как просто опускать практически 10% данных - не целесообразно"
   ]
  },
  {
   "cell_type": "code",
   "execution_count": 8,
   "metadata": {},
   "outputs": [],
   "source": [
    "imputer = IterativeImputer(max_iter=20, verbose=2)\n",
    "\n",
    "\n",
    "data['Tenure'] = np.round(imputer.fit_transform(data[['Tenure']]))"
   ]
  },
  {
   "cell_type": "code",
   "execution_count": 9,
   "metadata": {},
   "outputs": [],
   "source": [
    "data.columns = data.columns.str.lower()"
   ]
  },
  {
   "cell_type": "code",
   "execution_count": 10,
   "metadata": {},
   "outputs": [
    {
     "data": {
      "text/plain": [
       "exited\n",
       "0    7963\n",
       "1    2037\n",
       "Name: age, dtype: int64"
      ]
     },
     "execution_count": 10,
     "metadata": {},
     "output_type": "execute_result"
    }
   ],
   "source": [
    "data.groupby('exited').count()['age']"
   ]
  },
  {
   "cell_type": "markdown",
   "metadata": {},
   "source": [
    "Выборка, как и предполагалось, практически в 4 раза \"перевешивает\" в сторону остающихся верными банку клиентов => необходимо доработать данные"
   ]
  },
  {
   "cell_type": "code",
   "execution_count": 11,
   "metadata": {},
   "outputs": [
    {
     "data": {
      "image/png": "[encoded data removed]",
      "text/plain": [
       "<Figure size 1540x420 with 1 Axes>"
      ]
     },
     "metadata": {},
     "output_type": "display_data"
    }
   ],
   "source": [
    "fig = plt.figure(figsize=(11, 3))\n",
    "ax = fig.add_subplot()\n",
    "sns.histplot(df, x=data.tenure, hue=data.exited, multiple='stack', bins=11,\n",
    "            palette=['#AED6F1', '#3498DB'])\n",
    "ax.set_xticks(range(11))\n",
    "ax.set_facecolor('#f0faff')\n",
    "ax.grid(axis='y', linewidth=0.5)\n",
    "plt.show()"
   ]
  },
  {
   "cell_type": "markdown",
   "metadata": {},
   "source": [
    "Наглядно видно, что *имеется* ***дисбаланс классов*** - с этим нужно будет поработать.\n",
    "\n",
    "**В ходе первого шага** - подготовки данных - мы проверили данные на пропуски, выбросы, удалили колонки, не нужные для дальнейшего исследования, а также обработали категориальные признаки (*ohe*), масштабировали и разделили данные на 3 выборки."
   ]
  },
  {
   "cell_type": "markdown",
   "metadata": {},
   "source": [
    "## Исследование задачи"
   ]
  },
  {
   "cell_type": "markdown",
   "metadata": {},
   "source": [
    "Разобьем данные:"
   ]
  },
  {
   "cell_type": "code",
   "execution_count": 13,
   "metadata": {},
   "outputs": [],
   "source": [
    "cat_col = ['geography','gender']\n",
    "num_col = ['creditscore','age','tenure','balance','numofproducts','hascrcard','isactivemember','estimatedsalary']\n",
    "features = data[cat_col+num_col]\n",
    "target = data['exited']\n",
    "\n",
    "features_train, features_tmp, target_train, target_tmp = train_test_split(features, target, test_size=0.4,\n",
    "                                                                         random_state=RANDOM_STATE, stratify=target)\n",
    "\n",
    "features_valid, features_test, target_valid, target_test = train_test_split(features_tmp, target_tmp, test_size=0.5,\n",
    "                                                                           random_state=RANDOM_STATE, stratify=target_tmp)"
   ]
  },
  {
   "cell_type": "markdown",
   "metadata": {},
   "source": [
    "Сделаем пайплайн для более эффективной и правильной обработки данных:"
   ]
  },
  {
   "cell_type": "code",
   "execution_count": 385,
   "metadata": {},
   "outputs": [],
   "source": [
    "def return_best_model(model, params, features_train, target_train, features_valid=False, target_valid=False):\n",
    "    num_pipeline = Pipeline(steps=[('scale', StandardScaler())])\n",
    "    cat_pipeline = Pipeline(steps=[('impute', SimpleImputer(strategy='most_frequent')),\n",
    "                               ('one-hot', OneHotEncoder(handle_unknown='ignore', sparse=False, drop='first'))])\n",
    "\n",
    "    col_trans = ColumnTransformer(transformers=[('num_pipeline', num_pipeline, num_col),\n",
    "                                            ('cat_pipeline', cat_pipeline, cat_col)], remainder='drop', n_jobs=-1)\n",
    "    skf = StratifiedKFold(n_splits=5,  shuffle=True, random_state=42)\n",
    "    clf = model\n",
    "\n",
    "    model_pipeline = Pipeline(steps=[('preprocess',col_trans),\n",
    "                                     ('clf', clf)])\n",
    "    score = make_scorer(f1_score, greater_is_better = True) # вводим свою метрику для кросс-валидации\n",
    "    \n",
    "    grid_search = GridSearchCV(model_pipeline, param_grid = params, cv=skf, scoring = score)\n",
    "    grid_search.fit(features_train, target_train)\n",
    "    \n",
    "    if features_valid is not False and target_valid is not False:\n",
    "        metrics = []\n",
    "        metrics.append(precision_score(target_valid, grid_search.predict(features_valid)))\n",
    "        metrics.append(recall_score(target_valid, grid_search.predict(features_valid)))\n",
    "        metrics.append(f1_score(target_valid, grid_search.predict(features_valid)))\n",
    "        metrics.append(roc_auc_score(target_valid, grid_search.predict_proba(features_valid)[:,1]))\n",
    "        return grid_search, metrics\n",
    "        \n",
    "    return grid_search\n",
    "\n",
    "def print_valid_model(model,features, target):\n",
    "    print(f'''------------------------------\n",
    "Лучшиe train гиперпараметры:\n",
    "{model.best_params_}\n",
    "------------------------------\n",
    "Лучшая train метрика: \n",
    "{model.best_score_}\n",
    "------------------------------\n",
    "Метрики на valid:\n",
    "precision: {precision_score(target, model.predict(features))}; \n",
    "recall: {recall_score(target, model.predict(features))};\n",
    "f1: {f1_score(target, model.predict(features))}\n",
    "roc-auc: {roc_auc_score(target, model.predict_proba(features)[:,1])}\n",
    "------------------------------''')\n",
    "    \n",
    "# функция для вычисления fpr,tpr, thresholds, AUC_ROC и построения графика\n",
    "def ftt(model, features, target):\n",
    "    probabilities = model.predict_proba(features)\n",
    "    fpr, tpr, thresholds = roc_curve(target, probabilities[:,1])\n",
    "    auc_roc = roc_auc_score(target, probabilities[:,1])\n",
    "    print(f'AUC-ROC: {auc_roc}')\n",
    "    plt.figure(figsize=(5,5), dpi=200)\n",
    "    sns.set()\n",
    "    plt.plot(fpr, tpr, color='darkblue')\n",
    "    plt.plot([0, 1], [0, 1], linestyle='--', color='orange', alpha=0.8)\n",
    "    plt.xlim([0.0,1.0])\n",
    "    plt.ylim([0.0,1.0])\n",
    "    plt.xlabel('False Positive Rate', fontfamily='monospace')\n",
    "    plt.ylabel('True Positive Rate', fontfamily='monospace')\n",
    "    plt.title(\"ROC-кривая\")\n",
    "    plt.show()"
   ]
  },
  {
   "cell_type": "markdown",
   "metadata": {},
   "source": [
    "Проверим 5 моделей на несбалансированной выборке:\n",
    "\n",
    "- DecisionTreeClassifier\n",
    "- RandomForestClassifier\n",
    "- LogisticRegression\n",
    "- KNeighborsClassifier\n",
    "- GradientBoostingClassifier\n",
    "\n",
    "Будем сразу искать лучшую модель на `train`, а потом проверять на `valid`:"
   ]
  },
  {
   "cell_type": "code",
   "execution_count": 370,
   "metadata": {},
   "outputs": [
    {
     "data": {
      "text/plain": [
       "[0.7440273037542662,\n",
       " 0.5343137254901961,\n",
       " 0.6219686162624822,\n",
       " 0.8706807628830429]"
      ]
     },
     "execution_count": 370,
     "metadata": {},
     "output_type": "execute_result"
    }
   ],
   "source": [
    "params_dtc = {\n",
    "        'clf__splitter': ['best', 'random'], \n",
    "        'clf__max_depth': range(1,100, 4), \n",
    "        'clf__criterion':['gini', 'entropy', 'log_loss']}\n",
    "model = DecisionTreeClassifier(random_state=RANDOM_STATE)\n",
    "model_dtc, metrics = return_best_model(model, params_dtc, features_train, target_train, features_valid, target_valid)\n",
    "metrics"
   ]
  },
  {
   "cell_type": "markdown",
   "metadata": {},
   "source": [
    "Как раз таки метрики он вывел на валидационные данные, так что занесем в результирующую таблицу:"
   ]
  },
  {
   "cell_type": "code",
   "execution_count": 353,
   "metadata": {},
   "outputs": [
    {
     "name": "stdout",
     "output_type": "stream",
     "text": [
      "------------------------------\n",
      "Лучшиe train гиперпараметры:\n",
      "{'clf__criterion': 'entropy', 'clf__max_depth': 9, 'clf__splitter': 'best'}\n",
      "------------------------------\n",
      "Лучшая train метрика: \n",
      "0.5628794688010614\n",
      "------------------------------\n",
      "Метрики на valid:\n",
      "precision: 0.7440273037542662; \n",
      "recall: 0.5343137254901961;\n",
      "f1: 0.6219686162624822\n",
      "roc-auc: 0.8706807628830429\n",
      "------------------------------\n"
     ]
    }
   ],
   "source": [
    "res = pd.DataFrame(columns=['precision','recall','f1','roc-auc'])\n",
    "res.loc['dtc'] = metrics\n",
    "\n",
    "print_valid_model(model_dtc, features_valid, target_valid)"
   ]
  },
  {
   "cell_type": "code",
   "execution_count": 354,
   "metadata": {},
   "outputs": [
    {
     "name": "stdout",
     "output_type": "stream",
     "text": [
      "------------------------------\n",
      "Лучшиe train гиперпараметры:\n",
      "{'clf__criterion': 'gini', 'clf__max_depth': 50, 'clf__max_features': None, 'clf__max_leaf_nodes': 50, 'clf__n_estimators': 100}\n",
      "------------------------------\n",
      "Лучшая train метрика: \n",
      "0.5853362858751868\n",
      "------------------------------\n",
      "Метрики на valid:\n",
      "precision: 0.7717391304347826; \n",
      "recall: 0.5220588235294118;\n",
      "f1: 0.6228070175438597\n",
      "roc-auc: 0.8798103569317174\n",
      "------------------------------\n"
     ]
    }
   ],
   "source": [
    "params_rfc = {\n",
    "        'clf__n_estimators':[10, 50, 100],\n",
    "        'clf__criterion': ['gini', 'entropy', 'log_loss'],\n",
    "        'clf__max_leaf_nodes':[None,2,5,10,20,50], \n",
    "        'clf__max_depth': [10, 50, 100], \n",
    "        'clf__max_features': ['sqrt','log2', None]}\n",
    "\n",
    "model = RandomForestClassifier(random_state=RANDOM_STATE, n_jobs=-1)\n",
    "model_rfc, metrics = return_best_model(model, params_rfc, features_train, target_train, features_valid, target_valid)\n",
    "\n",
    "res.loc['rfc'] = metrics\n",
    "\n",
    "print_valid_model(model_rfc, features_valid, target_valid)"
   ]
  },
  {
   "cell_type": "code",
   "execution_count": 355,
   "metadata": {},
   "outputs": [
    {
     "name": "stdout",
     "output_type": "stream",
     "text": [
      "------------------------------\n",
      "Лучшиe train гиперпараметры:\n",
      "{'clf__C': 0.1, 'clf__max_iter': 50, 'clf__penalty': None, 'clf__solver': 'lbfgs'}\n",
      "------------------------------\n",
      "Лучшая train метрика: \n",
      "0.31364208064358046\n",
      "------------------------------\n",
      "Метрики на valid:\n",
      "precision: 0.5957446808510638; \n",
      "recall: 0.20588235294117646;\n",
      "f1: 0.30601092896174864\n",
      "roc-auc: 0.7885352005123657\n",
      "------------------------------\n"
     ]
    }
   ],
   "source": [
    "params_lr = {\n",
    "        'clf__penalty':['l1', 'l2', 'elasticnet', None],\n",
    "        'clf__C':[0.1, 1, 10],\n",
    "        'clf__solver':['lbfgs', 'liblinear', 'newton-cg', 'newton-cholesky', 'sag', 'saga'],\n",
    "        'clf__max_iter':[50, 100, 500]}\n",
    "\n",
    "\n",
    "model = LogisticRegression(random_state=RANDOM_STATE)\n",
    "model_lr, metrics = return_best_model(model, params_lr, features_train, target_train, features_valid, target_valid)\n",
    "\n",
    "res.loc['lr'] = metrics\n",
    "\n",
    "print_valid_model(model_lr, features_valid, target_valid)"
   ]
  },
  {
   "cell_type": "code",
   "execution_count": 356,
   "metadata": {},
   "outputs": [
    {
     "name": "stdout",
     "output_type": "stream",
     "text": [
      "------------------------------\n",
      "Лучшиe train гиперпараметры:\n",
      "{'clf__algorithm': 'auto', 'clf__n_neighbors': 5, 'clf__weights': 'distance'}\n",
      "------------------------------\n",
      "Лучшая train метрика: \n",
      "0.5019661640756439\n",
      "------------------------------\n",
      "Метрики на valid:\n",
      "precision: 0.8181818181818182; \n",
      "recall: 0.6397058823529411;\n",
      "f1: 0.7180192572214581\n",
      "roc-auc: 0.8918019940388215\n",
      "------------------------------\n"
     ]
    }
   ],
   "source": [
    "params_knn = {\n",
    "        'clf__n_neighbors': [5, 10, 15, 50],\n",
    "        'clf__weights':['uniform', 'distance'],\n",
    "        'clf__algorithm':['auto', 'ball_tree', 'kd_tree', 'brute']}\n",
    "\n",
    "model = KNeighborsClassifier(n_jobs=1)\n",
    "model_knn, metrics = return_best_model(model, params_knn, features_train, target_train, features_valid, target_valid)\n",
    "\n",
    "res.loc['knn'] = metrics\n",
    "\n",
    "print_valid_model(model_knn, features_valid, target_valid)"
   ]
  },
  {
   "cell_type": "code",
   "execution_count": 357,
   "metadata": {},
   "outputs": [
    {
     "name": "stdout",
     "output_type": "stream",
     "text": [
      "------------------------------\n",
      "Лучшиe train гиперпараметры:\n",
      "{'clf__learning_rate': 0.1, 'clf__max_depth': 3, 'clf__n_estimators': 100}\n",
      "------------------------------\n",
      "Лучшая train метрика: \n",
      "0.579527273471504\n",
      "------------------------------\n",
      "Метрики на valid:\n",
      "precision: 0.774074074074074; \n",
      "recall: 0.5122549019607843;\n",
      "f1: 0.6165191740412979\n",
      "roc-auc: 0.8879130640949847\n",
      "------------------------------\n"
     ]
    }
   ],
   "source": [
    "params_gbc = {\n",
    "        'clf__learning_rate':[0.01, 0.1],\n",
    "        'clf__n_estimators':[10, 50, 100],\n",
    "        'clf__max_depth':[3, 10, 25]}\n",
    "\n",
    "model = GradientBoostingClassifier(random_state=RANDOM_STATE)\n",
    "model_gbc, metrics = return_best_model(model, params_gbc, features_train, target_train, features_valid, target_valid)\n",
    "\n",
    "res.loc['gbc'] = metrics\n",
    "\n",
    "print_valid_model(model_gbc, features_valid, target_valid)"
   ]
  },
  {
   "cell_type": "code",
   "execution_count": 358,
   "metadata": {},
   "outputs": [
    {
     "data": {
      "text/html": [
       "<div>\n",
       "<style scoped>\n",
       "    .dataframe tbody tr th:only-of-type {\n",
       "        vertical-align: middle;\n",
       "    }\n",
       "\n",
       "    .dataframe tbody tr th {\n",
       "        vertical-align: top;\n",
       "    }\n",
       "\n",
       "    .dataframe thead th {\n",
       "        text-align: right;\n",
       "    }\n",
       "</style>\n",
       "<table border=\"1\" class=\"dataframe\">\n",
       "  <thead>\n",
       "    <tr style=\"text-align: right;\">\n",
       "      <th></th>\n",
       "      <th>precision</th>\n",
       "      <th>recall</th>\n",
       "      <th>f1</th>\n",
       "      <th>roc-auc</th>\n",
       "    </tr>\n",
       "  </thead>\n",
       "  <tbody>\n",
       "    <tr>\n",
       "      <th>knn</th>\n",
       "      <td>0.818182</td>\n",
       "      <td>0.639706</td>\n",
       "      <td>0.718019</td>\n",
       "      <td>0.891802</td>\n",
       "    </tr>\n",
       "    <tr>\n",
       "      <th>dtc</th>\n",
       "      <td>0.771739</td>\n",
       "      <td>0.522059</td>\n",
       "      <td>0.622807</td>\n",
       "      <td>0.879810</td>\n",
       "    </tr>\n",
       "    <tr>\n",
       "      <th>rfc</th>\n",
       "      <td>0.771739</td>\n",
       "      <td>0.522059</td>\n",
       "      <td>0.622807</td>\n",
       "      <td>0.879810</td>\n",
       "    </tr>\n",
       "    <tr>\n",
       "      <th>gbc</th>\n",
       "      <td>0.774074</td>\n",
       "      <td>0.512255</td>\n",
       "      <td>0.616519</td>\n",
       "      <td>0.887913</td>\n",
       "    </tr>\n",
       "    <tr>\n",
       "      <th>lr</th>\n",
       "      <td>0.595745</td>\n",
       "      <td>0.205882</td>\n",
       "      <td>0.306011</td>\n",
       "      <td>0.788535</td>\n",
       "    </tr>\n",
       "  </tbody>\n",
       "</table>\n",
       "</div>"
      ],
      "text/plain": [
       "     precision    recall        f1   roc-auc\n",
       "knn   0.818182  0.639706  0.718019  0.891802\n",
       "dtc   0.771739  0.522059  0.622807  0.879810\n",
       "rfc   0.771739  0.522059  0.622807  0.879810\n",
       "gbc   0.774074  0.512255  0.616519  0.887913\n",
       "lr    0.595745  0.205882  0.306011  0.788535"
      ]
     },
     "execution_count": 358,
     "metadata": {},
     "output_type": "execute_result"
    }
   ],
   "source": [
    "res.sort_values('f1', ascending=False)"
   ]
  },
  {
   "cell_type": "code",
   "execution_count": 360,
   "metadata": {},
   "outputs": [
    {
     "data": {
      "image/png": "[encoded data removed]",
      "text/plain": [
       "<Figure size 896x672 with 1 Axes>"
      ]
     },
     "metadata": {},
     "output_type": "display_data"
    }
   ],
   "source": [
    "cmap = sns.color_palette(\"Pastel2\")\n",
    "metrics = ('precision','recall','f1','roc-auc')\n",
    "models = {\n",
    "    'dtc': tuple(res.values[0]),\n",
    "    'rfc': tuple(res.values[1]),\n",
    "    'lr': tuple(res.values[2]),\n",
    "    'knn': tuple(res.values[3]),\n",
    "    'gbc': tuple(res.values[4])\n",
    "}\n",
    "\n",
    "x = np.arange(len(metrics))  # the label locations\n",
    "width = 0.15  # the width of the bars\n",
    "multiplier = 0\n",
    "\n",
    "fig, ax = plt.subplots(layout='constrained')\n",
    "\n",
    "for attribute, measurement in models.items():\n",
    "    sns.color_palette(\"Pastel2\")\n",
    "    offset = width * multiplier\n",
    "    rects = ax.bar(x + offset, measurement, width, label=attribute, color=cmap[multiplier])\n",
    "    ax.bar_label(rects, padding=3, rotation=90)\n",
    "    multiplier += 1\n",
    "\n",
    "# Add some text for labels, title and custom x-axis tick labels, etc.\n",
    "ax.set_ylabel('metrics')\n",
    "ax.set_title('metrics for different models')\n",
    "ax.set_xticks(x + width*2, metrics)\n",
    "ax.legend(loc='upper left', ncols=3)\n",
    "ax.set_ylim(0, 1.5)\n",
    "\n",
    "plt.show()"
   ]
  },
  {
   "cell_type": "markdown",
   "metadata": {},
   "source": [
    "Как мы видим, все модели, кроме логистической регрессии отработали неплохо, однако, думаю, можно еще лучше - для этого попробуем побороться с дисбалансом классов. \n",
    "KNN на уровень выше всех моделей, однако roc-auc у всех держится примерно на одном уровне - а значит, все модели достаточно определяют разные классы."
   ]
  },
  {
   "cell_type": "markdown",
   "metadata": {},
   "source": [
    "## Борьба с дисбалансом"
   ]
  },
  {
   "cell_type": "markdown",
   "metadata": {},
   "source": [
    "Для борьбы с дисбалансом классов, применим технику *upsampling* и *downsampling*:"
   ]
  },
  {
   "cell_type": "code",
   "execution_count": 361,
   "metadata": {},
   "outputs": [],
   "source": [
    "def upsample(features, target, repeat):\n",
    "    features_zeros = features[target == 0]\n",
    "    features_ones = features[target == 1]\n",
    "    target_zeros = target[target == 0]\n",
    "    target_ones = target[target == 1]\n",
    "    # соединим в нужном количестве\n",
    "    features_upsampled = pd.concat([features_zeros] + [features_ones] * repeat)\n",
    "    target_upsampled = pd.concat([target_zeros] + [target_ones] * repeat)\n",
    "    # перемешаем\n",
    "    features_upsampled, target_upsampled = shuffle(features_upsampled, target_upsampled, random_state=12345)\n",
    "    #  возвращаем нужное значение\n",
    "    return features_upsampled, target_upsampled\n",
    "\n",
    "def downsample(features, target, fraction):\n",
    "    features_zeros = features[target == 0]\n",
    "    features_ones = features[target == 1]\n",
    "    target_zeros = target[target == 0]\n",
    "    target_ones = target[target == 1]\n",
    "\n",
    "    features_downsampled = pd.concat(\n",
    "        [features_zeros.sample(frac=fraction, random_state=12345)] + [features_ones])\n",
    "    target_downsampled = pd.concat(\n",
    "        [target_zeros.sample(frac=fraction, random_state=12345)] + [target_ones])\n",
    "    \n",
    "    features_downsampled, target_downsampled = shuffle(\n",
    "        features_downsampled, target_downsampled, random_state=12345)\n",
    "    \n",
    "    return features_downsampled, target_downsampled\n",
    "\n",
    "\n",
    "\n",
    "features_train_downsampled, target_train_downsampled = downsample(features_train, target_train, 0.25)\n",
    "\n",
    "features_train_upsampled, target_train_upsampled = upsample(features_train, target_train, 4)"
   ]
  },
  {
   "cell_type": "code",
   "execution_count": 362,
   "metadata": {},
   "outputs": [
    {
     "data": {
      "text/plain": [
       "1    0.505793\n",
       "0    0.494207\n",
       "Name: exited, dtype: float64"
      ]
     },
     "execution_count": 362,
     "metadata": {},
     "output_type": "execute_result"
    }
   ],
   "source": [
    "target_train_downsampled.value_counts(normalize=1)"
   ]
  },
  {
   "cell_type": "code",
   "execution_count": 363,
   "metadata": {
    "scrolled": true
   },
   "outputs": [
    {
     "data": {
      "text/plain": [
       "1    0.505793\n",
       "0    0.494207\n",
       "Name: exited, dtype: float64"
      ]
     },
     "execution_count": 363,
     "metadata": {},
     "output_type": "execute_result"
    }
   ],
   "source": [
    "target_train_upsampled.value_counts(normalize=1)"
   ]
  },
  {
   "cell_type": "markdown",
   "metadata": {},
   "source": [
    "Для начала, посмотрим какой из методов будет лучше, через подбор параметров достаточно \"простой\" для вычисления модели (*randomforest тут умрет*):"
   ]
  },
  {
   "cell_type": "code",
   "execution_count": 364,
   "metadata": {},
   "outputs": [
    {
     "name": "stdout",
     "output_type": "stream",
     "text": [
      "------------------------------\n",
      "Лучшиe train гиперпараметры:\n",
      "{'clf__criterion': 'gini', 'clf__max_depth': 29, 'clf__splitter': 'random'}\n",
      "------------------------------\n",
      "Лучшая train метрика: \n",
      "0.9307416262553618\n",
      "------------------------------\n",
      "Метрики на valid:\n",
      "precision: 0.6980676328502415; \n",
      "recall: 0.7083333333333334;\n",
      "f1: 0.7031630170316302\n",
      "roc-auc: 0.8149078726968174\n",
      "------------------------------\n"
     ]
    }
   ],
   "source": [
    "params_dtc = {\n",
    "        'clf__splitter': ['best', 'random'], \n",
    "        'clf__max_depth': range(1,100, 4), \n",
    "        'clf__criterion':['gini', 'entropy', 'log_loss']}\n",
    "\n",
    "model = DecisionTreeClassifier(random_state=RANDOM_STATE)\n",
    "\n",
    "model_dtcup = return_best_model(model, params_dtc, features_train_upsampled, target_train_upsampled)\n",
    "\n",
    "print_valid_model(model_dtcup, features_valid, target_valid)"
   ]
  },
  {
   "cell_type": "code",
   "execution_count": 365,
   "metadata": {},
   "outputs": [
    {
     "name": "stdout",
     "output_type": "stream",
     "text": [
      "------------------------------\n",
      "Лучшиe train гиперпараметры:\n",
      "{'clf__criterion': 'gini', 'clf__max_depth': 5, 'clf__splitter': 'best'}\n",
      "------------------------------\n",
      "Лучшая train метрика: \n",
      "0.7674433163867354\n",
      "------------------------------\n",
      "Метрики на valid:\n",
      "precision: 0.43112244897959184; \n",
      "recall: 0.8284313725490197;\n",
      "f1: 0.5671140939597316\n",
      "roc-auc: 0.8447191533648636\n",
      "------------------------------\n"
     ]
    }
   ],
   "source": [
    "params_dtc = {\n",
    "        'clf__splitter': ['best', 'random'], \n",
    "        'clf__max_depth': range(1,100, 4), \n",
    "        'clf__criterion':['gini', 'entropy', 'log_loss']}\n",
    "\n",
    "model = DecisionTreeClassifier(random_state=RANDOM_STATE)\n",
    "\n",
    "model_dtcdown = return_best_model(model, params_dtc, features_train_downsampled, target_train_downsampled)\n",
    "\n",
    "print_valid_model(model_dtcdown, features_valid, target_valid)"
   ]
  },
  {
   "cell_type": "markdown",
   "metadata": {},
   "source": [
    "С `upsampling` у нас возросла полнота нашей модели, но при этом немного упала точность - но на общий взгляд - `f1` тоже увеличилась.\n",
    "\n",
    "С `downsampling` у нас упали практически все показатели (кроме `roc-auc`) - это и не мудрено - *данные на вес золота* - чем их больше в обучении, тем лучше.\n",
    "\n",
    "Учитывая характеристики, будем применять *`upsample`*"
   ]
  },
  {
   "cell_type": "code",
   "execution_count": 367,
   "metadata": {},
   "outputs": [],
   "source": [
    "resup = pd.DataFrame(index = ['dtc','rfc','lr','knn','gbc'], columns=['precision','recall','f1','roc-auc'])"
   ]
  },
  {
   "cell_type": "code",
   "execution_count": 371,
   "metadata": {},
   "outputs": [],
   "source": [
    "model = DecisionTreeClassifier(random_state=RANDOM_STATE)\n",
    "\n",
    "model_dtcup, metrics = return_best_model(model, params_dtc, features_train_upsampled, target_train_upsampled,\n",
    "                             features_valid, target_valid)\n",
    "\n",
    "resup.loc['dtc'] = metrics"
   ]
  },
  {
   "cell_type": "code",
   "execution_count": 372,
   "metadata": {},
   "outputs": [
    {
     "name": "stdout",
     "output_type": "stream",
     "text": [
      "------------------------------\n",
      "Лучшиe train гиперпараметры:\n",
      "{'clf__criterion': 'gini', 'clf__max_depth': 50, 'clf__max_features': 'sqrt', 'clf__max_leaf_nodes': None, 'clf__n_estimators': 50}\n",
      "------------------------------\n",
      "Лучшая train метрика: \n",
      "0.9580880223091434\n",
      "------------------------------\n",
      "Метрики на valid:\n",
      "precision: 0.8076923076923077; \n",
      "recall: 0.7205882352941176;\n",
      "f1: 0.761658031088083\n",
      "roc-auc: 0.9366593999408808\n",
      "------------------------------\n"
     ]
    }
   ],
   "source": [
    "model = RandomForestClassifier(random_state=RANDOM_STATE, n_jobs=-1)\n",
    "model_rfcup, metrics = return_best_model(model, params_rfc, features_train_upsampled, target_train_upsampled, \n",
    "                                         features_valid, target_valid)\n",
    "\n",
    "resup.loc['rfc'] = metrics\n",
    "\n",
    "print_valid_model(model_rfcup, features_valid, target_valid)"
   ]
  },
  {
   "cell_type": "code",
   "execution_count": 373,
   "metadata": {},
   "outputs": [
    {
     "name": "stdout",
     "output_type": "stream",
     "text": [
      "------------------------------\n",
      "Лучшиe train гиперпараметры:\n",
      "{'clf__C': 0.1, 'clf__max_iter': 50, 'clf__penalty': 'l1', 'clf__solver': 'saga'}\n",
      "------------------------------\n",
      "Лучшая train метрика: \n",
      "0.6982417773623957\n",
      "------------------------------\n",
      "Метрики на valid:\n",
      "precision: 0.4005305039787798; \n",
      "recall: 0.7401960784313726;\n",
      "f1: 0.5197934595524957\n",
      "roc-auc: 0.7949089811804119\n",
      "------------------------------\n"
     ]
    }
   ],
   "source": [
    "model = LogisticRegression(random_state=RANDOM_STATE)\n",
    "\n",
    "model_lrup, metrics = return_best_model(model, params_lr, features_train_upsampled, target_train_upsampled,\n",
    "                             features_valid, target_valid)\n",
    "\n",
    "resup.loc['lr'] = metrics\n",
    "print_valid_model(model_lrup, features_valid, target_valid)"
   ]
  },
  {
   "cell_type": "code",
   "execution_count": 374,
   "metadata": {},
   "outputs": [
    {
     "name": "stdout",
     "output_type": "stream",
     "text": [
      "------------------------------\n",
      "Лучшиe train гиперпараметры:\n",
      "{'clf__algorithm': 'auto', 'clf__n_neighbors': 50, 'clf__weights': 'distance'}\n",
      "------------------------------\n",
      "Лучшая train метрика: \n",
      "0.9040701396603579\n",
      "------------------------------\n",
      "Метрики на valid:\n",
      "precision: 0.6105072463768116; \n",
      "recall: 0.8259803921568627;\n",
      "f1: 0.7020833333333333\n",
      "roc-auc: 0.9344008646172037\n",
      "------------------------------\n"
     ]
    }
   ],
   "source": [
    "model = KNeighborsClassifier(n_jobs=1)\n",
    "\n",
    "model_knnup, metrics = return_best_model(model, params_knn, features_train_upsampled, target_train_upsampled,\n",
    "                             features_valid, target_valid)\n",
    "\n",
    "resup.loc['knn'] = metrics\n",
    "print_valid_model(model_knnup, features_valid, target_valid)"
   ]
  },
  {
   "cell_type": "code",
   "execution_count": 376,
   "metadata": {},
   "outputs": [
    {
     "name": "stdout",
     "output_type": "stream",
     "text": [
      "------------------------------\n",
      "Лучшиe train гиперпараметры:\n",
      "{'clf__learning_rate': 0.1, 'clf__max_depth': 10, 'clf__n_estimators': 100}\n",
      "------------------------------\n",
      "Лучшая train метрика: \n",
      "0.9554802387894693\n",
      "------------------------------\n",
      "Метрики на valid:\n",
      "precision: 0.7936507936507936; \n",
      "recall: 0.7352941176470589;\n",
      "f1: 0.7633587786259542\n",
      "roc-auc: 0.9191207261799192\n",
      "------------------------------\n"
     ]
    }
   ],
   "source": [
    "model = GradientBoostingClassifier(random_state=RANDOM_STATE)\n",
    "\n",
    "model_gbcup, metrics = return_best_model(model, params_gbc, features_train_upsampled, target_train_upsampled,\n",
    "                             features_valid, target_valid)\n",
    "\n",
    "resup.loc['gbc'] = metrics\n",
    "print_valid_model(model_gbcup, features_valid, target_valid)"
   ]
  },
  {
   "cell_type": "code",
   "execution_count": 378,
   "metadata": {},
   "outputs": [
    {
     "data": {
      "text/html": [
       "<div>\n",
       "<style scoped>\n",
       "    .dataframe tbody tr th:only-of-type {\n",
       "        vertical-align: middle;\n",
       "    }\n",
       "\n",
       "    .dataframe tbody tr th {\n",
       "        vertical-align: top;\n",
       "    }\n",
       "\n",
       "    .dataframe thead th {\n",
       "        text-align: right;\n",
       "    }\n",
       "</style>\n",
       "<table border=\"1\" class=\"dataframe\">\n",
       "  <thead>\n",
       "    <tr style=\"text-align: right;\">\n",
       "      <th></th>\n",
       "      <th>precision</th>\n",
       "      <th>recall</th>\n",
       "      <th>f1</th>\n",
       "      <th>roc-auc</th>\n",
       "    </tr>\n",
       "  </thead>\n",
       "  <tbody>\n",
       "    <tr>\n",
       "      <th>gbc</th>\n",
       "      <td>0.793651</td>\n",
       "      <td>0.735294</td>\n",
       "      <td>0.763359</td>\n",
       "      <td>0.919121</td>\n",
       "    </tr>\n",
       "    <tr>\n",
       "      <th>rfc</th>\n",
       "      <td>0.807692</td>\n",
       "      <td>0.720588</td>\n",
       "      <td>0.761658</td>\n",
       "      <td>0.936659</td>\n",
       "    </tr>\n",
       "    <tr>\n",
       "      <th>dtc</th>\n",
       "      <td>0.698068</td>\n",
       "      <td>0.708333</td>\n",
       "      <td>0.703163</td>\n",
       "      <td>0.814908</td>\n",
       "    </tr>\n",
       "    <tr>\n",
       "      <th>knn</th>\n",
       "      <td>0.610507</td>\n",
       "      <td>0.82598</td>\n",
       "      <td>0.702083</td>\n",
       "      <td>0.934401</td>\n",
       "    </tr>\n",
       "    <tr>\n",
       "      <th>lr</th>\n",
       "      <td>0.400531</td>\n",
       "      <td>0.740196</td>\n",
       "      <td>0.519793</td>\n",
       "      <td>0.794909</td>\n",
       "    </tr>\n",
       "  </tbody>\n",
       "</table>\n",
       "</div>"
      ],
      "text/plain": [
       "    precision    recall        f1   roc-auc\n",
       "gbc  0.793651  0.735294  0.763359  0.919121\n",
       "rfc  0.807692  0.720588  0.761658  0.936659\n",
       "dtc  0.698068  0.708333  0.703163  0.814908\n",
       "knn  0.610507   0.82598  0.702083  0.934401\n",
       "lr   0.400531  0.740196  0.519793  0.794909"
      ]
     },
     "execution_count": 378,
     "metadata": {},
     "output_type": "execute_result"
    }
   ],
   "source": [
    "resup.sort_values('f1',ascending=False)"
   ]
  },
  {
   "cell_type": "markdown",
   "metadata": {},
   "source": [
    "Здесь лучше всего себя показала модель градиентного бустинга - ее мы и будем проверять на тестовых данных. Остальные модели показали примерно соотносимое качество - у всех выросла и точность, и полнота, по сравнению с необработанными данными."
   ]
  },
  {
   "cell_type": "code",
   "execution_count": 381,
   "metadata": {},
   "outputs": [
    {
     "data": {
      "image/png": "[encoded data removed]",
      "text/plain": [
       "<Figure size 896x672 with 1 Axes>"
      ]
     },
     "metadata": {},
     "output_type": "display_data"
    }
   ],
   "source": [
    "cmap = sns.color_palette(\"Pastel2\")\n",
    "metrics = ('precision','recall','f1','roc-auc')\n",
    "models = {\n",
    "    'dtc': tuple(resup.values[0]),\n",
    "    'rfc': tuple(resup.values[1]),\n",
    "    'lr': tuple(resup.values[2]),\n",
    "    'knn': tuple(resup.values[3]),\n",
    "    'gbc': tuple(resup.values[4])\n",
    "}\n",
    "\n",
    "x = np.arange(len(metrics))  # the label locations\n",
    "width = 0.15  # the width of the bars\n",
    "multiplier = 0\n",
    "\n",
    "fig, ax = plt.subplots(layout='constrained')\n",
    "\n",
    "for attribute, measurement in models.items():\n",
    "    sns.color_palette(\"Pastel2\")\n",
    "    offset = width * multiplier\n",
    "    rects = ax.bar(x + offset, measurement, width, label=attribute, color=cmap[multiplier])\n",
    "    ax.bar_label(rects, padding=3, rotation=90)\n",
    "    multiplier += 1\n",
    "\n",
    "# Add some text for labels, title and custom x-axis tick labels, etc.\n",
    "ax.set_ylabel('metrics')\n",
    "ax.set_title('metrics for different models after upsampling')\n",
    "ax.set_xticks(x + width*2, metrics)\n",
    "ax.legend(loc='upper left', ncols=3)\n",
    "ax.set_ylim(0, 1.5)\n",
    "plt.show()"
   ]
  },
  {
   "cell_type": "markdown",
   "metadata": {},
   "source": [
    "Наглядно видно, что 2 самые точные модели - `RandomForestClassifier` и `GradientBoostingClassifier`. У обеих моделей показатели находятся примерно на одном уровне с разницей в сотых. Неожиданно отличися `KNN` при вычислении `recall` - следовательно, можно сделать вывод, что если у нас в задаче необходима максимизация `recall` - то можно будет попробовать `KNN`. В итоге будем сравнивать 2 модели: `RandomForestClassifier` и `GradientBoostingClassifier`."
   ]
  },
  {
   "cell_type": "markdown",
   "metadata": {},
   "source": [
    "# Тестирование модели:"
   ]
  },
  {
   "cell_type": "code",
   "execution_count": 382,
   "metadata": {},
   "outputs": [],
   "source": [
    "res_fin = pd.DataFrame(index=['dummy','constant','gbc','rfc'], columns=['precision','recall','f1','roc-auc'])"
   ]
  },
  {
   "cell_type": "markdown",
   "metadata": {},
   "source": [
    "Проверим модель на адекватность - сравним её с константной моделью и с Dummy-предсказателем:"
   ]
  },
  {
   "cell_type": "code",
   "execution_count": 383,
   "metadata": {},
   "outputs": [
    {
     "data": {
      "text/html": [
       "<div>\n",
       "<style scoped>\n",
       "    .dataframe tbody tr th:only-of-type {\n",
       "        vertical-align: middle;\n",
       "    }\n",
       "\n",
       "    .dataframe tbody tr th {\n",
       "        vertical-align: top;\n",
       "    }\n",
       "\n",
       "    .dataframe thead th {\n",
       "        text-align: right;\n",
       "    }\n",
       "</style>\n",
       "<table border=\"1\" class=\"dataframe\">\n",
       "  <thead>\n",
       "    <tr style=\"text-align: right;\">\n",
       "      <th></th>\n",
       "      <th>precision</th>\n",
       "      <th>recall</th>\n",
       "      <th>f1</th>\n",
       "      <th>roc-auc</th>\n",
       "    </tr>\n",
       "  </thead>\n",
       "  <tbody>\n",
       "    <tr>\n",
       "      <th>gbc</th>\n",
       "      <td>0.632385</td>\n",
       "      <td>0.56778</td>\n",
       "      <td>0.598344</td>\n",
       "      <td>0.839068</td>\n",
       "    </tr>\n",
       "    <tr>\n",
       "      <th>rfc</th>\n",
       "      <td>0.641509</td>\n",
       "      <td>0.534381</td>\n",
       "      <td>0.583065</td>\n",
       "      <td>0.856569</td>\n",
       "    </tr>\n",
       "    <tr>\n",
       "      <th>dummy</th>\n",
       "      <td>0.2036</td>\n",
       "      <td>1.0</td>\n",
       "      <td>0.338318</td>\n",
       "      <td>0.5</td>\n",
       "    </tr>\n",
       "    <tr>\n",
       "      <th>constant</th>\n",
       "      <td>0.0</td>\n",
       "      <td>0.0</td>\n",
       "      <td>0.0</td>\n",
       "      <td>0.5</td>\n",
       "    </tr>\n",
       "  </tbody>\n",
       "</table>\n",
       "</div>"
      ],
      "text/plain": [
       "         precision    recall        f1   roc-auc\n",
       "gbc       0.632385   0.56778  0.598344  0.839068\n",
       "rfc       0.641509  0.534381  0.583065  0.856569\n",
       "dummy       0.2036       1.0  0.338318       0.5\n",
       "constant       0.0       0.0       0.0       0.5"
      ]
     },
     "execution_count": 383,
     "metadata": {},
     "output_type": "execute_result"
    }
   ],
   "source": [
    "dummy_regr = DummyRegressor(strategy=\"median\").fit(features_train_upsampled, target_train_upsampled)\n",
    "res_fin.loc['dummy','precision'] = precision_score(target_test, dummy_regr.predict(features_test))\n",
    "res_fin.loc['dummy','recall'] = recall_score(target_test, dummy_regr.predict(features_test))\n",
    "res_fin.loc['dummy','f1'] = f1_score(target_test, dummy_regr.predict(features_test))\n",
    "res_fin.loc['dummy','roc-auc'] = roc_auc_score(target_test, dummy_regr.predict(features_test))\n",
    "\n",
    "\n",
    "constant_model = pd.Series([0]*len(target_test))\n",
    "res_fin.loc['constant','precision'] = precision_score(target_test, constant_model)\n",
    "res_fin.loc['constant','recall'] = recall_score(target_test, constant_model)\n",
    "res_fin.loc['constant','f1'] = f1_score(target_test, constant_model)\n",
    "res_fin.loc['constant','roc-auc'] = roc_auc_score(target_test, constant_model)\n",
    "\n",
    "res_fin.loc['gbc','precision'] = precision_score(target_test, model_gbcup.predict(features_test))\n",
    "res_fin.loc['gbc','recall'] = recall_score(target_test, model_gbcup.predict(features_test))\n",
    "res_fin.loc['gbc','f1'] = f1_score(target_test, model_gbcup.predict(features_test))\n",
    "res_fin.loc['gbc','roc-auc'] = roc_auc_score(target_test, model_gbcup.predict_proba(features_test)[:,1])\n",
    "\n",
    "res_fin.loc['rfc','precision'] = precision_score(target_test, model_rfcup.predict(features_test))\n",
    "res_fin.loc['rfc','recall'] = recall_score(target_test, model_rfcup.predict(features_test))\n",
    "res_fin.loc['rfc','f1'] = f1_score(target_test, model_rfcup.predict(features_test))\n",
    "res_fin.loc['rfc','roc-auc'] = roc_auc_score(target_test, model_rfcup.predict_proba(features_test)[:,1])\n",
    "\n",
    "res_fin.sort_values('f1',ascending=False)"
   ]
  },
  {
   "cell_type": "code",
   "execution_count": 386,
   "metadata": {},
   "outputs": [
    {
     "name": "stdout",
     "output_type": "stream",
     "text": [
      "AUC-ROC: 0.8390675525128304\n"
     ]
    },
    {
     "data": {
      "image/png": "[encoded data removed]",
      "text/plain": [
       "<Figure size 1000x1000 with 1 Axes>"
      ]
     },
     "metadata": {},
     "output_type": "display_data"
    }
   ],
   "source": [
    "ftt(model_gbcup, features_test, target_test)"
   ]
  },
  {
   "cell_type": "markdown",
   "metadata": {},
   "source": [
    "Несмотря на то, что RandomForestClassifier определяет классы немного лучше (`roc-auc-rfc` = 0.856 > `roc-auc-gbc` = 0.839), оцениваем мы по `f1`, поэтому остановимся на `GradientBoostingClassifier` \n",
    "\n",
    "Показатели финальной модели лучше, чем и у константной модели, и у dummy-классификатора, следовательно, проверка на адекватность модели успешно пройдена, F1 меры > 0.59 мы также добились."
   ]
  },
  {
   "cell_type": "code",
   "execution_count": 390,
   "metadata": {},
   "outputs": [
    {
     "data": {
      "text/html": [
       "<div>\n",
       "<style scoped>\n",
       "    .dataframe tbody tr th:only-of-type {\n",
       "        vertical-align: middle;\n",
       "    }\n",
       "\n",
       "    .dataframe tbody tr th {\n",
       "        vertical-align: top;\n",
       "    }\n",
       "\n",
       "    .dataframe thead th {\n",
       "        text-align: right;\n",
       "    }\n",
       "</style>\n",
       "<table border=\"1\" class=\"dataframe\">\n",
       "  <thead>\n",
       "    <tr style=\"text-align: right;\">\n",
       "      <th></th>\n",
       "      <th>precision</th>\n",
       "      <th>recall</th>\n",
       "      <th>f1</th>\n",
       "      <th>roc-auc</th>\n",
       "    </tr>\n",
       "  </thead>\n",
       "  <tbody>\n",
       "    <tr>\n",
       "      <th>gbc</th>\n",
       "      <td>0.632385</td>\n",
       "      <td>0.56778</td>\n",
       "      <td>0.598344</td>\n",
       "      <td>0.839068</td>\n",
       "    </tr>\n",
       "    <tr>\n",
       "      <th>rfc</th>\n",
       "      <td>0.641509</td>\n",
       "      <td>0.534381</td>\n",
       "      <td>0.583065</td>\n",
       "      <td>0.856569</td>\n",
       "    </tr>\n",
       "    <tr>\n",
       "      <th>dummy</th>\n",
       "      <td>0.2036</td>\n",
       "      <td>1.0</td>\n",
       "      <td>0.338318</td>\n",
       "      <td>0.5</td>\n",
       "    </tr>\n",
       "    <tr>\n",
       "      <th>constant</th>\n",
       "      <td>0.0</td>\n",
       "      <td>0.0</td>\n",
       "      <td>0.0</td>\n",
       "      <td>0.5</td>\n",
       "    </tr>\n",
       "  </tbody>\n",
       "</table>\n",
       "</div>"
      ],
      "text/plain": [
       "         precision    recall        f1   roc-auc\n",
       "gbc       0.632385   0.56778  0.598344  0.839068\n",
       "rfc       0.641509  0.534381  0.583065  0.856569\n",
       "dummy       0.2036       1.0  0.338318       0.5\n",
       "constant       0.0       0.0       0.0       0.5"
      ]
     },
     "execution_count": 390,
     "metadata": {},
     "output_type": "execute_result"
    }
   ],
   "source": [
    "res_fin.sort_values('f1',ascending=False)"
   ]
  },
  {
   "cell_type": "markdown",
   "metadata": {},
   "source": [
    "# Выводы\n",
    "\n",
    "В первоначальных данных наблюдался значительный дисбаланс (80% ответов целевого признака были негативными и только 20% позитивными), из-за чего обученные на этих данных модели не проходили проверку на адекватность.\n",
    "\n",
    "На первоначальных данных все модели показали достаточно низкие результаты вычислений полноты, точности и других метрик качества, после устранения дисбаланса классов техникой upsampling все модели показали результат выше, чем на несбалансированной выборке. Лучшие показатели были у модели `GradientBoosting(lr=0.1, max_depth=10, n_estimators=100)`:\n",
    "\n",
    "- Полнота: 0.56778; \n",
    "- Точность: 0.632385;\n",
    "- f1-мера: 0.598344\n",
    "\n",
    "Финальная модель прошла проверку на адекватность в сравнении с контантной моделью: \n",
    "\n",
    "- f1 константной модели: 0.0\n",
    "- f1 dummy-модели: 0.33818\n",
    "- f1 gbc: 0.598344\n",
    "\n",
    "- AUC-ROC константой модели: 0.5\n",
    "- AUC-ROC dummy-модели: 0.5\n",
    "- AUC-ROC gbc: 0.839068"
   ]
  }
 ],
 "metadata": {
  "ExecuteTimeLog": [
   {
    "duration": 327,
    "start_time": "2023-06-06T21:25:22.450Z"
   },
   {
    "duration": 97,
    "start_time": "2023-06-06T21:27:21.751Z"
   },
   {
    "duration": 23,
    "start_time": "2023-06-06T21:27:27.310Z"
   },
   {
    "duration": 19,
    "start_time": "2023-06-06T21:27:31.634Z"
   },
   {
    "duration": 12,
    "start_time": "2023-06-06T21:27:52.444Z"
   },
   {
    "duration": 6,
    "start_time": "2023-06-06T21:28:37.205Z"
   },
   {
    "duration": 26,
    "start_time": "2023-06-06T21:29:07.307Z"
   },
   {
    "duration": 13,
    "start_time": "2023-06-06T21:29:53.151Z"
   },
   {
    "duration": 7,
    "start_time": "2023-06-06T21:34:05.938Z"
   },
   {
    "duration": 19,
    "start_time": "2023-06-06T21:34:07.720Z"
   },
   {
    "duration": 15,
    "start_time": "2023-06-06T21:35:44.738Z"
   },
   {
    "duration": 14,
    "start_time": "2023-06-06T21:35:58.349Z"
   },
   {
    "duration": 652,
    "start_time": "2023-06-06T21:39:13.512Z"
   },
   {
    "duration": 3,
    "start_time": "2023-06-06T21:40:38.444Z"
   },
   {
    "duration": 114,
    "start_time": "2023-06-06T21:44:15.911Z"
   },
   {
    "duration": 8,
    "start_time": "2023-06-06T21:44:18.625Z"
   },
   {
    "duration": 8,
    "start_time": "2023-06-06T21:44:21.361Z"
   },
   {
    "duration": 4,
    "start_time": "2023-06-06T21:44:23.148Z"
   },
   {
    "duration": 4,
    "start_time": "2023-06-06T21:44:25.781Z"
   },
   {
    "duration": 4,
    "start_time": "2023-06-06T21:44:49.470Z"
   },
   {
    "duration": 5,
    "start_time": "2023-06-06T21:44:55.243Z"
   },
   {
    "duration": 43,
    "start_time": "2023-06-06T21:45:57.013Z"
   },
   {
    "duration": 19,
    "start_time": "2023-06-06T21:46:00.781Z"
   },
   {
    "duration": 15,
    "start_time": "2023-06-06T21:46:57.415Z"
   },
   {
    "duration": 8,
    "start_time": "2023-06-06T21:47:07.231Z"
   },
   {
    "duration": 13,
    "start_time": "2023-06-06T21:47:08.914Z"
   },
   {
    "duration": 5,
    "start_time": "2023-06-06T21:47:14.721Z"
   },
   {
    "duration": 22,
    "start_time": "2023-06-06T21:47:17.253Z"
   },
   {
    "duration": 5,
    "start_time": "2023-06-06T21:47:19.360Z"
   },
   {
    "duration": 10,
    "start_time": "2023-06-06T21:47:21.708Z"
   },
   {
    "duration": 4,
    "start_time": "2023-06-06T21:47:58.577Z"
   },
   {
    "duration": 1212,
    "start_time": "2023-06-07T11:20:43.247Z"
   },
   {
    "duration": 169,
    "start_time": "2023-06-07T11:20:45.512Z"
   },
   {
    "duration": 40,
    "start_time": "2023-06-07T11:20:47.067Z"
   },
   {
    "duration": 6,
    "start_time": "2023-06-07T11:20:53.631Z"
   },
   {
    "duration": 15,
    "start_time": "2023-06-07T11:22:34.057Z"
   },
   {
    "duration": 12,
    "start_time": "2023-06-07T11:22:38.647Z"
   },
   {
    "duration": 4,
    "start_time": "2023-06-07T11:23:25.000Z"
   },
   {
    "duration": 15,
    "start_time": "2023-06-07T11:23:25.756Z"
   },
   {
    "duration": 8,
    "start_time": "2023-06-07T11:23:42.944Z"
   },
   {
    "duration": 25,
    "start_time": "2023-06-07T11:23:46.047Z"
   },
   {
    "duration": 11,
    "start_time": "2023-06-07T11:23:47.959Z"
   },
   {
    "duration": 22,
    "start_time": "2023-06-07T11:28:40.847Z"
   },
   {
    "duration": 7,
    "start_time": "2023-06-07T11:28:53.871Z"
   },
   {
    "duration": 3,
    "start_time": "2023-06-07T11:29:33.016Z"
   },
   {
    "duration": 6,
    "start_time": "2023-06-07T11:29:34.476Z"
   },
   {
    "duration": 1019,
    "start_time": "2023-06-10T14:12:28.335Z"
   },
   {
    "duration": 164,
    "start_time": "2023-06-10T14:12:30.009Z"
   },
   {
    "duration": 20,
    "start_time": "2023-06-10T14:12:31.101Z"
   },
   {
    "duration": 11,
    "start_time": "2023-06-10T14:12:32.909Z"
   },
   {
    "duration": 4,
    "start_time": "2023-06-10T14:12:34.502Z"
   },
   {
    "duration": 10,
    "start_time": "2023-06-10T14:12:35.376Z"
   },
   {
    "duration": 6,
    "start_time": "2023-06-10T14:12:36.905Z"
   },
   {
    "duration": 16,
    "start_time": "2023-06-10T14:12:37.968Z"
   },
   {
    "duration": 5,
    "start_time": "2023-06-10T14:12:40.392Z"
   },
   {
    "duration": 3,
    "start_time": "2023-06-10T14:12:42.700Z"
   },
   {
    "duration": 6,
    "start_time": "2023-06-10T14:12:43.848Z"
   },
   {
    "duration": 11,
    "start_time": "2023-06-10T14:12:46.052Z"
   },
   {
    "duration": 93,
    "start_time": "2023-06-10T14:18:05.772Z"
   },
   {
    "duration": 5,
    "start_time": "2023-06-10T14:20:52.568Z"
   },
   {
    "duration": 5,
    "start_time": "2023-06-10T14:21:35.187Z"
   },
   {
    "duration": 15,
    "start_time": "2023-06-10T14:21:42.239Z"
   },
   {
    "duration": 4,
    "start_time": "2023-06-10T14:21:46.185Z"
   },
   {
    "duration": 15,
    "start_time": "2023-06-10T14:21:54.402Z"
   },
   {
    "duration": 4,
    "start_time": "2023-06-10T14:22:45.502Z"
   },
   {
    "duration": 5,
    "start_time": "2023-06-10T14:22:51.457Z"
   },
   {
    "duration": 4,
    "start_time": "2023-06-10T14:23:09.573Z"
   },
   {
    "duration": 5,
    "start_time": "2023-06-10T14:24:02.740Z"
   },
   {
    "duration": 5,
    "start_time": "2023-06-10T14:24:11.039Z"
   },
   {
    "duration": 4,
    "start_time": "2023-06-10T14:24:15.632Z"
   },
   {
    "duration": 5,
    "start_time": "2023-06-10T14:24:25.208Z"
   },
   {
    "duration": 13,
    "start_time": "2023-06-10T14:24:40.517Z"
   },
   {
    "duration": 14,
    "start_time": "2023-06-10T14:24:47.813Z"
   },
   {
    "duration": 6,
    "start_time": "2023-06-10T14:26:06.855Z"
   },
   {
    "duration": 14,
    "start_time": "2023-06-10T14:26:09.005Z"
   },
   {
    "duration": 3,
    "start_time": "2023-06-10T14:26:30.571Z"
   },
   {
    "duration": 2,
    "start_time": "2023-06-10T14:26:35.780Z"
   },
   {
    "duration": 36,
    "start_time": "2023-06-10T14:26:36.348Z"
   },
   {
    "duration": 13,
    "start_time": "2023-06-10T14:26:36.889Z"
   },
   {
    "duration": 11,
    "start_time": "2023-06-10T14:26:38.897Z"
   },
   {
    "duration": 4,
    "start_time": "2023-06-10T14:26:40.085Z"
   },
   {
    "duration": 10,
    "start_time": "2023-06-10T14:26:40.760Z"
   },
   {
    "duration": 9,
    "start_time": "2023-06-10T14:26:42.379Z"
   },
   {
    "duration": 17,
    "start_time": "2023-06-10T14:26:43.792Z"
   },
   {
    "duration": 5,
    "start_time": "2023-06-10T14:26:44.480Z"
   },
   {
    "duration": 4,
    "start_time": "2023-06-10T14:26:45.654Z"
   },
   {
    "duration": 7,
    "start_time": "2023-06-10T14:26:46.274Z"
   },
   {
    "duration": 9,
    "start_time": "2023-06-10T14:26:48.784Z"
   },
   {
    "duration": 9,
    "start_time": "2023-06-10T14:26:50.131Z"
   },
   {
    "duration": 4,
    "start_time": "2023-06-10T14:26:50.692Z"
   },
   {
    "duration": 16,
    "start_time": "2023-06-10T14:28:21.201Z"
   },
   {
    "duration": 668,
    "start_time": "2023-06-10T14:28:35.429Z"
   },
   {
    "duration": 741,
    "start_time": "2023-06-10T14:28:52.169Z"
   },
   {
    "duration": 717,
    "start_time": "2023-06-10T14:29:10.001Z"
   },
   {
    "duration": 684,
    "start_time": "2023-06-10T14:29:13.321Z"
   },
   {
    "duration": 681,
    "start_time": "2023-06-10T14:29:16.183Z"
   },
   {
    "duration": 3,
    "start_time": "2023-06-10T14:29:27.294Z"
   },
   {
    "duration": 43,
    "start_time": "2023-06-10T22:24:05.239Z"
   },
   {
    "duration": 1102,
    "start_time": "2023-06-10T22:24:11.297Z"
   },
   {
    "duration": 96,
    "start_time": "2023-06-10T22:24:14.981Z"
   },
   {
    "duration": 27,
    "start_time": "2023-06-10T22:24:16.341Z"
   },
   {
    "duration": 13,
    "start_time": "2023-06-10T22:24:21.220Z"
   },
   {
    "duration": 3,
    "start_time": "2023-06-10T22:24:22.963Z"
   },
   {
    "duration": 16,
    "start_time": "2023-06-10T22:24:23.877Z"
   },
   {
    "duration": 6,
    "start_time": "2023-06-10T22:24:25.701Z"
   },
   {
    "duration": 17,
    "start_time": "2023-06-10T22:24:26.702Z"
   },
   {
    "duration": 5,
    "start_time": "2023-06-10T22:24:29.216Z"
   },
   {
    "duration": 4,
    "start_time": "2023-06-10T22:24:31.190Z"
   },
   {
    "duration": 9,
    "start_time": "2023-06-10T22:24:31.808Z"
   },
   {
    "duration": 14,
    "start_time": "2023-06-10T22:24:32.438Z"
   },
   {
    "duration": 14,
    "start_time": "2023-06-10T22:24:34.700Z"
   },
   {
    "duration": 4,
    "start_time": "2023-06-10T22:24:35.412Z"
   },
   {
    "duration": 5,
    "start_time": "2023-06-10T22:24:35.765Z"
   },
   {
    "duration": 1513,
    "start_time": "2023-06-10T22:25:45.956Z"
   },
   {
    "duration": 4,
    "start_time": "2023-06-10T22:26:40.957Z"
   },
   {
    "duration": 2,
    "start_time": "2023-06-10T22:29:33.624Z"
   },
   {
    "duration": 3,
    "start_time": "2023-06-10T22:31:36.645Z"
   },
   {
    "duration": 10,
    "start_time": "2023-06-10T22:32:21.579Z"
   },
   {
    "duration": 14,
    "start_time": "2023-06-10T22:32:52.615Z"
   },
   {
    "duration": 5,
    "start_time": "2023-06-10T22:33:00.237Z"
   },
   {
    "duration": 10,
    "start_time": "2023-06-10T22:33:02.041Z"
   },
   {
    "duration": 8,
    "start_time": "2023-06-10T22:36:05.337Z"
   },
   {
    "duration": 16,
    "start_time": "2023-06-10T22:36:08.190Z"
   },
   {
    "duration": 3,
    "start_time": "2023-06-10T22:36:24.220Z"
   },
   {
    "duration": 7769,
    "start_time": "2023-06-10T22:36:28.960Z"
   },
   {
    "duration": 3,
    "start_time": "2023-06-10T22:37:02.832Z"
   },
   {
    "duration": 69646,
    "start_time": "2023-06-10T22:37:22.557Z"
   },
   {
    "duration": 157946,
    "start_time": "2023-06-10T22:39:16.047Z"
   },
   {
    "duration": 0,
    "start_time": "2023-06-10T22:41:53.996Z"
   },
   {
    "duration": 3,
    "start_time": "2023-06-10T22:42:11.468Z"
   },
   {
    "duration": 1187,
    "start_time": "2023-06-11T08:49:09.904Z"
   },
   {
    "duration": 99,
    "start_time": "2023-06-11T08:49:12.471Z"
   },
   {
    "duration": 25,
    "start_time": "2023-06-11T08:49:13.279Z"
   },
   {
    "duration": 13,
    "start_time": "2023-06-11T08:49:14.698Z"
   },
   {
    "duration": 4,
    "start_time": "2023-06-11T08:49:15.848Z"
   },
   {
    "duration": 13,
    "start_time": "2023-06-11T08:49:16.218Z"
   },
   {
    "duration": 10,
    "start_time": "2023-06-11T08:49:16.914Z"
   },
   {
    "duration": 19,
    "start_time": "2023-06-11T08:49:17.250Z"
   },
   {
    "duration": 6,
    "start_time": "2023-06-11T08:49:17.598Z"
   },
   {
    "duration": 3,
    "start_time": "2023-06-11T08:49:18.351Z"
   },
   {
    "duration": 7,
    "start_time": "2023-06-11T08:49:18.686Z"
   },
   {
    "duration": 13,
    "start_time": "2023-06-11T08:49:19.044Z"
   },
   {
    "duration": 11,
    "start_time": "2023-06-11T08:49:20.658Z"
   },
   {
    "duration": 4,
    "start_time": "2023-06-11T08:49:21.224Z"
   },
   {
    "duration": 5,
    "start_time": "2023-06-11T08:49:21.620Z"
   },
   {
    "duration": 12,
    "start_time": "2023-06-11T08:49:22.623Z"
   },
   {
    "duration": 4,
    "start_time": "2023-06-11T08:49:23.180Z"
   },
   {
    "duration": 8742,
    "start_time": "2023-06-11T08:49:26.391Z"
   },
   {
    "duration": 80880,
    "start_time": "2023-06-11T08:49:37.496Z"
   },
   {
    "duration": 98501,
    "start_time": "2023-06-11T08:51:31.283Z"
   },
   {
    "duration": 13,
    "start_time": "2023-06-11T08:56:12.198Z"
   },
   {
    "duration": 15962,
    "start_time": "2023-06-11T08:56:24.204Z"
   },
   {
    "duration": 1432,
    "start_time": "2023-06-11T08:56:43.821Z"
   },
   {
    "duration": 16608,
    "start_time": "2023-06-11T08:56:59.550Z"
   },
   {
    "duration": 9,
    "start_time": "2023-06-11T09:02:32.388Z"
   },
   {
    "duration": 18,
    "start_time": "2023-06-11T09:02:56.557Z"
   },
   {
    "duration": 15,
    "start_time": "2023-06-11T09:05:46.434Z"
   },
   {
    "duration": 16,
    "start_time": "2023-06-11T09:05:56.372Z"
   },
   {
    "duration": 21,
    "start_time": "2023-06-11T09:06:33.718Z"
   },
   {
    "duration": 22,
    "start_time": "2023-06-11T09:06:34.976Z"
   },
   {
    "duration": 22,
    "start_time": "2023-06-11T09:07:20.148Z"
   },
   {
    "duration": 6,
    "start_time": "2023-06-11T09:12:21.844Z"
   },
   {
    "duration": 18,
    "start_time": "2023-06-11T09:13:21.402Z"
   },
   {
    "duration": 981,
    "start_time": "2023-06-11T09:16:08.574Z"
   },
   {
    "duration": 26,
    "start_time": "2023-06-11T09:17:00.327Z"
   },
   {
    "duration": 581,
    "start_time": "2023-06-11T09:17:22.816Z"
   },
   {
    "duration": 26,
    "start_time": "2023-06-11T09:17:24.411Z"
   },
   {
    "duration": 969,
    "start_time": "2023-06-11T09:17:32.778Z"
   },
   {
    "duration": 31,
    "start_time": "2023-06-11T09:17:35.180Z"
   },
   {
    "duration": 12,
    "start_time": "2023-06-11T09:18:13.199Z"
   },
   {
    "duration": 20,
    "start_time": "2023-06-11T09:18:18.534Z"
   },
   {
    "duration": 4,
    "start_time": "2023-06-11T09:18:19.468Z"
   },
   {
    "duration": 12,
    "start_time": "2023-06-11T09:18:44.729Z"
   },
   {
    "duration": 3,
    "start_time": "2023-06-11T09:18:45.280Z"
   },
   {
    "duration": 948,
    "start_time": "2023-06-11T09:18:53.786Z"
   },
   {
    "duration": 27,
    "start_time": "2023-06-11T09:18:56.282Z"
   },
   {
    "duration": 30,
    "start_time": "2023-06-11T09:20:43.098Z"
   },
   {
    "duration": 18,
    "start_time": "2023-06-11T09:20:44.174Z"
   },
   {
    "duration": 17,
    "start_time": "2023-06-11T09:20:46.774Z"
   },
   {
    "duration": 4,
    "start_time": "2023-06-11T09:20:48.494Z"
   },
   {
    "duration": 979,
    "start_time": "2023-06-11T09:20:49.146Z"
   },
   {
    "duration": 28,
    "start_time": "2023-06-11T09:20:51.466Z"
   },
   {
    "duration": 20,
    "start_time": "2023-06-11T09:23:21.373Z"
   },
   {
    "duration": 5,
    "start_time": "2023-06-11T09:23:37.618Z"
   },
   {
    "duration": 1096,
    "start_time": "2023-06-11T13:41:00.896Z"
   },
   {
    "duration": 165,
    "start_time": "2023-06-11T13:41:03.075Z"
   },
   {
    "duration": 30,
    "start_time": "2023-06-11T13:41:04.074Z"
   },
   {
    "duration": 16,
    "start_time": "2023-06-11T13:41:04.689Z"
   },
   {
    "duration": 4,
    "start_time": "2023-06-11T13:41:06.269Z"
   },
   {
    "duration": 12,
    "start_time": "2023-06-11T13:41:06.773Z"
   },
   {
    "duration": 6,
    "start_time": "2023-06-11T13:41:08.062Z"
   },
   {
    "duration": 18,
    "start_time": "2023-06-11T13:41:08.617Z"
   },
   {
    "duration": 5,
    "start_time": "2023-06-11T13:41:09.277Z"
   },
   {
    "duration": 3,
    "start_time": "2023-06-11T13:41:10.309Z"
   },
   {
    "duration": 7,
    "start_time": "2023-06-11T13:41:10.761Z"
   },
   {
    "duration": 11,
    "start_time": "2023-06-11T13:41:12.607Z"
   },
   {
    "duration": 10,
    "start_time": "2023-06-11T13:41:15.607Z"
   },
   {
    "duration": 3,
    "start_time": "2023-06-11T13:41:16.958Z"
   },
   {
    "duration": 5,
    "start_time": "2023-06-11T13:41:17.785Z"
   },
   {
    "duration": 11,
    "start_time": "2023-06-11T13:41:20.875Z"
   },
   {
    "duration": 3,
    "start_time": "2023-06-11T13:41:24.709Z"
   },
   {
    "duration": 29,
    "start_time": "2023-06-11T13:41:29.913Z"
   },
   {
    "duration": 18,
    "start_time": "2023-06-11T13:41:32.394Z"
   },
   {
    "duration": 4,
    "start_time": "2023-06-11T15:19:43.510Z"
   },
   {
    "duration": 4,
    "start_time": "2023-06-11T15:21:09.165Z"
   },
   {
    "duration": 687,
    "start_time": "2023-06-11T15:27:02.230Z"
   },
   {
    "duration": 761,
    "start_time": "2023-06-11T15:27:16.660Z"
   },
   {
    "duration": 657,
    "start_time": "2023-06-11T15:27:20.503Z"
   },
   {
    "duration": 4,
    "start_time": "2023-06-11T15:27:37.134Z"
   },
   {
    "duration": 761,
    "start_time": "2023-06-11T15:27:38.566Z"
   },
   {
    "duration": 660,
    "start_time": "2023-06-11T15:28:58.788Z"
   },
   {
    "duration": 676,
    "start_time": "2023-06-11T15:29:05.208Z"
   },
   {
    "duration": 53148,
    "start_time": "2023-06-11T15:33:51.230Z"
   },
   {
    "duration": 11,
    "start_time": "2023-06-11T15:34:58.832Z"
   },
   {
    "duration": 73415,
    "start_time": "2023-06-11T15:35:05.425Z"
   },
   {
    "duration": 72626,
    "start_time": "2023-06-11T15:37:55.502Z"
   },
   {
    "duration": 3,
    "start_time": "2023-06-11T15:40:10.064Z"
   },
   {
    "duration": 72836,
    "start_time": "2023-06-11T15:40:10.546Z"
   },
   {
    "duration": 73878,
    "start_time": "2023-06-11T15:41:23.384Z"
   },
   {
    "duration": 12,
    "start_time": "2023-06-11T15:45:11.438Z"
   },
   {
    "duration": 11,
    "start_time": "2023-06-11T15:45:27.960Z"
   },
   {
    "duration": 6841,
    "start_time": "2023-06-11T15:45:31.894Z"
   },
   {
    "duration": 6114,
    "start_time": "2023-06-11T15:46:11.115Z"
   },
   {
    "duration": 17,
    "start_time": "2023-06-11T15:46:58.189Z"
   },
   {
    "duration": 12514,
    "start_time": "2023-06-11T15:47:11.939Z"
   },
   {
    "duration": 51,
    "start_time": "2023-06-11T15:48:07.575Z"
   },
   {
    "duration": 6335,
    "start_time": "2023-06-11T15:48:19.333Z"
   },
   {
    "duration": 105103,
    "start_time": "2023-06-11T15:49:26.526Z"
   },
   {
    "duration": 147208,
    "start_time": "2023-06-11T15:51:12.844Z"
   },
   {
    "duration": 145566,
    "start_time": "2023-06-11T15:54:07.213Z"
   },
   {
    "duration": 138,
    "start_time": "2023-06-11T15:58:09.820Z"
   },
   {
    "duration": 29204,
    "start_time": "2023-06-11T16:01:29.654Z"
   },
   {
    "duration": 10,
    "start_time": "2023-06-11T16:03:41.760Z"
   },
   {
    "duration": 4,
    "start_time": "2023-06-11T16:04:02.171Z"
   },
   {
    "duration": 37,
    "start_time": "2023-06-11T16:06:02.199Z"
   },
   {
    "duration": 340,
    "start_time": "2023-06-11T16:06:14.072Z"
   },
   {
    "duration": 214,
    "start_time": "2023-06-11T16:06:20.634Z"
   },
   {
    "duration": 140,
    "start_time": "2023-06-11T16:06:40.217Z"
   },
   {
    "duration": 485,
    "start_time": "2023-06-11T16:07:27.480Z"
   },
   {
    "duration": 270,
    "start_time": "2023-06-11T16:07:55.690Z"
   },
   {
    "duration": 14,
    "start_time": "2023-06-11T16:08:47.643Z"
   },
   {
    "duration": 5,
    "start_time": "2023-06-11T16:08:48.227Z"
   },
   {
    "duration": 20,
    "start_time": "2023-06-11T16:08:49.063Z"
   },
   {
    "duration": 49,
    "start_time": "2023-06-11T16:09:07.785Z"
   },
   {
    "duration": 616,
    "start_time": "2023-06-11T16:09:10.227Z"
   },
   {
    "duration": 29,
    "start_time": "2023-06-11T16:11:05.315Z"
   },
   {
    "duration": 475,
    "start_time": "2023-06-11T16:11:52.784Z"
   },
   {
    "duration": 340,
    "start_time": "2023-06-11T16:13:16.940Z"
   },
   {
    "duration": 347,
    "start_time": "2023-06-11T16:13:36.164Z"
   },
   {
    "duration": 486,
    "start_time": "2023-06-11T16:14:29.404Z"
   },
   {
    "duration": 409,
    "start_time": "2023-06-11T16:14:32.566Z"
   },
   {
    "duration": 399,
    "start_time": "2023-06-11T16:14:33.539Z"
   },
   {
    "duration": 162,
    "start_time": "2023-06-11T16:14:47.150Z"
   },
   {
    "duration": 152,
    "start_time": "2023-06-11T16:14:48.522Z"
   },
   {
    "duration": 404,
    "start_time": "2023-06-11T16:14:56.270Z"
   },
   {
    "duration": 367,
    "start_time": "2023-06-11T16:15:03.963Z"
   },
   {
    "duration": 402,
    "start_time": "2023-06-11T16:15:09.958Z"
   },
   {
    "duration": 46936,
    "start_time": "2023-06-11T16:16:33.847Z"
   },
   {
    "duration": 725794,
    "start_time": "2023-06-11T16:17:45.168Z"
   },
   {
    "duration": 1669,
    "start_time": "2023-06-11T16:30:36.875Z"
   },
   {
    "duration": 50,
    "start_time": "2023-06-11T16:31:17.926Z"
   },
   {
    "duration": 1709,
    "start_time": "2023-06-11T16:31:32.279Z"
   },
   {
    "duration": 30030,
    "start_time": "2023-06-11T16:31:58.040Z"
   },
   {
    "duration": 276,
    "start_time": "2023-06-11T16:34:15.637Z"
   },
   {
    "duration": 395,
    "start_time": "2023-06-11T16:34:26.041Z"
   },
   {
    "duration": 28574,
    "start_time": "2023-06-11T16:34:41.690Z"
   },
   {
    "duration": 393,
    "start_time": "2023-06-11T16:35:10.266Z"
   },
   {
    "duration": 11,
    "start_time": "2023-06-11T16:35:43.418Z"
   },
   {
    "duration": 4,
    "start_time": "2023-06-11T16:35:44.191Z"
   },
   {
    "duration": 349,
    "start_time": "2023-06-11T16:36:24.690Z"
   },
   {
    "duration": 29,
    "start_time": "2023-06-11T16:36:25.862Z"
   },
   {
    "duration": 464,
    "start_time": "2023-06-11T16:36:26.610Z"
   },
   {
    "duration": 338,
    "start_time": "2023-06-11T16:36:55.301Z"
   },
   {
    "duration": 18,
    "start_time": "2023-06-11T16:37:22.442Z"
   },
   {
    "duration": 1482,
    "start_time": "2023-06-11T17:53:22.401Z"
   },
   {
    "duration": 172,
    "start_time": "2023-06-11T17:53:23.885Z"
   },
   {
    "duration": 21,
    "start_time": "2023-06-11T17:53:24.059Z"
   },
   {
    "duration": 13,
    "start_time": "2023-06-11T17:53:25.047Z"
   },
   {
    "duration": 4,
    "start_time": "2023-06-11T17:53:26.441Z"
   },
   {
    "duration": 13,
    "start_time": "2023-06-11T17:53:27.123Z"
   },
   {
    "duration": 7,
    "start_time": "2023-06-11T17:53:28.091Z"
   },
   {
    "duration": 19,
    "start_time": "2023-06-11T17:53:28.786Z"
   },
   {
    "duration": 5,
    "start_time": "2023-06-11T17:53:29.325Z"
   },
   {
    "duration": 4,
    "start_time": "2023-06-11T17:53:30.745Z"
   },
   {
    "duration": 8,
    "start_time": "2023-06-11T17:53:31.243Z"
   },
   {
    "duration": 11,
    "start_time": "2023-06-11T17:53:31.693Z"
   },
   {
    "duration": 11,
    "start_time": "2023-06-11T17:53:33.839Z"
   },
   {
    "duration": 4,
    "start_time": "2023-06-11T17:53:34.359Z"
   },
   {
    "duration": 4,
    "start_time": "2023-06-11T17:53:34.989Z"
   },
   {
    "duration": 9,
    "start_time": "2023-06-11T17:53:36.387Z"
   },
   {
    "duration": 3,
    "start_time": "2023-06-11T17:53:36.999Z"
   },
   {
    "duration": 24,
    "start_time": "2023-06-11T17:53:38.404Z"
   },
   {
    "duration": 17,
    "start_time": "2023-06-11T17:53:39.149Z"
   },
   {
    "duration": 4,
    "start_time": "2023-06-11T17:53:44.282Z"
   },
   {
    "duration": 13343,
    "start_time": "2023-06-11T17:53:50.866Z"
   },
   {
    "duration": 181,
    "start_time": "2023-06-11T17:54:10.753Z"
   },
   {
    "duration": 1603,
    "start_time": "2023-06-11T17:54:16.558Z"
   },
   {
    "duration": 30986,
    "start_time": "2023-06-11T17:54:20.798Z"
   },
   {
    "duration": 389,
    "start_time": "2023-06-11T17:55:02.155Z"
   },
   {
    "duration": 31963,
    "start_time": "2023-06-11T17:55:14.526Z"
   },
   {
    "duration": 309,
    "start_time": "2023-06-11T17:56:51.269Z"
   },
   {
    "duration": 91980,
    "start_time": "2023-06-11T18:04:37.477Z"
   },
   {
    "duration": 31462,
    "start_time": "2023-06-11T18:06:12.913Z"
   },
   {
    "duration": 12,
    "start_time": "2023-06-11T18:09:46.673Z"
   },
   {
    "duration": 5,
    "start_time": "2023-06-11T18:09:47.567Z"
   },
   {
    "duration": 363,
    "start_time": "2023-06-11T18:09:48.271Z"
   },
   {
    "duration": 38,
    "start_time": "2023-06-11T18:09:52.406Z"
   },
   {
    "duration": 17,
    "start_time": "2023-06-11T18:09:52.925Z"
   },
   {
    "duration": 6,
    "start_time": "2023-06-11T18:10:51.064Z"
   },
   {
    "duration": 355,
    "start_time": "2023-06-11T18:12:59.587Z"
   },
   {
    "duration": 156,
    "start_time": "2023-06-11T18:15:10.747Z"
   },
   {
    "duration": 365,
    "start_time": "2023-06-11T18:15:30.820Z"
   },
   {
    "duration": 136,
    "start_time": "2023-06-11T18:15:31.556Z"
   },
   {
    "duration": 353,
    "start_time": "2023-06-11T18:15:55.589Z"
   },
   {
    "duration": 565,
    "start_time": "2023-06-11T18:15:59.879Z"
   },
   {
    "duration": 514,
    "start_time": "2023-06-11T18:16:40.276Z"
   },
   {
    "duration": 4,
    "start_time": "2023-06-11T18:17:45.213Z"
   },
   {
    "duration": 11,
    "start_time": "2023-06-11T18:17:51.674Z"
   },
   {
    "duration": 5,
    "start_time": "2023-06-11T18:18:26.678Z"
   },
   {
    "duration": 17,
    "start_time": "2023-06-11T18:19:47.038Z"
   },
   {
    "duration": 6,
    "start_time": "2023-06-11T18:19:47.552Z"
   },
   {
    "duration": 4,
    "start_time": "2023-06-11T18:19:53.684Z"
   },
   {
    "duration": 13,
    "start_time": "2023-06-11T18:19:58.174Z"
   },
   {
    "duration": 5,
    "start_time": "2023-06-11T18:19:59.318Z"
   },
   {
    "duration": 10,
    "start_time": "2023-06-11T18:20:02.966Z"
   },
   {
    "duration": 5,
    "start_time": "2023-06-11T18:20:03.666Z"
   },
   {
    "duration": 11,
    "start_time": "2023-06-11T18:20:07.290Z"
   },
   {
    "duration": 5,
    "start_time": "2023-06-11T18:20:07.978Z"
   },
   {
    "duration": 13,
    "start_time": "2023-06-11T18:20:09.965Z"
   },
   {
    "duration": 4,
    "start_time": "2023-06-11T18:20:10.406Z"
   },
   {
    "duration": 14,
    "start_time": "2023-06-11T18:20:13.436Z"
   },
   {
    "duration": 5,
    "start_time": "2023-06-11T18:20:14.389Z"
   },
   {
    "duration": 10,
    "start_time": "2023-06-11T18:20:20.213Z"
   },
   {
    "duration": 4,
    "start_time": "2023-06-11T18:20:20.685Z"
   },
   {
    "duration": 161,
    "start_time": "2023-06-11T18:21:07.585Z"
   },
   {
    "duration": 22,
    "start_time": "2023-06-11T18:21:22.542Z"
   },
   {
    "duration": 15,
    "start_time": "2023-06-11T18:21:37.732Z"
   },
   {
    "duration": 82,
    "start_time": "2023-06-11T18:24:42.790Z"
   },
   {
    "duration": 124,
    "start_time": "2023-06-11T18:24:48.925Z"
   },
   {
    "duration": 156,
    "start_time": "2023-06-11T18:25:31.733Z"
   },
   {
    "duration": 115,
    "start_time": "2023-06-11T18:25:36.017Z"
   },
   {
    "duration": 139,
    "start_time": "2023-06-11T18:27:31.548Z"
   },
   {
    "duration": 140,
    "start_time": "2023-06-11T18:27:34.099Z"
   },
   {
    "duration": 115,
    "start_time": "2023-06-11T18:27:37.238Z"
   },
   {
    "duration": 4,
    "start_time": "2023-06-11T18:33:39.536Z"
   },
   {
    "duration": 9,
    "start_time": "2023-06-11T18:34:55.508Z"
   },
   {
    "duration": 9,
    "start_time": "2023-06-11T18:37:46.835Z"
   },
   {
    "duration": 12,
    "start_time": "2023-06-11T18:38:50.006Z"
   },
   {
    "duration": 4,
    "start_time": "2023-06-11T18:39:05.376Z"
   },
   {
    "duration": 4,
    "start_time": "2023-06-11T18:39:12.842Z"
   },
   {
    "duration": 5,
    "start_time": "2023-06-11T18:39:16.082Z"
   },
   {
    "duration": 422,
    "start_time": "2023-06-11T18:42:41.237Z"
   },
   {
    "duration": 372,
    "start_time": "2023-06-11T18:42:50.669Z"
   },
   {
    "duration": 31,
    "start_time": "2023-06-11T18:43:42.143Z"
   },
   {
    "duration": 48,
    "start_time": "2023-06-11T18:44:25.374Z"
   },
   {
    "duration": 413,
    "start_time": "2023-06-11T18:44:35.470Z"
   },
   {
    "duration": 34,
    "start_time": "2023-06-11T18:44:40.757Z"
   },
   {
    "duration": 162,
    "start_time": "2023-06-11T18:44:47.388Z"
   },
   {
    "duration": 19,
    "start_time": "2023-06-11T18:44:51.831Z"
   },
   {
    "duration": 20,
    "start_time": "2023-06-11T18:44:55.365Z"
   },
   {
    "duration": 11,
    "start_time": "2023-06-11T18:47:08.592Z"
   },
   {
    "duration": 6,
    "start_time": "2023-06-11T18:47:16.914Z"
   },
   {
    "duration": 8,
    "start_time": "2023-06-11T18:47:17.894Z"
   },
   {
    "duration": 11,
    "start_time": "2023-06-11T18:47:28.798Z"
   },
   {
    "duration": 1366,
    "start_time": "2023-06-11T18:48:35.475Z"
   },
   {
    "duration": 46,
    "start_time": "2023-06-11T18:48:39.879Z"
   },
   {
    "duration": 18,
    "start_time": "2023-06-11T18:48:40.608Z"
   },
   {
    "duration": 11,
    "start_time": "2023-06-11T18:48:42.002Z"
   },
   {
    "duration": 4,
    "start_time": "2023-06-11T18:48:43.442Z"
   },
   {
    "duration": 16,
    "start_time": "2023-06-11T18:48:44.161Z"
   },
   {
    "duration": 7,
    "start_time": "2023-06-11T18:48:45.264Z"
   },
   {
    "duration": 17,
    "start_time": "2023-06-11T18:48:45.837Z"
   },
   {
    "duration": 6,
    "start_time": "2023-06-11T18:48:47.472Z"
   },
   {
    "duration": 4,
    "start_time": "2023-06-11T18:48:48.448Z"
   },
   {
    "duration": 7,
    "start_time": "2023-06-11T18:48:48.856Z"
   },
   {
    "duration": 11,
    "start_time": "2023-06-11T18:48:50.406Z"
   },
   {
    "duration": 10,
    "start_time": "2023-06-11T18:48:51.558Z"
   },
   {
    "duration": 5,
    "start_time": "2023-06-11T18:48:51.925Z"
   },
   {
    "duration": 4,
    "start_time": "2023-06-11T18:48:52.256Z"
   },
   {
    "duration": 11,
    "start_time": "2023-06-11T18:48:54.066Z"
   },
   {
    "duration": 3,
    "start_time": "2023-06-11T18:48:54.463Z"
   },
   {
    "duration": 27,
    "start_time": "2023-06-11T18:48:56.235Z"
   },
   {
    "duration": 17,
    "start_time": "2023-06-11T18:48:56.736Z"
   },
   {
    "duration": 7,
    "start_time": "2023-06-11T18:48:58.287Z"
   },
   {
    "duration": 126,
    "start_time": "2023-06-11T18:48:58.698Z"
   },
   {
    "duration": 3,
    "start_time": "2023-06-11T18:49:01.622Z"
   },
   {
    "duration": 13563,
    "start_time": "2023-06-11T18:49:03.443Z"
   },
   {
    "duration": 138,
    "start_time": "2023-06-11T18:49:32.637Z"
   },
   {
    "duration": 1538,
    "start_time": "2023-06-11T18:49:37.948Z"
   },
   {
    "duration": 31881,
    "start_time": "2023-06-11T18:49:42.586Z"
   },
   {
    "duration": 382,
    "start_time": "2023-06-11T18:50:17.336Z"
   },
   {
    "duration": 24845,
    "start_time": "2023-06-11T18:50:19.947Z"
   },
   {
    "duration": 26388,
    "start_time": "2023-06-11T18:51:24.594Z"
   },
   {
    "duration": 379,
    "start_time": "2023-06-11T18:51:50.984Z"
   },
   {
    "duration": 10,
    "start_time": "2023-06-11T18:52:22.837Z"
   },
   {
    "duration": 6,
    "start_time": "2023-06-11T18:52:23.389Z"
   },
   {
    "duration": 31,
    "start_time": "2023-06-11T18:52:25.406Z"
   },
   {
    "duration": 393,
    "start_time": "2023-06-11T18:52:29.553Z"
   },
   {
    "duration": 24,
    "start_time": "2023-06-11T18:52:31.560Z"
   },
   {
    "duration": 14,
    "start_time": "2023-06-11T18:52:34.011Z"
   },
   {
    "duration": 5,
    "start_time": "2023-06-11T18:52:36.497Z"
   },
   {
    "duration": 158,
    "start_time": "2023-06-11T18:52:38.517Z"
   },
   {
    "duration": 21,
    "start_time": "2023-06-11T18:52:40.077Z"
   },
   {
    "duration": 17,
    "start_time": "2023-06-11T18:52:41.535Z"
   },
   {
    "duration": 479,
    "start_time": "2023-06-11T18:52:44.268Z"
   },
   {
    "duration": 4,
    "start_time": "2023-06-11T18:52:47.474Z"
   },
   {
    "duration": 5,
    "start_time": "2023-06-11T18:52:50.467Z"
   },
   {
    "duration": 7,
    "start_time": "2023-06-11T18:52:51.369Z"
   },
   {
    "duration": 1959,
    "start_time": "2023-06-12T07:25:22.657Z"
   },
   {
    "duration": 128,
    "start_time": "2023-06-12T07:25:24.621Z"
   },
   {
    "duration": 18,
    "start_time": "2023-06-12T07:25:24.752Z"
   },
   {
    "duration": 16,
    "start_time": "2023-06-12T07:25:24.772Z"
   },
   {
    "duration": 31,
    "start_time": "2023-06-12T07:25:24.791Z"
   },
   {
    "duration": 16,
    "start_time": "2023-06-12T07:25:24.824Z"
   },
   {
    "duration": 12,
    "start_time": "2023-06-12T07:25:24.841Z"
   },
   {
    "duration": 17,
    "start_time": "2023-06-12T07:25:24.855Z"
   },
   {
    "duration": 5,
    "start_time": "2023-06-12T07:25:24.873Z"
   },
   {
    "duration": 56,
    "start_time": "2023-06-12T07:25:24.880Z"
   },
   {
    "duration": 9,
    "start_time": "2023-06-12T07:25:24.938Z"
   },
   {
    "duration": 12,
    "start_time": "2023-06-12T07:25:24.949Z"
   },
   {
    "duration": 8,
    "start_time": "2023-06-12T07:25:24.963Z"
   },
   {
    "duration": 7,
    "start_time": "2023-06-12T07:25:24.973Z"
   },
   {
    "duration": 49,
    "start_time": "2023-06-12T07:25:24.982Z"
   },
   {
    "duration": 35,
    "start_time": "2023-06-12T07:25:25.032Z"
   },
   {
    "duration": 5,
    "start_time": "2023-06-12T07:25:25.069Z"
   },
   {
    "duration": 59,
    "start_time": "2023-06-12T07:25:25.076Z"
   },
   {
    "duration": 15,
    "start_time": "2023-06-12T07:25:25.136Z"
   },
   {
    "duration": 18,
    "start_time": "2023-06-12T07:25:25.152Z"
   },
   {
    "duration": 142,
    "start_time": "2023-06-12T07:25:25.172Z"
   },
   {
    "duration": 4,
    "start_time": "2023-06-12T07:25:25.315Z"
   },
   {
    "duration": 14973,
    "start_time": "2023-06-12T07:25:25.321Z"
   },
   {
    "duration": 143,
    "start_time": "2023-06-12T07:25:40.303Z"
   },
   {
    "duration": 1662,
    "start_time": "2023-06-12T07:25:40.447Z"
   },
   {
    "duration": 34696,
    "start_time": "2023-06-12T07:25:42.110Z"
   },
   {
    "duration": 424,
    "start_time": "2023-06-12T07:26:16.807Z"
   },
   {
    "duration": 21972,
    "start_time": "2023-06-12T07:26:17.236Z"
   },
   {
    "duration": 388,
    "start_time": "2023-06-12T07:26:39.216Z"
   },
   {
    "duration": 12,
    "start_time": "2023-06-12T07:26:39.605Z"
   },
   {
    "duration": 23,
    "start_time": "2023-06-12T07:26:39.619Z"
   },
   {
    "duration": 39,
    "start_time": "2023-06-12T07:26:39.644Z"
   },
   {
    "duration": 452,
    "start_time": "2023-06-12T07:26:39.689Z"
   },
   {
    "duration": 76,
    "start_time": "2023-06-12T07:26:40.143Z"
   },
   {
    "duration": 20,
    "start_time": "2023-06-12T07:26:40.290Z"
   },
   {
    "duration": 37,
    "start_time": "2023-06-12T07:26:40.312Z"
   },
   {
    "duration": 285,
    "start_time": "2023-06-12T07:26:40.351Z"
   },
   {
    "duration": 23,
    "start_time": "2023-06-12T07:26:40.638Z"
   },
   {
    "duration": 51,
    "start_time": "2023-06-12T07:26:40.663Z"
   },
   {
    "duration": 715,
    "start_time": "2023-06-12T07:26:40.721Z"
   },
   {
    "duration": 4,
    "start_time": "2023-06-12T07:26:41.438Z"
   },
   {
    "duration": 12,
    "start_time": "2023-06-12T07:26:41.444Z"
   },
   {
    "duration": 16,
    "start_time": "2023-06-12T07:26:41.458Z"
   },
   {
    "duration": 1542,
    "start_time": "2023-06-12T20:24:22.585Z"
   },
   {
    "duration": 79,
    "start_time": "2023-06-12T20:24:24.778Z"
   },
   {
    "duration": 17,
    "start_time": "2023-06-12T20:24:25.311Z"
   },
   {
    "duration": 12,
    "start_time": "2023-06-12T20:24:27.607Z"
   },
   {
    "duration": 5,
    "start_time": "2023-06-12T20:24:29.655Z"
   },
   {
    "duration": 12,
    "start_time": "2023-06-12T20:24:29.941Z"
   },
   {
    "duration": 8,
    "start_time": "2023-06-12T20:24:31.474Z"
   },
   {
    "duration": 25,
    "start_time": "2023-06-12T20:24:31.915Z"
   },
   {
    "duration": 6,
    "start_time": "2023-06-12T20:24:32.573Z"
   },
   {
    "duration": 12,
    "start_time": "2023-06-12T20:26:04.124Z"
   },
   {
    "duration": 11,
    "start_time": "2023-06-12T20:26:13.744Z"
   },
   {
    "duration": 12,
    "start_time": "2023-06-12T20:27:57.503Z"
   },
   {
    "duration": 4,
    "start_time": "2023-06-12T20:30:52.673Z"
   },
   {
    "duration": 126,
    "start_time": "2023-06-12T20:31:02.004Z"
   },
   {
    "duration": 4,
    "start_time": "2023-06-12T20:31:15.020Z"
   },
   {
    "duration": 16,
    "start_time": "2023-06-12T20:31:16.011Z"
   },
   {
    "duration": 20,
    "start_time": "2023-06-12T20:33:32.924Z"
   },
   {
    "duration": 3,
    "start_time": "2023-06-12T20:35:39.784Z"
   },
   {
    "duration": 18,
    "start_time": "2023-06-12T20:35:40.508Z"
   },
   {
    "duration": 371,
    "start_time": "2023-06-12T20:35:59.469Z"
   },
   {
    "duration": 12,
    "start_time": "2023-06-12T20:36:16.567Z"
   },
   {
    "duration": 10,
    "start_time": "2023-06-12T20:36:19.784Z"
   },
   {
    "duration": 22,
    "start_time": "2023-06-12T20:36:23.181Z"
   },
   {
    "duration": 15,
    "start_time": "2023-06-12T20:36:46.280Z"
   },
   {
    "duration": 20,
    "start_time": "2023-06-12T20:37:07.070Z"
   },
   {
    "duration": 116,
    "start_time": "2023-06-12T20:37:46.365Z"
   },
   {
    "duration": 15,
    "start_time": "2023-06-12T20:37:54.377Z"
   },
   {
    "duration": 2129,
    "start_time": "2023-06-13T09:05:24.199Z"
   },
   {
    "duration": 89,
    "start_time": "2023-06-13T09:05:26.924Z"
   },
   {
    "duration": 17,
    "start_time": "2023-06-13T09:05:27.456Z"
   },
   {
    "duration": 11,
    "start_time": "2023-06-13T09:05:28.679Z"
   },
   {
    "duration": 4,
    "start_time": "2023-06-13T09:05:30.000Z"
   },
   {
    "duration": 11,
    "start_time": "2023-06-13T09:05:30.426Z"
   },
   {
    "duration": 6,
    "start_time": "2023-06-13T09:05:32.032Z"
   },
   {
    "duration": 16,
    "start_time": "2023-06-13T09:05:32.515Z"
   },
   {
    "duration": 4,
    "start_time": "2023-06-13T09:05:33.832Z"
   },
   {
    "duration": 12,
    "start_time": "2023-06-13T09:05:35.542Z"
   },
   {
    "duration": 3,
    "start_time": "2023-06-13T09:05:36.596Z"
   },
   {
    "duration": 6,
    "start_time": "2023-06-13T09:05:38.924Z"
   },
   {
    "duration": 16,
    "start_time": "2023-06-13T09:05:39.320Z"
   },
   {
    "duration": 4,
    "start_time": "2023-06-13T09:05:45.624Z"
   },
   {
    "duration": 6,
    "start_time": "2023-06-13T09:06:37.600Z"
   },
   {
    "duration": 12,
    "start_time": "2023-06-13T09:06:38.534Z"
   },
   {
    "duration": 11,
    "start_time": "2023-06-13T09:06:41.580Z"
   },
   {
    "duration": 1364,
    "start_time": "2023-06-13T09:14:19.641Z"
   },
   {
    "duration": 41,
    "start_time": "2023-06-13T09:14:21.007Z"
   },
   {
    "duration": 16,
    "start_time": "2023-06-13T09:14:21.510Z"
   },
   {
    "duration": 12,
    "start_time": "2023-06-13T09:14:21.953Z"
   },
   {
    "duration": 4,
    "start_time": "2023-06-13T09:14:23.406Z"
   },
   {
    "duration": 10,
    "start_time": "2023-06-13T09:14:23.910Z"
   },
   {
    "duration": 6,
    "start_time": "2023-06-13T09:14:24.810Z"
   },
   {
    "duration": 22,
    "start_time": "2023-06-13T09:14:25.285Z"
   },
   {
    "duration": 5,
    "start_time": "2023-06-13T09:14:25.939Z"
   },
   {
    "duration": 12,
    "start_time": "2023-06-13T09:14:26.944Z"
   },
   {
    "duration": 3,
    "start_time": "2023-06-13T09:14:27.414Z"
   },
   {
    "duration": 7,
    "start_time": "2023-06-13T09:14:28.047Z"
   },
   {
    "duration": 16,
    "start_time": "2023-06-13T09:14:28.510Z"
   },
   {
    "duration": 10,
    "start_time": "2023-06-13T09:14:32.906Z"
   },
   {
    "duration": 134,
    "start_time": "2023-06-13T09:16:35.253Z"
   },
   {
    "duration": 210,
    "start_time": "2023-06-13T09:16:38.803Z"
   },
   {
    "duration": 4,
    "start_time": "2023-06-13T09:16:57.207Z"
   },
   {
    "duration": 7,
    "start_time": "2023-06-13T09:17:11.123Z"
   },
   {
    "duration": 16,
    "start_time": "2023-06-13T09:17:18.106Z"
   },
   {
    "duration": 14,
    "start_time": "2023-06-13T09:17:22.970Z"
   },
   {
    "duration": 13,
    "start_time": "2023-06-13T09:17:27.976Z"
   },
   {
    "duration": 9,
    "start_time": "2023-06-13T09:17:36.434Z"
   },
   {
    "duration": 3,
    "start_time": "2023-06-13T09:17:39.982Z"
   },
   {
    "duration": 6,
    "start_time": "2023-06-13T09:17:40.928Z"
   },
   {
    "duration": 14,
    "start_time": "2023-06-13T09:17:42.423Z"
   },
   {
    "duration": 4,
    "start_time": "2023-06-13T09:17:44.513Z"
   },
   {
    "duration": 1526,
    "start_time": "2023-06-13T09:17:54.383Z"
   },
   {
    "duration": 40,
    "start_time": "2023-06-13T09:17:56.532Z"
   },
   {
    "duration": 17,
    "start_time": "2023-06-13T09:17:57.185Z"
   },
   {
    "duration": 12,
    "start_time": "2023-06-13T09:17:59.591Z"
   },
   {
    "duration": 5,
    "start_time": "2023-06-13T09:18:01.750Z"
   },
   {
    "duration": 12,
    "start_time": "2023-06-13T09:18:02.406Z"
   },
   {
    "duration": 7,
    "start_time": "2023-06-13T09:18:04.450Z"
   },
   {
    "duration": 18,
    "start_time": "2023-06-13T09:18:05.320Z"
   },
   {
    "duration": 5,
    "start_time": "2023-06-13T09:18:07.510Z"
   },
   {
    "duration": 11,
    "start_time": "2023-06-13T09:18:08.395Z"
   },
   {
    "duration": 4,
    "start_time": "2023-06-13T09:18:10.810Z"
   },
   {
    "duration": 8,
    "start_time": "2023-06-13T09:18:11.410Z"
   },
   {
    "duration": 17,
    "start_time": "2023-06-13T09:18:12.040Z"
   },
   {
    "duration": 3,
    "start_time": "2023-06-13T09:18:16.650Z"
   },
   {
    "duration": 7,
    "start_time": "2023-06-13T09:18:36.337Z"
   },
   {
    "duration": 11,
    "start_time": "2023-06-13T09:18:37.199Z"
   },
   {
    "duration": 3,
    "start_time": "2023-06-13T09:18:43.010Z"
   },
   {
    "duration": 3,
    "start_time": "2023-06-13T09:18:45.038Z"
   },
   {
    "duration": 121,
    "start_time": "2023-06-13T09:19:17.714Z"
   },
   {
    "duration": 9,
    "start_time": "2023-06-13T09:19:32.984Z"
   },
   {
    "duration": 9,
    "start_time": "2023-06-13T09:21:13.837Z"
   },
   {
    "duration": 9,
    "start_time": "2023-06-13T09:21:42.732Z"
   },
   {
    "duration": 10,
    "start_time": "2023-06-13T09:22:25.509Z"
   },
   {
    "duration": 10,
    "start_time": "2023-06-13T09:22:40.823Z"
   },
   {
    "duration": 12,
    "start_time": "2023-06-13T09:22:42.952Z"
   },
   {
    "duration": 9,
    "start_time": "2023-06-13T09:22:47.227Z"
   },
   {
    "duration": 3,
    "start_time": "2023-06-13T09:22:53.450Z"
   },
   {
    "duration": 5,
    "start_time": "2023-06-13T09:23:09.515Z"
   },
   {
    "duration": 6,
    "start_time": "2023-06-13T09:23:20.254Z"
   },
   {
    "duration": 13,
    "start_time": "2023-06-13T09:23:27.630Z"
   },
   {
    "duration": 4,
    "start_time": "2023-06-13T09:23:29.527Z"
   },
   {
    "duration": 3,
    "start_time": "2023-06-13T09:23:38.533Z"
   },
   {
    "duration": 8,
    "start_time": "2023-06-13T09:23:45.186Z"
   },
   {
    "duration": 10,
    "start_time": "2023-06-13T09:24:53.059Z"
   },
   {
    "duration": 14,
    "start_time": "2023-06-13T09:25:40.279Z"
   },
   {
    "duration": 15,
    "start_time": "2023-06-13T09:25:48.222Z"
   },
   {
    "duration": 15,
    "start_time": "2023-06-13T09:27:00.430Z"
   },
   {
    "duration": 11,
    "start_time": "2023-06-13T09:27:56.825Z"
   },
   {
    "duration": 23,
    "start_time": "2023-06-13T09:28:17.337Z"
   },
   {
    "duration": 15,
    "start_time": "2023-06-13T09:28:26.522Z"
   },
   {
    "duration": 13,
    "start_time": "2023-06-13T09:28:29.383Z"
   },
   {
    "duration": 12,
    "start_time": "2023-06-13T09:28:33.327Z"
   },
   {
    "duration": 11,
    "start_time": "2023-06-13T09:29:06.323Z"
   },
   {
    "duration": 8,
    "start_time": "2023-06-13T09:30:10.059Z"
   },
   {
    "duration": 3,
    "start_time": "2023-06-13T09:30:13.625Z"
   },
   {
    "duration": 6,
    "start_time": "2023-06-13T09:30:32.424Z"
   },
   {
    "duration": 21,
    "start_time": "2023-06-13T09:32:37.324Z"
   },
   {
    "duration": 1373,
    "start_time": "2023-06-13T09:33:00.719Z"
   },
   {
    "duration": 42,
    "start_time": "2023-06-13T09:33:02.094Z"
   },
   {
    "duration": 17,
    "start_time": "2023-06-13T09:33:02.138Z"
   },
   {
    "duration": 12,
    "start_time": "2023-06-13T09:33:02.828Z"
   },
   {
    "duration": 4,
    "start_time": "2023-06-13T09:33:04.024Z"
   },
   {
    "duration": 12,
    "start_time": "2023-06-13T09:33:04.453Z"
   },
   {
    "duration": 6,
    "start_time": "2023-06-13T09:33:05.114Z"
   },
   {
    "duration": 24,
    "start_time": "2023-06-13T09:33:05.484Z"
   },
   {
    "duration": 5,
    "start_time": "2023-06-13T09:33:05.754Z"
   },
   {
    "duration": 12,
    "start_time": "2023-06-13T09:33:06.988Z"
   },
   {
    "duration": 4,
    "start_time": "2023-06-13T09:33:07.353Z"
   },
   {
    "duration": 6,
    "start_time": "2023-06-13T09:33:07.795Z"
   },
   {
    "duration": 19,
    "start_time": "2023-06-13T09:33:08.125Z"
   },
   {
    "duration": 2,
    "start_time": "2023-06-13T09:33:08.482Z"
   },
   {
    "duration": 6,
    "start_time": "2023-06-13T09:33:09.655Z"
   },
   {
    "duration": 12,
    "start_time": "2023-06-13T09:33:10.048Z"
   },
   {
    "duration": 12,
    "start_time": "2023-06-13T09:33:18.199Z"
   },
   {
    "duration": 4,
    "start_time": "2023-06-13T09:33:18.907Z"
   },
   {
    "duration": 8,
    "start_time": "2023-06-13T09:33:21.702Z"
   },
   {
    "duration": 113,
    "start_time": "2023-06-13T09:33:23.684Z"
   },
   {
    "duration": 18,
    "start_time": "2023-06-13T09:34:01.155Z"
   },
   {
    "duration": 16,
    "start_time": "2023-06-13T09:34:27.411Z"
   },
   {
    "duration": 15,
    "start_time": "2023-06-13T09:34:33.923Z"
   },
   {
    "duration": 19,
    "start_time": "2023-06-13T09:34:50.624Z"
   },
   {
    "duration": 16,
    "start_time": "2023-06-13T09:35:18.819Z"
   },
   {
    "duration": 15,
    "start_time": "2023-06-13T09:35:33.559Z"
   },
   {
    "duration": 24,
    "start_time": "2023-06-13T09:36:02.807Z"
   },
   {
    "duration": 17,
    "start_time": "2023-06-13T09:36:11.847Z"
   },
   {
    "duration": 7,
    "start_time": "2023-06-13T09:36:27.640Z"
   },
   {
    "duration": 15,
    "start_time": "2023-06-13T09:36:28.984Z"
   },
   {
    "duration": 16,
    "start_time": "2023-06-13T09:36:42.248Z"
   },
   {
    "duration": 17,
    "start_time": "2023-06-13T09:37:32.579Z"
   },
   {
    "duration": 16,
    "start_time": "2023-06-13T09:37:41.760Z"
   },
   {
    "duration": 16,
    "start_time": "2023-06-13T09:38:36.441Z"
   },
   {
    "duration": 8,
    "start_time": "2023-06-13T09:41:00.808Z"
   },
   {
    "duration": 14,
    "start_time": "2023-06-13T09:41:02.204Z"
   },
   {
    "duration": 11,
    "start_time": "2023-06-13T09:41:08.825Z"
   },
   {
    "duration": 21,
    "start_time": "2023-06-13T09:41:21.546Z"
   },
   {
    "duration": 15,
    "start_time": "2023-06-13T09:41:32.335Z"
   },
   {
    "duration": 10,
    "start_time": "2023-06-13T09:41:33.012Z"
   },
   {
    "duration": 12,
    "start_time": "2023-06-13T09:41:43.275Z"
   },
   {
    "duration": 1418,
    "start_time": "2023-06-13T09:42:01.318Z"
   },
   {
    "duration": 41,
    "start_time": "2023-06-13T09:42:02.738Z"
   },
   {
    "duration": 17,
    "start_time": "2023-06-13T09:42:02.781Z"
   },
   {
    "duration": 11,
    "start_time": "2023-06-13T09:42:02.986Z"
   },
   {
    "duration": 4,
    "start_time": "2023-06-13T09:42:04.430Z"
   },
   {
    "duration": 12,
    "start_time": "2023-06-13T09:42:04.856Z"
   },
   {
    "duration": 6,
    "start_time": "2023-06-13T09:42:05.668Z"
   },
   {
    "duration": 18,
    "start_time": "2023-06-13T09:42:06.111Z"
   },
   {
    "duration": 5,
    "start_time": "2023-06-13T09:42:06.508Z"
   },
   {
    "duration": 11,
    "start_time": "2023-06-13T09:42:07.438Z"
   },
   {
    "duration": 4,
    "start_time": "2023-06-13T09:42:07.920Z"
   },
   {
    "duration": 5,
    "start_time": "2023-06-13T09:42:08.246Z"
   },
   {
    "duration": 14,
    "start_time": "2023-06-13T09:42:08.515Z"
   },
   {
    "duration": 3,
    "start_time": "2023-06-13T09:42:08.880Z"
   },
   {
    "duration": 7,
    "start_time": "2023-06-13T09:42:09.680Z"
   },
   {
    "duration": 11,
    "start_time": "2023-06-13T09:42:10.083Z"
   },
   {
    "duration": 11,
    "start_time": "2023-06-13T09:42:13.011Z"
   },
   {
    "duration": 3,
    "start_time": "2023-06-13T09:42:13.582Z"
   },
   {
    "duration": 8,
    "start_time": "2023-06-13T09:42:14.911Z"
   },
   {
    "duration": 128,
    "start_time": "2023-06-13T09:42:16.765Z"
   },
   {
    "duration": 11,
    "start_time": "2023-06-13T09:42:26.184Z"
   },
   {
    "duration": 10,
    "start_time": "2023-06-13T09:42:59.180Z"
   },
   {
    "duration": 10,
    "start_time": "2023-06-13T09:43:06.012Z"
   },
   {
    "duration": 11,
    "start_time": "2023-06-13T09:43:20.564Z"
   },
   {
    "duration": 11,
    "start_time": "2023-06-13T09:44:16.176Z"
   },
   {
    "duration": 13,
    "start_time": "2023-06-13T09:45:41.917Z"
   },
   {
    "duration": 13,
    "start_time": "2023-06-13T09:45:45.441Z"
   },
   {
    "duration": 3,
    "start_time": "2023-06-13T09:45:45.986Z"
   },
   {
    "duration": 23,
    "start_time": "2023-06-13T09:45:48.145Z"
   },
   {
    "duration": 16,
    "start_time": "2023-06-13T09:45:51.014Z"
   },
   {
    "duration": 5,
    "start_time": "2023-06-13T09:45:53.254Z"
   },
   {
    "duration": 109,
    "start_time": "2023-06-13T09:45:59.611Z"
   },
   {
    "duration": 3192,
    "start_time": "2023-06-13T12:45:15.354Z"
   },
   {
    "duration": 281,
    "start_time": "2023-06-13T12:45:19.254Z"
   },
   {
    "duration": 31,
    "start_time": "2023-06-13T12:45:19.622Z"
   },
   {
    "duration": 22,
    "start_time": "2023-06-13T12:45:20.000Z"
   },
   {
    "duration": 5,
    "start_time": "2023-06-13T12:45:21.432Z"
   },
   {
    "duration": 19,
    "start_time": "2023-06-13T12:45:21.811Z"
   },
   {
    "duration": 9,
    "start_time": "2023-06-13T12:45:22.512Z"
   },
   {
    "duration": 23,
    "start_time": "2023-06-13T12:45:22.805Z"
   },
   {
    "duration": 6,
    "start_time": "2023-06-13T12:45:23.207Z"
   },
   {
    "duration": 33,
    "start_time": "2023-06-13T12:45:24.805Z"
   },
   {
    "duration": 4,
    "start_time": "2023-06-13T12:45:25.509Z"
   },
   {
    "duration": 20,
    "start_time": "2023-06-13T12:45:25.950Z"
   },
   {
    "duration": 24,
    "start_time": "2023-06-13T12:45:26.407Z"
   },
   {
    "duration": 4,
    "start_time": "2023-06-13T12:45:27.815Z"
   },
   {
    "duration": 8,
    "start_time": "2023-06-13T12:45:32.706Z"
   },
   {
    "duration": 19,
    "start_time": "2023-06-13T12:45:34.216Z"
   },
   {
    "duration": 15,
    "start_time": "2023-06-13T12:45:36.802Z"
   },
   {
    "duration": 16,
    "start_time": "2023-06-13T12:45:39.616Z"
   },
   {
    "duration": 4,
    "start_time": "2023-06-13T12:45:43.125Z"
   },
   {
    "duration": 169,
    "start_time": "2023-06-13T12:46:58.018Z"
   },
   {
    "duration": 14,
    "start_time": "2023-06-13T12:47:14.331Z"
   },
   {
    "duration": 5,
    "start_time": "2023-06-13T12:47:17.944Z"
   },
   {
    "duration": 1813,
    "start_time": "2023-06-13T12:47:36.423Z"
   },
   {
    "duration": 80,
    "start_time": "2023-06-13T12:47:39.339Z"
   },
   {
    "duration": 57,
    "start_time": "2023-06-13T12:47:39.773Z"
   },
   {
    "duration": 38,
    "start_time": "2023-06-13T12:47:40.250Z"
   },
   {
    "duration": 5,
    "start_time": "2023-06-13T12:47:42.020Z"
   },
   {
    "duration": 22,
    "start_time": "2023-06-13T12:47:42.823Z"
   },
   {
    "duration": 13,
    "start_time": "2023-06-13T12:47:44.018Z"
   },
   {
    "duration": 32,
    "start_time": "2023-06-13T12:47:44.695Z"
   },
   {
    "duration": 8,
    "start_time": "2023-06-13T12:47:45.625Z"
   },
   {
    "duration": 18,
    "start_time": "2023-06-13T12:47:46.734Z"
   },
   {
    "duration": 5,
    "start_time": "2023-06-13T12:47:47.213Z"
   },
   {
    "duration": 13,
    "start_time": "2023-06-13T12:47:48.837Z"
   },
   {
    "duration": 19,
    "start_time": "2023-06-13T12:47:49.830Z"
   },
   {
    "duration": 11,
    "start_time": "2023-06-13T12:47:51.267Z"
   },
   {
    "duration": 10,
    "start_time": "2023-06-13T12:47:52.097Z"
   },
   {
    "duration": 33,
    "start_time": "2023-06-13T12:48:05.548Z"
   },
   {
    "duration": 5,
    "start_time": "2023-06-13T12:48:12.042Z"
   },
   {
    "duration": 11,
    "start_time": "2023-06-13T12:48:14.005Z"
   },
   {
    "duration": 13,
    "start_time": "2023-06-13T12:48:17.310Z"
   },
   {
    "duration": 27,
    "start_time": "2023-06-13T12:48:20.147Z"
   },
   {
    "duration": 23,
    "start_time": "2023-06-13T12:48:22.290Z"
   },
   {
    "duration": 5,
    "start_time": "2023-06-13T12:48:22.999Z"
   },
   {
    "duration": 51,
    "start_time": "2023-06-13T12:48:26.769Z"
   },
   {
    "duration": 23,
    "start_time": "2023-06-13T12:48:27.630Z"
   },
   {
    "duration": 13,
    "start_time": "2023-06-13T12:48:29.102Z"
   },
   {
    "duration": 189,
    "start_time": "2023-06-13T12:49:18.555Z"
   },
   {
    "duration": 176,
    "start_time": "2023-06-13T12:49:34.735Z"
   },
   {
    "duration": 643,
    "start_time": "2023-06-13T12:50:24.040Z"
   },
   {
    "duration": 373,
    "start_time": "2023-06-13T12:50:37.375Z"
   },
   {
    "duration": 387,
    "start_time": "2023-06-13T12:50:42.541Z"
   },
   {
    "duration": 316,
    "start_time": "2023-06-13T12:50:49.616Z"
   },
   {
    "duration": 191,
    "start_time": "2023-06-13T12:52:18.406Z"
   },
   {
    "duration": 202,
    "start_time": "2023-06-13T12:52:21.703Z"
   },
   {
    "duration": 20,
    "start_time": "2023-06-13T12:54:48.205Z"
   },
   {
    "duration": 3,
    "start_time": "2023-06-13T12:54:52.834Z"
   },
   {
    "duration": 7772,
    "start_time": "2023-06-13T12:54:54.753Z"
   },
   {
    "duration": 207,
    "start_time": "2023-06-13T12:56:35.304Z"
   },
   {
    "duration": 203,
    "start_time": "2023-06-13T12:56:40.691Z"
   },
   {
    "duration": 1892,
    "start_time": "2023-06-13T12:57:21.197Z"
   },
   {
    "duration": 28833,
    "start_time": "2023-06-13T12:59:13.741Z"
   },
   {
    "duration": 4319,
    "start_time": "2023-06-13T13:00:34.400Z"
   },
   {
    "duration": 213,
    "start_time": "2023-06-13T13:00:39.612Z"
   },
   {
    "duration": 21,
    "start_time": "2023-06-13T13:00:40.021Z"
   },
   {
    "duration": 21,
    "start_time": "2023-06-13T13:00:40.430Z"
   },
   {
    "duration": 6,
    "start_time": "2023-06-13T13:00:42.603Z"
   },
   {
    "duration": 18,
    "start_time": "2023-06-13T13:00:43.212Z"
   },
   {
    "duration": 7,
    "start_time": "2023-06-13T13:00:44.332Z"
   },
   {
    "duration": 36,
    "start_time": "2023-06-13T13:00:44.791Z"
   },
   {
    "duration": 21,
    "start_time": "2023-06-13T13:00:45.704Z"
   },
   {
    "duration": 6,
    "start_time": "2023-06-13T13:01:14.702Z"
   },
   {
    "duration": 26,
    "start_time": "2023-06-13T13:01:15.690Z"
   },
   {
    "duration": 4,
    "start_time": "2023-06-13T13:01:17.134Z"
   },
   {
    "duration": 7,
    "start_time": "2023-06-13T13:01:17.695Z"
   },
   {
    "duration": 18,
    "start_time": "2023-06-13T13:01:18.988Z"
   },
   {
    "duration": 4,
    "start_time": "2023-06-13T13:01:19.643Z"
   },
   {
    "duration": 4,
    "start_time": "2023-06-13T13:01:20.390Z"
   },
   {
    "duration": 4,
    "start_time": "2023-06-13T13:01:20.899Z"
   },
   {
    "duration": 8,
    "start_time": "2023-06-13T13:01:23.223Z"
   },
   {
    "duration": 16,
    "start_time": "2023-06-13T13:01:24.455Z"
   },
   {
    "duration": 9,
    "start_time": "2023-06-13T13:01:27.016Z"
   },
   {
    "duration": 14,
    "start_time": "2023-06-13T13:01:29.231Z"
   },
   {
    "duration": 10,
    "start_time": "2023-06-13T13:01:30.355Z"
   },
   {
    "duration": 43,
    "start_time": "2023-06-13T13:01:32.904Z"
   },
   {
    "duration": 21,
    "start_time": "2023-06-13T13:01:34.692Z"
   },
   {
    "duration": 9,
    "start_time": "2023-06-13T13:01:35.994Z"
   },
   {
    "duration": 219,
    "start_time": "2023-06-13T13:01:36.514Z"
   },
   {
    "duration": 5,
    "start_time": "2023-06-13T13:03:12.907Z"
   },
   {
    "duration": 7595,
    "start_time": "2023-06-13T13:03:14.798Z"
   },
   {
    "duration": 191,
    "start_time": "2023-06-13T13:03:28.837Z"
   },
   {
    "duration": 2007,
    "start_time": "2023-06-13T13:03:38.695Z"
   },
   {
    "duration": 39432,
    "start_time": "2023-06-13T13:03:48.632Z"
   },
   {
    "duration": 616,
    "start_time": "2023-06-13T13:04:49.098Z"
   },
   {
    "duration": 13421,
    "start_time": "2023-06-13T13:07:11.054Z"
   },
   {
    "duration": 335,
    "start_time": "2023-06-13T13:07:33.532Z"
   },
   {
    "duration": 12,
    "start_time": "2023-06-13T13:07:47.928Z"
   },
   {
    "duration": 7,
    "start_time": "2023-06-13T13:07:49.894Z"
   },
   {
    "duration": 120,
    "start_time": "2023-06-13T13:08:00.434Z"
   },
   {
    "duration": 18,
    "start_time": "2023-06-13T13:08:04.393Z"
   },
   {
    "duration": 6,
    "start_time": "2023-06-13T13:08:07.336Z"
   },
   {
    "duration": 54,
    "start_time": "2023-06-13T13:08:22.038Z"
   },
   {
    "duration": 692,
    "start_time": "2023-06-13T13:08:37.556Z"
   },
   {
    "duration": 30,
    "start_time": "2023-06-13T13:09:09.397Z"
   },
   {
    "duration": 628,
    "start_time": "2023-06-13T13:12:14.006Z"
   },
   {
    "duration": 29,
    "start_time": "2023-06-13T13:12:16.498Z"
   },
   {
    "duration": 14,
    "start_time": "2023-06-13T13:13:01.826Z"
   },
   {
    "duration": 6,
    "start_time": "2023-06-13T13:13:06.186Z"
   },
   {
    "duration": 15,
    "start_time": "2023-06-13T13:13:11.726Z"
   },
   {
    "duration": 6,
    "start_time": "2023-06-13T13:13:13.128Z"
   },
   {
    "duration": 14,
    "start_time": "2023-06-13T13:13:16.136Z"
   },
   {
    "duration": 7,
    "start_time": "2023-06-13T13:13:17.732Z"
   },
   {
    "duration": 14,
    "start_time": "2023-06-13T13:13:20.042Z"
   },
   {
    "duration": 9,
    "start_time": "2023-06-13T13:13:21.152Z"
   },
   {
    "duration": 16,
    "start_time": "2023-06-13T13:13:24.337Z"
   },
   {
    "duration": 7,
    "start_time": "2023-06-13T13:13:25.449Z"
   },
   {
    "duration": 12,
    "start_time": "2023-06-13T13:13:29.743Z"
   },
   {
    "duration": 6,
    "start_time": "2023-06-13T13:13:30.736Z"
   },
   {
    "duration": 14,
    "start_time": "2023-06-13T13:13:34.425Z"
   },
   {
    "duration": 6,
    "start_time": "2023-06-13T13:13:35.588Z"
   },
   {
    "duration": 18,
    "start_time": "2023-06-13T13:13:58.489Z"
   },
   {
    "duration": 7,
    "start_time": "2023-06-13T13:13:58.990Z"
   },
   {
    "duration": 12,
    "start_time": "2023-06-13T13:14:02.499Z"
   },
   {
    "duration": 6,
    "start_time": "2023-06-13T13:14:02.994Z"
   },
   {
    "duration": 31,
    "start_time": "2023-06-13T13:14:05.847Z"
   },
   {
    "duration": 6,
    "start_time": "2023-06-13T13:14:06.288Z"
   },
   {
    "duration": 6,
    "start_time": "2023-06-13T13:14:35.721Z"
   },
   {
    "duration": 12,
    "start_time": "2023-06-13T13:14:40.897Z"
   },
   {
    "duration": 5,
    "start_time": "2023-06-13T13:14:42.088Z"
   },
   {
    "duration": 12,
    "start_time": "2023-06-13T13:14:45.092Z"
   },
   {
    "duration": 4,
    "start_time": "2023-06-13T13:14:45.392Z"
   },
   {
    "duration": 12,
    "start_time": "2023-06-13T13:15:04.490Z"
   },
   {
    "duration": 19,
    "start_time": "2023-06-13T13:15:05.263Z"
   },
   {
    "duration": 5,
    "start_time": "2023-06-13T13:15:13.087Z"
   },
   {
    "duration": 15,
    "start_time": "2023-06-13T13:15:20.693Z"
   },
   {
    "duration": 5,
    "start_time": "2023-06-13T13:15:21.020Z"
   },
   {
    "duration": 12,
    "start_time": "2023-06-13T13:15:23.789Z"
   },
   {
    "duration": 7,
    "start_time": "2023-06-13T13:15:24.232Z"
   },
   {
    "duration": 15,
    "start_time": "2023-06-13T13:15:30.735Z"
   },
   {
    "duration": 6,
    "start_time": "2023-06-13T13:15:31.133Z"
   },
   {
    "duration": 226,
    "start_time": "2023-06-13T13:15:43.996Z"
   },
   {
    "duration": 33,
    "start_time": "2023-06-13T13:15:46.724Z"
   },
   {
    "duration": 19,
    "start_time": "2023-06-13T13:15:50.614Z"
   },
   {
    "duration": 1551,
    "start_time": "2023-06-13T13:38:30.581Z"
   },
   {
    "duration": 41,
    "start_time": "2023-06-13T13:38:33.110Z"
   },
   {
    "duration": 24,
    "start_time": "2023-06-13T13:38:33.534Z"
   },
   {
    "duration": 20,
    "start_time": "2023-06-13T13:38:34.298Z"
   },
   {
    "duration": 5,
    "start_time": "2023-06-13T13:38:39.837Z"
   },
   {
    "duration": 19,
    "start_time": "2023-06-13T13:38:41.230Z"
   },
   {
    "duration": 10,
    "start_time": "2023-06-13T13:38:48.999Z"
   },
   {
    "duration": 38,
    "start_time": "2023-06-13T13:38:50.092Z"
   },
   {
    "duration": 26,
    "start_time": "2023-06-13T13:40:04.081Z"
   },
   {
    "duration": 5,
    "start_time": "2023-06-13T13:40:05.550Z"
   },
   {
    "duration": 13,
    "start_time": "2023-06-13T13:40:07.010Z"
   },
   {
    "duration": 5,
    "start_time": "2023-06-13T13:40:07.519Z"
   },
   {
    "duration": 7,
    "start_time": "2023-06-13T13:40:10.700Z"
   },
   {
    "duration": 16,
    "start_time": "2023-06-13T13:40:13.598Z"
   },
   {
    "duration": 4,
    "start_time": "2023-06-13T13:40:16.198Z"
   },
   {
    "duration": 4,
    "start_time": "2023-06-13T13:40:21.709Z"
   },
   {
    "duration": 4,
    "start_time": "2023-06-13T13:40:24.248Z"
   },
   {
    "duration": 7,
    "start_time": "2023-06-13T13:40:31.499Z"
   },
   {
    "duration": 14,
    "start_time": "2023-06-13T13:40:35.165Z"
   },
   {
    "duration": 10,
    "start_time": "2023-06-13T13:41:00.229Z"
   },
   {
    "duration": 15,
    "start_time": "2023-06-13T13:41:02.987Z"
   },
   {
    "duration": 4,
    "start_time": "2023-06-13T13:41:04.330Z"
   },
   {
    "duration": 41,
    "start_time": "2023-06-13T13:41:06.792Z"
   },
   {
    "duration": 25,
    "start_time": "2023-06-13T13:41:11.155Z"
   },
   {
    "duration": 8,
    "start_time": "2023-06-13T13:41:14.034Z"
   },
   {
    "duration": 188,
    "start_time": "2023-06-13T13:41:26.251Z"
   },
   {
    "duration": 3,
    "start_time": "2023-06-13T13:41:32.603Z"
   },
   {
    "duration": 6987,
    "start_time": "2023-06-13T13:42:52.419Z"
   },
   {
    "duration": 150,
    "start_time": "2023-06-13T13:43:24.488Z"
   },
   {
    "duration": 1461,
    "start_time": "2023-06-13T14:18:38.254Z"
   },
   {
    "duration": 74,
    "start_time": "2023-06-13T14:18:40.794Z"
   },
   {
    "duration": 28,
    "start_time": "2023-06-13T14:18:41.217Z"
   },
   {
    "duration": 21,
    "start_time": "2023-06-13T14:18:41.550Z"
   },
   {
    "duration": 5,
    "start_time": "2023-06-13T14:18:43.373Z"
   },
   {
    "duration": 12,
    "start_time": "2023-06-13T14:18:43.808Z"
   },
   {
    "duration": 7,
    "start_time": "2023-06-13T14:18:44.996Z"
   },
   {
    "duration": 42,
    "start_time": "2023-06-13T14:18:45.549Z"
   },
   {
    "duration": 17,
    "start_time": "2023-06-13T14:18:46.829Z"
   },
   {
    "duration": 14,
    "start_time": "2023-06-13T14:18:47.582Z"
   },
   {
    "duration": 13,
    "start_time": "2023-06-13T14:18:48.487Z"
   },
   {
    "duration": 4,
    "start_time": "2023-06-13T14:18:48.979Z"
   },
   {
    "duration": 7,
    "start_time": "2023-06-13T14:18:49.543Z"
   },
   {
    "duration": 22,
    "start_time": "2023-06-13T14:18:50.027Z"
   },
   {
    "duration": 4,
    "start_time": "2023-06-13T14:18:50.540Z"
   },
   {
    "duration": 9,
    "start_time": "2023-06-13T14:18:51.156Z"
   },
   {
    "duration": 4,
    "start_time": "2023-06-13T14:18:51.781Z"
   },
   {
    "duration": 7,
    "start_time": "2023-06-13T14:18:53.478Z"
   },
   {
    "duration": 14,
    "start_time": "2023-06-13T14:18:53.983Z"
   },
   {
    "duration": 10,
    "start_time": "2023-06-13T14:18:57.279Z"
   },
   {
    "duration": 14,
    "start_time": "2023-06-13T14:19:01.899Z"
   },
   {
    "duration": 4,
    "start_time": "2023-06-13T14:19:02.684Z"
   },
   {
    "duration": 26,
    "start_time": "2023-06-13T14:19:04.423Z"
   },
   {
    "duration": 18,
    "start_time": "2023-06-13T14:19:09.988Z"
   },
   {
    "duration": 6,
    "start_time": "2023-06-13T14:19:11.074Z"
   },
   {
    "duration": 155,
    "start_time": "2023-06-13T14:19:11.892Z"
   },
   {
    "duration": 3,
    "start_time": "2023-06-13T14:19:16.676Z"
   },
   {
    "duration": 6790,
    "start_time": "2023-06-13T14:19:22.083Z"
   },
   {
    "duration": 7275,
    "start_time": "2023-06-13T14:22:38.395Z"
   },
   {
    "duration": 174,
    "start_time": "2023-06-13T14:22:59.105Z"
   },
   {
    "duration": 7409,
    "start_time": "2023-06-13T14:23:30.100Z"
   },
   {
    "duration": 4,
    "start_time": "2023-06-13T14:31:35.517Z"
   },
   {
    "duration": 5,
    "start_time": "2023-06-13T14:32:04.606Z"
   },
   {
    "duration": 7109,
    "start_time": "2023-06-13T14:32:14.007Z"
   },
   {
    "duration": 7444,
    "start_time": "2023-06-13T14:32:28.725Z"
   },
   {
    "duration": 3,
    "start_time": "2023-06-13T14:32:56.521Z"
   },
   {
    "duration": 6,
    "start_time": "2023-06-13T14:34:07.437Z"
   },
   {
    "duration": 6590,
    "start_time": "2023-06-13T14:35:41.369Z"
   },
   {
    "duration": 28,
    "start_time": "2023-06-13T14:36:47.182Z"
   },
   {
    "duration": 10,
    "start_time": "2023-06-13T14:38:26.256Z"
   },
   {
    "duration": 6656,
    "start_time": "2023-06-13T14:38:31.262Z"
   },
   {
    "duration": 6518,
    "start_time": "2023-06-13T14:38:48.606Z"
   },
   {
    "duration": 1977,
    "start_time": "2023-06-13T14:39:52.390Z"
   },
   {
    "duration": 1539,
    "start_time": "2023-06-13T14:40:08.772Z"
   },
   {
    "duration": 36886,
    "start_time": "2023-06-13T14:40:57.203Z"
   },
   {
    "duration": 11495,
    "start_time": "2023-06-13T14:42:46.568Z"
   },
   {
    "duration": 11,
    "start_time": "2023-06-13T14:43:30.477Z"
   },
   {
    "duration": 5,
    "start_time": "2023-06-13T14:43:33.144Z"
   },
   {
    "duration": 37,
    "start_time": "2023-06-13T14:43:34.680Z"
   },
   {
    "duration": 339,
    "start_time": "2023-06-13T14:44:32.391Z"
   },
   {
    "duration": 1190,
    "start_time": "2023-06-13T14:44:44.977Z"
   },
   {
    "duration": 313,
    "start_time": "2023-06-13T14:45:11.979Z"
   },
   {
    "duration": 13,
    "start_time": "2023-06-13T14:45:38.035Z"
   },
   {
    "duration": 6,
    "start_time": "2023-06-13T14:45:40.019Z"
   },
   {
    "duration": 4,
    "start_time": "2023-06-13T14:46:59.099Z"
   },
   {
    "duration": 352,
    "start_time": "2023-06-13T14:47:07.817Z"
   },
   {
    "duration": 901,
    "start_time": "2023-06-13T14:49:06.368Z"
   },
   {
    "duration": 297,
    "start_time": "2023-06-13T14:49:16.609Z"
   },
   {
    "duration": 349,
    "start_time": "2023-06-13T14:50:29.040Z"
   },
   {
    "duration": 310,
    "start_time": "2023-06-13T14:51:02.807Z"
   },
   {
    "duration": 995,
    "start_time": "2023-06-13T14:51:04.559Z"
   },
   {
    "duration": 309,
    "start_time": "2023-06-13T14:51:09.396Z"
   },
   {
    "duration": 15,
    "start_time": "2023-06-13T14:51:37.015Z"
   },
   {
    "duration": 6,
    "start_time": "2023-06-13T14:51:38.548Z"
   },
   {
    "duration": 12,
    "start_time": "2023-06-13T14:51:45.704Z"
   },
   {
    "duration": 7,
    "start_time": "2023-06-13T14:51:47.201Z"
   },
   {
    "duration": 11,
    "start_time": "2023-06-13T14:52:39.952Z"
   },
   {
    "duration": 14,
    "start_time": "2023-06-13T14:53:04.489Z"
   },
   {
    "duration": 6,
    "start_time": "2023-06-13T14:53:04.982Z"
   },
   {
    "duration": 6,
    "start_time": "2023-06-13T14:53:05.979Z"
   },
   {
    "duration": 11,
    "start_time": "2023-06-13T14:53:11.313Z"
   },
   {
    "duration": 7,
    "start_time": "2023-06-13T14:53:11.806Z"
   },
   {
    "duration": 5,
    "start_time": "2023-06-13T14:53:12.420Z"
   },
   {
    "duration": 13,
    "start_time": "2023-06-13T14:54:02.702Z"
   },
   {
    "duration": 6,
    "start_time": "2023-06-13T14:54:03.001Z"
   },
   {
    "duration": 6,
    "start_time": "2023-06-13T14:54:03.335Z"
   },
   {
    "duration": 39,
    "start_time": "2023-06-13T14:54:37.928Z"
   },
   {
    "duration": 279,
    "start_time": "2023-06-13T14:54:43.494Z"
   },
   {
    "duration": 4,
    "start_time": "2023-06-13T14:55:00.452Z"
   },
   {
    "duration": 4,
    "start_time": "2023-06-13T14:55:13.357Z"
   },
   {
    "duration": 450,
    "start_time": "2023-06-13T14:55:49.376Z"
   },
   {
    "duration": 273,
    "start_time": "2023-06-13T14:56:31.306Z"
   },
   {
    "duration": 456,
    "start_time": "2023-06-13T14:57:08.205Z"
   },
   {
    "duration": 331,
    "start_time": "2023-06-13T14:57:56.434Z"
   },
   {
    "duration": 263,
    "start_time": "2023-06-13T14:58:29.805Z"
   },
   {
    "duration": 1689,
    "start_time": "2023-06-13T15:00:29.120Z"
   },
   {
    "duration": 45,
    "start_time": "2023-06-13T15:00:31.506Z"
   },
   {
    "duration": 23,
    "start_time": "2023-06-13T15:00:32.207Z"
   },
   {
    "duration": 14,
    "start_time": "2023-06-13T15:00:32.884Z"
   },
   {
    "duration": 5,
    "start_time": "2023-06-13T15:00:34.504Z"
   },
   {
    "duration": 17,
    "start_time": "2023-06-13T15:00:34.991Z"
   },
   {
    "duration": 9,
    "start_time": "2023-06-13T15:00:35.794Z"
   },
   {
    "duration": 45,
    "start_time": "2023-06-13T15:00:36.190Z"
   },
   {
    "duration": 29,
    "start_time": "2023-06-13T15:00:36.976Z"
   },
   {
    "duration": 8,
    "start_time": "2023-06-13T15:00:37.396Z"
   },
   {
    "duration": 15,
    "start_time": "2023-06-13T15:00:38.252Z"
   },
   {
    "duration": 4,
    "start_time": "2023-06-13T15:00:38.595Z"
   },
   {
    "duration": 10,
    "start_time": "2023-06-13T15:00:38.978Z"
   },
   {
    "duration": 25,
    "start_time": "2023-06-13T15:00:39.358Z"
   },
   {
    "duration": 4,
    "start_time": "2023-06-13T15:00:39.767Z"
   },
   {
    "duration": 6,
    "start_time": "2023-06-13T15:00:40.162Z"
   },
   {
    "duration": 6,
    "start_time": "2023-06-13T15:00:40.534Z"
   },
   {
    "duration": 10,
    "start_time": "2023-06-13T15:00:44.272Z"
   },
   {
    "duration": 22,
    "start_time": "2023-06-13T15:00:44.652Z"
   },
   {
    "duration": 16,
    "start_time": "2023-06-13T15:00:47.488Z"
   },
   {
    "duration": 20,
    "start_time": "2023-06-13T15:00:49.625Z"
   },
   {
    "duration": 8,
    "start_time": "2023-06-13T15:00:50.484Z"
   },
   {
    "duration": 41,
    "start_time": "2023-06-13T15:00:53.010Z"
   },
   {
    "duration": 20,
    "start_time": "2023-06-13T15:00:54.027Z"
   },
   {
    "duration": 11,
    "start_time": "2023-06-13T15:00:54.533Z"
   },
   {
    "duration": 259,
    "start_time": "2023-06-13T15:00:55.229Z"
   },
   {
    "duration": 7,
    "start_time": "2023-06-13T15:01:39.300Z"
   },
   {
    "duration": 8,
    "start_time": "2023-06-13T15:01:59.891Z"
   },
   {
    "duration": 6749,
    "start_time": "2023-06-13T15:02:08.168Z"
   },
   {
    "duration": 1584,
    "start_time": "2023-06-13T15:02:38.221Z"
   },
   {
    "duration": 35836,
    "start_time": "2023-06-13T15:02:44.757Z"
   },
   {
    "duration": 13602,
    "start_time": "2023-06-13T15:03:35.857Z"
   },
   {
    "duration": 13,
    "start_time": "2023-06-13T15:04:04.551Z"
   },
   {
    "duration": 6,
    "start_time": "2023-06-13T15:04:06.637Z"
   },
   {
    "duration": 9,
    "start_time": "2023-06-13T15:04:26.539Z"
   },
   {
    "duration": 172,
    "start_time": "2023-06-13T15:04:29.827Z"
   },
   {
    "duration": 829,
    "start_time": "2023-06-13T15:05:07.016Z"
   },
   {
    "duration": 12,
    "start_time": "2023-06-13T15:06:28.470Z"
   },
   {
    "duration": 8,
    "start_time": "2023-06-13T15:06:30.346Z"
   },
   {
    "duration": 6,
    "start_time": "2023-06-13T15:06:31.228Z"
   },
   {
    "duration": 5,
    "start_time": "2023-06-13T15:06:38.190Z"
   },
   {
    "duration": 152,
    "start_time": "2023-06-13T15:06:47.581Z"
   },
   {
    "duration": 390,
    "start_time": "2023-06-13T15:06:55.908Z"
   },
   {
    "duration": 7089,
    "start_time": "2023-06-13T15:07:40.159Z"
   },
   {
    "duration": 1683,
    "start_time": "2023-06-13T15:07:56.448Z"
   },
   {
    "duration": 37269,
    "start_time": "2023-06-13T15:08:02.875Z"
   },
   {
    "duration": 13951,
    "start_time": "2023-06-13T15:10:51.285Z"
   },
   {
    "duration": 13,
    "start_time": "2023-06-13T15:11:10.489Z"
   },
   {
    "duration": 6,
    "start_time": "2023-06-13T15:11:12.184Z"
   },
   {
    "duration": 141,
    "start_time": "2023-06-13T15:11:57.281Z"
   },
   {
    "duration": 14,
    "start_time": "2023-06-13T15:12:00.858Z"
   },
   {
    "duration": 174,
    "start_time": "2023-06-13T15:12:08.453Z"
   },
   {
    "duration": 1146,
    "start_time": "2023-06-13T15:12:29.329Z"
   },
   {
    "duration": 1096,
    "start_time": "2023-06-13T15:13:32.088Z"
   },
   {
    "duration": 17,
    "start_time": "2023-06-13T15:13:38.736Z"
   },
   {
    "duration": 9,
    "start_time": "2023-06-13T15:13:41.134Z"
   },
   {
    "duration": 8,
    "start_time": "2023-06-13T15:13:41.505Z"
   },
   {
    "duration": 154,
    "start_time": "2023-06-13T15:14:02.967Z"
   },
   {
    "duration": 752,
    "start_time": "2023-06-13T15:15:02.967Z"
   },
   {
    "duration": 4,
    "start_time": "2023-06-13T17:18:20.686Z"
   },
   {
    "duration": 8,
    "start_time": "2023-06-13T17:19:14.448Z"
   },
   {
    "duration": 6230,
    "start_time": "2023-06-13T17:19:31.326Z"
   },
   {
    "duration": 1537,
    "start_time": "2023-06-13T17:19:59.188Z"
   },
   {
    "duration": 33900,
    "start_time": "2023-06-13T17:20:03.921Z"
   },
   {
    "duration": 33639,
    "start_time": "2023-06-13T17:20:48.887Z"
   },
   {
    "duration": 13716,
    "start_time": "2023-06-13T17:22:00.491Z"
   },
   {
    "duration": 12,
    "start_time": "2023-06-13T17:22:25.412Z"
   },
   {
    "duration": 6,
    "start_time": "2023-06-13T17:22:27.897Z"
   },
   {
    "duration": 151,
    "start_time": "2023-06-13T17:23:16.535Z"
   },
   {
    "duration": 4,
    "start_time": "2023-06-13T17:23:44.936Z"
   },
   {
    "duration": 785,
    "start_time": "2023-06-13T17:23:47.464Z"
   },
   {
    "duration": 5,
    "start_time": "2023-06-13T17:23:49.808Z"
   },
   {
    "duration": 12343,
    "start_time": "2023-06-13T17:25:40.415Z"
   },
   {
    "duration": 13074,
    "start_time": "2023-06-13T17:26:34.460Z"
   },
   {
    "duration": 12414,
    "start_time": "2023-06-13T17:27:14.370Z"
   },
   {
    "duration": 1493,
    "start_time": "2023-06-13T17:27:50.422Z"
   },
   {
    "duration": 12,
    "start_time": "2023-06-13T17:28:12.098Z"
   },
   {
    "duration": 15860,
    "start_time": "2023-06-13T17:28:23.014Z"
   },
   {
    "duration": 2098,
    "start_time": "2023-06-13T17:30:03.597Z"
   },
   {
    "duration": 4272,
    "start_time": "2023-06-13T17:30:43.892Z"
   },
   {
    "duration": 46485,
    "start_time": "2023-06-13T17:32:04.758Z"
   },
   {
    "duration": 35502,
    "start_time": "2023-06-13T17:35:04.044Z"
   },
   {
    "duration": 13,
    "start_time": "2023-06-13T17:36:50.726Z"
   },
   {
    "duration": 7,
    "start_time": "2023-06-13T17:36:53.115Z"
   },
   {
    "duration": 5,
    "start_time": "2023-06-13T17:36:53.969Z"
   },
   {
    "duration": 28,
    "start_time": "2023-06-13T17:37:36.402Z"
   },
   {
    "duration": 136,
    "start_time": "2023-06-13T17:37:45.929Z"
   },
   {
    "duration": 12,
    "start_time": "2023-06-13T17:38:08.628Z"
   },
   {
    "duration": 140,
    "start_time": "2023-06-13T17:38:19.744Z"
   },
   {
    "duration": 6311,
    "start_time": "2023-06-13T17:39:03.046Z"
   },
   {
    "duration": 4651,
    "start_time": "2023-06-13T17:40:07.782Z"
   },
   {
    "duration": 1884,
    "start_time": "2023-06-13T17:40:21.390Z"
   },
   {
    "duration": 44749,
    "start_time": "2023-06-13T17:40:46.365Z"
   },
   {
    "duration": 34625,
    "start_time": "2023-06-13T17:42:16.862Z"
   },
   {
    "duration": 273,
    "start_time": "2023-06-13T17:46:50.401Z"
   },
   {
    "duration": 385,
    "start_time": "2023-06-13T17:47:16.684Z"
   },
   {
    "duration": 19668,
    "start_time": "2023-06-13T17:47:57.603Z"
   },
   {
    "duration": 212,
    "start_time": "2023-06-13T17:48:20.547Z"
   },
   {
    "duration": 152,
    "start_time": "2023-06-13T17:49:25.155Z"
   },
   {
    "duration": 229,
    "start_time": "2023-06-13T17:49:31.793Z"
   },
   {
    "duration": 448082,
    "start_time": "2023-06-13T18:11:11.848Z"
   },
   {
    "duration": 226,
    "start_time": "2023-06-13T18:18:56.758Z"
   },
   {
    "duration": 307,
    "start_time": "2023-06-13T18:19:29.082Z"
   },
   {
    "duration": 5,
    "start_time": "2023-06-13T18:19:47.587Z"
   },
   {
    "duration": 4,
    "start_time": "2023-06-13T18:19:53.058Z"
   },
   {
    "duration": 12,
    "start_time": "2023-06-13T18:19:54.692Z"
   },
   {
    "duration": 47,
    "start_time": "2023-06-13T18:20:47.404Z"
   },
   {
    "duration": 21,
    "start_time": "2023-06-13T18:20:58.688Z"
   },
   {
    "duration": 1427,
    "start_time": "2023-06-13T18:23:25.964Z"
   },
   {
    "duration": 44,
    "start_time": "2023-06-13T18:23:31.584Z"
   },
   {
    "duration": 23,
    "start_time": "2023-06-13T18:23:32.164Z"
   },
   {
    "duration": 15,
    "start_time": "2023-06-13T18:23:32.805Z"
   },
   {
    "duration": 5,
    "start_time": "2023-06-13T18:23:34.236Z"
   },
   {
    "duration": 12,
    "start_time": "2023-06-13T18:23:34.665Z"
   },
   {
    "duration": 9,
    "start_time": "2023-06-13T18:23:35.531Z"
   },
   {
    "duration": 35,
    "start_time": "2023-06-13T18:23:35.929Z"
   },
   {
    "duration": 19,
    "start_time": "2023-06-13T18:23:36.802Z"
   },
   {
    "duration": 6,
    "start_time": "2023-06-13T18:23:37.250Z"
   },
   {
    "duration": 13,
    "start_time": "2023-06-13T18:23:38.042Z"
   },
   {
    "duration": 3,
    "start_time": "2023-06-13T18:23:38.513Z"
   },
   {
    "duration": 9,
    "start_time": "2023-06-13T18:23:39.510Z"
   },
   {
    "duration": 24,
    "start_time": "2023-06-13T18:23:39.850Z"
   },
   {
    "duration": 5,
    "start_time": "2023-06-13T18:23:40.205Z"
   },
   {
    "duration": 5,
    "start_time": "2023-06-13T18:23:40.631Z"
   },
   {
    "duration": 4,
    "start_time": "2023-06-13T18:23:40.991Z"
   },
   {
    "duration": 7,
    "start_time": "2023-06-13T18:23:42.406Z"
   },
   {
    "duration": 12,
    "start_time": "2023-06-13T18:23:42.884Z"
   },
   {
    "duration": 11,
    "start_time": "2023-06-13T18:23:44.496Z"
   },
   {
    "duration": 14,
    "start_time": "2023-06-13T18:23:46.093Z"
   },
   {
    "duration": 4,
    "start_time": "2023-06-13T18:23:46.851Z"
   },
   {
    "duration": 27,
    "start_time": "2023-06-13T18:23:48.404Z"
   },
   {
    "duration": 17,
    "start_time": "2023-06-13T18:23:49.293Z"
   },
   {
    "duration": 7,
    "start_time": "2023-06-13T18:23:49.784Z"
   },
   {
    "duration": 160,
    "start_time": "2023-06-13T18:23:50.264Z"
   },
   {
    "duration": 6,
    "start_time": "2023-06-13T18:23:53.444Z"
   },
   {
    "duration": 6446,
    "start_time": "2023-06-13T18:23:56.704Z"
   },
   {
    "duration": 1590,
    "start_time": "2023-06-13T18:24:07.984Z"
   },
   {
    "duration": 34523,
    "start_time": "2023-06-13T18:24:13.255Z"
   },
   {
    "duration": 13330,
    "start_time": "2023-06-13T18:24:52.741Z"
   },
   {
    "duration": 13,
    "start_time": "2023-06-13T18:25:14.601Z"
   },
   {
    "duration": 6,
    "start_time": "2023-06-13T18:25:16.963Z"
   },
   {
    "duration": 139,
    "start_time": "2023-06-13T18:25:17.839Z"
   },
   {
    "duration": 882,
    "start_time": "2023-06-13T18:25:26.591Z"
   },
   {
    "duration": 15736,
    "start_time": "2023-06-13T18:25:31.810Z"
   },
   {
    "duration": 4067,
    "start_time": "2023-06-13T18:26:44.260Z"
   },
   {
    "duration": 43355,
    "start_time": "2023-06-13T18:26:48.329Z"
   },
   {
    "duration": 34655,
    "start_time": "2023-06-13T18:27:34.547Z"
   },
   {
    "duration": 12,
    "start_time": "2023-06-13T18:28:14.182Z"
   },
   {
    "duration": 7,
    "start_time": "2023-06-13T18:28:15.620Z"
   },
   {
    "duration": 7,
    "start_time": "2023-06-13T18:28:16.092Z"
   },
   {
    "duration": 5855,
    "start_time": "2023-06-13T18:28:20.118Z"
   },
   {
    "duration": 430538,
    "start_time": "2023-06-13T18:28:49.536Z"
   },
   {
    "duration": 20098,
    "start_time": "2023-06-13T18:36:05.049Z"
   },
   {
    "duration": 298,
    "start_time": "2023-06-13T18:36:25.149Z"
   },
   {
    "duration": 4,
    "start_time": "2023-06-13T18:36:31.464Z"
   },
   {
    "duration": 5,
    "start_time": "2023-06-13T18:36:32.097Z"
   },
   {
    "duration": 18,
    "start_time": "2023-06-13T18:36:33.624Z"
   },
   {
    "duration": 1895,
    "start_time": "2023-06-14T10:10:29.193Z"
   },
   {
    "duration": 104,
    "start_time": "2023-06-14T10:10:32.083Z"
   },
   {
    "duration": 23,
    "start_time": "2023-06-14T10:10:32.445Z"
   },
   {
    "duration": 12,
    "start_time": "2023-06-14T10:10:32.887Z"
   },
   {
    "duration": 4,
    "start_time": "2023-06-14T10:10:37.584Z"
   },
   {
    "duration": 26,
    "start_time": "2023-06-14T10:10:38.207Z"
   },
   {
    "duration": 10,
    "start_time": "2023-06-14T10:10:39.185Z"
   },
   {
    "duration": 47,
    "start_time": "2023-06-14T10:10:39.590Z"
   },
   {
    "duration": 33,
    "start_time": "2023-06-14T10:10:40.397Z"
   },
   {
    "duration": 5,
    "start_time": "2023-06-14T10:10:40.759Z"
   },
   {
    "duration": 14,
    "start_time": "2023-06-14T10:10:41.482Z"
   },
   {
    "duration": 4,
    "start_time": "2023-06-14T10:10:41.934Z"
   },
   {
    "duration": 10,
    "start_time": "2023-06-14T10:10:42.387Z"
   },
   {
    "duration": 15,
    "start_time": "2023-06-14T10:10:42.751Z"
   },
   {
    "duration": 4,
    "start_time": "2023-06-14T10:10:43.234Z"
   },
   {
    "duration": 4,
    "start_time": "2023-06-14T10:10:43.957Z"
   },
   {
    "duration": 5,
    "start_time": "2023-06-14T10:10:44.374Z"
   },
   {
    "duration": 6,
    "start_time": "2023-06-14T10:11:02.942Z"
   },
   {
    "duration": 11,
    "start_time": "2023-06-14T10:11:03.358Z"
   },
   {
    "duration": 13,
    "start_time": "2023-06-14T10:11:05.361Z"
   },
   {
    "duration": 12,
    "start_time": "2023-06-14T10:11:10.230Z"
   },
   {
    "duration": 4,
    "start_time": "2023-06-14T10:11:10.998Z"
   },
   {
    "duration": 33,
    "start_time": "2023-06-14T10:11:14.711Z"
   },
   {
    "duration": 15,
    "start_time": "2023-06-14T10:11:15.580Z"
   },
   {
    "duration": 9,
    "start_time": "2023-06-14T10:11:15.925Z"
   },
   {
    "duration": 139,
    "start_time": "2023-06-14T10:11:16.545Z"
   },
   {
    "duration": 7,
    "start_time": "2023-06-14T10:11:21.349Z"
   },
   {
    "duration": 6768,
    "start_time": "2023-06-14T10:11:55.877Z"
   },
   {
    "duration": 1638,
    "start_time": "2023-06-14T10:12:08.710Z"
   },
   {
    "duration": 36021,
    "start_time": "2023-06-14T10:12:13.412Z"
   },
   {
    "duration": 10628,
    "start_time": "2023-06-14T10:13:45.397Z"
   },
   {
    "duration": 13,
    "start_time": "2023-06-14T10:13:57.996Z"
   },
   {
    "duration": 5,
    "start_time": "2023-06-14T10:13:58.838Z"
   },
   {
    "duration": 161,
    "start_time": "2023-06-14T10:13:59.468Z"
   },
   {
    "duration": 807,
    "start_time": "2023-06-14T10:14:00.930Z"
   },
   {
    "duration": 18144,
    "start_time": "2023-06-14T10:14:04.456Z"
   },
   {
    "duration": 9296,
    "start_time": "2023-06-14T10:15:36.031Z"
   },
   {
    "duration": 8383,
    "start_time": "2023-06-14T10:35:58.566Z"
   },
   {
    "duration": 2088,
    "start_time": "2023-06-14T10:36:58.262Z"
   },
   {
    "duration": 16303,
    "start_time": "2023-06-14T10:37:14.335Z"
   },
   {
    "duration": 14368,
    "start_time": "2023-06-14T10:39:22.616Z"
   },
   {
    "duration": 11,
    "start_time": "2023-06-14T10:39:55.079Z"
   },
   {
    "duration": 5,
    "start_time": "2023-06-14T10:39:55.771Z"
   },
   {
    "duration": 4,
    "start_time": "2023-06-14T10:39:56.149Z"
   },
   {
    "duration": 3190,
    "start_time": "2023-06-14T10:40:23.908Z"
   },
   {
    "duration": 219300,
    "start_time": "2023-06-14T10:41:00.365Z"
   },
   {
    "duration": 3203,
    "start_time": "2023-06-14T10:47:11.252Z"
   },
   {
    "duration": 43954,
    "start_time": "2023-06-14T10:48:37.691Z"
   },
   {
    "duration": 1397,
    "start_time": "2023-06-14T10:59:20.140Z"
   },
   {
    "duration": 41,
    "start_time": "2023-06-14T10:59:27.251Z"
   },
   {
    "duration": 41,
    "start_time": "2023-06-14T10:59:27.510Z"
   },
   {
    "duration": 12,
    "start_time": "2023-06-14T10:59:27.685Z"
   },
   {
    "duration": 5,
    "start_time": "2023-06-14T10:59:28.461Z"
   },
   {
    "duration": 12,
    "start_time": "2023-06-14T10:59:28.649Z"
   },
   {
    "duration": 10,
    "start_time": "2023-06-14T10:59:29.046Z"
   },
   {
    "duration": 57,
    "start_time": "2023-06-14T10:59:29.213Z"
   },
   {
    "duration": 18,
    "start_time": "2023-06-14T10:59:29.588Z"
   },
   {
    "duration": 5,
    "start_time": "2023-06-14T10:59:29.799Z"
   },
   {
    "duration": 28,
    "start_time": "2023-06-14T10:59:30.205Z"
   },
   {
    "duration": 4,
    "start_time": "2023-06-14T10:59:30.401Z"
   },
   {
    "duration": 35,
    "start_time": "2023-06-14T10:59:30.609Z"
   },
   {
    "duration": 54,
    "start_time": "2023-06-14T10:59:30.815Z"
   },
   {
    "duration": 4,
    "start_time": "2023-06-14T10:59:31.002Z"
   },
   {
    "duration": 4,
    "start_time": "2023-06-14T10:59:31.205Z"
   },
   {
    "duration": 4,
    "start_time": "2023-06-14T10:59:31.381Z"
   },
   {
    "duration": 8,
    "start_time": "2023-06-14T10:59:32.147Z"
   },
   {
    "duration": 19,
    "start_time": "2023-06-14T10:59:32.349Z"
   },
   {
    "duration": 14,
    "start_time": "2023-06-14T10:59:33.411Z"
   },
   {
    "duration": 27,
    "start_time": "2023-06-14T10:59:35.538Z"
   },
   {
    "duration": 5,
    "start_time": "2023-06-14T10:59:35.993Z"
   },
   {
    "duration": 23,
    "start_time": "2023-06-14T10:59:37.583Z"
   },
   {
    "duration": 16,
    "start_time": "2023-06-14T10:59:38.353Z"
   },
   {
    "duration": 7,
    "start_time": "2023-06-14T10:59:38.846Z"
   },
   {
    "duration": 150,
    "start_time": "2023-06-14T10:59:39.546Z"
   },
   {
    "duration": 8,
    "start_time": "2023-06-14T11:00:07.395Z"
   },
   {
    "duration": 7226,
    "start_time": "2023-06-14T11:00:12.774Z"
   },
   {
    "duration": 1885,
    "start_time": "2023-06-14T11:02:05.042Z"
   },
   {
    "duration": 38729,
    "start_time": "2023-06-14T11:02:22.184Z"
   },
   {
    "duration": 10113,
    "start_time": "2023-06-14T11:03:15.895Z"
   },
   {
    "duration": 12,
    "start_time": "2023-06-14T11:03:45.156Z"
   },
   {
    "duration": 15,
    "start_time": "2023-06-14T11:03:47.540Z"
   },
   {
    "duration": 208,
    "start_time": "2023-06-14T11:03:56.853Z"
   },
   {
    "duration": 887,
    "start_time": "2023-06-14T11:04:07.546Z"
   },
   {
    "duration": 9556,
    "start_time": "2023-06-14T11:04:49.079Z"
   },
   {
    "duration": 402197,
    "start_time": "2023-06-14T11:05:42.901Z"
   },
   {
    "duration": 9041,
    "start_time": "2023-06-14T11:12:46.442Z"
   },
   {
    "duration": 8865,
    "start_time": "2023-06-14T11:13:06.486Z"
   },
   {
    "duration": 550336,
    "start_time": "2023-06-14T11:13:17.750Z"
   },
   {
    "duration": 194154,
    "start_time": "2023-06-14T11:22:59.345Z"
   },
   {
    "duration": 14630,
    "start_time": "2023-06-14T11:26:46.057Z"
   },
   {
    "duration": 18,
    "start_time": "2023-06-14T11:32:35.715Z"
   },
   {
    "duration": 14,
    "start_time": "2023-06-14T11:32:37.345Z"
   },
   {
    "duration": 9,
    "start_time": "2023-06-14T11:32:37.714Z"
   },
   {
    "duration": 3129,
    "start_time": "2023-06-14T11:32:46.475Z"
   },
   {
    "duration": 221318,
    "start_time": "2023-06-14T11:33:27.450Z"
   },
   {
    "duration": 9262,
    "start_time": "2023-06-14T11:37:47.500Z"
   },
   {
    "duration": 282,
    "start_time": "2023-06-14T11:38:37.088Z"
   },
   {
    "duration": 182,
    "start_time": "2023-06-14T11:38:48.895Z"
   },
   {
    "duration": 289,
    "start_time": "2023-06-14T11:38:59.426Z"
   },
   {
    "duration": 4,
    "start_time": "2023-06-14T11:39:03.921Z"
   },
   {
    "duration": 4,
    "start_time": "2023-06-14T11:39:04.575Z"
   },
   {
    "duration": 15,
    "start_time": "2023-06-14T11:39:05.075Z"
   }
  ],
  "kernelspec": {
   "display_name": "Python 3 (ipykernel)",
   "language": "python",
   "name": "python3"
  },
  "language_info": {
   "codemirror_mode": {
    "name": "ipython",
    "version": 3
   },
   "file_extension": ".py",
   "mimetype": "text/x-python",
   "name": "python",
   "nbconvert_exporter": "python",
   "pygments_lexer": "ipython3",
   "version": "3.10.7"
  },
  "toc": {
   "base_numbering": 1,
   "nav_menu": {},
   "number_sections": true,
   "sideBar": true,
   "skip_h1_title": true,
   "title_cell": "Содержание",
   "title_sidebar": "Contents",
   "toc_cell": true,
   "toc_position": {
    "height": "calc(100% - 180px)",
    "left": "10px",
    "top": "150px",
    "width": "165px"
   },
   "toc_section_display": true,
   "toc_window_display": true
  }
 },
 "nbformat": 4,
 "nbformat_minor": 2
}
